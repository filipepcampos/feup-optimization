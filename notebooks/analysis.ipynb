{
 "cells": [
  {
   "cell_type": "code",
   "execution_count": 1,
   "id": "2a8562ae-1b8a-4302-af0a-ac5a4c096119",
   "metadata": {
    "tags": []
   },
   "outputs": [],
   "source": [
    "import pandas as pd\n",
    "import numpy as np\n",
    "import matplotlib.pyplot as plt\n",
    "import seaborn as sns\n",
    "import plotly.express as px\n",
    "\n",
    "sns.set_theme()"
   ]
  },
  {
   "cell_type": "code",
   "execution_count": 2,
   "id": "f4a531e5-93b0-4add-92cc-71bb50cdf231",
   "metadata": {
    "tags": []
   },
   "outputs": [
    {
     "data": {
      "text/html": [
       "<div>\n",
       "<style scoped>\n",
       "    .dataframe tbody tr th:only-of-type {\n",
       "        vertical-align: middle;\n",
       "    }\n",
       "\n",
       "    .dataframe tbody tr th {\n",
       "        vertical-align: top;\n",
       "    }\n",
       "\n",
       "    .dataframe thead th {\n",
       "        text-align: right;\n",
       "    }\n",
       "</style>\n",
       "<table border=\"1\" class=\"dataframe\">\n",
       "  <thead>\n",
       "    <tr style=\"text-align: right;\">\n",
       "      <th></th>\n",
       "      <th>Day</th>\n",
       "      <th>Position</th>\n",
       "      <th>Position Type</th>\n",
       "      <th>Candidate Id</th>\n",
       "      <th>Candidate Name</th>\n",
       "      <th>Experience</th>\n",
       "      <th>Language Skills</th>\n",
       "      <th>Presentation Skills</th>\n",
       "    </tr>\n",
       "  </thead>\n",
       "  <tbody>\n",
       "    <tr>\n",
       "      <th>0</th>\n",
       "      <td>1</td>\n",
       "      <td>Client Services Assistant</td>\n",
       "      <td>Client Services Assistant</td>\n",
       "      <td>162</td>\n",
       "      <td>Isabella Mitchell</td>\n",
       "      <td>4</td>\n",
       "      <td>4</td>\n",
       "      <td>1</td>\n",
       "    </tr>\n",
       "    <tr>\n",
       "      <th>1</th>\n",
       "      <td>1</td>\n",
       "      <td>Client Services Assistant</td>\n",
       "      <td>Client Services Assistant</td>\n",
       "      <td>176</td>\n",
       "      <td>José Carvalho</td>\n",
       "      <td>5</td>\n",
       "      <td>2</td>\n",
       "      <td>4</td>\n",
       "    </tr>\n",
       "    <tr>\n",
       "      <th>2</th>\n",
       "      <td>1</td>\n",
       "      <td>Client Services Assistant</td>\n",
       "      <td>Client Services Assistant</td>\n",
       "      <td>210</td>\n",
       "      <td>Madalena Oliveira</td>\n",
       "      <td>5</td>\n",
       "      <td>2</td>\n",
       "      <td>1</td>\n",
       "    </tr>\n",
       "    <tr>\n",
       "      <th>3</th>\n",
       "      <td>1</td>\n",
       "      <td>Client Services Assistant</td>\n",
       "      <td>Client Services Assistant</td>\n",
       "      <td>236</td>\n",
       "      <td>Mariana Santos</td>\n",
       "      <td>5</td>\n",
       "      <td>3</td>\n",
       "      <td>0</td>\n",
       "    </tr>\n",
       "    <tr>\n",
       "      <th>4</th>\n",
       "      <td>1</td>\n",
       "      <td>Client Services Assistant</td>\n",
       "      <td>Client Services Assistant</td>\n",
       "      <td>317</td>\n",
       "      <td>Tiago Sousa Cruz</td>\n",
       "      <td>4</td>\n",
       "      <td>5</td>\n",
       "      <td>3</td>\n",
       "    </tr>\n",
       "  </tbody>\n",
       "</table>\n",
       "</div>"
      ],
      "text/plain": [
       "   Day                    Position               Position Type  Candidate Id  \\\n",
       "0    1  Client Services Assistant   Client Services Assistant            162   \n",
       "1    1  Client Services Assistant   Client Services Assistant            176   \n",
       "2    1  Client Services Assistant   Client Services Assistant            210   \n",
       "3    1  Client Services Assistant   Client Services Assistant            236   \n",
       "4    1  Client Services Assistant   Client Services Assistant            317   \n",
       "\n",
       "      Candidate Name  Experience  Language Skills  Presentation Skills  \n",
       "0  Isabella Mitchell           4                4                    1  \n",
       "1      José Carvalho           5                2                    4  \n",
       "2  Madalena Oliveira           5                2                    1  \n",
       "3     Mariana Santos           5                3                    0  \n",
       "4   Tiago Sousa Cruz           4                5                    3  "
      ]
     },
     "execution_count": 2,
     "metadata": {},
     "output_type": "execute_result"
    }
   ],
   "source": [
    "df = pd.read_csv(\"allocations.csv\", encoding=\"latin-1\")\n",
    "df[\"Day\"] = df[\"Day\"].map(lambda x: int(x[4:]))\n",
    "df.head()"
   ]
  },
  {
   "cell_type": "code",
   "execution_count": 3,
   "id": "d2609f63-0301-4b95-8000-ca95bc85cf3c",
   "metadata": {
    "tags": []
   },
   "outputs": [
    {
     "data": {
      "text/html": [
       "<div>\n",
       "<style scoped>\n",
       "    .dataframe tbody tr th:only-of-type {\n",
       "        vertical-align: middle;\n",
       "    }\n",
       "\n",
       "    .dataframe tbody tr th {\n",
       "        vertical-align: top;\n",
       "    }\n",
       "\n",
       "    .dataframe thead th {\n",
       "        text-align: right;\n",
       "    }\n",
       "</style>\n",
       "<table border=\"1\" class=\"dataframe\">\n",
       "  <thead>\n",
       "    <tr style=\"text-align: right;\">\n",
       "      <th></th>\n",
       "      <th>Day</th>\n",
       "      <th>Candidate Id</th>\n",
       "      <th>Experience</th>\n",
       "      <th>Language Skills</th>\n",
       "      <th>Presentation Skills</th>\n",
       "    </tr>\n",
       "  </thead>\n",
       "  <tbody>\n",
       "    <tr>\n",
       "      <th>count</th>\n",
       "      <td>1661.000000</td>\n",
       "      <td>1661.000000</td>\n",
       "      <td>1661.000000</td>\n",
       "      <td>1661.000000</td>\n",
       "      <td>1661.000000</td>\n",
       "    </tr>\n",
       "    <tr>\n",
       "      <th>mean</th>\n",
       "      <td>4.914509</td>\n",
       "      <td>169.205298</td>\n",
       "      <td>4.101144</td>\n",
       "      <td>2.467188</td>\n",
       "      <td>2.530403</td>\n",
       "    </tr>\n",
       "    <tr>\n",
       "      <th>std</th>\n",
       "      <td>2.420527</td>\n",
       "      <td>96.858874</td>\n",
       "      <td>1.530219</td>\n",
       "      <td>1.471714</td>\n",
       "      <td>1.446998</td>\n",
       "    </tr>\n",
       "    <tr>\n",
       "      <th>min</th>\n",
       "      <td>1.000000</td>\n",
       "      <td>1.000000</td>\n",
       "      <td>0.000000</td>\n",
       "      <td>0.000000</td>\n",
       "      <td>0.000000</td>\n",
       "    </tr>\n",
       "    <tr>\n",
       "      <th>25%</th>\n",
       "      <td>3.000000</td>\n",
       "      <td>86.000000</td>\n",
       "      <td>4.000000</td>\n",
       "      <td>1.000000</td>\n",
       "      <td>1.000000</td>\n",
       "    </tr>\n",
       "    <tr>\n",
       "      <th>50%</th>\n",
       "      <td>5.000000</td>\n",
       "      <td>173.000000</td>\n",
       "      <td>5.000000</td>\n",
       "      <td>2.000000</td>\n",
       "      <td>3.000000</td>\n",
       "    </tr>\n",
       "    <tr>\n",
       "      <th>75%</th>\n",
       "      <td>7.000000</td>\n",
       "      <td>255.000000</td>\n",
       "      <td>5.000000</td>\n",
       "      <td>4.000000</td>\n",
       "      <td>4.000000</td>\n",
       "    </tr>\n",
       "    <tr>\n",
       "      <th>max</th>\n",
       "      <td>9.000000</td>\n",
       "      <td>330.000000</td>\n",
       "      <td>5.000000</td>\n",
       "      <td>5.000000</td>\n",
       "      <td>5.000000</td>\n",
       "    </tr>\n",
       "  </tbody>\n",
       "</table>\n",
       "</div>"
      ],
      "text/plain": [
       "               Day  Candidate Id   Experience  Language Skills  \\\n",
       "count  1661.000000   1661.000000  1661.000000      1661.000000   \n",
       "mean      4.914509    169.205298     4.101144         2.467188   \n",
       "std       2.420527     96.858874     1.530219         1.471714   \n",
       "min       1.000000      1.000000     0.000000         0.000000   \n",
       "25%       3.000000     86.000000     4.000000         1.000000   \n",
       "50%       5.000000    173.000000     5.000000         2.000000   \n",
       "75%       7.000000    255.000000     5.000000         4.000000   \n",
       "max       9.000000    330.000000     5.000000         5.000000   \n",
       "\n",
       "       Presentation Skills  \n",
       "count          1661.000000  \n",
       "mean              2.530403  \n",
       "std               1.446998  \n",
       "min               0.000000  \n",
       "25%               1.000000  \n",
       "50%               3.000000  \n",
       "75%               4.000000  \n",
       "max               5.000000  "
      ]
     },
     "execution_count": 3,
     "metadata": {},
     "output_type": "execute_result"
    }
   ],
   "source": [
    "df.describe()"
   ]
  },
  {
   "cell_type": "code",
   "execution_count": 4,
   "id": "107d2d21-47f7-4fef-8694-ac65ec4ad1be",
   "metadata": {
    "tags": []
   },
   "outputs": [
    {
     "name": "stdout",
     "output_type": "stream",
     "text": [
      "Maximum total working days:  9\n"
     ]
    }
   ],
   "source": [
    "print(\"Maximum total working days: \", df.groupby(\"Candidate Id\").count().max()[\"Day\"])"
   ]
  },
  {
   "cell_type": "code",
   "execution_count": 5,
   "id": "780c516c-7431-4330-966d-44a016c18e56",
   "metadata": {
    "tags": []
   },
   "outputs": [],
   "source": [
    "days_array = []\n",
    "for candidate in df[\"Candidate Id\"].sort_values().unique():\n",
    "    days = list(df[df[\"Candidate Id\"] == candidate][\"Day\"])\n",
    "    days_array.append([1 if i in days else 0 for i in range(1, 10)])"
   ]
  },
  {
   "cell_type": "code",
   "execution_count": 6,
   "id": "1fcb4080-38d1-43de-b0c1-8da1625f076c",
   "metadata": {
    "tags": []
   },
   "outputs": [
    {
     "data": {
      "image/png": "[encoded data removed]",
      "text/plain": [
       "<Figure size 640x480 with 1 Axes>"
      ]
     },
     "metadata": {},
     "output_type": "display_data"
    }
   ],
   "source": [
    "def show_group_by_position():\n",
    "    df_grouped_by_position = df[[\"Position\", \"Experience\"]].groupby(\"Position\").mean()\n",
    "    sns.barplot(data=df_grouped_by_position, x=df_grouped_by_position.index, y=\"Experience\")\n",
    "    locs, labels = plt.xticks()\n",
    "    plt.setp(labels, rotation=90)\n",
    "    plt.savefig(\"fig1.png\", bbox_inches=\"tight\")\n",
    "    plt.show()\n",
    "    \n",
    "show_group_by_position()"
   ]
  },
  {
   "cell_type": "code",
   "execution_count": 7,
   "id": "30d40bf0-3773-4e1f-96c4-87abc3b81cc6",
   "metadata": {
    "tags": []
   },
   "outputs": [
    {
     "data": {
      "image/png": "[encoded data removed]",
      "text/plain": [
       "<Figure size 640x480 with 1 Axes>"
      ]
     },
     "metadata": {},
     "output_type": "display_data"
    }
   ],
   "source": [
    "def show_group_by_day():\n",
    "    df_grouped_by_day = df[[\"Day\", \"Experience\"]].groupby(\"Day\").mean(numeric_only=True)\n",
    "    sns.barplot(data=df_grouped_by_day, x=df_grouped_by_day.index, y=\"Experience\")\n",
    "    locs, labels = plt.xticks()\n",
    "    plt.setp(labels, rotation=90)\n",
    "    plt.savefig(\"fig2.png\", bbox_inches=\"tight\")\n",
    "    plt.show()\n",
    "show_group_by_day()"
   ]
  },
  {
   "cell_type": "code",
   "execution_count": 8,
   "id": "35e7b6c8-0b37-4577-b603-3a935a5bf4c0",
   "metadata": {
    "tags": []
   },
   "outputs": [
    {
     "data": {
      "image/png": "[encoded data removed]",
      "text/plain": [
       "<Figure size 640x480 with 1 Axes>"
      ]
     },
     "metadata": {},
     "output_type": "display_data"
    }
   ],
   "source": [
    "consecutive_days_count = {\n",
    "    0: 0,\n",
    "    1: 0,\n",
    "    2: 0,\n",
    "    3: 0,\n",
    "    4: 0,\n",
    "    5: 0,\n",
    "    6: 0,\n",
    "    7: 0,\n",
    "    8: 0,\n",
    "    9: 0\n",
    "}\n",
    "\n",
    "for candidate in df[\"Candidate Id\"].sort_values().unique():\n",
    "    candidate_df = df[df[\"Candidate Id\"] == candidate]\n",
    "    candidate_df = candidate_df[candidate_df[\"Position\"] != \"Waiting List \"]\n",
    "    days = list(candidate_df[\"Day\"])\n",
    "\n",
    "    max_consecutive = 0\n",
    "    consecutive = 0\n",
    "    for i in range(1, 11):\n",
    "        if i in days:\n",
    "            consecutive += 1\n",
    "        else:\n",
    "            if consecutive > max_consecutive:\n",
    "                max_consecutive = consecutive\n",
    "            consecutive = 0\n",
    "    consecutive_days_count[max_consecutive] += 1\n",
    "\n",
    "ax = sns.barplot(x=list(consecutive_days_count.keys()), y=list(consecutive_days_count.values()))\n",
    "ax.set(xlabel='Consecutive days', ylabel='Count')\n",
    "plt.savefig(\"working_days_distribution.png\")"
   ]
  },
  {
   "cell_type": "code",
   "execution_count": 9,
   "id": "edb4aaaa",
   "metadata": {
    "tags": []
   },
   "outputs": [
    {
     "data": {
      "application/vnd.plotly.v1+json": {
       "config": {
        "plotlyServerURL": "https://plot.ly"
       },
       "data": [
        {
         "alignmentgroup": "True",
         "base": [
          "2023-06-5",
          "2023-06-4",
          "2023-06-1",
          "2023-06-6",
          "2023-06-8",
          "2023-06-9",
          "2023-06-2",
          "2023-06-6",
          "2023-06-5",
          "2023-06-8",
          "2023-06-7",
          "2023-06-3",
          "2023-06-7",
          "2023-06-8",
          "2023-06-3",
          "2023-06-1",
          "2023-06-1",
          "2023-06-9",
          "2023-06-4",
          "2023-06-7",
          "2023-06-8",
          "2023-06-3",
          "2023-06-5",
          "2023-06-2",
          "2023-06-4",
          "2023-06-3",
          "2023-06-8"
         ],
         "customdata": [
          [
           "Site Assistant ",
           5,
           3,
           4
          ],
          [
           "Site Assistant ",
           5,
           3,
           4
          ],
          [
           "Site Assistant ",
           5,
           3,
           4
          ],
          [
           "Site Assistant ",
           5,
           3,
           4
          ],
          [
           "Site Assistant ",
           5,
           3,
           4
          ],
          [
           "Site Assistant ",
           5,
           3,
           4
          ],
          [
           "Site Assistant ",
           4,
           5,
           2
          ],
          [
           "Site Assistant ",
           4,
           5,
           2
          ],
          [
           "Site Assistant ",
           4,
           5,
           2
          ],
          [
           "Site Assistant ",
           4,
           5,
           2
          ],
          [
           "Site Assistant ",
           4,
           5,
           2
          ],
          [
           "Site Assistant ",
           4,
           5,
           2
          ],
          [
           "Site Assistant ",
           4,
           1,
           2
          ],
          [
           "Site Assistant ",
           4,
           1,
           2
          ],
          [
           "Site Assistant ",
           4,
           1,
           3
          ],
          [
           "Site Assistant ",
           4,
           1,
           3
          ],
          [
           "Site Assistant ",
           3,
           4,
           4
          ],
          [
           "Site Assistant ",
           4,
           2,
           2
          ],
          [
           "Site Assistant ",
           4,
           2,
           1
          ],
          [
           "Site Assistant ",
           4,
           2,
           1
          ],
          [
           "Site Assistant ",
           4,
           2,
           1
          ],
          [
           "Site Assistant ",
           4,
           2,
           1
          ],
          [
           "Site Assistant ",
           4,
           2,
           1
          ],
          [
           "Site Assistant ",
           4,
           2,
           1
          ],
          [
           "Site Assistant ",
           4,
           3,
           1
          ],
          [
           "Site Assistant ",
           4,
           3,
           1
          ],
          [
           "Site Assistant ",
           4,
           5,
           3
          ]
         ],
         "hovertemplate": "Position Type=Site Assistant <br>Start=%{base}<br>Finish=%{x}<br>Candidate Name=%{y}<br>Position=%{customdata[0]}<br>Experience=%{customdata[1]}<br>Language Skills=%{customdata[2]}<br>Presentation Skills=%{customdata[3]}<extra></extra>",
         "legendgroup": "Site Assistant ",
         "marker": {
          "color": "#636efa",
          "pattern": {
           "shape": ""
          }
         },
         "name": "Site Assistant ",
         "offsetgroup": "Site Assistant ",
         "orientation": "h",
         "showlegend": true,
         "textposition": "auto",
         "type": "bar",
         "x": [
          86400000,
          86400000,
          86400000,
          86400000,
          86400000,
          86400000,
          86400000,
          86400000,
          86400000,
          86400000,
          86400000,
          86400000,
          86400000,
          86400000,
          86400000,
          86400000,
          86400000,
          86400000,
          86400000,
          86400000,
          86400000,
          86400000,
          86400000,
          86400000,
          86400000,
          86400000,
          86400000
         ],
         "xaxis": "x",
         "y": [
          "Abigail Perez",
          "Abigail Perez",
          "Abigail Perez",
          "Abigail Perez",
          "Abigail Perez",
          "Abigail Perez",
          "Alexander Thompson",
          "Alexander Thompson",
          "Alexander Thompson",
          "Alexander Thompson",
          "Alexander Thompson",
          "Alexander Thompson",
          "André Fernandes",
          "André Fernandes",
          "André Luís Silva",
          "André Luís Silva",
          "Aubrey Davis",
          "Ava Martinez",
          "Bruno Almeida",
          "Bruno Almeida",
          "Bruno Almeida",
          "Bruno Almeida",
          "Bruno Almeida",
          "Bruno Almeida",
          "Carolina Costa",
          "Carolina Costa",
          "Carolina Nunes"
         ],
         "yaxis": "y"
        },
        {
         "alignmentgroup": "True",
         "base": [
          "2023-06-3",
          "2023-06-8",
          "2023-06-6",
          "2023-06-1",
          "2023-06-4",
          "2023-06-1",
          "2023-06-5",
          "2023-06-8",
          "2023-06-2",
          "2023-06-3",
          "2023-06-7",
          "2023-06-3",
          "2023-06-7",
          "2023-06-8",
          "2023-06-6",
          "2023-06-2",
          "2023-06-2",
          "2023-06-3",
          "2023-06-5",
          "2023-06-8",
          "2023-06-6",
          "2023-06-5",
          "2023-06-2",
          "2023-06-7",
          "2023-06-3",
          "2023-06-8",
          "2023-06-4",
          "2023-06-7",
          "2023-06-1",
          "2023-06-3",
          "2023-06-6",
          "2023-06-2",
          "2023-06-7",
          "2023-06-5",
          "2023-06-4",
          "2023-06-1",
          "2023-06-5",
          "2023-06-7",
          "2023-06-4",
          "2023-06-8",
          "2023-06-6",
          "2023-06-4",
          "2023-06-5",
          "2023-06-7",
          "2023-06-3",
          "2023-06-1",
          "2023-06-1",
          "2023-06-7",
          "2023-06-5",
          "2023-06-8",
          "2023-06-3",
          "2023-06-3",
          "2023-06-5",
          "2023-06-1",
          "2023-06-7",
          "2023-06-5",
          "2023-06-2",
          "2023-06-1",
          "2023-06-6",
          "2023-06-7",
          "2023-06-5",
          "2023-06-8",
          "2023-06-6",
          "2023-06-7",
          "2023-06-1",
          "2023-06-5",
          "2023-06-8",
          "2023-06-2",
          "2023-06-4"
         ],
         "customdata": [
          [
           "Dept K Set Up Assistant ",
           5,
           1,
           2
          ],
          [
           "Dept L Set Up Assistant ",
           5,
           1,
           2
          ],
          [
           "Dept K Set Up Assistant ",
           5,
           1,
           2
          ],
          [
           "Dept K Set Up Assistant ",
           5,
           1,
           2
          ],
          [
           "Dept L Set Up Assistant ",
           5,
           1,
           2
          ],
          [
           "Dept K Set Up Assistant ",
           4,
           4,
           2
          ],
          [
           "Dept K Set Up Assistant ",
           4,
           4,
           2
          ],
          [
           "Dept L Set Up Assistant ",
           4,
           4,
           2
          ],
          [
           "Dept L Set Up Assistant ",
           4,
           4,
           2
          ],
          [
           "Dept K Set Up Assistant ",
           4,
           4,
           2
          ],
          [
           "Dept K Set Up Assistant ",
           4,
           4,
           2
          ],
          [
           "Dept L Set Up Assistant ",
           5,
           0,
           5
          ],
          [
           "Dept K Set Up Assistant ",
           5,
           0,
           5
          ],
          [
           "Dept L Set Up Assistant ",
           5,
           0,
           5
          ],
          [
           "Dept L Set Up Assistant ",
           5,
           0,
           5
          ],
          [
           "Dept K Set Up Assistant ",
           5,
           0,
           5
          ],
          [
           "Dept L Set Up Assistant ",
           4,
           3,
           5
          ],
          [
           "Dept K Set Up Assistant ",
           4,
           3,
           5
          ],
          [
           "Dept L Set Up Assistant ",
           4,
           3,
           5
          ],
          [
           "Dept K Set Up Assistant ",
           5,
           0,
           0
          ],
          [
           "Dept L Set Up Assistant ",
           5,
           0,
           0
          ],
          [
           "Dept K Set Up Assistant ",
           5,
           0,
           0
          ],
          [
           "Dept K Set Up Assistant ",
           5,
           0,
           0
          ],
          [
           "Dept L Set Up Assistant ",
           5,
           0,
           0
          ],
          [
           "Dept K Set Up Assistant ",
           5,
           0,
           0
          ],
          [
           "Dept K Set Up Assistant ",
           5,
           0,
           4
          ],
          [
           "Dept K Set Up Assistant ",
           5,
           0,
           4
          ],
          [
           "Dept L Set Up Assistant ",
           5,
           0,
           4
          ],
          [
           "Dept K Set Up Assistant ",
           5,
           0,
           4
          ],
          [
           "Dept L Set Up Assistant ",
           4,
           1,
           3
          ],
          [
           "Dept K Set Up Assistant ",
           4,
           1,
           3
          ],
          [
           "Dept L Set Up Assistant ",
           4,
           1,
           3
          ],
          [
           "Dept K Set Up Assistant ",
           4,
           1,
           3
          ],
          [
           "Dept L Set Up Assistant ",
           4,
           1,
           3
          ],
          [
           "Dept L Set Up Assistant ",
           4,
           1,
           3
          ],
          [
           "Dept L Set Up Assistant ",
           4,
           1,
           3
          ],
          [
           "Dept L Set Up Assistant ",
           5,
           2,
           1
          ],
          [
           "Dept K Set Up Assistant ",
           5,
           2,
           1
          ],
          [
           "Dept K Set Up Assistant ",
           5,
           2,
           1
          ],
          [
           "Dept L Set Up Assistant ",
           5,
           2,
           1
          ],
          [
           "Dept K Set Up Assistant ",
           5,
           2,
           1
          ],
          [
           "Dept L Set Up Assistant ",
           5,
           2,
           2
          ],
          [
           "Dept K Set Up Assistant ",
           5,
           2,
           2
          ],
          [
           "Dept K Set Up Assistant ",
           5,
           2,
           2
          ],
          [
           "Dept K Set Up Assistant ",
           5,
           2,
           2
          ],
          [
           "Dept L Set Up Assistant ",
           5,
           2,
           2
          ],
          [
           "Dept L Set Up Assistant ",
           5,
           5,
           2
          ],
          [
           "Dept L Set Up Assistant ",
           5,
           5,
           2
          ],
          [
           "Dept K Set Up Assistant ",
           5,
           5,
           2
          ],
          [
           "Dept L Set Up Assistant ",
           5,
           5,
           2
          ],
          [
           "Dept L Set Up Assistant ",
           5,
           5,
           2
          ],
          [
           "Dept L Set Up Assistant ",
           4,
           3,
           3
          ],
          [
           "Dept L Set Up Assistant ",
           4,
           3,
           3
          ],
          [
           "Dept K Set Up Assistant ",
           4,
           3,
           3
          ],
          [
           "Dept L Set Up Assistant ",
           4,
           3,
           3
          ],
          [
           "Dept K Set Up Assistant ",
           5,
           1,
           4
          ],
          [
           "Dept K Set Up Assistant ",
           5,
           1,
           4
          ],
          [
           "Dept L Set Up Assistant ",
           5,
           1,
           4
          ],
          [
           "Dept L Set Up Assistant ",
           5,
           1,
           4
          ],
          [
           "Dept K Set Up Assistant ",
           5,
           1,
           4
          ],
          [
           "Dept L Set Up Assistant ",
           5,
           1,
           5
          ],
          [
           "Dept K Set Up Assistant ",
           5,
           1,
           5
          ],
          [
           "Dept K Set Up Assistant ",
           5,
           1,
           5
          ],
          [
           "Dept L Set Up Assistant ",
           5,
           1,
           5
          ],
          [
           "Dept K Set Up Assistant ",
           5,
           1,
           5
          ],
          [
           "Dept L Set Up Assistant ",
           5,
           0,
           4
          ],
          [
           "Dept L Set Up Assistant ",
           5,
           0,
           4
          ],
          [
           "Dept L Set Up Assistant ",
           5,
           0,
           4
          ],
          [
           "Dept L Set Up Assistant ",
           5,
           0,
           4
          ]
         ],
         "hovertemplate": "Position Type=Set Up Assistant <br>Start=%{base}<br>Finish=%{x}<br>Candidate Name=%{y}<br>Position=%{customdata[0]}<br>Experience=%{customdata[1]}<br>Language Skills=%{customdata[2]}<br>Presentation Skills=%{customdata[3]}<extra></extra>",
         "legendgroup": "Set Up Assistant ",
         "marker": {
          "color": "#EF553B",
          "pattern": {
           "shape": ""
          }
         },
         "name": "Set Up Assistant ",
         "offsetgroup": "Set Up Assistant ",
         "orientation": "h",
         "showlegend": true,
         "textposition": "auto",
         "type": "bar",
         "x": [
          86400000,
          86400000,
          86400000,
          86400000,
          86400000,
          86400000,
          86400000,
          86400000,
          86400000,
          86400000,
          86400000,
          86400000,
          86400000,
          86400000,
          86400000,
          86400000,
          86400000,
          86400000,
          86400000,
          86400000,
          86400000,
          86400000,
          86400000,
          86400000,
          86400000,
          86400000,
          86400000,
          86400000,
          86400000,
          86400000,
          86400000,
          86400000,
          86400000,
          86400000,
          86400000,
          86400000,
          86400000,
          86400000,
          86400000,
          86400000,
          86400000,
          86400000,
          86400000,
          86400000,
          86400000,
          86400000,
          86400000,
          86400000,
          86400000,
          86400000,
          86400000,
          86400000,
          86400000,
          86400000,
          86400000,
          86400000,
          86400000,
          86400000,
          86400000,
          86400000,
          86400000,
          86400000,
          86400000,
          86400000,
          86400000,
          86400000,
          86400000,
          86400000,
          86400000
         ],
         "xaxis": "x",
         "y": [
          "Adam Mitchell",
          "Adam Mitchell",
          "Adam Mitchell",
          "Adam Mitchell",
          "Adam Mitchell",
          "Afonso Pereira",
          "Afonso Pereira",
          "Afonso Pereira",
          "Afonso Pereira",
          "Afonso Pereira",
          "Afonso Pereira",
          "Alexander Anderson",
          "Alexander Anderson",
          "Alexander Anderson",
          "Alexander Anderson",
          "Alexander Anderson",
          "Alexandre Silva",
          "Alexandre Silva",
          "Alexandre Silva",
          "Amelia Taylor",
          "Amelia Taylor",
          "Amelia Taylor",
          "Amelia Taylor",
          "Amelia Taylor",
          "Amelia Taylor",
          "Ana Martins",
          "Ana Martins",
          "Ana Martins",
          "Ana Martins",
          "Ana Paula Ferreira",
          "Ana Paula Ferreira",
          "Ana Paula Ferreira",
          "Ana Paula Ferreira",
          "Ana Paula Ferreira",
          "Ana Paula Ferreira",
          "Ana Paula Ferreira",
          "Ana Rodrigues",
          "Ana Rodrigues",
          "Ana Rodrigues",
          "Ana Rodrigues",
          "Ana Rodrigues",
          "Ava Martinez",
          "Ava Martinez",
          "Ava Martinez",
          "Ava Martinez",
          "Ava Martinez",
          "Brooklyn Lee",
          "Brooklyn Lee",
          "Brooklyn Lee",
          "Brooklyn Lee",
          "Brooklyn Lee",
          "Caleb Green",
          "Caleb Green",
          "Caleb Green",
          "Caleb Green",
          "Caleb Turner",
          "Caleb Turner",
          "Caleb Turner",
          "Caleb Turner",
          "Caleb Turner",
          "Carolina Alves",
          "Carolina Alves",
          "Carolina Alves",
          "Carolina Alves",
          "Carolina Alves",
          "Carolina Teixeira",
          "Carolina Teixeira",
          "Carolina Teixeira",
          "Carolina Teixeira"
         ],
         "yaxis": "y"
        },
        {
         "alignmentgroup": "True",
         "base": [
          "2023-06-8",
          "2023-06-5",
          "2023-06-3",
          "2023-06-8",
          "2023-06-7",
          "2023-06-3",
          "2023-06-9",
          "2023-06-8",
          "2023-06-3",
          "2023-06-4",
          "2023-06-7",
          "2023-06-1",
          "2023-06-6",
          "2023-06-4",
          "2023-06-3",
          "2023-06-4",
          "2023-06-2",
          "2023-06-6",
          "2023-06-5",
          "2023-06-9",
          "2023-06-2",
          "2023-06-6",
          "2023-06-8",
          "2023-06-2",
          "2023-06-9",
          "2023-06-1",
          "2023-06-9",
          "2023-06-3",
          "2023-06-7",
          "2023-06-5",
          "2023-06-1",
          "2023-06-2",
          "2023-06-8",
          "2023-06-4",
          "2023-06-6",
          "2023-06-1",
          "2023-06-7",
          "2023-06-2",
          "2023-06-3",
          "2023-06-6",
          "2023-06-8",
          "2023-06-4",
          "2023-06-5",
          "2023-06-9",
          "2023-06-9"
         ],
         "customdata": [
          [
           "Waiting List ",
           0,
           2,
           3
          ],
          [
           "Waiting List ",
           0,
           2,
           3
          ],
          [
           "Waiting List ",
           0,
           2,
           3
          ],
          [
           "Waiting List ",
           0,
           1,
           3
          ],
          [
           "Waiting List ",
           0,
           2,
           5
          ],
          [
           "Waiting List ",
           0,
           2,
           5
          ],
          [
           "Waiting List ",
           0,
           1,
           2
          ],
          [
           "Waiting List ",
           0,
           3,
           3
          ],
          [
           "Waiting List ",
           0,
           3,
           3
          ],
          [
           "Waiting List ",
           0,
           3,
           3
          ],
          [
           "Waiting List ",
           0,
           0,
           1
          ],
          [
           "Waiting List ",
           0,
           0,
           1
          ],
          [
           "Waiting List ",
           0,
           0,
           1
          ],
          [
           "Waiting List ",
           0,
           0,
           1
          ],
          [
           "Waiting List ",
           0,
           2,
           2
          ],
          [
           "Waiting List ",
           0,
           5,
           1
          ],
          [
           "Waiting List ",
           0,
           5,
           1
          ],
          [
           "Waiting List ",
           0,
           3,
           4
          ],
          [
           "Waiting List ",
           0,
           3,
           4
          ],
          [
           "Waiting List ",
           0,
           3,
           4
          ],
          [
           "Waiting List ",
           0,
           3,
           3
          ],
          [
           "Waiting List ",
           0,
           3,
           3
          ],
          [
           "Waiting List ",
           0,
           1,
           4
          ],
          [
           "Waiting List ",
           0,
           2,
           2
          ],
          [
           "Waiting List ",
           0,
           2,
           1
          ],
          [
           "Waiting List ",
           0,
           4,
           3
          ],
          [
           "Waiting List ",
           0,
           4,
           3
          ],
          [
           "Waiting List ",
           0,
           3,
           3
          ],
          [
           "Waiting List ",
           0,
           3,
           3
          ],
          [
           "Waiting List ",
           0,
           3,
           3
          ],
          [
           "Waiting List ",
           0,
           2,
           5
          ],
          [
           "Waiting List ",
           0,
           2,
           5
          ],
          [
           "Waiting List ",
           0,
           2,
           5
          ],
          [
           "Waiting List ",
           0,
           3,
           0
          ],
          [
           "Waiting List ",
           0,
           3,
           0
          ],
          [
           "Waiting List ",
           0,
           3,
           0
          ],
          [
           "Waiting List ",
           0,
           3,
           0
          ],
          [
           "Waiting List ",
           0,
           0,
           4
          ],
          [
           "Waiting List ",
           0,
           0,
           4
          ],
          [
           "Waiting List ",
           0,
           0,
           4
          ],
          [
           "Waiting List ",
           0,
           5,
           0
          ],
          [
           "Waiting List ",
           0,
           2,
           1
          ],
          [
           "Waiting List ",
           0,
           2,
           1
          ],
          [
           "Waiting List ",
           0,
           2,
           1
          ],
          [
           "Waiting List ",
           0,
           1,
           2
          ]
         ],
         "hovertemplate": "Position Type=Waiting List<br>Start=%{base}<br>Finish=%{x}<br>Candidate Name=%{y}<br>Position=%{customdata[0]}<br>Experience=%{customdata[1]}<br>Language Skills=%{customdata[2]}<br>Presentation Skills=%{customdata[3]}<extra></extra>",
         "legendgroup": "Waiting List",
         "marker": {
          "color": "#00cc96",
          "pattern": {
           "shape": ""
          }
         },
         "name": "Waiting List",
         "offsetgroup": "Waiting List",
         "orientation": "h",
         "showlegend": true,
         "textposition": "auto",
         "type": "bar",
         "x": [
          86400000,
          86400000,
          86400000,
          86400000,
          86400000,
          86400000,
          86400000,
          86400000,
          86400000,
          86400000,
          86400000,
          86400000,
          86400000,
          86400000,
          86400000,
          86400000,
          86400000,
          86400000,
          86400000,
          86400000,
          86400000,
          86400000,
          86400000,
          86400000,
          86400000,
          86400000,
          86400000,
          86400000,
          86400000,
          86400000,
          86400000,
          86400000,
          86400000,
          86400000,
          86400000,
          86400000,
          86400000,
          86400000,
          86400000,
          86400000,
          86400000,
          86400000,
          86400000,
          86400000,
          86400000
         ],
         "xaxis": "x",
         "y": [
          "Addison Johnson",
          "Addison Johnson",
          "Addison Johnson",
          "Ana Paula Ferreira",
          "Ana Pires",
          "Ana Pires",
          "André Fernandes",
          "André Santos",
          "André Santos",
          "André Santos",
          "António Costa",
          "António Costa",
          "António Costa",
          "António Costa",
          "Arianna Peterson",
          "Autumn Davis",
          "Autumn Davis",
          "Avery Green",
          "Avery Green",
          "Avery Green",
          "Beatriz Costa",
          "Beatriz Costa",
          "Beatriz Oliveira",
          "Bernardo Ferreira",
          "Bruno Almeida",
          "Carolina Fernandes",
          "Carolina Fernandes",
          "Carolina Lima",
          "Carolina Lima",
          "Carolina Lima",
          "Carolina Pires",
          "Carolina Pires",
          "Carolina Pires",
          "Carolina Rodrigues",
          "Carolina Rodrigues",
          "Carolina Rodrigues",
          "Carolina Rodrigues",
          "Catarina Martins",
          "Catarina Martins",
          "Catarina Martins",
          "Charlotte Garcia",
          "Chloe Young",
          "Chloe Young",
          "Chloe Young",
          "Christopher Baker"
         ],
         "yaxis": "y"
        },
        {
         "alignmentgroup": "True",
         "base": [
          "2023-06-2",
          "2023-06-9",
          "2023-06-7",
          "2023-06-2",
          "2023-06-6",
          "2023-06-5",
          "2023-06-1",
          "2023-06-6",
          "2023-06-8",
          "2023-06-5",
          "2023-06-3",
          "2023-06-7",
          "2023-06-4",
          "2023-06-2",
          "2023-06-1",
          "2023-06-3",
          "2023-06-2",
          "2023-06-1",
          "2023-06-1",
          "2023-06-6",
          "2023-06-7",
          "2023-06-8",
          "2023-06-2",
          "2023-06-1",
          "2023-06-6",
          "2023-06-3",
          "2023-06-4",
          "2023-06-7",
          "2023-06-6",
          "2023-06-8",
          "2023-06-1",
          "2023-06-5",
          "2023-06-2",
          "2023-06-9",
          "2023-06-2",
          "2023-06-6",
          "2023-06-7",
          "2023-06-5",
          "2023-06-6",
          "2023-06-1",
          "2023-06-9",
          "2023-06-7",
          "2023-06-5",
          "2023-06-4",
          "2023-06-6",
          "2023-06-3",
          "2023-06-2",
          "2023-06-6",
          "2023-06-7",
          "2023-06-1",
          "2023-06-7",
          "2023-06-2",
          "2023-06-6"
         ],
         "customdata": [
          [
           "Dept F Viewing Assistant ",
           4,
           4,
           1
          ],
          [
           "Dept I Viewing Assistant ",
           4,
           0,
           5
          ],
          [
           "Dept F Viewing Assistant (VIP)",
           5,
           2,
           1
          ],
          [
           "Dept B Viewing Assistant ",
           5,
           2,
           1
          ],
          [
           "Dept F Viewing Assistant (VIP)",
           5,
           2,
           1
          ],
          [
           "Dept F Viewing Assistant (VIP)",
           5,
           2,
           1
          ],
          [
           "Dept G Viewing Assistant ",
           5,
           2,
           1
          ],
          [
           "Dept K Viewing Assistant ",
           5,
           2,
           2
          ],
          [
           "Dept I Viewing Assistant ",
           5,
           2,
           2
          ],
          [
           "Dept L Viewing Assistant ",
           5,
           2,
           2
          ],
          [
           "Dept G Viewing Assistant ",
           5,
           2,
           2
          ],
          [
           "Dept K Viewing Assistant ",
           5,
           2,
           2
          ],
          [
           "Dept L Viewing Assistant ",
           5,
           2,
           2
          ],
          [
           "Dept B Viewing Assistant ",
           5,
           2,
           2
          ],
          [
           "Dept G Viewing Assistant ",
           4,
           4,
           4
          ],
          [
           "Dept G Viewing Assistant ",
           4,
           4,
           4
          ],
          [
           "Dept F Viewing Assistant ",
           5,
           2,
           1
          ],
          [
           "Dept F Viewing Assistant ",
           5,
           2,
           1
          ],
          [
           "Dept F Viewing Assistant ",
           4,
           2,
           3
          ],
          [
           "Dept D Viewing Assistant ",
           4,
           2,
           3
          ],
          [
           "Dept F Viewing Assistant (VIP)",
           4,
           2,
           3
          ],
          [
           "Dept L Viewing Assistant ",
           5,
           1,
           3
          ],
          [
           "Dept G Viewing Assistant ",
           4,
           1,
           4
          ],
          [
           "Dept B Viewing Assistant ",
           4,
           1,
           4
          ],
          [
           "Dept F Viewing Assistant (VIP)",
           4,
           1,
           4
          ],
          [
           "Dept L Viewing Assistant ",
           5,
           4,
           2
          ],
          [
           "Dept G Viewing Assistant ",
           5,
           4,
           2
          ],
          [
           "Dept G Viewing Assistant ",
           5,
           4,
           2
          ],
          [
           "Dept G Viewing Assistant ",
           5,
           4,
           2
          ],
          [
           "Dept D Viewing Assistant ",
           5,
           2,
           1
          ],
          [
           "Dept G Viewing Assistant ",
           5,
           2,
           1
          ],
          [
           "Dept F Viewing Assistant (VIP)",
           5,
           2,
           1
          ],
          [
           "Dept F Viewing Assistant ",
           5,
           2,
           1
          ],
          [
           "Dept L Viewing Assistant ",
           4,
           5,
           2
          ],
          [
           "Dept G Viewing Assistant ",
           4,
           2,
           3
          ],
          [
           "Dept D Viewing Assistant ",
           4,
           2,
           3
          ],
          [
           "Dept F Viewing Assistant (VIP)",
           4,
           2,
           3
          ],
          [
           "Dept D Viewing Assistant ",
           4,
           4,
           4
          ],
          [
           "Dept I Viewing Assistant ",
           4,
           4,
           4
          ],
          [
           "Dept L Viewing Assistant ",
           5,
           4,
           2
          ],
          [
           "Dept I Viewing Assistant ",
           5,
           4,
           2
          ],
          [
           "Dept L Viewing Assistant ",
           5,
           4,
           2
          ],
          [
           "Dept K Viewing Assistant ",
           5,
           4,
           2
          ],
          [
           "Dept L Viewing Assistant ",
           5,
           4,
           2
          ],
          [
           "Dept L Viewing Assistant ",
           5,
           4,
           2
          ],
          [
           "Dept F Viewing Assistant ",
           4,
           2,
           4
          ],
          [
           "Dept B Viewing Assistant ",
           4,
           2,
           4
          ],
          [
           "Dept F Viewing Assistant (VIP)",
           4,
           2,
           4
          ],
          [
           "Dept D Viewing Assistant ",
           4,
           2,
           4
          ],
          [
           "Dept F Viewing Assistant ",
           4,
           2,
           4
          ],
          [
           "Dept F Viewing Assistant (VIP)",
           4,
           3,
           1
          ],
          [
           "Dept G Viewing Assistant ",
           4,
           3,
           1
          ],
          [
           "Dept D Viewing Assistant ",
           4,
           3,
           1
          ]
         ],
         "hovertemplate": "Position Type=Viewing Assistant <br>Start=%{base}<br>Finish=%{x}<br>Candidate Name=%{y}<br>Position=%{customdata[0]}<br>Experience=%{customdata[1]}<br>Language Skills=%{customdata[2]}<br>Presentation Skills=%{customdata[3]}<extra></extra>",
         "legendgroup": "Viewing Assistant ",
         "marker": {
          "color": "#ab63fa",
          "pattern": {
           "shape": ""
          }
         },
         "name": "Viewing Assistant ",
         "offsetgroup": "Viewing Assistant ",
         "orientation": "h",
         "showlegend": true,
         "textposition": "auto",
         "type": "bar",
         "x": [
          86400000,
          86400000,
          86400000,
          86400000,
          86400000,
          86400000,
          86400000,
          86400000,
          86400000,
          86400000,
          86400000,
          86400000,
          86400000,
          86400000,
          86400000,
          86400000,
          86400000,
          86400000,
          86400000,
          86400000,
          86400000,
          86400000,
          86400000,
          86400000,
          86400000,
          86400000,
          86400000,
          86400000,
          86400000,
          86400000,
          86400000,
          86400000,
          86400000,
          86400000,
          86400000,
          86400000,
          86400000,
          86400000,
          86400000,
          86400000,
          86400000,
          86400000,
          86400000,
          86400000,
          86400000,
          86400000,
          86400000,
          86400000,
          86400000,
          86400000,
          86400000,
          86400000,
          86400000
         ],
         "xaxis": "x",
         "y": [
          "Afonso Costa",
          "Alexander Anderson",
          "Ana Carvalho",
          "Ana Carvalho",
          "Ana Carvalho",
          "Ana Carvalho",
          "Ana Carvalho",
          "Ana Costa",
          "Ana Costa",
          "Ana Costa",
          "Ana Costa",
          "Ana Costa",
          "Ana Costa",
          "Ana Costa",
          "Ana Santos",
          "Ana Santos",
          "Ana Sousa",
          "Ana Sousa",
          "Andrew Moore",
          "Andrew Moore",
          "Andrew Moore",
          "André Mendes",
          "Aria Wright",
          "Aria Wright",
          "Aria Wright",
          "Ava Roberts",
          "Ava Roberts",
          "Ava Roberts",
          "Ava Roberts",
          "Benjamin Nelson",
          "Benjamin Nelson",
          "Benjamin Nelson",
          "Benjamin Nelson",
          "Brooklyn Lee",
          "Bruno Rodrigues",
          "Bruno Rodrigues",
          "Bruno Rodrigues",
          "Camila Santos",
          "Camila Santos",
          "Candidate Name",
          "Candidate Name",
          "Candidate Name",
          "Candidate Name",
          "Candidate Name",
          "Candidate Name",
          "Carolina Carvalho",
          "Carolina Carvalho",
          "Carolina Carvalho",
          "Carolina Carvalho",
          "Carolina Carvalho",
          "Carolina Costa",
          "Carolina Costa",
          "Carolina Costa"
         ],
         "yaxis": "y"
        },
        {
         "alignmentgroup": "True",
         "base": [
          "2023-06-9",
          "2023-06-4",
          "2023-06-6",
          "2023-06-8",
          "2023-06-7",
          "2023-06-8",
          "2023-06-9",
          "2023-06-4",
          "2023-06-5",
          "2023-06-4",
          "2023-06-8",
          "2023-06-5",
          "2023-06-6",
          "2023-06-8",
          "2023-06-4",
          "2023-06-4"
         ],
         "customdata": [
          [
           "Catalogue Desk Assistant ",
           5,
           4,
           1
          ],
          [
           "Catalogue Desk Assistant ",
           5,
           4,
           1
          ],
          [
           "Catalogue Desk Assistant ",
           5,
           4,
           1
          ],
          [
           "Catalogue Desk Assistant ",
           5,
           4,
           1
          ],
          [
           "Catalogue Desk Assistant ",
           5,
           4,
           4
          ],
          [
           "Catalogue Desk Assistant ",
           5,
           4,
           4
          ],
          [
           "Catalogue Desk Assistant ",
           5,
           4,
           4
          ],
          [
           "Catalogue Desk Assistant ",
           5,
           4,
           4
          ],
          [
           "Catalogue Desk Assistant ",
           5,
           4,
           4
          ],
          [
           "Catalogue Desk Assistant ",
           5,
           2,
           3
          ],
          [
           "Catalogue Desk Assistant ",
           5,
           2,
           3
          ],
          [
           "Catalogue Desk Assistant ",
           5,
           2,
           3
          ],
          [
           "Catalogue Desk Assistant ",
           5,
           1,
           3
          ],
          [
           "Catalogue Desk Assistant ",
           5,
           1,
           3
          ],
          [
           "Catalogue Desk Assistant ",
           5,
           1,
           3
          ],
          [
           "Catalogue Desk Assistant ",
           4,
           2,
           3
          ]
         ],
         "hovertemplate": "Position Type=Catalogue Desk Assistant <br>Start=%{base}<br>Finish=%{x}<br>Candidate Name=%{y}<br>Position=%{customdata[0]}<br>Experience=%{customdata[1]}<br>Language Skills=%{customdata[2]}<br>Presentation Skills=%{customdata[3]}<extra></extra>",
         "legendgroup": "Catalogue Desk Assistant ",
         "marker": {
          "color": "#FFA15A",
          "pattern": {
           "shape": ""
          }
         },
         "name": "Catalogue Desk Assistant ",
         "offsetgroup": "Catalogue Desk Assistant ",
         "orientation": "h",
         "showlegend": true,
         "textposition": "auto",
         "type": "bar",
         "x": [
          86400000,
          86400000,
          86400000,
          86400000,
          86400000,
          86400000,
          86400000,
          86400000,
          86400000,
          86400000,
          86400000,
          86400000,
          86400000,
          86400000,
          86400000,
          86400000
         ],
         "xaxis": "x",
         "y": [
          "Afonso Costa",
          "Afonso Costa",
          "Afonso Costa",
          "Afonso Costa",
          "Ana Santos",
          "Ana Santos",
          "Ana Santos",
          "Ana Santos",
          "Ana Santos",
          "Andrew Moore",
          "Andrew Moore",
          "Andrew Moore",
          "André Luís Silva",
          "André Luís Silva",
          "André Luís Silva",
          "Bruno Rodrigues"
         ],
         "yaxis": "y"
        },
        {
         "alignmentgroup": "True",
         "base": [
          "2023-06-1",
          "2023-06-3",
          "2023-06-8",
          "2023-06-2",
          "2023-06-7",
          "2023-06-5",
          "2023-06-1",
          "2023-06-6",
          "2023-06-9",
          "2023-06-9",
          "2023-06-4",
          "2023-06-3",
          "2023-06-8"
         ],
         "customdata": [
          [
           "Operations & Administration Packer ",
           5,
           4,
           1
          ],
          [
           "Operations & Administration Packer ",
           5,
           3,
           2
          ],
          [
           "Operations & Administration Packer ",
           5,
           3,
           2
          ],
          [
           "Operations & Administration Packer ",
           5,
           3,
           2
          ],
          [
           "Operations & Administration Packer ",
           5,
           3,
           2
          ],
          [
           "Operations & Administration Packer ",
           5,
           3,
           2
          ],
          [
           "Operations & Administration Packer ",
           5,
           3,
           2
          ],
          [
           "Operations & Administration Packer ",
           5,
           3,
           2
          ],
          [
           "Operations & Administration Packer ",
           5,
           1,
           4
          ],
          [
           "Operations & Administration Packer ",
           5,
           0,
           4
          ],
          [
           "Operations & Administration Packer ",
           5,
           2,
           4
          ],
          [
           "Operations & Administration Packer ",
           5,
           2,
           4
          ],
          [
           "Operations & Administration Packer ",
           5,
           2,
           4
          ]
         ],
         "hovertemplate": "Position Type=Operations & Administration Packer <br>Start=%{base}<br>Finish=%{x}<br>Candidate Name=%{y}<br>Position=%{customdata[0]}<br>Experience=%{customdata[1]}<br>Language Skills=%{customdata[2]}<br>Presentation Skills=%{customdata[3]}<extra></extra>",
         "legendgroup": "Operations & Administration Packer ",
         "marker": {
          "color": "#19d3f3",
          "pattern": {
           "shape": ""
          }
         },
         "name": "Operations & Administration Packer ",
         "offsetgroup": "Operations & Administration Packer ",
         "orientation": "h",
         "showlegend": true,
         "textposition": "auto",
         "type": "bar",
         "x": [
          86400000,
          86400000,
          86400000,
          86400000,
          86400000,
          86400000,
          86400000,
          86400000,
          86400000,
          86400000,
          86400000,
          86400000,
          86400000
         ],
         "xaxis": "x",
         "y": [
          "Afonso Costa",
          "Ana Beatriz Ferreira",
          "Ana Beatriz Ferreira",
          "Ana Beatriz Ferreira",
          "Ana Beatriz Ferreira",
          "Ana Beatriz Ferreira",
          "Ana Beatriz Ferreira",
          "Ana Beatriz Ferreira",
          "Caleb Turner",
          "Carolina Teixeira",
          "Catarina Silva",
          "Catarina Silva",
          "Catarina Silva"
         ],
         "yaxis": "y"
        },
        {
         "alignmentgroup": "True",
         "base": [
          "2023-06-6",
          "2023-06-9",
          "2023-06-7",
          "2023-06-5",
          "2023-06-8"
         ],
         "customdata": [
          [
           "Public Relationship Assistant ",
           4,
           4,
           2
          ],
          [
           "Public Relationship Assistant ",
           5,
           2,
           1
          ],
          [
           "Public Relationship Assistant ",
           5,
           0,
           3
          ],
          [
           "Public Relationship Assistant ",
           5,
           0,
           3
          ],
          [
           "Public Relationship Assistant ",
           5,
           0,
           3
          ]
         ],
         "hovertemplate": "Position Type=Public Relationship Assistant <br>Start=%{base}<br>Finish=%{x}<br>Candidate Name=%{y}<br>Position=%{customdata[0]}<br>Experience=%{customdata[1]}<br>Language Skills=%{customdata[2]}<br>Presentation Skills=%{customdata[3]}<extra></extra>",
         "legendgroup": "Public Relationship Assistant ",
         "marker": {
          "color": "#FF6692",
          "pattern": {
           "shape": ""
          }
         },
         "name": "Public Relationship Assistant ",
         "offsetgroup": "Public Relationship Assistant ",
         "orientation": "h",
         "showlegend": true,
         "textposition": "auto",
         "type": "bar",
         "x": [
          86400000,
          86400000,
          86400000,
          86400000,
          86400000
         ],
         "xaxis": "x",
         "y": [
          "Afonso Pereira",
          "Ana Rodrigues",
          "Andréia Santos",
          "Andréia Santos",
          "Andréia Santos"
         ],
         "yaxis": "y"
        },
        {
         "alignmentgroup": "True",
         "base": [
          "2023-06-3",
          "2023-06-8",
          "2023-06-9",
          "2023-06-4",
          "2023-06-7",
          "2023-06-8",
          "2023-06-3",
          "2023-06-6",
          "2023-06-7",
          "2023-06-8",
          "2023-06-9",
          "2023-06-3",
          "2023-06-2",
          "2023-06-6",
          "2023-06-1",
          "2023-06-4",
          "2023-06-8",
          "2023-06-9",
          "2023-06-8",
          "2023-06-3",
          "2023-06-6",
          "2023-06-4",
          "2023-06-7",
          "2023-06-1",
          "2023-06-5",
          "2023-06-9",
          "2023-06-4",
          "2023-06-3",
          "2023-06-7",
          "2023-06-5",
          "2023-06-1",
          "2023-06-6",
          "2023-06-8",
          "2023-06-4",
          "2023-06-7",
          "2023-06-3",
          "2023-06-9",
          "2023-06-9",
          "2023-06-4",
          "2023-06-7",
          "2023-06-6",
          "2023-06-3",
          "2023-06-8",
          "2023-06-7",
          "2023-06-6",
          "2023-06-9",
          "2023-06-2"
         ],
         "customdata": [
          [
           "Dept D Assistant ",
           3,
           5,
           0
          ],
          [
           "Dept A Assistant ",
           3,
           5,
           0
          ],
          [
           "Dept E Assistant ",
           4,
           0,
           0
          ],
          [
           "Dept H Assistant ",
           5,
           1,
           2
          ],
          [
           "Dept A Assistant ",
           5,
           1,
           2
          ],
          [
           "Dept E Assistant ",
           5,
           1,
           2
          ],
          [
           "Dept A Assistant ",
           5,
           1,
           2
          ],
          [
           "Dept D Assistant ",
           5,
           1,
           2
          ],
          [
           "Dept D Assistant ",
           4,
           1,
           1
          ],
          [
           "Dept A Assistant ",
           4,
           1,
           1
          ],
          [
           "Dept A Assistant ",
           4,
           1,
           1
          ],
          [
           "Dept D Assistant ",
           4,
           1,
           2
          ],
          [
           "Dept D Assistant ",
           4,
           1,
           2
          ],
          [
           "Dept D Assistant ",
           4,
           1,
           2
          ],
          [
           "Dept D Assistant ",
           4,
           1,
           2
          ],
          [
           "Dept D Assistant ",
           4,
           1,
           2
          ],
          [
           "Dept E Assistant ",
           4,
           1,
           2
          ],
          [
           "Dept E Assistant ",
           4,
           1,
           2
          ],
          [
           "Dept A Assistant ",
           4,
           3,
           1
          ],
          [
           "Dept A Assistant ",
           4,
           3,
           1
          ],
          [
           "Dept D Assistant ",
           4,
           3,
           1
          ],
          [
           "Dept A Assistant ",
           4,
           3,
           1
          ],
          [
           "Dept A Assistant ",
           4,
           3,
           1
          ],
          [
           "Dept D Assistant ",
           4,
           3,
           1
          ],
          [
           "Dept D Assistant ",
           4,
           3,
           1
          ],
          [
           "Dept A Assistant ",
           4,
           1,
           4
          ],
          [
           "Dept A Assistant ",
           4,
           1,
           4
          ],
          [
           "Dept A Assistant ",
           4,
           1,
           4
          ],
          [
           "Dept E Assistant ",
           4,
           1,
           4
          ],
          [
           "Dept D Assistant ",
           4,
           4,
           2
          ],
          [
           "Dept C Assistant ",
           4,
           4,
           2
          ],
          [
           "Dept E Assistant ",
           4,
           4,
           2
          ],
          [
           "Dept A Assistant ",
           4,
           4,
           2
          ],
          [
           "Dept A Assistant ",
           4,
           4,
           2
          ],
          [
           "Dept E Assistant ",
           4,
           4,
           2
          ],
          [
           "Dept A Assistant ",
           4,
           4,
           2
          ],
          [
           "Dept A Assistant ",
           4,
           5,
           2
          ],
          [
           "Dept A Assistant ",
           4,
           2,
           1
          ],
          [
           "Dept A Assistant ",
           3,
           1,
           1
          ],
          [
           "Dept A Assistant ",
           3,
           1,
           1
          ],
          [
           "Dept E Assistant ",
           3,
           3,
           3
          ],
          [
           "Dept H Assistant ",
           5,
           1,
           1
          ],
          [
           "Dept E Assistant ",
           5,
           1,
           1
          ],
          [
           "Dept D Assistant ",
           5,
           1,
           1
          ],
          [
           "Dept A Assistant ",
           5,
           1,
           1
          ],
          [
           "Dept E Assistant ",
           5,
           1,
           1
          ],
          [
           "Dept H Assistant ",
           5,
           1,
           1
          ]
         ],
         "hovertemplate": "Position Type=Assistant <br>Start=%{base}<br>Finish=%{x}<br>Candidate Name=%{y}<br>Position=%{customdata[0]}<br>Experience=%{customdata[1]}<br>Language Skills=%{customdata[2]}<br>Presentation Skills=%{customdata[3]}<extra></extra>",
         "legendgroup": "Assistant ",
         "marker": {
          "color": "#B6E880",
          "pattern": {
           "shape": ""
          }
         },
         "name": "Assistant ",
         "offsetgroup": "Assistant ",
         "orientation": "h",
         "showlegend": true,
         "textposition": "auto",
         "type": "bar",
         "x": [
          86400000,
          86400000,
          86400000,
          86400000,
          86400000,
          86400000,
          86400000,
          86400000,
          86400000,
          86400000,
          86400000,
          86400000,
          86400000,
          86400000,
          86400000,
          86400000,
          86400000,
          86400000,
          86400000,
          86400000,
          86400000,
          86400000,
          86400000,
          86400000,
          86400000,
          86400000,
          86400000,
          86400000,
          86400000,
          86400000,
          86400000,
          86400000,
          86400000,
          86400000,
          86400000,
          86400000,
          86400000,
          86400000,
          86400000,
          86400000,
          86400000,
          86400000,
          86400000,
          86400000,
          86400000,
          86400000,
          86400000
         ],
         "xaxis": "x",
         "y": [
          "Alexandra Campbell",
          "Alexandra Campbell",
          "Amelia Taylor",
          "Ana Ferreira",
          "Ana Ferreira",
          "Ana Ferreira",
          "Ana Ferreira",
          "Ana Ferreira",
          "Ana Gonçalves",
          "Ana Gonçalves",
          "Ana Gonçalves",
          "Ana Nunes",
          "Ana Nunes",
          "Ana Nunes",
          "Ana Nunes",
          "Ana Nunes",
          "Ana Nunes",
          "Ana Nunes",
          "André Castro",
          "André Castro",
          "André Castro",
          "André Castro",
          "André Castro",
          "André Castro",
          "André Castro",
          "Aria Wright",
          "Aria Wright",
          "Aria Wright",
          "Aria Wright",
          "Beatriz Rodrigues",
          "Beatriz Rodrigues",
          "Beatriz Rodrigues",
          "Beatriz Rodrigues",
          "Beatriz Rodrigues",
          "Beatriz Rodrigues",
          "Beatriz Rodrigues",
          "Beatriz Santos",
          "Benjamin Nelson",
          "Bernardo Soares",
          "Bernardo Soares",
          "Caleb Green",
          "Christian Collins",
          "Christian Collins",
          "Christian Collins",
          "Christian Collins",
          "Christian Collins",
          "Christian Collins"
         ],
         "yaxis": "y"
        },
        {
         "alignmentgroup": "True",
         "base": [
          "2023-06-6",
          "2023-06-7",
          "2023-06-5",
          "2023-06-7",
          "2023-06-6",
          "2023-06-7",
          "2023-06-7",
          "2023-06-8",
          "2023-06-4",
          "2023-06-6",
          "2023-06-5",
          "2023-06-5",
          "2023-06-8",
          "2023-06-6"
         ],
         "customdata": [
          [
           "Currency Board Operator (Saleroom 1) ",
           4,
           5,
           0
          ],
          [
           "Currency Board Operator (Saleroom 1) ",
           4,
           5,
           0
          ],
          [
           "Currency Board Operator (Saleroom 1) ",
           4,
           5,
           0
          ],
          [
           "Currency Board Operator (Saleroom 1) ",
           4,
           1,
           3
          ],
          [
           "Currency Board Operator (Saleroom 1) ",
           4,
           3,
           5
          ],
          [
           "Currency Board Operator (Saleroom 1) ",
           4,
           1,
           1
          ],
          [
           "Currency Board Operator (Saleroom 2) ",
           5,
           2,
           1
          ],
          [
           "Currency Board Operator (Saleroom 2) ",
           5,
           2,
           1
          ],
          [
           "Currency Board Operator (Saleroom 1) ",
           5,
           2,
           1
          ],
          [
           "Currency Board Operator (Saleroom 1) ",
           5,
           2,
           1
          ],
          [
           "Currency Board Operator (Saleroom 1) ",
           5,
           2,
           1
          ],
          [
           "Currency Board Operator (Saleroom 2) ",
           5,
           5,
           2
          ],
          [
           "Currency Board Operator (Saleroom 2) ",
           5,
           5,
           2
          ],
          [
           "Currency Board Operator (Saleroom 1) ",
           4,
           2,
           1
          ]
         ],
         "hovertemplate": "Position Type=Currency Board Operator<br>Start=%{base}<br>Finish=%{x}<br>Candidate Name=%{y}<br>Position=%{customdata[0]}<br>Experience=%{customdata[1]}<br>Language Skills=%{customdata[2]}<br>Presentation Skills=%{customdata[3]}<extra></extra>",
         "legendgroup": "Currency Board Operator",
         "marker": {
          "color": "#FF97FF",
          "pattern": {
           "shape": ""
          }
         },
         "name": "Currency Board Operator",
         "offsetgroup": "Currency Board Operator",
         "orientation": "h",
         "showlegend": true,
         "textposition": "auto",
         "type": "bar",
         "x": [
          86400000,
          86400000,
          86400000,
          86400000,
          86400000,
          86400000,
          86400000,
          86400000,
          86400000,
          86400000,
          86400000,
          86400000,
          86400000,
          86400000
         ],
         "xaxis": "x",
         "y": [
          "Alexandra Campbell",
          "Alexandra Campbell",
          "Alexandra Campbell",
          "Alexandre Martins",
          "Alexandre Silva",
          "António Pereira",
          "Arianna Hernandez",
          "Arianna Hernandez",
          "Arianna Hernandez",
          "Arianna Hernandez",
          "Arianna Hernandez",
          "Beatriz Santos",
          "Beatriz Santos",
          "Bruno Almeida"
         ],
         "yaxis": "y"
        },
        {
         "alignmentgroup": "True",
         "base": [
          "2023-06-2",
          "2023-06-1",
          "2023-06-6",
          "2023-06-5",
          "2023-06-1",
          "2023-06-4",
          "2023-06-2",
          "2023-06-3",
          "2023-06-4",
          "2023-06-1",
          "2023-06-3",
          "2023-06-2",
          "2023-06-4",
          "2023-06-3",
          "2023-06-4",
          "2023-06-1",
          "2023-06-6",
          "2023-06-5",
          "2023-06-5",
          "2023-06-6",
          "2023-06-9",
          "2023-06-4",
          "2023-06-3",
          "2023-06-2",
          "2023-06-1",
          "2023-06-2",
          "2023-06-4",
          "2023-06-9",
          "2023-06-6",
          "2023-06-2",
          "2023-06-3",
          "2023-06-2",
          "2023-06-4",
          "2023-06-8",
          "2023-06-3",
          "2023-06-4",
          "2023-06-5",
          "2023-06-3",
          "2023-06-7",
          "2023-06-8",
          "2023-06-1",
          "2023-06-9",
          "2023-06-3",
          "2023-06-6",
          "2023-06-2",
          "2023-06-1",
          "2023-06-4",
          "2023-06-2",
          "2023-06-6",
          "2023-06-1",
          "2023-06-5",
          "2023-06-3",
          "2023-06-9",
          "2023-06-5",
          "2023-06-4",
          "2023-06-1",
          "2023-06-2",
          "2023-06-3",
          "2023-06-2"
         ],
         "customdata": [
          [
           "Dept L Packing Assistant ",
           4,
           5,
           0
          ],
          [
           "Dept B Packing Assistant ",
           4,
           5,
           0
          ],
          [
           "Dept L Packing Assistant ",
           4,
           1,
           3
          ],
          [
           "Dept L Packing Assistant ",
           4,
           1,
           3
          ],
          [
           "Dept B Packing Assistant ",
           4,
           1,
           3
          ],
          [
           "Dept L Packing Assistant ",
           4,
           1,
           3
          ],
          [
           "Dept L Packing Assistant ",
           4,
           1,
           3
          ],
          [
           "Dept L Packing Assistant ",
           4,
           1,
           3
          ],
          [
           "Dept F Packing Assistant ",
           4,
           2,
           1
          ],
          [
           "Dept B Packing Assistant ",
           4,
           1,
           1
          ],
          [
           "Dept F Packing Assistant ",
           4,
           1,
           1
          ],
          [
           "Dept L Packing Assistant ",
           4,
           1,
           1
          ],
          [
           "Dept L Packing Assistant ",
           4,
           1,
           1
          ],
          [
           "Dept F Packing Assistant ",
           4,
           1,
           2
          ],
          [
           "Dept L Packing Assistant ",
           4,
           1,
           2
          ],
          [
           "Dept L Packing Assistant ",
           4,
           1,
           2
          ],
          [
           "Dept L Packing Assistant ",
           4,
           1,
           2
          ],
          [
           "Dept L Packing Assistant ",
           4,
           1,
           2
          ],
          [
           "Dept L Packing Assistant ",
           5,
           1,
           3
          ],
          [
           "Dept K Packing Assistant ",
           5,
           1,
           3
          ],
          [
           "Dept K Packing Assistant ",
           5,
           1,
           3
          ],
          [
           "Dept F Packing Assistant ",
           5,
           1,
           3
          ],
          [
           "Dept K Packing Assistant ",
           5,
           1,
           3
          ],
          [
           "Dept B Packing Assistant ",
           3,
           0,
           3
          ],
          [
           "Dept K Packing Assistant ",
           5,
           1,
           3
          ],
          [
           "Dept K Packing Assistant ",
           5,
           1,
           3
          ],
          [
           "Dept K Packing Assistant ",
           5,
           1,
           3
          ],
          [
           "Dept K Packing Assistant ",
           5,
           1,
           3
          ],
          [
           "Dept K Packing Assistant ",
           5,
           1,
           3
          ],
          [
           "Dept B Packing Assistant ",
           5,
           5,
           2
          ],
          [
           "Dept K Packing Assistant ",
           5,
           5,
           2
          ],
          [
           "Dept K Packing Assistant ",
           5,
           1,
           2
          ],
          [
           "Dept K Packing Assistant ",
           5,
           1,
           2
          ],
          [
           "Dept K Packing Assistant ",
           5,
           1,
           2
          ],
          [
           "Dept K Packing Assistant ",
           5,
           1,
           2
          ],
          [
           "Dept K Packing Assistant ",
           5,
           4,
           1
          ],
          [
           "Dept K Packing Assistant ",
           5,
           4,
           1
          ],
          [
           "Dept L Packing Assistant ",
           5,
           4,
           1
          ],
          [
           "Dept K Packing Assistant ",
           5,
           4,
           1
          ],
          [
           "Dept K Packing Assistant ",
           5,
           4,
           1
          ],
          [
           "Dept K Packing Assistant ",
           5,
           4,
           1
          ],
          [
           "Dept K Packing Assistant ",
           5,
           4,
           1
          ],
          [
           "Dept F Packing Assistant ",
           5,
           0,
           5
          ],
          [
           "Dept L Packing Assistant ",
           5,
           0,
           5
          ],
          [
           "Dept L Packing Assistant ",
           5,
           0,
           5
          ],
          [
           "Dept B Packing Assistant ",
           5,
           0,
           5
          ],
          [
           "Dept L Packing Assistant ",
           5,
           0,
           5
          ],
          [
           "Dept L Packing Assistant ",
           5,
           5,
           3
          ],
          [
           "Dept K Packing Assistant ",
           5,
           5,
           3
          ],
          [
           "Dept L Packing Assistant ",
           5,
           5,
           3
          ],
          [
           "Dept L Packing Assistant ",
           5,
           5,
           3
          ],
          [
           "Dept F Packing Assistant ",
           5,
           5,
           3
          ],
          [
           "Dept K Packing Assistant ",
           5,
           5,
           3
          ],
          [
           "Dept K Packing Assistant ",
           5,
           5,
           0
          ],
          [
           "Dept F Packing Assistant ",
           5,
           5,
           0
          ],
          [
           "Dept K Packing Assistant ",
           5,
           5,
           0
          ],
          [
           "Dept B Packing Assistant ",
           5,
           5,
           0
          ],
          [
           "Dept K Packing Assistant ",
           5,
           5,
           0
          ],
          [
           "Dept B Packing Assistant ",
           4,
           1,
           2
          ]
         ],
         "hovertemplate": "Position Type=Packing Assistant <br>Start=%{base}<br>Finish=%{x}<br>Candidate Name=%{y}<br>Position=%{customdata[0]}<br>Experience=%{customdata[1]}<br>Language Skills=%{customdata[2]}<br>Presentation Skills=%{customdata[3]}<extra></extra>",
         "legendgroup": "Packing Assistant ",
         "marker": {
          "color": "#FECB52",
          "pattern": {
           "shape": ""
          }
         },
         "name": "Packing Assistant ",
         "offsetgroup": "Packing Assistant ",
         "orientation": "h",
         "showlegend": true,
         "textposition": "auto",
         "type": "bar",
         "x": [
          86400000,
          86400000,
          86400000,
          86400000,
          86400000,
          86400000,
          86400000,
          86400000,
          86400000,
          86400000,
          86400000,
          86400000,
          86400000,
          86400000,
          86400000,
          86400000,
          86400000,
          86400000,
          86400000,
          86400000,
          86400000,
          86400000,
          86400000,
          86400000,
          86400000,
          86400000,
          86400000,
          86400000,
          86400000,
          86400000,
          86400000,
          86400000,
          86400000,
          86400000,
          86400000,
          86400000,
          86400000,
          86400000,
          86400000,
          86400000,
          86400000,
          86400000,
          86400000,
          86400000,
          86400000,
          86400000,
          86400000,
          86400000,
          86400000,
          86400000,
          86400000,
          86400000,
          86400000,
          86400000,
          86400000,
          86400000,
          86400000,
          86400000,
          86400000
         ],
         "xaxis": "x",
         "y": [
          "Alexandra Campbell",
          "Alexandra Campbell",
          "Alexandre Martins",
          "Alexandre Martins",
          "Alexandre Martins",
          "Alexandre Martins",
          "Alexandre Martins",
          "Alexandre Martins",
          "Ana Carvalho",
          "Ana Gonçalves",
          "Ana Gonçalves",
          "Ana Gonçalves",
          "Ana Gonçalves",
          "André Fernandes",
          "André Fernandes",
          "André Fernandes",
          "André Fernandes",
          "André Fernandes",
          "André Mendes",
          "André Mendes",
          "André Mendes",
          "André Mendes",
          "André Mendes",
          "Andréia Santos",
          "Beatriz Ferreira",
          "Beatriz Ferreira",
          "Beatriz Ferreira",
          "Beatriz Ferreira",
          "Beatriz Ferreira",
          "Beatriz Santos",
          "Beatriz Santos",
          "Bernardo Barbosa",
          "Bernardo Barbosa",
          "Bernardo Barbosa",
          "Bernardo Barbosa",
          "Bruna Oliveira",
          "Bruna Oliveira",
          "Bruna Oliveira",
          "Bruna Oliveira",
          "Bruna Oliveira",
          "Bruna Oliveira",
          "Bruna Oliveira",
          "Carolina Lourenço",
          "Carolina Lourenço",
          "Carolina Lourenço",
          "Carolina Lourenço",
          "Carolina Lourenço",
          "Carolina Nunes",
          "Carolina Nunes",
          "Carolina Nunes",
          "Carolina Nunes",
          "Carolina Nunes",
          "Carolina Nunes",
          "Charlotte Garcia",
          "Charlotte Garcia",
          "Charlotte Garcia",
          "Charlotte Garcia",
          "Charlotte Garcia",
          "Christopher Baker"
         ],
         "yaxis": "y"
        },
        {
         "alignmentgroup": "True",
         "base": [
          "2023-06-7",
          "2023-06-9",
          "2023-06-8",
          "2023-06-8",
          "2023-06-9"
         ],
         "customdata": [
          [
           "Impressionist painting Viewing Assistant ",
           4,
           3,
           5
          ],
          [
           "Impressionist painting Viewing Assistant ",
           4,
           3,
           5
          ],
          [
           "Impressionist painting Viewing Assistant ",
           4,
           3,
           5
          ],
          [
           "Impressionist painting Viewing Assistant ",
           5,
           2,
           3
          ],
          [
           "Impressionist painting Viewing Assistant ",
           5,
           2,
           3
          ]
         ],
         "hovertemplate": "Position Type=Impressionist Painting Viewing Assistant <br>Start=%{base}<br>Finish=%{x}<br>Candidate Name=%{y}<br>Position=%{customdata[0]}<br>Experience=%{customdata[1]}<br>Language Skills=%{customdata[2]}<br>Presentation Skills=%{customdata[3]}<extra></extra>",
         "legendgroup": "Impressionist Painting Viewing Assistant ",
         "marker": {
          "color": "#636efa",
          "pattern": {
           "shape": ""
          }
         },
         "name": "Impressionist Painting Viewing Assistant ",
         "offsetgroup": "Impressionist Painting Viewing Assistant ",
         "orientation": "h",
         "showlegend": true,
         "textposition": "auto",
         "type": "bar",
         "x": [
          86400000,
          86400000,
          86400000,
          86400000,
          86400000
         ],
         "xaxis": "x",
         "y": [
          "Alexandre Silva",
          "Alexandre Silva",
          "Alexandre Silva",
          "Bruno Rodrigues",
          "Bruno Rodrigues"
         ],
         "yaxis": "y"
        },
        {
         "alignmentgroup": "True",
         "base": [
          "2023-06-3",
          "2023-06-8",
          "2023-06-4",
          "2023-06-8",
          "2023-06-9",
          "2023-06-1",
          "2023-06-1"
         ],
         "customdata": [
          [
           "London Jewellery Viewing Assistant ",
           5,
           2,
           1
          ],
          [
           "London Jewellery Viewing Assistant ",
           4,
           1,
           1
          ],
          [
           "London Jewellery Viewing Assistant ",
           5,
           4,
           4
          ],
          [
           "London Jewellery Viewing Assistant ",
           5,
           4,
           4
          ],
          [
           "London Jewellery Viewing Assistant ",
           5,
           4,
           4
          ],
          [
           "London Jewellery Viewing Assistant ",
           5,
           4,
           4
          ],
          [
           "London Jewellery Viewing Assistant ",
           4,
           4,
           1
          ]
         ],
         "hovertemplate": "Position Type=London Jewellery Viewing Assistant <br>Start=%{base}<br>Finish=%{x}<br>Candidate Name=%{y}<br>Position=%{customdata[0]}<br>Experience=%{customdata[1]}<br>Language Skills=%{customdata[2]}<br>Presentation Skills=%{customdata[3]}<extra></extra>",
         "legendgroup": "London Jewellery Viewing Assistant ",
         "marker": {
          "color": "#EF553B",
          "pattern": {
           "shape": ""
          }
         },
         "name": "London Jewellery Viewing Assistant ",
         "offsetgroup": "London Jewellery Viewing Assistant ",
         "orientation": "h",
         "showlegend": true,
         "textposition": "auto",
         "type": "bar",
         "x": [
          86400000,
          86400000,
          86400000,
          86400000,
          86400000,
          86400000,
          86400000
         ],
         "xaxis": "x",
         "y": [
          "Ana Carvalho",
          "Bernardo Soares",
          "Camila Santos",
          "Camila Santos",
          "Camila Santos",
          "Camila Santos",
          "Catarina Oliveira"
         ],
         "yaxis": "y"
        },
        {
         "alignmentgroup": "True",
         "base": [
          "2023-06-8",
          "2023-06-3",
          "2023-06-9",
          "2023-06-5",
          "2023-06-3",
          "2023-06-2",
          "2023-06-2",
          "2023-06-9",
          "2023-06-4",
          "2023-06-2",
          "2023-06-6",
          "2023-06-3",
          "2023-06-7",
          "2023-06-8",
          "2023-06-4",
          "2023-06-5",
          "2023-06-7",
          "2023-06-6",
          "2023-06-4",
          "2023-06-5",
          "2023-06-7",
          "2023-06-6"
         ],
         "customdata": [
          [
           "Cloak Room Assistant ",
           5,
           2,
           1
          ],
          [
           "Cloak Room Assistant ",
           5,
           2,
           1
          ],
          [
           "Cloak Room Assistant ",
           5,
           2,
           1
          ],
          [
           "Cloak Room Assistant ",
           5,
           2,
           1
          ],
          [
           "Cloak Room Assistant ",
           4,
           2,
           1
          ],
          [
           "Cloak Room Assistant ",
           4,
           2,
           1
          ],
          [
           "Cloak Room Assistant ",
           5,
           4,
           4
          ],
          [
           "Cloak Room Assistant ",
           5,
           2,
           4
          ],
          [
           "Cloak Room Assistant ",
           5,
           2,
           4
          ],
          [
           "Cloak Room Assistant ",
           5,
           4,
           3
          ],
          [
           "Cloak Room Assistant ",
           5,
           4,
           3
          ],
          [
           "Cloak Room Assistant ",
           5,
           4,
           3
          ],
          [
           "Cloak Room Assistant ",
           5,
           4,
           3
          ],
          [
           "Cloak Room Assistant ",
           5,
           4,
           3
          ],
          [
           "Cloak Room Assistant ",
           5,
           4,
           3
          ],
          [
           "Cloak Room Assistant ",
           5,
           4,
           3
          ],
          [
           "Cloak Room Assistant ",
           5,
           4,
           1
          ],
          [
           "Cloak Room Assistant ",
           5,
           4,
           1
          ],
          [
           "Cloak Room Assistant ",
           5,
           4,
           1
          ],
          [
           "Cloak Room Assistant ",
           5,
           4,
           1
          ],
          [
           "Cloak Room Assistant ",
           5,
           5,
           0
          ],
          [
           "Cloak Room Assistant ",
           5,
           5,
           0
          ]
         ],
         "hovertemplate": "Position Type=Cloak Room Assistant <br>Start=%{base}<br>Finish=%{x}<br>Candidate Name=%{y}<br>Position=%{customdata[0]}<br>Experience=%{customdata[1]}<br>Language Skills=%{customdata[2]}<br>Presentation Skills=%{customdata[3]}<extra></extra>",
         "legendgroup": "Cloak Room Assistant ",
         "marker": {
          "color": "#00cc96",
          "pattern": {
           "shape": ""
          }
         },
         "name": "Cloak Room Assistant ",
         "offsetgroup": "Cloak Room Assistant ",
         "orientation": "h",
         "showlegend": true,
         "textposition": "auto",
         "type": "bar",
         "x": [
          86400000,
          86400000,
          86400000,
          86400000,
          86400000,
          86400000,
          86400000,
          86400000,
          86400000,
          86400000,
          86400000,
          86400000,
          86400000,
          86400000,
          86400000,
          86400000,
          86400000,
          86400000,
          86400000,
          86400000,
          86400000,
          86400000
         ],
         "xaxis": "x",
         "y": [
          "Ana Sousa",
          "Ana Sousa",
          "Ana Sousa",
          "Ana Sousa",
          "Arianna Hernandez",
          "Arianna Hernandez",
          "Bárbara Silva",
          "Carolina Carvalho",
          "Carolina Carvalho",
          "Carolina Fernandes",
          "Carolina Fernandes",
          "Carolina Fernandes",
          "Carolina Fernandes",
          "Carolina Fernandes",
          "Carolina Fernandes",
          "Carolina Fernandes",
          "Catarina Oliveira",
          "Catarina Oliveira",
          "Catarina Oliveira",
          "Catarina Oliveira",
          "Charlotte Garcia",
          "Charlotte Garcia"
         ],
         "yaxis": "y"
        },
        {
         "alignmentgroup": "True",
         "base": [
          "2023-06-3",
          "2023-06-4",
          "2023-06-6",
          "2023-06-5",
          "2023-06-6",
          "2023-06-3",
          "2023-06-6",
          "2023-06-7",
          "2023-06-5",
          "2023-06-4",
          "2023-06-4",
          "2023-06-3",
          "2023-06-7",
          "2023-06-5"
         ],
         "customdata": [
          [
           "Spotter ",
           4,
           0,
           3
          ],
          [
           "Spotter ",
           4,
           0,
           3
          ],
          [
           "Spotter ",
           5,
           2,
           1
          ],
          [
           "Spotter ",
           4,
           1,
           1
          ],
          [
           "Spotter ",
           4,
           1,
           1
          ],
          [
           "Spotter ",
           4,
           1,
           1
          ],
          [
           "Spotter ",
           5,
           2,
           2
          ],
          [
           "Spotter ",
           5,
           2,
           2
          ],
          [
           "Spotter ",
           5,
           2,
           2
          ],
          [
           "Spotter ",
           5,
           2,
           2
          ],
          [
           "Spotter ",
           5,
           1,
           2
          ],
          [
           "Spotter ",
           5,
           1,
           2
          ],
          [
           "Spotter ",
           5,
           1,
           2
          ],
          [
           "Spotter ",
           5,
           1,
           2
          ]
         ],
         "hovertemplate": "Position Type=Spotter <br>Start=%{base}<br>Finish=%{x}<br>Candidate Name=%{y}<br>Position=%{customdata[0]}<br>Experience=%{customdata[1]}<br>Language Skills=%{customdata[2]}<br>Presentation Skills=%{customdata[3]}<extra></extra>",
         "legendgroup": "Spotter ",
         "marker": {
          "color": "#ab63fa",
          "pattern": {
           "shape": ""
          }
         },
         "name": "Spotter ",
         "offsetgroup": "Spotter ",
         "orientation": "h",
         "showlegend": true,
         "textposition": "auto",
         "type": "bar",
         "x": [
          86400000,
          86400000,
          86400000,
          86400000,
          86400000,
          86400000,
          86400000,
          86400000,
          86400000,
          86400000,
          86400000,
          86400000,
          86400000,
          86400000
         ],
         "xaxis": "x",
         "y": [
          "Andréia Santos",
          "Andréia Santos",
          "Benjamin Nelson",
          "Bernardo Soares",
          "Bernardo Soares",
          "Bernardo Soares",
          "Charlotte Turner",
          "Charlotte Turner",
          "Charlotte Turner",
          "Charlotte Turner",
          "Christopher Baker",
          "Christopher Baker",
          "Christopher Baker",
          "Christopher Baker"
         ],
         "yaxis": "y"
        },
        {
         "alignmentgroup": "True",
         "base": [
          "2023-06-6",
          "2023-06-4",
          "2023-06-5",
          "2023-06-3",
          "2023-06-8",
          "2023-06-7",
          "2023-06-9"
         ],
         "customdata": [
          [
           "Client Services Assistant ",
           5,
           1,
           1
          ],
          [
           "Client Services Assistant ",
           5,
           1,
           1
          ],
          [
           "Client Services Assistant ",
           5,
           1,
           1
          ],
          [
           "Client Services Assistant ",
           5,
           1,
           1
          ],
          [
           "Client Services Assistant ",
           5,
           4,
           4
          ],
          [
           "Client Services Assistant ",
           5,
           4,
           4
          ],
          [
           "Client Services Assistant ",
           5,
           4,
           4
          ]
         ],
         "hovertemplate": "Position Type=Client Services Assistant <br>Start=%{base}<br>Finish=%{x}<br>Candidate Name=%{y}<br>Position=%{customdata[0]}<br>Experience=%{customdata[1]}<br>Language Skills=%{customdata[2]}<br>Presentation Skills=%{customdata[3]}<extra></extra>",
         "legendgroup": "Client Services Assistant ",
         "marker": {
          "color": "#FFA15A",
          "pattern": {
           "shape": ""
          }
         },
         "name": "Client Services Assistant ",
         "offsetgroup": "Client Services Assistant ",
         "orientation": "h",
         "showlegend": true,
         "textposition": "auto",
         "type": "bar",
         "x": [
          86400000,
          86400000,
          86400000,
          86400000,
          86400000,
          86400000,
          86400000
         ],
         "xaxis": "x",
         "y": [
          "António Pereira",
          "António Pereira",
          "António Pereira",
          "António Pereira",
          "Bárbara Silva",
          "Bárbara Silva",
          "Bárbara Silva"
         ],
         "yaxis": "y"
        },
        {
         "alignmentgroup": "True",
         "base": [
          "2023-06-5",
          "2023-06-4",
          "2023-06-6",
          "2023-06-3",
          "2023-06-5",
          "2023-06-3",
          "2023-06-6"
         ],
         "customdata": [
          [
           "Event Assistant ",
           5,
           4,
           4
          ],
          [
           "Event Assistant ",
           5,
           4,
           4
          ],
          [
           "Event Assistant ",
           5,
           4,
           4
          ],
          [
           "Event Assistant ",
           5,
           4,
           4
          ],
          [
           "Event Assistant ",
           5,
           4,
           4
          ],
          [
           "Event Assistant ",
           5,
           4,
           4
          ],
          [
           "Event Assistant ",
           5,
           2,
           4
          ]
         ],
         "hovertemplate": "Position Type=Event Assistant <br>Start=%{base}<br>Finish=%{x}<br>Candidate Name=%{y}<br>Position=%{customdata[0]}<br>Experience=%{customdata[1]}<br>Language Skills=%{customdata[2]}<br>Presentation Skills=%{customdata[3]}<extra></extra>",
         "legendgroup": "Event Assistant ",
         "marker": {
          "color": "#19d3f3",
          "pattern": {
           "shape": ""
          }
         },
         "name": "Event Assistant ",
         "offsetgroup": "Event Assistant ",
         "orientation": "h",
         "showlegend": true,
         "textposition": "auto",
         "type": "bar",
         "x": [
          86400000,
          86400000,
          86400000,
          86400000,
          86400000,
          86400000,
          86400000
         ],
         "xaxis": "x",
         "y": [
          "Aubrey Davis",
          "Aubrey Davis",
          "Aubrey Davis",
          "Aubrey Davis",
          "Bárbara Silva",
          "Bárbara Silva",
          "Catarina Silva"
         ],
         "yaxis": "y"
        },
        {
         "alignmentgroup": "True",
         "base": [
          "2023-06-5",
          "2023-06-2",
          "2023-06-1",
          "2023-06-2"
         ],
         "customdata": [
          [
           "Information Assistant ",
           5,
           5,
           2
          ],
          [
           "Information Assistant (Hall 3B) ",
           5,
           5,
           2
          ],
          [
           "Information Assistant (Hall 3B) ",
           5,
           5,
           2
          ],
          [
           "Information Assistant ",
           5,
           2,
           4
          ]
         ],
         "hovertemplate": "Position Type=Information Assistant <br>Start=%{base}<br>Finish=%{x}<br>Candidate Name=%{y}<br>Position=%{customdata[0]}<br>Experience=%{customdata[1]}<br>Language Skills=%{customdata[2]}<br>Presentation Skills=%{customdata[3]}<extra></extra>",
         "legendgroup": "Information Assistant ",
         "marker": {
          "color": "#FF6692",
          "pattern": {
           "shape": ""
          }
         },
         "name": "Information Assistant ",
         "offsetgroup": "Information Assistant ",
         "orientation": "h",
         "showlegend": true,
         "textposition": "auto",
         "type": "bar",
         "x": [
          86400000,
          86400000,
          86400000,
          86400000
         ],
         "xaxis": "x",
         "y": [
          "Beatriz Sousa",
          "Beatriz Sousa",
          "Beatriz Sousa",
          "Catarina Silva"
         ],
         "yaxis": "y"
        }
       ],
       "layout": {
        "barmode": "overlay",
        "height": 1500,
        "legend": {
         "title": {
          "text": "Position Type"
         },
         "tracegroupgap": 0
        },
        "margin": {
         "t": 60
        },
        "template": {
         "data": {
          "bar": [
           {
            "error_x": {
             "color": "#2a3f5f"
            },
            "error_y": {
             "color": "#2a3f5f"
            },
            "marker": {
             "line": {
              "color": "#E5ECF6",
              "width": 0.5
             },
             "pattern": {
              "fillmode": "overlay",
              "size": 10,
              "solidity": 0.2
             }
            },
            "type": "bar"
           }
          ],
          "barpolar": [
           {
            "marker": {
             "line": {
              "color": "#E5ECF6",
              "width": 0.5
             },
             "pattern": {
              "fillmode": "overlay",
              "size": 10,
              "solidity": 0.2
             }
            },
            "type": "barpolar"
           }
          ],
          "carpet": [
           {
            "aaxis": {
             "endlinecolor": "#2a3f5f",
             "gridcolor": "white",
             "linecolor": "white",
             "minorgridcolor": "white",
             "startlinecolor": "#2a3f5f"
            },
            "baxis": {
             "endlinecolor": "#2a3f5f",
             "gridcolor": "white",
             "linecolor": "white",
             "minorgridcolor": "white",
             "startlinecolor": "#2a3f5f"
            },
            "type": "carpet"
           }
          ],
          "choropleth": [
           {
            "colorbar": {
             "outlinewidth": 0,
             "ticks": ""
            },
            "type": "choropleth"
           }
          ],
          "contour": [
           {
            "colorbar": {
             "outlinewidth": 0,
             "ticks": ""
            },
            "colorscale": [
             [
              0,
              "#0d0887"
             ],
             [
              0.1111111111111111,
              "#46039f"
             ],
             [
              0.2222222222222222,
              "#7201a8"
             ],
             [
              0.3333333333333333,
              "#9c179e"
             ],
             [
              0.4444444444444444,
              "#bd3786"
             ],
             [
              0.5555555555555556,
              "#d8576b"
             ],
             [
              0.6666666666666666,
              "#ed7953"
             ],
             [
              0.7777777777777778,
              "#fb9f3a"
             ],
             [
              0.8888888888888888,
              "#fdca26"
             ],
             [
              1,
              "#f0f921"
             ]
            ],
            "type": "contour"
           }
          ],
          "contourcarpet": [
           {
            "colorbar": {
             "outlinewidth": 0,
             "ticks": ""
            },
            "type": "contourcarpet"
           }
          ],
          "heatmap": [
           {
            "colorbar": {
             "outlinewidth": 0,
             "ticks": ""
            },
            "colorscale": [
             [
              0,
              "#0d0887"
             ],
             [
              0.1111111111111111,
              "#46039f"
             ],
             [
              0.2222222222222222,
              "#7201a8"
             ],
             [
              0.3333333333333333,
              "#9c179e"
             ],
             [
              0.4444444444444444,
              "#bd3786"
             ],
             [
              0.5555555555555556,
              "#d8576b"
             ],
             [
              0.6666666666666666,
              "#ed7953"
             ],
             [
              0.7777777777777778,
              "#fb9f3a"
             ],
             [
              0.8888888888888888,
              "#fdca26"
             ],
             [
              1,
              "#f0f921"
             ]
            ],
            "type": "heatmap"
           }
          ],
          "heatmapgl": [
           {
            "colorbar": {
             "outlinewidth": 0,
             "ticks": ""
            },
            "colorscale": [
             [
              0,
              "#0d0887"
             ],
             [
              0.1111111111111111,
              "#46039f"
             ],
             [
              0.2222222222222222,
              "#7201a8"
             ],
             [
              0.3333333333333333,
              "#9c179e"
             ],
             [
              0.4444444444444444,
              "#bd3786"
             ],
             [
              0.5555555555555556,
              "#d8576b"
             ],
             [
              0.6666666666666666,
              "#ed7953"
             ],
             [
              0.7777777777777778,
              "#fb9f3a"
             ],
             [
              0.8888888888888888,
              "#fdca26"
             ],
             [
              1,
              "#f0f921"
             ]
            ],
            "type": "heatmapgl"
           }
          ],
          "histogram": [
           {
            "marker": {
             "pattern": {
              "fillmode": "overlay",
              "size": 10,
              "solidity": 0.2
             }
            },
            "type": "histogram"
           }
          ],
          "histogram2d": [
           {
            "colorbar": {
             "outlinewidth": 0,
             "ticks": ""
            },
            "colorscale": [
             [
              0,
              "#0d0887"
             ],
             [
              0.1111111111111111,
              "#46039f"
             ],
             [
              0.2222222222222222,
              "#7201a8"
             ],
             [
              0.3333333333333333,
              "#9c179e"
             ],
             [
              0.4444444444444444,
              "#bd3786"
             ],
             [
              0.5555555555555556,
              "#d8576b"
             ],
             [
              0.6666666666666666,
              "#ed7953"
             ],
             [
              0.7777777777777778,
              "#fb9f3a"
             ],
             [
              0.8888888888888888,
              "#fdca26"
             ],
             [
              1,
              "#f0f921"
             ]
            ],
            "type": "histogram2d"
           }
          ],
          "histogram2dcontour": [
           {
            "colorbar": {
             "outlinewidth": 0,
             "ticks": ""
            },
            "colorscale": [
             [
              0,
              "#0d0887"
             ],
             [
              0.1111111111111111,
              "#46039f"
             ],
             [
              0.2222222222222222,
              "#7201a8"
             ],
             [
              0.3333333333333333,
              "#9c179e"
             ],
             [
              0.4444444444444444,
              "#bd3786"
             ],
             [
              0.5555555555555556,
              "#d8576b"
             ],
             [
              0.6666666666666666,
              "#ed7953"
             ],
             [
              0.7777777777777778,
              "#fb9f3a"
             ],
             [
              0.8888888888888888,
              "#fdca26"
             ],
             [
              1,
              "#f0f921"
             ]
            ],
            "type": "histogram2dcontour"
           }
          ],
          "mesh3d": [
           {
            "colorbar": {
             "outlinewidth": 0,
             "ticks": ""
            },
            "type": "mesh3d"
           }
          ],
          "parcoords": [
           {
            "line": {
             "colorbar": {
              "outlinewidth": 0,
              "ticks": ""
             }
            },
            "type": "parcoords"
           }
          ],
          "pie": [
           {
            "automargin": true,
            "type": "pie"
           }
          ],
          "scatter": [
           {
            "fillpattern": {
             "fillmode": "overlay",
             "size": 10,
             "solidity": 0.2
            },
            "type": "scatter"
           }
          ],
          "scatter3d": [
           {
            "line": {
             "colorbar": {
              "outlinewidth": 0,
              "ticks": ""
             }
            },
            "marker": {
             "colorbar": {
              "outlinewidth": 0,
              "ticks": ""
             }
            },
            "type": "scatter3d"
           }
          ],
          "scattercarpet": [
           {
            "marker": {
             "colorbar": {
              "outlinewidth": 0,
              "ticks": ""
             }
            },
            "type": "scattercarpet"
           }
          ],
          "scattergeo": [
           {
            "marker": {
             "colorbar": {
              "outlinewidth": 0,
              "ticks": ""
             }
            },
            "type": "scattergeo"
           }
          ],
          "scattergl": [
           {
            "marker": {
             "colorbar": {
              "outlinewidth": 0,
              "ticks": ""
             }
            },
            "type": "scattergl"
           }
          ],
          "scattermapbox": [
           {
            "marker": {
             "colorbar": {
              "outlinewidth": 0,
              "ticks": ""
             }
            },
            "type": "scattermapbox"
           }
          ],
          "scatterpolar": [
           {
            "marker": {
             "colorbar": {
              "outlinewidth": 0,
              "ticks": ""
             }
            },
            "type": "scatterpolar"
           }
          ],
          "scatterpolargl": [
           {
            "marker": {
             "colorbar": {
              "outlinewidth": 0,
              "ticks": ""
             }
            },
            "type": "scatterpolargl"
           }
          ],
          "scatterternary": [
           {
            "marker": {
             "colorbar": {
              "outlinewidth": 0,
              "ticks": ""
             }
            },
            "type": "scatterternary"
           }
          ],
          "surface": [
           {
            "colorbar": {
             "outlinewidth": 0,
             "ticks": ""
            },
            "colorscale": [
             [
              0,
              "#0d0887"
             ],
             [
              0.1111111111111111,
              "#46039f"
             ],
             [
              0.2222222222222222,
              "#7201a8"
             ],
             [
              0.3333333333333333,
              "#9c179e"
             ],
             [
              0.4444444444444444,
              "#bd3786"
             ],
             [
              0.5555555555555556,
              "#d8576b"
             ],
             [
              0.6666666666666666,
              "#ed7953"
             ],
             [
              0.7777777777777778,
              "#fb9f3a"
             ],
             [
              0.8888888888888888,
              "#fdca26"
             ],
             [
              1,
              "#f0f921"
             ]
            ],
            "type": "surface"
           }
          ],
          "table": [
           {
            "cells": {
             "fill": {
              "color": "#EBF0F8"
             },
             "line": {
              "color": "white"
             }
            },
            "header": {
             "fill": {
              "color": "#C8D4E3"
             },
             "line": {
              "color": "white"
             }
            },
            "type": "table"
           }
          ]
         },
         "layout": {
          "annotationdefaults": {
           "arrowcolor": "#2a3f5f",
           "arrowhead": 0,
           "arrowwidth": 1
          },
          "autotypenumbers": "strict",
          "coloraxis": {
           "colorbar": {
            "outlinewidth": 0,
            "ticks": ""
           }
          },
          "colorscale": {
           "diverging": [
            [
             0,
             "#8e0152"
            ],
            [
             0.1,
             "#c51b7d"
            ],
            [
             0.2,
             "#de77ae"
            ],
            [
             0.3,
             "#f1b6da"
            ],
            [
             0.4,
             "#fde0ef"
            ],
            [
             0.5,
             "#f7f7f7"
            ],
            [
             0.6,
             "#e6f5d0"
            ],
            [
             0.7,
             "#b8e186"
            ],
            [
             0.8,
             "#7fbc41"
            ],
            [
             0.9,
             "#4d9221"
            ],
            [
             1,
             "#276419"
            ]
           ],
           "sequential": [
            [
             0,
             "#0d0887"
            ],
            [
             0.1111111111111111,
             "#46039f"
            ],
            [
             0.2222222222222222,
             "#7201a8"
            ],
            [
             0.3333333333333333,
             "#9c179e"
            ],
            [
             0.4444444444444444,
             "#bd3786"
            ],
            [
             0.5555555555555556,
             "#d8576b"
            ],
            [
             0.6666666666666666,
             "#ed7953"
            ],
            [
             0.7777777777777778,
             "#fb9f3a"
            ],
            [
             0.8888888888888888,
             "#fdca26"
            ],
            [
             1,
             "#f0f921"
            ]
           ],
           "sequentialminus": [
            [
             0,
             "#0d0887"
            ],
            [
             0.1111111111111111,
             "#46039f"
            ],
            [
             0.2222222222222222,
             "#7201a8"
            ],
            [
             0.3333333333333333,
             "#9c179e"
            ],
            [
             0.4444444444444444,
             "#bd3786"
            ],
            [
             0.5555555555555556,
             "#d8576b"
            ],
            [
             0.6666666666666666,
             "#ed7953"
            ],
            [
             0.7777777777777778,
             "#fb9f3a"
            ],
            [
             0.8888888888888888,
             "#fdca26"
            ],
            [
             1,
             "#f0f921"
            ]
           ]
          },
          "colorway": [
           "#636efa",
           "#EF553B",
           "#00cc96",
           "#ab63fa",
           "#FFA15A",
           "#19d3f3",
           "#FF6692",
           "#B6E880",
           "#FF97FF",
           "#FECB52"
          ],
          "font": {
           "color": "#2a3f5f"
          },
          "geo": {
           "bgcolor": "white",
           "lakecolor": "white",
           "landcolor": "#E5ECF6",
           "showlakes": true,
           "showland": true,
           "subunitcolor": "white"
          },
          "hoverlabel": {
           "align": "left"
          },
          "hovermode": "closest",
          "mapbox": {
           "style": "light"
          },
          "paper_bgcolor": "white",
          "plot_bgcolor": "#E5ECF6",
          "polar": {
           "angularaxis": {
            "gridcolor": "white",
            "linecolor": "white",
            "ticks": ""
           },
           "bgcolor": "#E5ECF6",
           "radialaxis": {
            "gridcolor": "white",
            "linecolor": "white",
            "ticks": ""
           }
          },
          "scene": {
           "xaxis": {
            "backgroundcolor": "#E5ECF6",
            "gridcolor": "white",
            "gridwidth": 2,
            "linecolor": "white",
            "showbackground": true,
            "ticks": "",
            "zerolinecolor": "white"
           },
           "yaxis": {
            "backgroundcolor": "#E5ECF6",
            "gridcolor": "white",
            "gridwidth": 2,
            "linecolor": "white",
            "showbackground": true,
            "ticks": "",
            "zerolinecolor": "white"
           },
           "zaxis": {
            "backgroundcolor": "#E5ECF6",
            "gridcolor": "white",
            "gridwidth": 2,
            "linecolor": "white",
            "showbackground": true,
            "ticks": "",
            "zerolinecolor": "white"
           }
          },
          "shapedefaults": {
           "line": {
            "color": "#2a3f5f"
           }
          },
          "ternary": {
           "aaxis": {
            "gridcolor": "white",
            "linecolor": "white",
            "ticks": ""
           },
           "baxis": {
            "gridcolor": "white",
            "linecolor": "white",
            "ticks": ""
           },
           "bgcolor": "#E5ECF6",
           "caxis": {
            "gridcolor": "white",
            "linecolor": "white",
            "ticks": ""
           }
          },
          "title": {
           "x": 0.05
          },
          "xaxis": {
           "automargin": true,
           "gridcolor": "white",
           "linecolor": "white",
           "ticks": "",
           "title": {
            "standoff": 15
           },
           "zerolinecolor": "white",
           "zerolinewidth": 2
          },
          "yaxis": {
           "automargin": true,
           "gridcolor": "white",
           "linecolor": "white",
           "ticks": "",
           "title": {
            "standoff": 15
           },
           "zerolinecolor": "white",
           "zerolinewidth": 2
          }
         }
        },
        "xaxis": {
         "anchor": "y",
         "domain": [
          0,
          1
         ],
         "type": "date"
        },
        "yaxis": {
         "anchor": "x",
         "autorange": "reversed",
         "categoryarray": [
          "Abigail Perez",
          "Abigail Perez",
          "Abigail Perez",
          "Abigail Perez",
          "Abigail Perez",
          "Abigail Perez",
          "Adam Mitchell",
          "Adam Mitchell",
          "Adam Mitchell",
          "Adam Mitchell",
          "Adam Mitchell",
          "Addison Johnson",
          "Addison Johnson",
          "Addison Johnson",
          "Afonso Costa",
          "Afonso Costa",
          "Afonso Costa",
          "Afonso Costa",
          "Afonso Costa",
          "Afonso Costa",
          "Afonso Pereira",
          "Afonso Pereira",
          "Afonso Pereira",
          "Afonso Pereira",
          "Afonso Pereira",
          "Afonso Pereira",
          "Afonso Pereira",
          "Alexander Anderson",
          "Alexander Anderson",
          "Alexander Anderson",
          "Alexander Anderson",
          "Alexander Anderson",
          "Alexander Anderson",
          "Alexander Thompson",
          "Alexander Thompson",
          "Alexander Thompson",
          "Alexander Thompson",
          "Alexander Thompson",
          "Alexander Thompson",
          "Alexandra Campbell",
          "Alexandra Campbell",
          "Alexandra Campbell",
          "Alexandra Campbell",
          "Alexandra Campbell",
          "Alexandra Campbell",
          "Alexandra Campbell",
          "Alexandre Martins",
          "Alexandre Martins",
          "Alexandre Martins",
          "Alexandre Martins",
          "Alexandre Martins",
          "Alexandre Martins",
          "Alexandre Martins",
          "Alexandre Silva",
          "Alexandre Silva",
          "Alexandre Silva",
          "Alexandre Silva",
          "Alexandre Silva",
          "Alexandre Silva",
          "Alexandre Silva",
          "Amelia Taylor",
          "Amelia Taylor",
          "Amelia Taylor",
          "Amelia Taylor",
          "Amelia Taylor",
          "Amelia Taylor",
          "Amelia Taylor",
          "Ana Beatriz Ferreira",
          "Ana Beatriz Ferreira",
          "Ana Beatriz Ferreira",
          "Ana Beatriz Ferreira",
          "Ana Beatriz Ferreira",
          "Ana Beatriz Ferreira",
          "Ana Beatriz Ferreira",
          "Ana Carvalho",
          "Ana Carvalho",
          "Ana Carvalho",
          "Ana Carvalho",
          "Ana Carvalho",
          "Ana Carvalho",
          "Ana Carvalho",
          "Ana Costa",
          "Ana Costa",
          "Ana Costa",
          "Ana Costa",
          "Ana Costa",
          "Ana Costa",
          "Ana Costa",
          "Ana Ferreira",
          "Ana Ferreira",
          "Ana Ferreira",
          "Ana Ferreira",
          "Ana Ferreira",
          "Ana Gonçalves",
          "Ana Gonçalves",
          "Ana Gonçalves",
          "Ana Gonçalves",
          "Ana Gonçalves",
          "Ana Gonçalves",
          "Ana Gonçalves",
          "Ana Martins",
          "Ana Martins",
          "Ana Martins",
          "Ana Martins",
          "Ana Nunes",
          "Ana Nunes",
          "Ana Nunes",
          "Ana Nunes",
          "Ana Nunes",
          "Ana Nunes",
          "Ana Nunes",
          "Ana Paula Ferreira",
          "Ana Paula Ferreira",
          "Ana Paula Ferreira",
          "Ana Paula Ferreira",
          "Ana Paula Ferreira",
          "Ana Paula Ferreira",
          "Ana Paula Ferreira",
          "Ana Paula Ferreira",
          "Ana Pires",
          "Ana Pires",
          "Ana Rodrigues",
          "Ana Rodrigues",
          "Ana Rodrigues",
          "Ana Rodrigues",
          "Ana Rodrigues",
          "Ana Rodrigues",
          "Ana Santos",
          "Ana Santos",
          "Ana Santos",
          "Ana Santos",
          "Ana Santos",
          "Ana Santos",
          "Ana Santos",
          "Ana Sousa",
          "Ana Sousa",
          "Ana Sousa",
          "Ana Sousa",
          "Ana Sousa",
          "Ana Sousa",
          "Andrew Moore",
          "Andrew Moore",
          "Andrew Moore",
          "Andrew Moore",
          "Andrew Moore",
          "Andrew Moore",
          "André Castro",
          "André Castro",
          "André Castro",
          "André Castro",
          "André Castro",
          "André Castro",
          "André Castro",
          "André Fernandes",
          "André Fernandes",
          "André Fernandes",
          "André Fernandes",
          "André Fernandes",
          "André Fernandes",
          "André Fernandes",
          "André Fernandes",
          "André Luís Silva",
          "André Luís Silva",
          "André Luís Silva",
          "André Luís Silva",
          "André Luís Silva",
          "André Mendes",
          "André Mendes",
          "André Mendes",
          "André Mendes",
          "André Mendes",
          "André Mendes",
          "André Santos",
          "André Santos",
          "André Santos",
          "Andréia Santos",
          "Andréia Santos",
          "Andréia Santos",
          "Andréia Santos",
          "Andréia Santos",
          "Andréia Santos",
          "António Costa",
          "António Costa",
          "António Costa",
          "António Costa",
          "António Pereira",
          "António Pereira",
          "António Pereira",
          "António Pereira",
          "António Pereira",
          "Aria Wright",
          "Aria Wright",
          "Aria Wright",
          "Aria Wright",
          "Aria Wright",
          "Aria Wright",
          "Aria Wright",
          "Arianna Hernandez",
          "Arianna Hernandez",
          "Arianna Hernandez",
          "Arianna Hernandez",
          "Arianna Hernandez",
          "Arianna Hernandez",
          "Arianna Hernandez",
          "Arianna Peterson",
          "Aubrey Davis",
          "Aubrey Davis",
          "Aubrey Davis",
          "Aubrey Davis",
          "Aubrey Davis",
          "Autumn Davis",
          "Autumn Davis",
          "Ava Martinez",
          "Ava Martinez",
          "Ava Martinez",
          "Ava Martinez",
          "Ava Martinez",
          "Ava Martinez",
          "Ava Roberts",
          "Ava Roberts",
          "Ava Roberts",
          "Ava Roberts",
          "Avery Green",
          "Avery Green",
          "Avery Green",
          "Beatriz Costa",
          "Beatriz Costa",
          "Beatriz Ferreira",
          "Beatriz Ferreira",
          "Beatriz Ferreira",
          "Beatriz Ferreira",
          "Beatriz Ferreira",
          "Beatriz Oliveira",
          "Beatriz Rodrigues",
          "Beatriz Rodrigues",
          "Beatriz Rodrigues",
          "Beatriz Rodrigues",
          "Beatriz Rodrigues",
          "Beatriz Rodrigues",
          "Beatriz Rodrigues",
          "Beatriz Santos",
          "Beatriz Santos",
          "Beatriz Santos",
          "Beatriz Santos",
          "Beatriz Santos",
          "Beatriz Sousa",
          "Beatriz Sousa",
          "Beatriz Sousa",
          "Benjamin Nelson",
          "Benjamin Nelson",
          "Benjamin Nelson",
          "Benjamin Nelson",
          "Benjamin Nelson",
          "Benjamin Nelson",
          "Bernardo Barbosa",
          "Bernardo Barbosa",
          "Bernardo Barbosa",
          "Bernardo Barbosa",
          "Bernardo Ferreira",
          "Bernardo Soares",
          "Bernardo Soares",
          "Bernardo Soares",
          "Bernardo Soares",
          "Bernardo Soares",
          "Bernardo Soares",
          "Brooklyn Lee",
          "Brooklyn Lee",
          "Brooklyn Lee",
          "Brooklyn Lee",
          "Brooklyn Lee",
          "Brooklyn Lee",
          "Bruna Oliveira",
          "Bruna Oliveira",
          "Bruna Oliveira",
          "Bruna Oliveira",
          "Bruna Oliveira",
          "Bruna Oliveira",
          "Bruna Oliveira",
          "Bruno Almeida",
          "Bruno Almeida",
          "Bruno Almeida",
          "Bruno Almeida",
          "Bruno Almeida",
          "Bruno Almeida",
          "Bruno Almeida",
          "Bruno Almeida",
          "Bruno Rodrigues",
          "Bruno Rodrigues",
          "Bruno Rodrigues",
          "Bruno Rodrigues",
          "Bruno Rodrigues",
          "Bruno Rodrigues",
          "Bárbara Silva",
          "Bárbara Silva",
          "Bárbara Silva",
          "Bárbara Silva",
          "Bárbara Silva",
          "Bárbara Silva",
          "Caleb Green",
          "Caleb Green",
          "Caleb Green",
          "Caleb Green",
          "Caleb Green",
          "Caleb Turner",
          "Caleb Turner",
          "Caleb Turner",
          "Caleb Turner",
          "Caleb Turner",
          "Caleb Turner",
          "Camila Santos",
          "Camila Santos",
          "Camila Santos",
          "Camila Santos",
          "Camila Santos",
          "Camila Santos",
          "Candidate Name",
          "Candidate Name",
          "Candidate Name",
          "Candidate Name",
          "Candidate Name",
          "Candidate Name",
          "Carolina Alves",
          "Carolina Alves",
          "Carolina Alves",
          "Carolina Alves",
          "Carolina Alves",
          "Carolina Carvalho",
          "Carolina Carvalho",
          "Carolina Carvalho",
          "Carolina Carvalho",
          "Carolina Carvalho",
          "Carolina Carvalho",
          "Carolina Carvalho",
          "Carolina Costa",
          "Carolina Costa",
          "Carolina Costa",
          "Carolina Costa",
          "Carolina Costa",
          "Carolina Fernandes",
          "Carolina Fernandes",
          "Carolina Fernandes",
          "Carolina Fernandes",
          "Carolina Fernandes",
          "Carolina Fernandes",
          "Carolina Fernandes",
          "Carolina Fernandes",
          "Carolina Fernandes",
          "Carolina Lima",
          "Carolina Lima",
          "Carolina Lima",
          "Carolina Lourenço",
          "Carolina Lourenço",
          "Carolina Lourenço",
          "Carolina Lourenço",
          "Carolina Lourenço",
          "Carolina Nunes",
          "Carolina Nunes",
          "Carolina Nunes",
          "Carolina Nunes",
          "Carolina Nunes",
          "Carolina Nunes",
          "Carolina Nunes",
          "Carolina Pires",
          "Carolina Pires",
          "Carolina Pires",
          "Carolina Rodrigues",
          "Carolina Rodrigues",
          "Carolina Rodrigues",
          "Carolina Rodrigues",
          "Carolina Teixeira",
          "Carolina Teixeira",
          "Carolina Teixeira",
          "Carolina Teixeira",
          "Carolina Teixeira",
          "Catarina Martins",
          "Catarina Martins",
          "Catarina Martins",
          "Catarina Oliveira",
          "Catarina Oliveira",
          "Catarina Oliveira",
          "Catarina Oliveira",
          "Catarina Oliveira",
          "Catarina Silva",
          "Catarina Silva",
          "Catarina Silva",
          "Catarina Silva",
          "Catarina Silva",
          "Charlotte Garcia",
          "Charlotte Garcia",
          "Charlotte Garcia",
          "Charlotte Garcia",
          "Charlotte Garcia",
          "Charlotte Garcia",
          "Charlotte Garcia",
          "Charlotte Garcia",
          "Charlotte Turner",
          "Charlotte Turner",
          "Charlotte Turner",
          "Charlotte Turner",
          "Chloe Young",
          "Chloe Young",
          "Chloe Young",
          "Christian Collins",
          "Christian Collins",
          "Christian Collins",
          "Christian Collins",
          "Christian Collins",
          "Christian Collins",
          "Christopher Baker",
          "Christopher Baker",
          "Christopher Baker",
          "Christopher Baker",
          "Christopher Baker",
          "Christopher Baker",
          "Colton Wright",
          "Colton Wright",
          "Colton Wright",
          "Colton Wright",
          "Daniel Wright",
          "Daniel Wright",
          "Daniel Wright",
          "Daniel Wright",
          "Daniel Wright",
          "Daniela Ribeiro",
          "Daniela Ribeiro",
          "Daniela Ribeiro",
          "Daniela Ribeiro",
          "Daniela Ribeiro",
          "David Fernandes",
          "David Fernandes",
          "David Fernandes",
          "David Fernandes",
          "David Fernandes",
          "David Lopes",
          "David Lopes",
          "David Lopes",
          "David Lopes",
          "David Mitchell",
          "David Mitchell",
          "David Mitchell",
          "David Mitchell",
          "David Mitchell",
          "David Mitchell",
          "David Pereira",
          "David Pereira",
          "David Pereira",
          "David Pereira",
          "David Pereira",
          "David Wilson",
          "David Wilson",
          "David Wilson",
          "David Wilson",
          "David Wilson",
          "David Wilson",
          "Diana Costa",
          "Diana Costa",
          "Diana Costa",
          "Diana Costa",
          "Diana Costa",
          "Diana Fernandes",
          "Diana Fernandes",
          "Diana Fernandes",
          "Diana Fernandes",
          "Diana Fernandes",
          "Diana Fernandes",
          "Diana Rodrigues",
          "Diogo Costa",
          "Diogo Costa",
          "Diogo Costa",
          "Diogo Costa",
          "Diogo Costa",
          "Diogo Costa",
          "Diogo Cunha",
          "Diogo Cunha",
          "Diogo Cunha",
          "Diogo Cunha",
          "Diogo Cunha",
          "Diogo Oliveira",
          "Diogo Oliveira",
          "Diogo Oliveira",
          "Diogo Oliveira",
          "Diogo Oliveira",
          "Diogo Oliveira",
          "Diogo Oliveira",
          "Diogo Oliveira",
          "Diogo Pereira",
          "Diogo Pereira",
          "Diogo Pereira",
          "Diogo Pereira",
          "Diogo Pereira",
          "Duarte Alves",
          "Duarte Alves",
          "Duarte Alves",
          "Duarte Alves",
          "Duarte Alves",
          "Duarte Martins",
          "Duarte Martins",
          "Duarte Martins",
          "Duarte Martins",
          "Duarte Martins",
          "Duarte Pereira",
          "Duarte Pereira",
          "Duarte Pereira",
          "Duarte Pinto",
          "Duarte Pinto",
          "Duarte Pinto",
          "Duarte Pinto",
          "Duarte Pinto",
          "Dylan Hernandez",
          "Dylan Hernandez",
          "Dylan Hernandez",
          "Dylan Hernandez",
          "Dylan Hernandez",
          "Dylan Hernandez",
          "Eduardo Silva",
          "Eduardo Silva",
          "Eduardo Silva",
          "Eduardo Silva",
          "Eduardo Silva",
          "Eduardo Silva",
          "Eduardo Sousa",
          "Eduardo Sousa",
          "Eduardo Sousa",
          "Eduardo Sousa",
          "Eduardo Sousa",
          "Eduardo Sousa",
          "Eduardo Sousa",
          "Eli Wright",
          "Eli Wright",
          "Eli Wright",
          "Eli Wright",
          "Eli Wright",
          "Elijah Campbell",
          "Elijah Campbell",
          "Elijah Campbell",
          "Elijah Campbell",
          "Elijah Campbell",
          "Elizabeth Adams",
          "Elizabeth Adams",
          "Elizabeth Adams",
          "Elizabeth Adams",
          "Ellie Turner",
          "Ellie Turner",
          "Ellie Turner",
          "Ellie Turner",
          "Ellie Turner",
          "Ellie Turner",
          "Emily Martin",
          "Emily Martin",
          "Emily Martin",
          "Emily Martin",
          "Emily Martin",
          "Emma Carter",
          "Emma Carter",
          "Emma Carter",
          "Emma Carter",
          "Emma Carter",
          "Ethan Flores",
          "Ethan Flores",
          "Ethan Flores",
          "Ethan Flores",
          "Ethan Jones",
          "Ethan Jones",
          "Ethan Jones",
          "Ethan Jones",
          "Eva Nelson",
          "Eva Nelson",
          "Eva Nelson",
          "Eva Nelson",
          "Eva Nelson",
          "Eva Scott",
          "Eva Scott",
          "Filipa Carvalho",
          "Filipa Carvalho",
          "Filipa Carvalho",
          "Filipa Carvalho",
          "Filipa Carvalho",
          "Filipa Carvalho",
          "Filipa Rodrigues",
          "Filipa Rodrigues",
          "Filipa Rodrigues",
          "Filipa Rodrigues",
          "Filipa Rodrigues",
          "Filipe Carvalho",
          "Filipe Carvalho",
          "Filipe Carvalho",
          "Filipe Carvalho",
          "Filipe Carvalho",
          "Filipe Ramos",
          "Filipe Ramos",
          "Francisca Castro",
          "Francisca Castro",
          "Francisca Castro",
          "Francisca Castro",
          "Francisca Ferreira",
          "Francisca Ferreira",
          "Francisca Ferreira",
          "Francisca Ferreira",
          "Francisca Ferreira",
          "Francisca Ferreira",
          "Francisca Ferreira",
          "Francisca Oliveira",
          "Francisca Oliveira",
          "Francisca Oliveira",
          "Francisca Oliveira",
          "Francisco Alves",
          "Francisco Alves",
          "Francisco Alves",
          "Francisco Alves",
          "Francisco Alves",
          "Francisco Alves",
          "Francisco Alves",
          "Francisco Fernandes",
          "Francisco Fernandes",
          "Francisco Fernandes",
          "Francisco Fernandes",
          "Francisco Fernandes",
          "Francisco Fernandes",
          "Francisco Fernandes",
          "Francisco Fernandes",
          "Francisco Ferreira",
          "Francisco Ferreira",
          "Francisco Ferreira",
          "Francisco Ferreira",
          "Francisco Ferreira",
          "Francisco Ferreira",
          "Francisco Ferreira",
          "Francisco Lopes",
          "Francisco Lopes",
          "Francisco Lopes",
          "Francisco Pinto",
          "Francisco Pinto",
          "Francisco Pinto",
          "Francisco Pinto",
          "Francisco Pinto",
          "Francisco Pinto",
          "Francisco Rodrigues",
          "Francisco Rodrigues",
          "Francisco Rodrigues",
          "Francisco Rodrigues",
          "Francisco Rodrigues",
          "Francisco Santos",
          "Francisco Santos",
          "Francisco Santos",
          "Francisco Santos",
          "Francisco Santos",
          "Francisco Santos",
          "Francisco Santos",
          "Francisco Sousa",
          "Francisco Sousa",
          "Francisco Sousa",
          "Francisco Sousa",
          "Francisco Sousa",
          "Francisco Sousa",
          "Gabriel Costa",
          "Gabriel Costa",
          "Gabriel Ferreira",
          "Gabriel Ferreira",
          "Gabriel Ferreira",
          "Gabriel Ferreira",
          "Gabriel Ferreira",
          "Gabriel Ferreira",
          "Gabriel Ferreira",
          "Gabriel Santos",
          "Gabriel Santos",
          "Gabriel Santos",
          "Gabriel Santos",
          "Gabriel Santos",
          "Gabriel Santos",
          "Gabriel Santos",
          "Gabriel Santos",
          "Gabriel Sousa",
          "Gabriel Sousa",
          "Gabriel Sousa",
          "Gabriel Sousa",
          "Gabriel Turner",
          "Gabriel Turner",
          "Gabriel Turner",
          "Gabriel Turner",
          "Gabriel Turner",
          "Gabriel Turner",
          "Gabriel Turner",
          "Gonçalo Castro",
          "Gonçalo Castro",
          "Gonçalo Castro",
          "Gonçalo Castro",
          "Gonçalo Castro",
          "Gonçalo Castro",
          "Gonçalo Castro",
          "Gonçalo Castro",
          "Gonçalo Ferreira",
          "Gonçalo Ferreira",
          "Gonçalo Ferreira",
          "Gonçalo Ferreira",
          "Gonçalo Ferreira",
          "Gonçalo Ferreira",
          "Gonçalo Ferreira",
          "Gonçalo Martins",
          "Gonçalo Martins",
          "Gonçalo Martins",
          "Gonçalo Martins",
          "Gonçalo Martins",
          "Gonçalo Martins",
          "Gonçalo Martins",
          "Gonçalo Oliveira",
          "Gonçalo Oliveira",
          "Gonçalo Oliveira",
          "Gonçalo Oliveira",
          "Gonçalo Oliveira",
          "Gonçalo Oliveira",
          "Gonçalo Oliveira",
          "Gonçalo Pereira",
          "Grace Turner",
          "Grace Turner",
          "Grace Turner",
          "Grace Turner",
          "Grace Turner",
          "Guilherme Silva",
          "Guilherme Silva",
          "Guilherme Silva",
          "Guilherme Silva",
          "Guilherme Silva",
          "Guilherme Sousa",
          "Guilherme Sousa",
          "Guilherme Sousa",
          "Guilherme Sousa",
          "Gustavo Ribeiro",
          "Gustavo Ribeiro",
          "Gustavo Ribeiro",
          "Gustavo Ribeiro",
          "Gustavo Silva",
          "Gustavo Silva",
          "Harper Johnson",
          "Harper Johnson",
          "Harper Johnson",
          "Harper Johnson",
          "Harper Johnson",
          "Harper Johnson",
          "Harper Scott",
          "Harper Scott",
          "Harper Scott",
          "Henrique Pereira",
          "Henrique Pereira",
          "Henrique Pereira",
          "Henrique Pereira",
          "Henrique Pereira",
          "Inês Almeida",
          "Inês Almeida",
          "Inês Almeida",
          "Inês Martins",
          "Inês Martins",
          "Inês Martins",
          "Inês Martins",
          "Inês Martins",
          "Inês Martins",
          "Inês Pinto",
          "Inês Pinto",
          "Inês Pinto",
          "Inês Pinto",
          "Inês Pinto",
          "Inês Pinto",
          "Inês Pinto",
          "Inês Pinto",
          "Inês Ribeiro",
          "Inês Ribeiro",
          "Inês Ribeiro",
          "Inês Ribeiro",
          "Inês Ribeiro",
          "Inês Ribeiro",
          "Inês Ribeiro",
          "Isaac Jackson",
          "Isaac Jackson",
          "Isaac Jackson",
          "Isaac Jackson",
          "Isaac Jackson",
          "Isaac Jackson",
          "Isaac Jackson",
          "Isabela Costa",
          "Isabela Costa",
          "Isabela Costa",
          "Isabela Costa",
          "Isabela Costa",
          "Isabela Costa",
          "Isabela Costa",
          "Isabella Jackson",
          "Isabella Jackson",
          "Isabella Jackson",
          "Isabella Jackson",
          "Isabella Jackson",
          "Isabella Jackson",
          "Isabella Mitchell",
          "Isabella Mitchell",
          "Isabella Mitchell",
          "Isabella Mitchell",
          "Isabella Mitchell",
          "Isabelle Adams",
          "Isaiah Hernandez",
          "Isaiah Hernandez",
          "Isaiah Hernandez",
          "Isaiah Hernandez",
          "Isaiah Hernandez",
          "Jack Edwards",
          "Jack Edwards",
          "Jack Edwards",
          "Jack Edwards",
          "Jack Edwards",
          "Jacob Campbell",
          "Jacob Campbell",
          "Jacob Campbell",
          "Jacob Campbell",
          "James Lee",
          "James Lee",
          "James Lee",
          "James Lee",
          "James Lee",
          "Joana Nunes",
          "Jonathan King",
          "Jonathan King",
          "Jonathan King",
          "Jonathan King",
          "Jonathan King",
          "Jonathan King",
          "Jonathan King",
          "Jonathan Scott",
          "Jonathan Scott",
          "Jonathan Scott",
          "Jonathan Scott",
          "Jonathan Scott",
          "Jonathan Scott",
          "Joseph Hall",
          "Joseph Hall",
          "Joseph Hall",
          "Joseph Hall",
          "Joseph Hall",
          "Joseph Wright",
          "Joseph Wright",
          "Joseph Wright",
          "Joseph Wright",
          "Joshua Hill",
          "Joshua Hill",
          "Joshua Hill",
          "Joshua Hill",
          "Joshua Hill",
          "Joshua Hill",
          "José Carlos Oliveira",
          "José Carlos Oliveira",
          "José Carlos Oliveira",
          "José Carlos Oliveira",
          "José Carlos Oliveira",
          "José Carlos Oliveira",
          "José Carlos Oliveira",
          "José Carvalho",
          "José Carvalho",
          "José Carvalho",
          "José Carvalho",
          "José Carvalho",
          "José Carvalho",
          "José Carvalho",
          "José Carvalho",
          "José Rodrigues",
          "José Rodrigues",
          "José Rodrigues",
          "José Rodrigues",
          "José Rodrigues",
          "José Rodrigues",
          "João Pedro Almeida",
          "João Pedro Almeida",
          "João Pedro Almeida",
          "João Pedro Almeida",
          "João Pedro Almeida",
          "João Silva",
          "João Silva",
          "João Silva",
          "João Silva",
          "João Silva",
          "João Silva",
          "João Silva",
          "Julia Martinez",
          "Julia Martinez",
          "Julia Martinez",
          "Julia Martinez",
          "Justin Taylor",
          "Justin Taylor",
          "Justin Taylor",
          "Justin Taylor",
          "Justin Taylor",
          "Justin Taylor",
          "Júlia Costa",
          "Júlia Costa",
          "Júlia Costa",
          "Júlia Costa",
          "Júlia Costa",
          "Lara Costa",
          "Lara Costa",
          "Lara Costa",
          "Lara Costa",
          "Lara Costa",
          "Lara Costa",
          "Lara Costa",
          "Lara Silva",
          "Lara Silva",
          "Lara Silva",
          "Lara Silva",
          "Lara Silva",
          "Lara Silva",
          "Laura Santos",
          "Laura Santos",
          "Laura Santos",
          "Laura Santos",
          "Laura Santos",
          "Laura Santos",
          "Laura Santos",
          "Laura Vieira",
          "Laura Vieira",
          "Laura Vieira",
          "Laura Vieira",
          "Laura Vieira",
          "Laura Vieira",
          "Leah Johnson",
          "Leah Johnson",
          "Leah Johnson",
          "Leah Johnson",
          "Leah Johnson",
          "Leah Johnson",
          "Leah Johnson",
          "Leah Johnson",
          "Leah Johnson",
          "Leonor Costa",
          "Leonor Costa",
          "Leonor Mendes",
          "Leonor Mendes",
          "Leonor Mendes",
          "Leonor Mendes",
          "Leonor Mendes",
          "Leonor Pereira",
          "Leonor Pereira",
          "Leonor Pereira",
          "Leonor Pereira",
          "Leonor Pereira",
          "Leonor Ribeiro",
          "Leonor Ribeiro",
          "Leonor Ribeiro",
          "Leonor Ribeiro",
          "Leonor Ribeiro",
          "Leonor Sousa",
          "Leonor Sousa",
          "Leonor Sousa",
          "Leonor Sousa",
          "Leonor Sousa",
          "Leonor Sousa",
          "Leonor Sousa",
          "Liam Davis",
          "Liam Davis",
          "Liam Davis",
          "Liam Davis",
          "Lily Taylor",
          "Lily Taylor",
          "Lily Taylor",
          "Lily Taylor",
          "Lily Taylor",
          "Logan Davis",
          "Logan Davis",
          "Logan Davis",
          "Logan Davis",
          "Logan Davis",
          "Logan Davis",
          "Lucas Alves",
          "Lucas Alves",
          "Lucas Alves",
          "Lucas Barbosa",
          "Lucas Barbosa",
          "Lucas Barbosa",
          "Lucas Barbosa",
          "Lucas Barbosa",
          "Lucas Carvalho",
          "Lucas Carvalho",
          "Lucas Carvalho",
          "Lucas Carvalho",
          "Lucas Carvalho",
          "Lucas Carvalho",
          "Lucas Green",
          "Lucas Green",
          "Lucas Green",
          "Lucas Green",
          "Lucas Green",
          "Lucas Green",
          "Lucas Green",
          "Luke Collins",
          "Luke Collins",
          "Luke Collins",
          "Luke Collins",
          "Luís Costa",
          "Luís Costa",
          "Luís Ferreira",
          "Luís Ferreira",
          "Luís Ferreira",
          "Luís Ferreira",
          "Luísa Fernandes",
          "Luísa Fernandes",
          "Luísa Fernandes",
          "Luísa Fernandes",
          "Luísa Fernandes",
          "Luísa Fernandes",
          "Lídia Sousa",
          "Lídia Sousa",
          "Lídia Sousa",
          "Lídia Sousa",
          "Lídia Sousa",
          "Lídia Sousa",
          "Madalena Ferreira",
          "Madalena Ferreira",
          "Madalena Ferreira",
          "Madalena Ferreira",
          "Madalena Lima",
          "Madalena Oliveira",
          "Madalena Oliveira",
          "Madalena Oliveira",
          "Madalena Oliveira",
          "Madalena Oliveira",
          "Madalena Oliveira",
          "Madalena Oliveira",
          "Madalena Ribeiro",
          "Madalena Ribeiro",
          "Madalena Ribeiro",
          "Madalena Ribeiro",
          "Madalena Ribeiro",
          "Madelyn Brown",
          "Madelyn Brown",
          "Madelyn Brown",
          "Madelyn Brown",
          "Madelyn Brown",
          "Madison Allen",
          "Madison Allen",
          "Madison Allen",
          "Madison Allen",
          "Madison Allen",
          "Madison Allen",
          "Madison Allen",
          "Mafalda Cruz",
          "Mafalda Cruz",
          "Mafalda Cruz",
          "Mafalda Cruz",
          "Mafalda Ferreira",
          "Mafalda Ferreira",
          "Mafalda Ferreira",
          "Mafalda Ferreira",
          "Mafalda Ferreira",
          "Mafalda Ribeiro",
          "Mafalda Ribeiro",
          "Mafalda Ribeiro",
          "Mafalda Ribeiro",
          "Mafalda Santos",
          "Mafalda Santos",
          "Mafalda Santos",
          "Mafalda Santos",
          "Mafalda Santos",
          "Margarida Oliveira",
          "Margarida Oliveira",
          "Margarida Oliveira",
          "Margarida Oliveira",
          "Margarida Oliveira",
          "Margarida Sousa",
          "Margarida Sousa",
          "Margarida Sousa",
          "Margarida Sousa",
          "Margarida Sousa",
          "Margarida Sousa",
          "Margarida Sousa",
          "Maria Almeida",
          "Maria Almeida",
          "Maria Almeida",
          "Maria Almeida",
          "Maria Almeida",
          "Maria Almeida",
          "Maria Ferreira",
          "Maria Ferreira",
          "Maria Ferreira",
          "Maria Ferreira",
          "Maria Ferreira",
          "Maria Ferreira",
          "Maria Gonçalves",
          "Maria Gonçalves",
          "Maria Gonçalves",
          "Maria Gonçalves",
          "Maria Gonçalves",
          "Maria Gonçalves",
          "Maria Ribeiro",
          "Maria Ribeiro",
          "Maria Ribeiro",
          "Maria Ribeiro",
          "Maria Ribeiro",
          "Maria Silva",
          "Maria Silva",
          "Maria Silva",
          "Maria Silva",
          "Maria Silva",
          "Maria Silva",
          "Maria Silva",
          "Maria Sousa",
          "Maria Sousa",
          "Maria Sousa",
          "Maria Sousa",
          "Maria Sousa",
          "Maria Sousa",
          "Mariana Andrade",
          "Mariana Andrade",
          "Mariana Andrade",
          "Mariana Andrade",
          "Mariana Andrade",
          "Mariana Costa",
          "Mariana Costa",
          "Mariana Dias",
          "Mariana Dias",
          "Mariana Dias",
          "Mariana Dias",
          "Mariana Dias",
          "Mariana Fernandes",
          "Mariana Fernandes",
          "Mariana Fernandes",
          "Mariana Lopes",
          "Mariana Lopes",
          "Mariana Lopes",
          "Mariana Lopes",
          "Mariana Pereira",
          "Mariana Pereira",
          "Mariana Pereira",
          "Mariana Pereira",
          "Mariana Pereira",
          "Mariana Pereira",
          "Mariana Rocha",
          "Mariana Rocha",
          "Mariana Rocha",
          "Mariana Rocha",
          "Mariana Rocha",
          "Mariana Rocha",
          "Mariana Rodrigues",
          "Mariana Rodrigues",
          "Mariana Rodrigues",
          "Mariana Rodrigues",
          "Mariana Rodrigues",
          "Mariana Santos",
          "Mariana Santos",
          "Mariana Santos",
          "Mariana Santos",
          "Mariana Santos",
          "Mariana Santos",
          "Mariana Santos",
          "Mariana Silva",
          "Mariana Silva",
          "Mariana Silva",
          "Mariana Silva",
          "Mariana Silva",
          "Mariana Silva",
          "Mariana Sousa",
          "Mariana Sousa",
          "Mariana Sousa",
          "Mariana Sousa",
          "Mariana Sousa",
          "Mariana Vaz",
          "Mariana Vaz",
          "Mariana Vaz",
          "Mariana Vaz",
          "Mariana Vaz",
          "Mariana Vaz",
          "Mariana Vaz",
          "Matilde Almeida",
          "Matilde Almeida",
          "Matilde Almeida",
          "Matilde Almeida",
          "Matilde Almeida",
          "Matilde Costa",
          "Matilde Costa",
          "Matilde Costa",
          "Matilde Costa",
          "Matilde Costa",
          "Matilde Costa",
          "Matilde Gomes",
          "Matilde Gomes",
          "Matilde Gomes",
          "Matilde Gomes",
          "Matilde Gomes",
          "Matilde Gomes",
          "Matilde Gomes",
          "Matilde Marques",
          "Matilde Marques",
          "Matilde Marques",
          "Matilde Marques",
          "Matilde Marques",
          "Matilde Marques",
          "Matilde Martins",
          "Matilde Martins",
          "Matilde Martins",
          "Matilde Martins",
          "Matilde Martins",
          "Matilde Martins",
          "Matilde Martins",
          "Matilde Pinto",
          "Matilde Pinto",
          "Matilde Pinto",
          "Matilde Pinto",
          "Matthew Edwards",
          "Matthew Edwards",
          "Matthew Edwards",
          "Matthew Edwards",
          "Matthew Edwards",
          "Matthew Edwards",
          "Maya Thompson",
          "Maya Thompson",
          "Maya Thompson",
          "Mia Brown",
          "Mia Brown",
          "Mia Brown",
          "Mia Brown",
          "Mia Brown",
          "Mia Brown",
          "Mia Cooper",
          "Mia Cooper",
          "Mia Cooper",
          "Mia Cooper",
          "Mia Cooper",
          "Michael Lewis",
          "Michael Lewis",
          "Michael Lewis",
          "Michael Lewis",
          "Michael Lewis",
          "Michael Lewis",
          "Michael Lewis",
          "Miguel Almeida",
          "Miguel Almeida",
          "Miguel Almeida",
          "Miguel Almeida",
          "Miguel Almeida",
          "Miguel Almeida",
          "Miguel Almeida",
          "Miguel Costa",
          "Miguel Costa",
          "Miguel Costa",
          "Miguel Costa",
          "Miguel Costa",
          "Miguel Costa",
          "Miguel Lopes",
          "Miguel Lopes",
          "Miguel Lopes",
          "Miguel Lopes",
          "Miguel Lopes",
          "Miguel Lopes",
          "Miguel Lopes",
          "Miguel Pereira",
          "Miguel Pereira",
          "Miguel Pereira",
          "Miguel Pereira",
          "Miguel Pereira",
          "Miguel Pereira",
          "Miguel Pereira",
          "Natalie Baker",
          "Natalie Baker",
          "Natalie Baker",
          "Natalie Baker",
          "Natalie Baker",
          "Natalie Baker",
          "Nathan Price",
          "Nathan Price",
          "Nathan Price",
          "Nathan Price",
          "Nathan Price",
          "Nathan Price",
          "Nathan Price",
          "Nicholas Walker",
          "Nicholas Walker",
          "Nicholas Walker",
          "Nicholas Walker",
          "Nicholas Walker",
          "Nicholas Walker",
          "Nicholas Walker",
          "Noah Rodriguez",
          "Noah Rodriguez",
          "Noah Rodriguez",
          "Noah Rodriguez",
          "Noah Rodriguez",
          "Nuno Almeida",
          "Nuno Almeida",
          "Nuno Almeida",
          "Nuno Almeida",
          "Nuno Almeida",
          "Nuno Almeida",
          "Nuno Santos",
          "Nuno Santos",
          "Nuno Santos",
          "Nuno Santos",
          "Nuno Santos",
          "Nuno Santos",
          "Nuno Santos",
          "Nuno Santos",
          "Olivia Smith",
          "Olivia Smith",
          "Olivia Smith",
          "Owen Lee",
          "Owen Lee",
          "Owen Lee",
          "Owen Lee",
          "Pedro Dias",
          "Pedro Dias",
          "Pedro Dias",
          "Pedro Dias",
          "Pedro Dias",
          "Pedro Dias",
          "Pedro Dias",
          "Pedro Matos",
          "Pedro Matos",
          "Pedro Matos",
          "Pedro Matos",
          "Pedro Matos",
          "Pedro Matos",
          "Pedro Oliveira",
          "Pedro Oliveira",
          "Pedro Oliveira",
          "Pedro Oliveira",
          "Pedro Oliveira",
          "Pedro Oliveira",
          "Pedro Ribeiro",
          "Pedro Ribeiro",
          "Pedro Ribeiro",
          "Pedro Ribeiro",
          "Pedro Ribeiro",
          "Pedro Ribeiro",
          "Pedro Sousa",
          "Pedro Sousa",
          "Pedro Sousa",
          "Pedro Sousa",
          "Penelope Flores",
          "Penelope Flores",
          "Peyton Turner",
          "Peyton Turner",
          "Peyton Turner",
          "Peyton Turner",
          "Rafael Fernandes",
          "Rafael Fernandes",
          "Rafael Fernandes",
          "Rafael Fernandes",
          "Rafael Fernandes",
          "Rafael Fernandes",
          "Rafael Teixeira",
          "Rafael Teixeira",
          "Rafael Teixeira",
          "Rafael Teixeira",
          "Rafael Teixeira",
          "Rafael Vieira",
          "Rafael Vieira",
          "Rafael Vieira",
          "Rafael Vieira",
          "Rafael Vieira",
          "Rafael Vieira",
          "Rafael Vieira",
          "Rafaela Alves",
          "Rafaela Alves",
          "Rafaela Alves",
          "Rafaela Alves",
          "Rafaela Alves",
          "Rafaela Alves",
          "Rafaela Alves",
          "Rafaela Ferreira",
          "Rafaela Ferreira",
          "Rafaela Ferreira",
          "Rafaela Ferreira",
          "Rafaela Ferreira",
          "Rafaela Silva",
          "Raquel Alves",
          "Rita Carvalho",
          "Rita Carvalho",
          "Rita Carvalho",
          "Rita Carvalho",
          "Rita Carvalho",
          "Rita Carvalho",
          "Rita Fernandes",
          "Rita Fernandes",
          "Rita Fernandes",
          "Rita Fernandes",
          "Rita Fernandes",
          "Rita Fernandes",
          "Rita Matos",
          "Rita Matos",
          "Rita Matos",
          "Rita Matos",
          "Rita Matos",
          "Rita Matos",
          "Rita Matos",
          "Rodrigo Castro",
          "Rodrigo Castro",
          "Rodrigo Castro",
          "Rodrigo Castro",
          "Rodrigo Castro",
          "Rodrigo Castro",
          "Rodrigo Castro",
          "Rodrigo Castro",
          "Rodrigo Ferreira",
          "Rodrigo Ferreira",
          "Rodrigo Ferreira",
          "Rodrigo Ferreira",
          "Rodrigo Ferreira",
          "Rodrigo Ferreira",
          "Rodrigo Ferreira",
          "Rodrigo Mendes",
          "Rodrigo Mendes",
          "Rodrigo Mendes",
          "Rodrigo Mendes",
          "Rodrigo Mendes",
          "Rodrigo Mendes",
          "Rodrigo Mendes",
          "Rodrigo Nunes",
          "Rodrigo Nunes",
          "Rodrigo Nunes",
          "Rodrigo Nunes",
          "Rodrigo Nunes",
          "Rodrigo Nunes",
          "Rodrigo Oliveira",
          "Rodrigo Oliveira",
          "Rodrigo Oliveira",
          "Rodrigo Oliveira",
          "Rodrigo Oliveira",
          "Rodrigo Pereira",
          "Rodrigo Pereira",
          "Rodrigo Pereira",
          "Rodrigo Pereira",
          "Rodrigo Pereira",
          "Rodrigo Pereira",
          "Rodrigo Sousa",
          "Rodrigo Sousa",
          "Rodrigo Sousa",
          "Rodrigo Sousa",
          "Rui Ferreira",
          "Rui Ferreira",
          "Rui Ferreira",
          "Rui Ferreira",
          "Rui Ferreira",
          "Rui Ferreira",
          "Rui Ferreira",
          "Ryan Parker",
          "Ryan Parker",
          "Ryan Parker",
          "Ryan Parker",
          "Ryan Parker",
          "Ryan Parker",
          "Ryan Parker",
          "Ryan Perez",
          "Ryan Perez",
          "Ryan Perez",
          "Ryan Perez",
          "Ryan Perez",
          "Samantha Rodriguez",
          "Samantha Rodriguez",
          "Samantha Rodriguez",
          "Samantha Rodriguez",
          "Samantha Rodriguez",
          "Samantha Rodriguez",
          "Samuel Davis",
          "Samuel Davis",
          "Samuel Davis",
          "Samuel Davis",
          "Samuel Davis",
          "Samuel Davis",
          "Samuel Davis",
          "Samuel Ferreira",
          "Samuel Ferreira",
          "Samuel Ferreira",
          "Samuel Wilson",
          "Samuel Wilson",
          "Samuel Wilson",
          "Samuel Wilson",
          "Samuel Wilson",
          "Samuel Wilson",
          "Samuel Wilson",
          "Sara Ribeiro",
          "Sara Ribeiro",
          "Sara Ribeiro",
          "Sara Ribeiro",
          "Sara Ribeiro",
          "Sara Ribeiro",
          "Sara Ribeiro",
          "Sara Silva",
          "Sara Silva",
          "Sara Silva",
          "Sara Silva",
          "Sara Silva",
          "Sara Silva",
          "Sarah Garcia",
          "Sarah Garcia",
          "Sarah Garcia",
          "Sarah Garcia",
          "Sarah Garcia",
          "Sarah Garcia",
          "Sarah Garcia",
          "Savannah Hall",
          "Savannah Hall",
          "Savannah Hall",
          "Savannah Hall",
          "Savannah Hall",
          "Savannah Hall",
          "Savannah Hall",
          "Scarlett Rodriguez",
          "Scarlett Rodriguez",
          "Scarlett Rodriguez",
          "Scarlett Rodriguez",
          "Scarlett Rodriguez",
          "Scarlett Rodriguez",
          "Scarlett Rodriguez",
          "Simão Costa",
          "Simão Costa",
          "Simão Fernandes",
          "Simão Fernandes",
          "Simão Fernandes",
          "Simão Fernandes",
          "Simão Fernandes",
          "Simão Fernandes",
          "Simão Fernandes",
          "Simão Rodrigues",
          "Simão Rodrigues",
          "Simão Rodrigues",
          "Simão Rodrigues",
          "Simão Rodrigues",
          "Simão Rodrigues",
          "Sofia Nunes",
          "Sofia Nunes",
          "Sofia Nunes",
          "Sofia Nunes",
          "Sofia Nunes",
          "Sofia Ribeiro",
          "Sofia Ribeiro",
          "Sofia Ribeiro",
          "Sofia Ribeiro",
          "Sofia Ribeiro",
          "Sofia Ribeiro",
          "Sofia Santos",
          "Sofia Santos",
          "Sofia Santos",
          "Sofia Santos",
          "Sofia Santos",
          "Sofia Santos",
          "Sofia Santos",
          "Sofia Silva",
          "Sofia Silva",
          "Sofia Silva",
          "Sofia Silva",
          "Sofia Silva",
          "Sofia Turner",
          "Sofia Turner",
          "Sofia Turner",
          "Sofia Turner",
          "Sofia Turner",
          "Sophia Anderson",
          "Sophia Anderson",
          "Sophia Anderson",
          "Sophia Anderson",
          "Sophia Anderson",
          "Sophia Anderson",
          "Sophia Anderson",
          "Tiago Costa",
          "Tiago Costa",
          "Tiago Costa",
          "Tiago Costa",
          "Tiago Costa",
          "Tiago Costa",
          "Tiago Cunha",
          "Tiago Cunha",
          "Tiago Cunha",
          "Tiago Cunha",
          "Tiago Fernandes",
          "Tiago Fernandes",
          "Tiago Fernandes",
          "Tiago Fernandes",
          "Tiago Fernandes",
          "Tiago Fernandes",
          "Tiago Fernandes",
          "Tiago Gonçalves",
          "Tiago Gonçalves",
          "Tiago Gonçalves",
          "Tiago Gonçalves",
          "Tiago Gonçalves",
          "Tiago Rodrigues",
          "Tiago Rodrigues",
          "Tiago Rodrigues",
          "Tiago Rodrigues",
          "Tiago Rodrigues",
          "Tiago Rodrigues",
          "Tiago Sousa Cruz",
          "Tiago Sousa Cruz",
          "Tiago Sousa Cruz",
          "Tiago Sousa Cruz",
          "Tiago Sousa Cruz",
          "Tiago Sousa Cruz",
          "Tiago Sousa Cruz",
          "Tomás Carvalho",
          "Tomás Carvalho",
          "Tomás Carvalho",
          "Tomás Carvalho",
          "Tomás Carvalho",
          "Tomás Carvalho",
          "Tomás Carvalho",
          "Tomás Costa",
          "Tomás Martins",
          "Tomás Martins",
          "Tomás Martins",
          "Tomás Martins",
          "Tomás Martins",
          "Tomás Martins",
          "Tomás Oliveira",
          "Tomás Oliveira",
          "Tomás Oliveira",
          "Tomás Oliveira",
          "Tomás Oliveira",
          "Tomás Oliveira",
          "Tomás Oliveira",
          "Tomás Rodrigues",
          "Tomás Rodrigues",
          "Tomás Rodrigues",
          "Tomás Rodrigues",
          "Tomás Rodrigues",
          "Tomás Rodrigues",
          "Tomás Rodrigues",
          "Tomás Santos",
          "Tomás Santos",
          "Tomás Santos",
          "Tomás Santos",
          "Tomé Martins",
          "Tomé Martins",
          "Tomé Martins",
          "Tomé Martins",
          "Tomé Martins",
          "Tomé Martins",
          "Tomé Martins",
          "Tyler Martin",
          "Tyler Martin",
          "Tyler Martin",
          "Tyler Martin",
          "Tyler Martin",
          "Tyler Martin",
          "Tyler Martin",
          "Vasco Santos",
          "Vasco Santos",
          "Vasco Santos",
          "Vasco Santos",
          "Vasco Santos",
          "Vasco Santos",
          "Vasco Santos",
          "Vasco Santos",
          "Victoria Clark",
          "William Hernandez",
          "William Hernandez",
          "William Hernandez",
          "William Hernandez",
          "William Hernandez",
          "William Hernandez",
          "Zachary Garcia",
          "Zachary Garcia",
          "Zachary Garcia",
          "Zoey Nelson",
          "Zoey Nelson",
          "Zoey Nelson",
          "Zoey Nelson",
          "Zoey Nelson",
          "Zoey Nelson",
          "Zoey Nelson"
         ],
         "categoryorder": "array",
         "domain": [
          0,
          1
         ],
         "title": {
          "text": "Candidate Name"
         }
        }
       }
      }
     },
     "metadata": {},
     "output_type": "display_data"
    },
    {
     "name": "stderr",
     "output_type": "stream",
     "text": [
      "/tmp/ipykernel_3585/1862508806.py:11: UserWarning:\n",
      "\n",
      "Boolean Series key will be reindexed to match DataFrame index.\n",
      "\n"
     ]
    },
    {
     "data": {
      "application/vnd.plotly.v1+json": {
       "config": {
        "plotlyServerURL": "https://plot.ly"
       },
       "data": [
        {
         "alignmentgroup": "True",
         "base": [
          "2023-06-5",
          "2023-06-2",
          "2023-06-9",
          "2023-06-8",
          "2023-06-9",
          "2023-06-3",
          "2023-06-1",
          "2023-06-7",
          "2023-06-6",
          "2023-06-9",
          "2023-06-5",
          "2023-06-2",
          "2023-06-8",
          "2023-06-1",
          "2023-06-9"
         ],
         "customdata": [
          [
           "Site Assistant ",
           4,
           5,
           0
          ],
          [
           "Site Assistant ",
           4,
           5,
           0
          ],
          [
           "Site Assistant ",
           4,
           5,
           0
          ],
          [
           "Site Assistant ",
           4,
           5,
           0
          ],
          [
           "Site Assistant ",
           5,
           0,
           4
          ],
          [
           "Site Assistant ",
           5,
           0,
           4
          ],
          [
           "Site Assistant ",
           5,
           0,
           4
          ],
          [
           "Site Assistant ",
           5,
           0,
           4
          ],
          [
           "Site Assistant ",
           5,
           4,
           2
          ],
          [
           "Site Assistant ",
           5,
           4,
           2
          ],
          [
           "Site Assistant ",
           5,
           4,
           2
          ],
          [
           "Site Assistant ",
           5,
           4,
           1
          ],
          [
           "Site Assistant ",
           5,
           4,
           1
          ],
          [
           "Site Assistant ",
           5,
           4,
           1
          ],
          [
           "Site Assistant ",
           4,
           4,
           4
          ]
         ],
         "hovertemplate": "Position Type=Site Assistant <br>Start=%{base}<br>Finish=%{x}<br>Candidate Name=%{y}<br>Position=%{customdata[0]}<br>Experience=%{customdata[1]}<br>Language Skills=%{customdata[2]}<br>Presentation Skills=%{customdata[3]}<extra></extra>",
         "legendgroup": "Site Assistant ",
         "marker": {
          "color": "#636efa",
          "pattern": {
           "shape": ""
          }
         },
         "name": "Site Assistant ",
         "offsetgroup": "Site Assistant ",
         "orientation": "h",
         "showlegend": true,
         "textposition": "auto",
         "type": "bar",
         "x": [
          86400000,
          86400000,
          86400000,
          86400000,
          86400000,
          86400000,
          86400000,
          86400000,
          86400000,
          86400000,
          86400000,
          86400000,
          86400000,
          86400000,
          86400000
         ],
         "xaxis": "x",
         "y": [
          "David Fernandes",
          "David Fernandes",
          "David Fernandes",
          "David Fernandes",
          "Ellie Turner",
          "Ellie Turner",
          "Ellie Turner",
          "Ellie Turner",
          "Emma Carter",
          "Emma Carter",
          "Emma Carter",
          "Francisca Oliveira",
          "Francisca Oliveira",
          "Francisca Oliveira",
          "Francisco Pinto"
         ],
         "yaxis": "y"
        },
        {
         "alignmentgroup": "True",
         "base": [
          "2023-06-6",
          "2023-06-5",
          "2023-06-7",
          "2023-06-2",
          "2023-06-8",
          "2023-06-6",
          "2023-06-2",
          "2023-06-3",
          "2023-06-1",
          "2023-06-5",
          "2023-06-7",
          "2023-06-4",
          "2023-06-8",
          "2023-06-3",
          "2023-06-2",
          "2023-06-6",
          "2023-06-7",
          "2023-06-6",
          "2023-06-1",
          "2023-06-3",
          "2023-06-2",
          "2023-06-4",
          "2023-06-5",
          "2023-06-8",
          "2023-06-8",
          "2023-06-1",
          "2023-06-5",
          "2023-06-6",
          "2023-06-4"
         ],
         "customdata": [
          [
           "Dept L Set Up Assistant ",
           5,
           2,
           3
          ],
          [
           "Dept K Set Up Assistant ",
           5,
           2,
           3
          ],
          [
           "Dept K Set Up Assistant ",
           5,
           2,
           3
          ],
          [
           "Dept K Set Up Assistant ",
           5,
           2,
           3
          ],
          [
           "Dept L Set Up Assistant ",
           5,
           3,
           2
          ],
          [
           "Dept K Set Up Assistant ",
           5,
           3,
           2
          ],
          [
           "Dept K Set Up Assistant ",
           5,
           3,
           2
          ],
          [
           "Dept K Set Up Assistant ",
           5,
           3,
           2
          ],
          [
           "Dept K Set Up Assistant ",
           5,
           3,
           2
          ],
          [
           "Dept L Set Up Assistant ",
           5,
           2,
           1
          ],
          [
           "Dept L Set Up Assistant ",
           5,
           2,
           1
          ],
          [
           "Dept K Set Up Assistant ",
           5,
           2,
           1
          ],
          [
           "Dept K Set Up Assistant ",
           5,
           2,
           1
          ],
          [
           "Dept K Set Up Assistant ",
           5,
           2,
           1
          ],
          [
           "Dept L Set Up Assistant ",
           5,
           2,
           1
          ],
          [
           "Dept K Set Up Assistant ",
           5,
           2,
           1
          ],
          [
           "Dept K Set Up Assistant ",
           5,
           4,
           4
          ],
          [
           "Dept L Set Up Assistant ",
           5,
           4,
           4
          ],
          [
           "Dept K Set Up Assistant ",
           5,
           4,
           4
          ],
          [
           "Dept L Set Up Assistant ",
           5,
           4,
           4
          ],
          [
           "Dept K Set Up Assistant ",
           5,
           4,
           4
          ],
          [
           "Dept L Set Up Assistant ",
           5,
           0,
           3
          ],
          [
           "Dept L Set Up Assistant ",
           5,
           0,
           3
          ],
          [
           "Dept L Set Up Assistant ",
           5,
           0,
           3
          ],
          [
           "Dept K Set Up Assistant ",
           4,
           1,
           2
          ],
          [
           "Dept L Set Up Assistant ",
           4,
           1,
           2
          ],
          [
           "Dept K Set Up Assistant ",
           4,
           1,
           2
          ],
          [
           "Dept L Set Up Assistant ",
           4,
           1,
           2
          ],
          [
           "Dept K Set Up Assistant ",
           4,
           1,
           2
          ]
         ],
         "hovertemplate": "Position Type=Set Up Assistant <br>Start=%{base}<br>Finish=%{x}<br>Candidate Name=%{y}<br>Position=%{customdata[0]}<br>Experience=%{customdata[1]}<br>Language Skills=%{customdata[2]}<br>Presentation Skills=%{customdata[3]}<extra></extra>",
         "legendgroup": "Set Up Assistant ",
         "marker": {
          "color": "#EF553B",
          "pattern": {
           "shape": ""
          }
         },
         "name": "Set Up Assistant ",
         "offsetgroup": "Set Up Assistant ",
         "orientation": "h",
         "showlegend": true,
         "textposition": "auto",
         "type": "bar",
         "x": [
          86400000,
          86400000,
          86400000,
          86400000,
          86400000,
          86400000,
          86400000,
          86400000,
          86400000,
          86400000,
          86400000,
          86400000,
          86400000,
          86400000,
          86400000,
          86400000,
          86400000,
          86400000,
          86400000,
          86400000,
          86400000,
          86400000,
          86400000,
          86400000,
          86400000,
          86400000,
          86400000,
          86400000,
          86400000
         ],
         "xaxis": "x",
         "y": [
          "Diana Costa",
          "Diana Costa",
          "Diana Costa",
          "Diana Costa",
          "Duarte Pinto",
          "Duarte Pinto",
          "Duarte Pinto",
          "Duarte Pinto",
          "Duarte Pinto",
          "Francisco Alves",
          "Francisco Alves",
          "Francisco Alves",
          "Francisco Alves",
          "Francisco Alves",
          "Francisco Alves",
          "Francisco Alves",
          "Francisco Pinto",
          "Francisco Pinto",
          "Francisco Pinto",
          "Francisco Pinto",
          "Francisco Pinto",
          "Gabriel Sousa",
          "Gabriel Sousa",
          "Gabriel Sousa",
          "Gonçalo Castro",
          "Gonçalo Castro",
          "Gonçalo Castro",
          "Gonçalo Castro",
          "Gonçalo Castro"
         ],
         "yaxis": "y"
        },
        {
         "alignmentgroup": "True",
         "base": [
          "2023-06-5",
          "2023-06-2",
          "2023-06-1",
          "2023-06-4",
          "2023-06-8",
          "2023-06-8",
          "2023-06-1",
          "2023-06-6",
          "2023-06-2",
          "2023-06-7",
          "2023-06-9",
          "2023-06-8",
          "2023-06-6",
          "2023-06-5",
          "2023-06-5",
          "2023-06-8",
          "2023-06-1",
          "2023-06-2",
          "2023-06-8",
          "2023-06-4",
          "2023-06-7",
          "2023-06-6",
          "2023-06-5",
          "2023-06-7",
          "2023-06-1",
          "2023-06-5",
          "2023-06-3",
          "2023-06-1",
          "2023-06-7",
          "2023-06-7",
          "2023-06-3",
          "2023-06-2",
          "2023-06-9",
          "2023-06-6",
          "2023-06-4",
          "2023-06-2",
          "2023-06-3",
          "2023-06-9",
          "2023-06-3",
          "2023-06-7",
          "2023-06-5",
          "2023-06-8",
          "2023-06-6",
          "2023-06-4",
          "2023-06-6",
          "2023-06-1",
          "2023-06-9",
          "2023-06-7",
          "2023-06-2",
          "2023-06-8",
          "2023-06-7",
          "2023-06-4",
          "2023-06-6",
          "2023-06-6",
          "2023-06-2",
          "2023-06-7",
          "2023-06-1"
         ],
         "customdata": [
          [
           "Waiting List ",
           0,
           0,
           3
          ],
          [
           "Waiting List ",
           0,
           0,
           3
          ],
          [
           "Waiting List ",
           0,
           0,
           3
          ],
          [
           "Waiting List ",
           0,
           0,
           3
          ],
          [
           "Waiting List ",
           0,
           0,
           3
          ],
          [
           "Waiting List ",
           0,
           3,
           2
          ],
          [
           "Waiting List ",
           0,
           3,
           2
          ],
          [
           "Waiting List ",
           0,
           3,
           2
          ],
          [
           "Waiting List ",
           0,
           3,
           2
          ],
          [
           "Waiting List ",
           0,
           3,
           5
          ],
          [
           "Waiting List ",
           0,
           5,
           3
          ],
          [
           "Waiting List ",
           0,
           1,
           3
          ],
          [
           "Waiting List ",
           0,
           1,
           3
          ],
          [
           "Waiting List ",
           0,
           1,
           3
          ],
          [
           "Waiting List ",
           0,
           2,
           0
          ],
          [
           "Waiting List ",
           0,
           2,
           0
          ],
          [
           "Waiting List ",
           0,
           3,
           2
          ],
          [
           "Waiting List ",
           0,
           3,
           2
          ],
          [
           "Waiting List ",
           0,
           3,
           2
          ],
          [
           "Waiting List ",
           0,
           3,
           2
          ],
          [
           "Waiting List ",
           0,
           3,
           2
          ],
          [
           "Waiting List ",
           0,
           3,
           2
          ],
          [
           "Waiting List ",
           0,
           1,
           5
          ],
          [
           "Waiting List ",
           0,
           1,
           5
          ],
          [
           "Waiting List ",
           0,
           4,
           0
          ],
          [
           "Waiting List ",
           0,
           0,
           2
          ],
          [
           "Waiting List ",
           0,
           0,
           2
          ],
          [
           "Waiting List ",
           0,
           4,
           4
          ],
          [
           "Waiting List ",
           0,
           1,
           2
          ],
          [
           "Waiting List ",
           0,
           3,
           1
          ],
          [
           "Waiting List ",
           0,
           2,
           2
          ],
          [
           "Waiting List ",
           0,
           2,
           2
          ],
          [
           "Waiting List ",
           0,
           2,
           2
          ],
          [
           "Waiting List ",
           0,
           2,
           2
          ],
          [
           "Waiting List ",
           0,
           1,
           2
          ],
          [
           "Waiting List ",
           0,
           1,
           2
          ],
          [
           "Waiting List ",
           0,
           1,
           2
          ],
          [
           "Waiting List ",
           0,
           1,
           2
          ],
          [
           "Waiting List ",
           0,
           2,
           3
          ],
          [
           "Waiting List ",
           0,
           2,
           3
          ],
          [
           "Waiting List ",
           0,
           2,
           4
          ],
          [
           "Waiting List ",
           0,
           2,
           4
          ],
          [
           "Waiting List ",
           0,
           2,
           4
          ],
          [
           "Waiting List ",
           0,
           1,
           4
          ],
          [
           "Waiting List ",
           0,
           1,
           4
          ],
          [
           "Waiting List ",
           0,
           1,
           4
          ],
          [
           "Waiting List ",
           0,
           1,
           2
          ],
          [
           "Waiting List ",
           0,
           3,
           3
          ],
          [
           "Waiting List ",
           0,
           4,
           1
          ],
          [
           "Waiting List ",
           0,
           4,
           1
          ],
          [
           "Waiting List ",
           0,
           4,
           1
          ],
          [
           "Waiting List ",
           0,
           4,
           1
          ],
          [
           "Waiting List ",
           0,
           4,
           1
          ],
          [
           "Waiting List ",
           0,
           3,
           3
          ],
          [
           "Waiting List ",
           0,
           3,
           3
          ],
          [
           "Waiting List ",
           0,
           3,
           3
          ],
          [
           "Waiting List ",
           0,
           3,
           3
          ]
         ],
         "hovertemplate": "Position Type=Waiting List<br>Start=%{base}<br>Finish=%{x}<br>Candidate Name=%{y}<br>Position=%{customdata[0]}<br>Experience=%{customdata[1]}<br>Language Skills=%{customdata[2]}<br>Presentation Skills=%{customdata[3]}<extra></extra>",
         "legendgroup": "Waiting List",
         "marker": {
          "color": "#00cc96",
          "pattern": {
           "shape": ""
          }
         },
         "name": "Waiting List",
         "offsetgroup": "Waiting List",
         "orientation": "h",
         "showlegend": true,
         "textposition": "auto",
         "type": "bar",
         "x": [
          86400000,
          86400000,
          86400000,
          86400000,
          86400000,
          86400000,
          86400000,
          86400000,
          86400000,
          86400000,
          86400000,
          86400000,
          86400000,
          86400000,
          86400000,
          86400000,
          86400000,
          86400000,
          86400000,
          86400000,
          86400000,
          86400000,
          86400000,
          86400000,
          86400000,
          86400000,
          86400000,
          86400000,
          86400000,
          86400000,
          86400000,
          86400000,
          86400000,
          86400000,
          86400000,
          86400000,
          86400000,
          86400000,
          86400000,
          86400000,
          86400000,
          86400000,
          86400000,
          86400000,
          86400000,
          86400000,
          86400000,
          86400000,
          86400000,
          86400000,
          86400000,
          86400000,
          86400000,
          86400000,
          86400000,
          86400000,
          86400000
         ],
         "xaxis": "x",
         "y": [
          "Daniel Wright",
          "Daniel Wright",
          "Daniel Wright",
          "Daniel Wright",
          "Daniel Wright",
          "David Lopes",
          "David Lopes",
          "David Lopes",
          "David Lopes",
          "Diana Rodrigues",
          "Diogo Oliveira",
          "Duarte Pereira",
          "Duarte Pereira",
          "Duarte Pereira",
          "Eva Scott",
          "Eva Scott",
          "Filipa Carvalho",
          "Filipa Carvalho",
          "Filipa Carvalho",
          "Filipa Carvalho",
          "Filipa Carvalho",
          "Filipa Carvalho",
          "Filipe Ramos",
          "Filipe Ramos",
          "Francisco Fernandes",
          "Gabriel Costa",
          "Gabriel Costa",
          "Gabriel Santos",
          "Gonçalo Castro",
          "Gonçalo Pereira",
          "Guilherme Sousa",
          "Guilherme Sousa",
          "Guilherme Sousa",
          "Guilherme Sousa",
          "Gustavo Ribeiro",
          "Gustavo Ribeiro",
          "Gustavo Ribeiro",
          "Gustavo Ribeiro",
          "Gustavo Silva",
          "Gustavo Silva",
          "Harper Scott",
          "Harper Scott",
          "Harper Scott",
          "Inês Almeida",
          "Inês Almeida",
          "Inês Almeida",
          "Inês Pinto",
          "Isabelle Adams",
          "Jack Edwards",
          "Jack Edwards",
          "Jack Edwards",
          "Jack Edwards",
          "Jack Edwards",
          "Jacob Campbell",
          "Jacob Campbell",
          "Jacob Campbell",
          "Jacob Campbell"
         ],
         "yaxis": "y"
        },
        {
         "alignmentgroup": "True",
         "base": [
          "2023-06-2",
          "2023-06-8",
          "2023-06-7",
          "2023-06-4",
          "2023-06-3",
          "2023-06-5",
          "2023-06-1",
          "2023-06-2",
          "2023-06-4",
          "2023-06-6",
          "2023-06-7",
          "2023-06-1",
          "2023-06-1",
          "2023-06-4",
          "2023-06-6",
          "2023-06-5",
          "2023-06-2",
          "2023-06-7",
          "2023-06-1",
          "2023-06-8",
          "2023-06-3",
          "2023-06-9",
          "2023-06-5",
          "2023-06-4",
          "2023-06-2",
          "2023-06-3",
          "2023-06-3",
          "2023-06-1",
          "2023-06-2",
          "2023-06-5",
          "2023-06-3",
          "2023-06-1",
          "2023-06-9",
          "2023-06-3",
          "2023-06-2",
          "2023-06-7",
          "2023-06-3",
          "2023-06-9",
          "2023-06-5",
          "2023-06-9",
          "2023-06-5",
          "2023-06-4",
          "2023-06-1",
          "2023-06-3",
          "2023-06-5",
          "2023-06-7",
          "2023-06-6",
          "2023-06-2",
          "2023-06-8",
          "2023-06-4",
          "2023-06-3",
          "2023-06-1",
          "2023-06-5",
          "2023-06-7",
          "2023-06-6",
          "2023-06-2",
          "2023-06-8",
          "2023-06-5",
          "2023-06-6",
          "2023-06-2",
          "2023-06-9",
          "2023-06-7",
          "2023-06-4",
          "2023-06-1",
          "2023-06-3",
          "2023-06-1",
          "2023-06-7",
          "2023-06-5",
          "2023-06-6",
          "2023-06-2",
          "2023-06-4",
          "2023-06-3",
          "2023-06-6",
          "2023-06-8",
          "2023-06-7",
          "2023-06-2"
         ],
         "customdata": [
          [
           "Dept K Viewing Assistant ",
           5,
           1,
           5
          ],
          [
           "Dept L Viewing Assistant ",
           5,
           1,
           5
          ],
          [
           "Dept L Viewing Assistant ",
           5,
           1,
           5
          ],
          [
           "Dept K Viewing Assistant ",
           5,
           1,
           5
          ],
          [
           "Dept K Viewing Assistant ",
           5,
           1,
           5
          ],
          [
           "Dept K Viewing Assistant ",
           4,
           4,
           5
          ],
          [
           "Dept G Viewing Assistant ",
           4,
           4,
           5
          ],
          [
           "Dept L Viewing Assistant ",
           4,
           4,
           5
          ],
          [
           "Dept I Viewing Assistant ",
           4,
           4,
           5
          ],
          [
           "Dept L Viewing Assistant ",
           4,
           4,
           5
          ],
          [
           "Dept L Viewing Assistant ",
           4,
           4,
           5
          ],
          [
           "Dept F Viewing Assistant ",
           3,
           5,
           3
          ],
          [
           "Dept B Viewing Assistant ",
           4,
           5,
           3
          ],
          [
           "Dept G Viewing Assistant ",
           4,
           5,
           3
          ],
          [
           "Dept G Viewing Assistant ",
           4,
           5,
           3
          ],
          [
           "Dept L Viewing Assistant ",
           4,
           5,
           3
          ],
          [
           "Dept K Viewing Assistant ",
           4,
           5,
           3
          ],
          [
           "Dept D Viewing Assistant ",
           4,
           1,
           1
          ],
          [
           "Dept I Viewing Assistant ",
           5,
           5,
           3
          ],
          [
           "Dept I Viewing Assistant ",
           5,
           5,
           3
          ],
          [
           "Dept I Viewing Assistant ",
           5,
           5,
           3
          ],
          [
           "Dept G Viewing Assistant ",
           5,
           5,
           3
          ],
          [
           "Dept K Viewing Assistant ",
           5,
           5,
           3
          ],
          [
           "Dept G Viewing Assistant ",
           5,
           5,
           3
          ],
          [
           "Dept G Viewing Assistant ",
           3,
           1,
           5
          ],
          [
           "Dept F Viewing Assistant ",
           3,
           1,
           5
          ],
          [
           "Dept G Viewing Assistant ",
           5,
           3,
           4
          ],
          [
           "Dept L Viewing Assistant ",
           5,
           3,
           4
          ],
          [
           "Dept L Viewing Assistant ",
           5,
           3,
           4
          ],
          [
           "Dept I Viewing Assistant ",
           5,
           3,
           4
          ],
          [
           "Dept L Viewing Assistant ",
           4,
           4,
           3
          ],
          [
           "Dept B Viewing Assistant ",
           5,
           5,
           0
          ],
          [
           "Dept G Viewing Assistant ",
           5,
           5,
           0
          ],
          [
           "Dept I Viewing Assistant ",
           5,
           5,
           0
          ],
          [
           "Dept K Viewing Assistant ",
           5,
           5,
           0
          ],
          [
           "Dept I Viewing Assistant ",
           5,
           5,
           0
          ],
          [
           "Dept L Viewing Assistant ",
           5,
           5,
           5
          ],
          [
           "Dept I Viewing Assistant ",
           5,
           5,
           5
          ],
          [
           "Dept I Viewing Assistant ",
           5,
           5,
           5
          ],
          [
           "Dept L Viewing Assistant ",
           5,
           4,
           5
          ],
          [
           "Dept L Viewing Assistant ",
           5,
           4,
           5
          ],
          [
           "Dept L Viewing Assistant ",
           5,
           4,
           5
          ],
          [
           "Dept I Viewing Assistant ",
           5,
           4,
           5
          ],
          [
           "Dept G Viewing Assistant ",
           5,
           4,
           5
          ],
          [
           "Dept G Viewing Assistant ",
           5,
           4,
           4
          ],
          [
           "Dept K Viewing Assistant ",
           5,
           4,
           4
          ],
          [
           "Dept L Viewing Assistant ",
           5,
           4,
           4
          ],
          [
           "Dept I Viewing Assistant ",
           5,
           4,
           4
          ],
          [
           "Dept L Viewing Assistant ",
           5,
           4,
           4
          ],
          [
           "Dept K Viewing Assistant ",
           5,
           4,
           4
          ],
          [
           "Dept K Viewing Assistant ",
           5,
           4,
           4
          ],
          [
           "Dept G Viewing Assistant ",
           5,
           1,
           2
          ],
          [
           "Dept F Viewing Assistant (VIP)",
           5,
           1,
           2
          ],
          [
           "Dept D Viewing Assistant ",
           5,
           1,
           2
          ],
          [
           "Dept D Viewing Assistant ",
           5,
           1,
           2
          ],
          [
           "Dept G Viewing Assistant ",
           5,
           1,
           2
          ],
          [
           "Dept D Viewing Assistant ",
           5,
           1,
           2
          ],
          [
           "Dept D Viewing Assistant ",
           5,
           3,
           1
          ],
          [
           "Dept D Viewing Assistant ",
           5,
           3,
           1
          ],
          [
           "Dept F Viewing Assistant ",
           5,
           3,
           1
          ],
          [
           "Dept G Viewing Assistant ",
           5,
           3,
           1
          ],
          [
           "Dept G Viewing Assistant ",
           5,
           3,
           1
          ],
          [
           "Dept L Viewing Assistant ",
           5,
           3,
           1
          ],
          [
           "Dept G Viewing Assistant ",
           5,
           3,
           1
          ],
          [
           "Dept K Viewing Assistant ",
           5,
           1,
           3
          ],
          [
           "Dept F Viewing Assistant ",
           5,
           1,
           3
          ],
          [
           "Dept L Viewing Assistant ",
           5,
           1,
           3
          ],
          [
           "Dept K Viewing Assistant ",
           5,
           1,
           3
          ],
          [
           "Dept K Viewing Assistant ",
           5,
           1,
           3
          ],
          [
           "Dept F Viewing Assistant ",
           5,
           1,
           3
          ],
          [
           "Dept I Viewing Assistant ",
           5,
           1,
           3
          ],
          [
           "Dept F Viewing Assistant ",
           4,
           1,
           1
          ],
          [
           "Dept F Viewing Assistant (VIP)",
           4,
           1,
           1
          ],
          [
           "Dept D Viewing Assistant ",
           4,
           1,
           1
          ],
          [
           "Dept F Viewing Assistant (VIP)",
           4,
           1,
           1
          ],
          [
           "Dept B Viewing Assistant ",
           4,
           1,
           1
          ]
         ],
         "hovertemplate": "Position Type=Viewing Assistant <br>Start=%{base}<br>Finish=%{x}<br>Candidate Name=%{y}<br>Position=%{customdata[0]}<br>Experience=%{customdata[1]}<br>Language Skills=%{customdata[2]}<br>Presentation Skills=%{customdata[3]}<extra></extra>",
         "legendgroup": "Viewing Assistant ",
         "marker": {
          "color": "#ab63fa",
          "pattern": {
           "shape": ""
          }
         },
         "name": "Viewing Assistant ",
         "offsetgroup": "Viewing Assistant ",
         "orientation": "h",
         "showlegend": true,
         "textposition": "auto",
         "type": "bar",
         "x": [
          86400000,
          86400000,
          86400000,
          86400000,
          86400000,
          86400000,
          86400000,
          86400000,
          86400000,
          86400000,
          86400000,
          86400000,
          86400000,
          86400000,
          86400000,
          86400000,
          86400000,
          86400000,
          86400000,
          86400000,
          86400000,
          86400000,
          86400000,
          86400000,
          86400000,
          86400000,
          86400000,
          86400000,
          86400000,
          86400000,
          86400000,
          86400000,
          86400000,
          86400000,
          86400000,
          86400000,
          86400000,
          86400000,
          86400000,
          86400000,
          86400000,
          86400000,
          86400000,
          86400000,
          86400000,
          86400000,
          86400000,
          86400000,
          86400000,
          86400000,
          86400000,
          86400000,
          86400000,
          86400000,
          86400000,
          86400000,
          86400000,
          86400000,
          86400000,
          86400000,
          86400000,
          86400000,
          86400000,
          86400000,
          86400000,
          86400000,
          86400000,
          86400000,
          86400000,
          86400000,
          86400000,
          86400000,
          86400000,
          86400000,
          86400000,
          86400000
         ],
         "xaxis": "x",
         "y": [
          "David Pereira",
          "David Pereira",
          "David Pereira",
          "David Pereira",
          "David Pereira",
          "Diogo Costa",
          "Diogo Costa",
          "Diogo Costa",
          "Diogo Costa",
          "Diogo Costa",
          "Diogo Costa",
          "Diogo Oliveira",
          "Diogo Pereira",
          "Diogo Pereira",
          "Diogo Pereira",
          "Diogo Pereira",
          "Diogo Pereira",
          "Duarte Martins",
          "Eduardo Silva",
          "Eduardo Silva",
          "Eduardo Silva",
          "Eduardo Silva",
          "Eduardo Silva",
          "Eduardo Silva",
          "Elijah Campbell",
          "Elijah Campbell",
          "Elizabeth Adams",
          "Elizabeth Adams",
          "Elizabeth Adams",
          "Elizabeth Adams",
          "Ethan Jones",
          "Filipe Carvalho",
          "Filipe Carvalho",
          "Filipe Carvalho",
          "Filipe Carvalho",
          "Filipe Carvalho",
          "Francisco Lopes",
          "Francisco Lopes",
          "Francisco Lopes",
          "Francisco Rodrigues",
          "Francisco Rodrigues",
          "Francisco Rodrigues",
          "Francisco Rodrigues",
          "Francisco Rodrigues",
          "Gabriel Santos",
          "Gabriel Santos",
          "Gabriel Santos",
          "Gabriel Santos",
          "Gabriel Santos",
          "Gabriel Santos",
          "Gabriel Santos",
          "Inês Pinto",
          "Inês Pinto",
          "Inês Pinto",
          "Inês Pinto",
          "Inês Pinto",
          "Inês Pinto",
          "Isaac Jackson",
          "Isaac Jackson",
          "Isaac Jackson",
          "Isaac Jackson",
          "Isaac Jackson",
          "Isaac Jackson",
          "Isaac Jackson",
          "Isabela Costa",
          "Isabela Costa",
          "Isabela Costa",
          "Isabela Costa",
          "Isabela Costa",
          "Isabela Costa",
          "Isabela Costa",
          "Isabella Jackson",
          "Isabella Jackson",
          "Isabella Jackson",
          "Isabella Jackson",
          "Isabella Jackson"
         ],
         "yaxis": "y"
        },
        {
         "alignmentgroup": "True",
         "base": [
          "2023-06-7",
          "2023-06-5",
          "2023-06-4",
          "2023-06-9",
          "2023-06-5",
          "2023-06-6",
          "2023-06-5",
          "2023-06-5",
          "2023-06-4"
         ],
         "customdata": [
          [
           "Catalogue Desk Assistant ",
           4,
           3,
           5
          ],
          [
           "Catalogue Desk Assistant ",
           5,
           0,
           4
          ],
          [
           "Catalogue Desk Assistant ",
           5,
           0,
           4
          ],
          [
           "Catalogue Desk Assistant ",
           5,
           4,
           3
          ],
          [
           "Catalogue Desk Assistant ",
           5,
           4,
           3
          ],
          [
           "Catalogue Desk Assistant ",
           5,
           4,
           3
          ],
          [
           "Catalogue Desk Assistant ",
           4,
           2,
           5
          ],
          [
           "Catalogue Desk Assistant ",
           4,
           3,
           2
          ],
          [
           "Catalogue Desk Assistant ",
           5,
           1,
           1
          ]
         ],
         "hovertemplate": "Position Type=Catalogue Desk Assistant <br>Start=%{base}<br>Finish=%{x}<br>Candidate Name=%{y}<br>Position=%{customdata[0]}<br>Experience=%{customdata[1]}<br>Language Skills=%{customdata[2]}<br>Presentation Skills=%{customdata[3]}<extra></extra>",
         "legendgroup": "Catalogue Desk Assistant ",
         "marker": {
          "color": "#FFA15A",
          "pattern": {
           "shape": ""
          }
         },
         "name": "Catalogue Desk Assistant ",
         "offsetgroup": "Catalogue Desk Assistant ",
         "orientation": "h",
         "showlegend": true,
         "textposition": "auto",
         "type": "bar",
         "x": [
          86400000,
          86400000,
          86400000,
          86400000,
          86400000,
          86400000,
          86400000,
          86400000,
          86400000
         ],
         "xaxis": "x",
         "y": [
          "Colton Wright",
          "Ellie Turner",
          "Ellie Turner",
          "Ethan Jones",
          "Ethan Jones",
          "Ethan Jones",
          "Francisco Ferreira",
          "Francisco Santos",
          "Isabella Jackson"
         ],
         "yaxis": "y"
        },
        {
         "alignmentgroup": "True",
         "base": [
          "2023-06-2",
          "2023-06-3",
          "2023-06-6",
          "2023-06-4",
          "2023-06-8"
         ],
         "customdata": [
          [
           "Operations & Administration Packer ",
           5,
           1,
           1
          ],
          [
           "Operations & Administration Packer ",
           5,
           1,
           1
          ],
          [
           "Operations & Administration Packer ",
           5,
           1,
           1
          ],
          [
           "Operations & Administration Packer ",
           5,
           1,
           1
          ],
          [
           "Operations & Administration Packer ",
           5,
           1,
           1
          ]
         ],
         "hovertemplate": "Position Type=Operations & Administration Packer <br>Start=%{base}<br>Finish=%{x}<br>Candidate Name=%{y}<br>Position=%{customdata[0]}<br>Experience=%{customdata[1]}<br>Language Skills=%{customdata[2]}<br>Presentation Skills=%{customdata[3]}<extra></extra>",
         "legendgroup": "Operations & Administration Packer ",
         "marker": {
          "color": "#19d3f3",
          "pattern": {
           "shape": ""
          }
         },
         "name": "Operations & Administration Packer ",
         "offsetgroup": "Operations & Administration Packer ",
         "orientation": "h",
         "showlegend": true,
         "textposition": "auto",
         "type": "bar",
         "x": [
          86400000,
          86400000,
          86400000,
          86400000,
          86400000
         ],
         "xaxis": "x",
         "y": [
          "Gonçalo Oliveira",
          "Gonçalo Oliveira",
          "Gonçalo Oliveira",
          "Gonçalo Oliveira",
          "Gonçalo Oliveira"
         ],
         "yaxis": "y"
        },
        {
         "alignmentgroup": "True",
         "base": [
          "2023-06-6",
          "2023-06-5",
          "2023-06-5",
          "2023-06-7",
          "2023-06-8",
          "2023-06-9",
          "2023-06-8",
          "2023-06-7",
          "2023-06-8",
          "2023-06-9",
          "2023-06-5",
          "2023-06-8",
          "2023-06-5",
          "2023-06-8",
          "2023-06-7",
          "2023-06-6"
         ],
         "customdata": [
          [
           "Public Relationship Assistant ",
           5,
           5,
           3
          ],
          [
           "Public Relationship Assistant ",
           5,
           5,
           3
          ],
          [
           "Public Relationship Assistant ",
           5,
           1,
           5
          ],
          [
           "Public Relationship Assistant ",
           5,
           1,
           5
          ],
          [
           "Public Relationship Assistant ",
           5,
           1,
           5
          ],
          [
           "Public Relationship Assistant ",
           5,
           5,
           3
          ],
          [
           "Public Relationship Assistant ",
           5,
           5,
           3
          ],
          [
           "Public Relationship Assistant ",
           5,
           4,
           4
          ],
          [
           "Public Relationship Assistant ",
           5,
           4,
           4
          ],
          [
           "Public Relationship Assistant ",
           5,
           4,
           4
          ],
          [
           "Public Relationship Assistant ",
           5,
           4,
           4
          ],
          [
           "Public Relationship Assistant ",
           4,
           3,
           0
          ],
          [
           "Public Relationship Assistant ",
           5,
           1,
           5
          ],
          [
           "Public Relationship Assistant ",
           5,
           1,
           5
          ],
          [
           "Public Relationship Assistant ",
           5,
           1,
           5
          ],
          [
           "Public Relationship Assistant ",
           5,
           1,
           5
          ]
         ],
         "hovertemplate": "Position Type=Public Relationship Assistant <br>Start=%{base}<br>Finish=%{x}<br>Candidate Name=%{y}<br>Position=%{customdata[0]}<br>Experience=%{customdata[1]}<br>Language Skills=%{customdata[2]}<br>Presentation Skills=%{customdata[3]}<extra></extra>",
         "legendgroup": "Public Relationship Assistant ",
         "marker": {
          "color": "#FF6692",
          "pattern": {
           "shape": ""
          }
         },
         "name": "Public Relationship Assistant ",
         "offsetgroup": "Public Relationship Assistant ",
         "orientation": "h",
         "showlegend": true,
         "textposition": "auto",
         "type": "bar",
         "x": [
          86400000,
          86400000,
          86400000,
          86400000,
          86400000,
          86400000,
          86400000,
          86400000,
          86400000,
          86400000,
          86400000,
          86400000,
          86400000,
          86400000,
          86400000,
          86400000
         ],
         "xaxis": "x",
         "y": [
          "Diogo Oliveira",
          "Diogo Oliveira",
          "Elijah Campbell",
          "Elijah Campbell",
          "Elijah Campbell",
          "Eva Nelson",
          "Eva Nelson",
          "Francisco Sousa",
          "Francisco Sousa",
          "Francisco Sousa",
          "Francisco Sousa",
          "Gonçalo Ferreira",
          "Inês Ribeiro",
          "Inês Ribeiro",
          "Inês Ribeiro",
          "Inês Ribeiro"
         ],
         "yaxis": "y"
        },
        {
         "alignmentgroup": "True",
         "base": [
          "2023-06-1",
          "2023-06-9",
          "2023-06-2",
          "2023-06-4",
          "2023-06-5",
          "2023-06-7",
          "2023-06-8",
          "2023-06-2",
          "2023-06-9",
          "2023-06-1",
          "2023-06-7",
          "2023-06-4",
          "2023-06-6",
          "2023-06-5",
          "2023-06-7",
          "2023-06-3",
          "2023-06-4",
          "2023-06-7",
          "2023-06-2",
          "2023-06-4",
          "2023-06-1",
          "2023-06-9",
          "2023-06-6",
          "2023-06-7",
          "2023-06-3",
          "2023-06-6",
          "2023-06-5",
          "2023-06-9",
          "2023-06-2",
          "2023-06-8",
          "2023-06-9",
          "2023-06-8",
          "2023-06-2",
          "2023-06-6",
          "2023-06-8",
          "2023-06-5",
          "2023-06-6",
          "2023-06-3",
          "2023-06-6",
          "2023-06-7",
          "2023-06-1",
          "2023-06-8",
          "2023-06-4",
          "2023-06-5",
          "2023-06-7",
          "2023-06-5",
          "2023-06-7",
          "2023-06-9",
          "2023-06-3",
          "2023-06-4",
          "2023-06-6",
          "2023-06-9",
          "2023-06-1",
          "2023-06-5",
          "2023-06-7",
          "2023-06-3"
         ],
         "customdata": [
          [
           "Dept H Assistant ",
           5,
           5,
           3
          ],
          [
           "Dept C Assistant ",
           5,
           5,
           3
          ],
          [
           "Dept C Assistant ",
           5,
           5,
           3
          ],
          [
           "Dept H Assistant ",
           5,
           5,
           3
          ],
          [
           "Dept C Assistant ",
           5,
           5,
           3
          ],
          [
           "Dept C Assistant ",
           5,
           5,
           3
          ],
          [
           "Dept C Assistant ",
           5,
           3,
           3
          ],
          [
           "Dept H Assistant ",
           5,
           3,
           3
          ],
          [
           "Dept C Assistant ",
           5,
           3,
           3
          ],
          [
           "Dept C Assistant ",
           5,
           3,
           3
          ],
          [
           "Dept C Assistant ",
           5,
           3,
           3
          ],
          [
           "Dept C Assistant ",
           5,
           3,
           3
          ],
          [
           "Dept C Assistant ",
           5,
           4,
           5
          ],
          [
           "Dept C Assistant ",
           5,
           4,
           5
          ],
          [
           "Dept C Assistant ",
           5,
           4,
           5
          ],
          [
           "Dept H Assistant ",
           5,
           4,
           5
          ],
          [
           "Dept C Assistant ",
           5,
           4,
           5
          ],
          [
           "Dept D Assistant ",
           4,
           1,
           0
          ],
          [
           "Dept D Assistant ",
           4,
           1,
           0
          ],
          [
           "Dept A Assistant ",
           4,
           1,
           0
          ],
          [
           "Dept D Assistant ",
           4,
           1,
           0
          ],
          [
           "Dept A Assistant ",
           4,
           1,
           0
          ],
          [
           "Dept E Assistant ",
           4,
           1,
           0
          ],
          [
           "Dept A Assistant ",
           5,
           1,
           3
          ],
          [
           "Dept C Assistant ",
           5,
           1,
           3
          ],
          [
           "Dept D Assistant ",
           5,
           1,
           3
          ],
          [
           "Dept A Assistant ",
           5,
           1,
           3
          ],
          [
           "Dept E Assistant ",
           5,
           1,
           3
          ],
          [
           "Dept D Assistant ",
           5,
           1,
           3
          ],
          [
           "Dept A Assistant ",
           5,
           1,
           3
          ],
          [
           "Dept E Assistant ",
           4,
           4,
           2
          ],
          [
           "Dept E Assistant ",
           4,
           4,
           2
          ],
          [
           "Dept C Assistant ",
           5,
           2,
           1
          ],
          [
           "Dept A Assistant ",
           5,
           2,
           1
          ],
          [
           "Dept C Assistant ",
           5,
           2,
           1
          ],
          [
           "Dept D Assistant ",
           5,
           2,
           1
          ],
          [
           "Dept A Assistant ",
           4,
           4,
           1
          ],
          [
           "Dept D Assistant ",
           4,
           3,
           2
          ],
          [
           "Dept D Assistant ",
           4,
           3,
           2
          ],
          [
           "Dept A Assistant ",
           4,
           3,
           2
          ],
          [
           "Dept D Assistant ",
           4,
           3,
           2
          ],
          [
           "Dept A Assistant ",
           4,
           3,
           2
          ],
          [
           "Dept D Assistant ",
           4,
           3,
           2
          ],
          [
           "Dept A Assistant ",
           4,
           1,
           1
          ],
          [
           "Dept E Assistant ",
           4,
           1,
           1
          ],
          [
           "Dept A Assistant ",
           5,
           1,
           3
          ],
          [
           "Dept E Assistant ",
           5,
           1,
           3
          ],
          [
           "Dept A Assistant ",
           5,
           1,
           3
          ],
          [
           "Dept H Assistant ",
           5,
           1,
           3
          ],
          [
           "Dept D Assistant ",
           5,
           1,
           3
          ],
          [
           "Dept A Assistant ",
           5,
           2,
           5
          ],
          [
           "Dept C Assistant ",
           5,
           2,
           5
          ],
          [
           "Dept C Assistant ",
           5,
           2,
           5
          ],
          [
           "Dept D Assistant ",
           5,
           2,
           5
          ],
          [
           "Dept D Assistant ",
           5,
           2,
           5
          ],
          [
           "Dept C Assistant ",
           5,
           2,
           5
          ]
         ],
         "hovertemplate": "Position Type=Assistant <br>Start=%{base}<br>Finish=%{x}<br>Candidate Name=%{y}<br>Position=%{customdata[0]}<br>Experience=%{customdata[1]}<br>Language Skills=%{customdata[2]}<br>Presentation Skills=%{customdata[3]}<extra></extra>",
         "legendgroup": "Assistant ",
         "marker": {
          "color": "#B6E880",
          "pattern": {
           "shape": ""
          }
         },
         "name": "Assistant ",
         "offsetgroup": "Assistant ",
         "orientation": "h",
         "showlegend": true,
         "textposition": "auto",
         "type": "bar",
         "x": [
          86400000,
          86400000,
          86400000,
          86400000,
          86400000,
          86400000,
          86400000,
          86400000,
          86400000,
          86400000,
          86400000,
          86400000,
          86400000,
          86400000,
          86400000,
          86400000,
          86400000,
          86400000,
          86400000,
          86400000,
          86400000,
          86400000,
          86400000,
          86400000,
          86400000,
          86400000,
          86400000,
          86400000,
          86400000,
          86400000,
          86400000,
          86400000,
          86400000,
          86400000,
          86400000,
          86400000,
          86400000,
          86400000,
          86400000,
          86400000,
          86400000,
          86400000,
          86400000,
          86400000,
          86400000,
          86400000,
          86400000,
          86400000,
          86400000,
          86400000,
          86400000,
          86400000,
          86400000,
          86400000,
          86400000,
          86400000
         ],
         "xaxis": "x",
         "y": [
          "David Wilson",
          "David Wilson",
          "David Wilson",
          "David Wilson",
          "David Wilson",
          "David Wilson",
          "Diana Fernandes",
          "Diana Fernandes",
          "Diana Fernandes",
          "Diana Fernandes",
          "Diana Fernandes",
          "Diana Fernandes",
          "Duarte Alves",
          "Duarte Alves",
          "Duarte Alves",
          "Duarte Alves",
          "Duarte Alves",
          "Dylan Hernandez",
          "Dylan Hernandez",
          "Dylan Hernandez",
          "Dylan Hernandez",
          "Dylan Hernandez",
          "Dylan Hernandez",
          "Eduardo Sousa",
          "Eduardo Sousa",
          "Eduardo Sousa",
          "Eduardo Sousa",
          "Eduardo Sousa",
          "Eduardo Sousa",
          "Eduardo Sousa",
          "Emily Martin",
          "Emily Martin",
          "Ethan Flores",
          "Ethan Flores",
          "Ethan Flores",
          "Ethan Flores",
          "Francisca Oliveira",
          "Gonçalo Martins",
          "Gonçalo Martins",
          "Gonçalo Martins",
          "Gonçalo Martins",
          "Gonçalo Martins",
          "Gonçalo Martins",
          "Gonçalo Oliveira",
          "Gonçalo Oliveira",
          "Grace Turner",
          "Grace Turner",
          "Grace Turner",
          "Grace Turner",
          "Grace Turner",
          "Inês Martins",
          "Inês Martins",
          "Inês Martins",
          "Inês Martins",
          "Inês Martins",
          "Inês Martins"
         ],
         "yaxis": "y"
        },
        {
         "alignmentgroup": "True",
         "base": [
          "2023-06-7",
          "2023-06-8",
          "2023-06-5",
          "2023-06-6",
          "2023-06-4",
          "2023-06-7",
          "2023-06-6",
          "2023-06-8",
          "2023-06-5",
          "2023-06-6",
          "2023-06-4",
          "2023-06-7",
          "2023-06-5",
          "2023-06-6",
          "2023-06-7",
          "2023-06-4",
          "2023-06-5",
          "2023-06-6",
          "2023-06-7"
         ],
         "customdata": [
          [
           "Currency Board Operator (Saleroom 1) ",
           4,
           5,
           0
          ],
          [
           "Currency Board Operator (Saleroom 2) ",
           5,
           2,
           3
          ],
          [
           "Currency Board Operator (Saleroom 1) ",
           5,
           2,
           3
          ],
          [
           "Currency Board Operator (Saleroom 2) ",
           5,
           2,
           3
          ],
          [
           "Currency Board Operator (Saleroom 1) ",
           5,
           4,
           0
          ],
          [
           "Currency Board Operator (Saleroom 2) ",
           5,
           4,
           0
          ],
          [
           "Currency Board Operator (Saleroom 2) ",
           5,
           4,
           0
          ],
          [
           "Currency Board Operator (Saleroom 2) ",
           5,
           4,
           0
          ],
          [
           "Currency Board Operator (Saleroom 2) ",
           5,
           4,
           0
          ],
          [
           "Currency Board Operator (Saleroom 1) ",
           4,
           3,
           2
          ],
          [
           "Currency Board Operator (Saleroom 1) ",
           4,
           3,
           2
          ],
          [
           "Currency Board Operator (Saleroom 1) ",
           4,
           3,
           2
          ],
          [
           "Currency Board Operator (Saleroom 1) ",
           5,
           1,
           1
          ],
          [
           "Currency Board Operator (Saleroom 1) ",
           5,
           1,
           1
          ],
          [
           "Currency Board Operator (Saleroom 1) ",
           5,
           1,
           1
          ],
          [
           "Currency Board Operator (Saleroom 1) ",
           5,
           1,
           1
          ],
          [
           "Currency Board Operator (Saleroom 2) ",
           5,
           4,
           0
          ],
          [
           "Currency Board Operator (Saleroom 2) ",
           5,
           4,
           0
          ],
          [
           "Currency Board Operator (Saleroom 2) ",
           5,
           4,
           0
          ]
         ],
         "hovertemplate": "Position Type=Currency Board Operator<br>Start=%{base}<br>Finish=%{x}<br>Candidate Name=%{y}<br>Position=%{customdata[0]}<br>Experience=%{customdata[1]}<br>Language Skills=%{customdata[2]}<br>Presentation Skills=%{customdata[3]}<extra></extra>",
         "legendgroup": "Currency Board Operator",
         "marker": {
          "color": "#FF97FF",
          "pattern": {
           "shape": ""
          }
         },
         "name": "Currency Board Operator",
         "offsetgroup": "Currency Board Operator",
         "orientation": "h",
         "showlegend": true,
         "textposition": "auto",
         "type": "bar",
         "x": [
          86400000,
          86400000,
          86400000,
          86400000,
          86400000,
          86400000,
          86400000,
          86400000,
          86400000,
          86400000,
          86400000,
          86400000,
          86400000,
          86400000,
          86400000,
          86400000,
          86400000,
          86400000,
          86400000
         ],
         "xaxis": "x",
         "y": [
          "David Fernandes",
          "Eli Wright",
          "Eli Wright",
          "Eli Wright",
          "Francisco Fernandes",
          "Francisco Fernandes",
          "Francisco Fernandes",
          "Francisco Fernandes",
          "Francisco Fernandes",
          "Francisco Santos",
          "Francisco Santos",
          "Francisco Santos",
          "Gabriel Turner",
          "Gabriel Turner",
          "Gabriel Turner",
          "Gabriel Turner",
          "Henrique Pereira",
          "Henrique Pereira",
          "Henrique Pereira"
         ],
         "yaxis": "y"
        },
        {
         "alignmentgroup": "True",
         "base": [
          "2023-06-2",
          "2023-06-6",
          "2023-06-5",
          "2023-06-8",
          "2023-06-1",
          "2023-06-4",
          "2023-06-6",
          "2023-06-7",
          "2023-06-3",
          "2023-06-2",
          "2023-06-1",
          "2023-06-5",
          "2023-06-5",
          "2023-06-1",
          "2023-06-6",
          "2023-06-4",
          "2023-06-3",
          "2023-06-1",
          "2023-06-2",
          "2023-06-4",
          "2023-06-2",
          "2023-06-6",
          "2023-06-3",
          "2023-06-2",
          "2023-06-5",
          "2023-06-1",
          "2023-06-8",
          "2023-06-7",
          "2023-06-1",
          "2023-06-4",
          "2023-06-3",
          "2023-06-6",
          "2023-06-2",
          "2023-06-3",
          "2023-06-2"
         ],
         "customdata": [
          [
           "Dept B Packing Assistant ",
           5,
           3,
           5
          ],
          [
           "Dept L Packing Assistant ",
           5,
           3,
           5
          ],
          [
           "Dept K Packing Assistant ",
           5,
           3,
           5
          ],
          [
           "Dept K Packing Assistant ",
           5,
           1,
           4
          ],
          [
           "Dept L Packing Assistant ",
           5,
           1,
           4
          ],
          [
           "Dept L Packing Assistant ",
           5,
           1,
           4
          ],
          [
           "Dept K Packing Assistant ",
           5,
           1,
           4
          ],
          [
           "Dept K Packing Assistant ",
           5,
           1,
           4
          ],
          [
           "Dept L Packing Assistant ",
           4,
           1,
           1
          ],
          [
           "Dept L Packing Assistant ",
           4,
           1,
           1
          ],
          [
           "Dept L Packing Assistant ",
           4,
           1,
           1
          ],
          [
           "Dept L Packing Assistant ",
           4,
           1,
           1
          ],
          [
           "Dept K Packing Assistant ",
           5,
           4,
           2
          ],
          [
           "Dept B Packing Assistant ",
           5,
           4,
           2
          ],
          [
           "Dept K Packing Assistant ",
           5,
           4,
           2
          ],
          [
           "Dept L Packing Assistant ",
           5,
           4,
           2
          ],
          [
           "Dept K Packing Assistant ",
           5,
           4,
           2
          ],
          [
           "Dept K Packing Assistant ",
           5,
           5,
           3
          ],
          [
           "Dept L Packing Assistant ",
           5,
           5,
           3
          ],
          [
           "Dept F Packing Assistant ",
           4,
           0,
           2
          ],
          [
           "Dept B Packing Assistant ",
           4,
           0,
           2
          ],
          [
           "Dept L Packing Assistant ",
           5,
           1,
           3
          ],
          [
           "Dept F Packing Assistant ",
           5,
           1,
           3
          ],
          [
           "Dept K Packing Assistant ",
           5,
           1,
           3
          ],
          [
           "Dept L Packing Assistant ",
           5,
           1,
           3
          ],
          [
           "Dept B Packing Assistant ",
           5,
           1,
           3
          ],
          [
           "Dept K Packing Assistant ",
           5,
           1,
           3
          ],
          [
           "Dept K Packing Assistant ",
           5,
           1,
           3
          ],
          [
           "Dept B Packing Assistant ",
           4,
           2,
           5
          ],
          [
           "Dept L Packing Assistant ",
           4,
           2,
           4
          ],
          [
           "Dept F Packing Assistant ",
           4,
           2,
           4
          ],
          [
           "Dept L Packing Assistant ",
           5,
           0,
           3
          ],
          [
           "Dept B Packing Assistant ",
           4,
           1,
           2
          ],
          [
           "Dept L Packing Assistant ",
           4,
           1,
           2
          ],
          [
           "Dept L Packing Assistant ",
           3,
           3,
           0
          ]
         ],
         "hovertemplate": "Position Type=Packing Assistant <br>Start=%{base}<br>Finish=%{x}<br>Candidate Name=%{y}<br>Position=%{customdata[0]}<br>Experience=%{customdata[1]}<br>Language Skills=%{customdata[2]}<br>Presentation Skills=%{customdata[3]}<extra></extra>",
         "legendgroup": "Packing Assistant ",
         "marker": {
          "color": "#FECB52",
          "pattern": {
           "shape": ""
          }
         },
         "name": "Packing Assistant ",
         "offsetgroup": "Packing Assistant ",
         "orientation": "h",
         "showlegend": true,
         "textposition": "auto",
         "type": "bar",
         "x": [
          86400000,
          86400000,
          86400000,
          86400000,
          86400000,
          86400000,
          86400000,
          86400000,
          86400000,
          86400000,
          86400000,
          86400000,
          86400000,
          86400000,
          86400000,
          86400000,
          86400000,
          86400000,
          86400000,
          86400000,
          86400000,
          86400000,
          86400000,
          86400000,
          86400000,
          86400000,
          86400000,
          86400000,
          86400000,
          86400000,
          86400000,
          86400000,
          86400000,
          86400000,
          86400000
         ],
         "xaxis": "x",
         "y": [
          "Colton Wright",
          "Colton Wright",
          "Colton Wright",
          "Diogo Cunha",
          "Diogo Cunha",
          "Diogo Cunha",
          "Diogo Cunha",
          "Diogo Cunha",
          "Duarte Martins",
          "Duarte Martins",
          "Duarte Martins",
          "Duarte Martins",
          "Emily Martin",
          "Emily Martin",
          "Emily Martin",
          "Emma Carter",
          "Emma Carter",
          "Eva Nelson",
          "Eva Nelson",
          "Filipa Rodrigues",
          "Filipa Rodrigues",
          "Francisca Ferreira",
          "Francisca Ferreira",
          "Francisca Ferreira",
          "Francisca Ferreira",
          "Francisca Ferreira",
          "Francisca Ferreira",
          "Francisca Ferreira",
          "Francisco Ferreira",
          "Gabriel Ferreira",
          "Gabriel Ferreira",
          "Gabriel Sousa",
          "Gonçalo Castro",
          "Gonçalo Castro",
          "Gonçalo Ferreira"
         ],
         "yaxis": "y"
        },
        {
         "alignmentgroup": "True",
         "base": [
          "2023-06-5",
          "2023-06-1",
          "2023-06-6",
          "2023-06-2",
          "2023-06-8",
          "2023-06-7",
          "2023-06-9",
          "2023-06-2",
          "2023-06-1",
          "2023-06-5",
          "2023-06-6",
          "2023-06-9",
          "2023-06-4",
          "2023-06-1",
          "2023-06-3",
          "2023-06-2",
          "2023-06-7",
          "2023-06-9",
          "2023-06-3",
          "2023-06-4",
          "2023-06-7",
          "2023-06-6",
          "2023-06-9",
          "2023-06-2",
          "2023-06-5",
          "2023-06-5",
          "2023-06-8",
          "2023-06-1"
         ],
         "customdata": [
          [
           "London Jewellery Viewing Assistant ",
           5,
           0,
           3
          ],
          [
           "London Jewellery Viewing Assistant ",
           5,
           0,
           3
          ],
          [
           "London Jewellery Viewing Assistant ",
           5,
           0,
           3
          ],
          [
           "London Jewellery Viewing Assistant ",
           5,
           0,
           3
          ],
          [
           "London Jewellery Viewing Assistant ",
           5,
           0,
           3
          ],
          [
           "London Jewellery Viewing Assistant ",
           5,
           0,
           3
          ],
          [
           "London Jewellery Viewing Assistant ",
           5,
           2,
           3
          ],
          [
           "London Jewellery Viewing Assistant ",
           4,
           2,
           3
          ],
          [
           "London Jewellery Viewing Assistant ",
           4,
           2,
           3
          ],
          [
           "London Jewellery Viewing Assistant ",
           5,
           0,
           2
          ],
          [
           "London Jewellery Viewing Assistant ",
           5,
           0,
           2
          ],
          [
           "London Jewellery Viewing Assistant ",
           5,
           0,
           2
          ],
          [
           "London Jewellery Viewing Assistant ",
           5,
           0,
           5
          ],
          [
           "London Jewellery Viewing Assistant ",
           5,
           0,
           5
          ],
          [
           "London Jewellery Viewing Assistant ",
           5,
           0,
           5
          ],
          [
           "London Jewellery Viewing Assistant ",
           5,
           0,
           5
          ],
          [
           "London Jewellery Viewing Assistant ",
           4,
           2,
           5
          ],
          [
           "London Jewellery Viewing Assistant ",
           4,
           2,
           5
          ],
          [
           "London Jewellery Viewing Assistant ",
           4,
           2,
           5
          ],
          [
           "London Jewellery Viewing Assistant ",
           4,
           2,
           5
          ],
          [
           "London Jewellery Viewing Assistant ",
           4,
           2,
           4
          ],
          [
           "London Jewellery Viewing Assistant ",
           4,
           2,
           4
          ],
          [
           "London Jewellery Viewing Assistant ",
           4,
           2,
           4
          ],
          [
           "London Jewellery Viewing Assistant ",
           4,
           2,
           4
          ],
          [
           "London Jewellery Viewing Assistant ",
           4,
           2,
           4
          ],
          [
           "London Jewellery Viewing Assistant ",
           5,
           3,
           2
          ],
          [
           "London Jewellery Viewing Assistant ",
           5,
           3,
           2
          ],
          [
           "London Jewellery Viewing Assistant ",
           5,
           4,
           0
          ]
         ],
         "hovertemplate": "Position Type=London Jewellery Viewing Assistant <br>Start=%{base}<br>Finish=%{x}<br>Candidate Name=%{y}<br>Position=%{customdata[0]}<br>Experience=%{customdata[1]}<br>Language Skills=%{customdata[2]}<br>Presentation Skills=%{customdata[3]}<extra></extra>",
         "legendgroup": "London Jewellery Viewing Assistant ",
         "marker": {
          "color": "#EF553B",
          "pattern": {
           "shape": ""
          }
         },
         "name": "London Jewellery Viewing Assistant ",
         "offsetgroup": "London Jewellery Viewing Assistant ",
         "orientation": "h",
         "showlegend": true,
         "textposition": "auto",
         "type": "bar",
         "x": [
          86400000,
          86400000,
          86400000,
          86400000,
          86400000,
          86400000,
          86400000,
          86400000,
          86400000,
          86400000,
          86400000,
          86400000,
          86400000,
          86400000,
          86400000,
          86400000,
          86400000,
          86400000,
          86400000,
          86400000,
          86400000,
          86400000,
          86400000,
          86400000,
          86400000,
          86400000,
          86400000,
          86400000
         ],
         "xaxis": "x",
         "y": [
          "David Mitchell",
          "David Mitchell",
          "David Mitchell",
          "David Mitchell",
          "David Mitchell",
          "David Mitchell",
          "Diana Costa",
          "Eli Wright",
          "Eli Wright",
          "Filipa Rodrigues",
          "Filipa Rodrigues",
          "Filipa Rodrigues",
          "Francisca Castro",
          "Francisca Castro",
          "Francisca Castro",
          "Francisca Castro",
          "Francisco Ferreira",
          "Francisco Ferreira",
          "Francisco Ferreira",
          "Francisco Ferreira",
          "Gabriel Ferreira",
          "Gabriel Ferreira",
          "Gabriel Ferreira",
          "Gabriel Ferreira",
          "Gabriel Ferreira",
          "Gonçalo Martins",
          "Guilherme Silva",
          "Henrique Pereira"
         ],
         "yaxis": "y"
        },
        {
         "alignmentgroup": "True",
         "base": [
          "2023-06-4",
          "2023-06-2",
          "2023-06-3",
          "2023-06-7",
          "2023-06-7",
          "2023-06-6",
          "2023-06-2",
          "2023-06-9",
          "2023-06-3",
          "2023-06-3",
          "2023-06-2",
          "2023-06-3",
          "2023-06-8",
          "2023-06-9",
          "2023-06-9",
          "2023-06-8",
          "2023-06-9",
          "2023-06-4",
          "2023-06-7",
          "2023-06-8",
          "2023-06-6",
          "2023-06-5"
         ],
         "customdata": [
          [
           "Cloak Room Assistant ",
           5,
           5,
           3
          ],
          [
           "Cloak Room Assistant ",
           5,
           5,
           3
          ],
          [
           "Cloak Room Assistant ",
           5,
           5,
           3
          ],
          [
           "Cloak Room Assistant ",
           5,
           5,
           3
          ],
          [
           "Cloak Room Assistant ",
           5,
           5,
           3
          ],
          [
           "Cloak Room Assistant ",
           5,
           2,
           5
          ],
          [
           "Cloak Room Assistant ",
           4,
           3,
           2
          ],
          [
           "Cloak Room Assistant ",
           4,
           3,
           2
          ],
          [
           "Cloak Room Assistant ",
           4,
           3,
           2
          ],
          [
           "Cloak Room Assistant ",
           5,
           4,
           4
          ],
          [
           "Cloak Room Assistant ",
           5,
           4,
           4
          ],
          [
           "Cloak Room Assistant ",
           5,
           1,
           1
          ],
          [
           "Cloak Room Assistant ",
           5,
           1,
           1
          ],
          [
           "Cloak Room Assistant ",
           5,
           1,
           1
          ],
          [
           "Cloak Room Assistant ",
           5,
           2,
           2
          ],
          [
           "Cloak Room Assistant ",
           5,
           2,
           2
          ],
          [
           "Cloak Room Assistant ",
           5,
           4,
           0
          ],
          [
           "Cloak Room Assistant ",
           5,
           1,
           2
          ],
          [
           "Cloak Room Assistant ",
           5,
           4,
           1
          ],
          [
           "Cloak Room Assistant ",
           5,
           4,
           1
          ],
          [
           "Cloak Room Assistant ",
           5,
           4,
           1
          ],
          [
           "Cloak Room Assistant ",
           5,
           4,
           1
          ]
         ],
         "hovertemplate": "Position Type=Cloak Room Assistant <br>Start=%{base}<br>Finish=%{x}<br>Candidate Name=%{y}<br>Position=%{customdata[0]}<br>Experience=%{customdata[1]}<br>Language Skills=%{customdata[2]}<br>Presentation Skills=%{customdata[3]}<extra></extra>",
         "legendgroup": "Cloak Room Assistant ",
         "marker": {
          "color": "#00cc96",
          "pattern": {
           "shape": ""
          }
         },
         "name": "Cloak Room Assistant ",
         "offsetgroup": "Cloak Room Assistant ",
         "orientation": "h",
         "showlegend": true,
         "textposition": "auto",
         "type": "bar",
         "x": [
          86400000,
          86400000,
          86400000,
          86400000,
          86400000,
          86400000,
          86400000,
          86400000,
          86400000,
          86400000,
          86400000,
          86400000,
          86400000,
          86400000,
          86400000,
          86400000,
          86400000,
          86400000,
          86400000,
          86400000,
          86400000,
          86400000
         ],
         "xaxis": "x",
         "y": [
          "Diogo Oliveira",
          "Diogo Oliveira",
          "Diogo Oliveira",
          "Diogo Oliveira",
          "Eva Nelson",
          "Francisco Ferreira",
          "Francisco Santos",
          "Francisco Santos",
          "Francisco Santos",
          "Francisco Sousa",
          "Francisco Sousa",
          "Gabriel Turner",
          "Gabriel Turner",
          "Gabriel Turner",
          "Harper Johnson",
          "Harper Johnson",
          "Henrique Pereira",
          "Inês Pinto",
          "Isabella Mitchell",
          "Isabella Mitchell",
          "Isabella Mitchell",
          "Isabella Mitchell"
         ],
         "yaxis": "y"
        },
        {
         "alignmentgroup": "True",
         "base": [
          "2023-06-3",
          "2023-06-3",
          "2023-06-6",
          "2023-06-4",
          "2023-06-7",
          "2023-06-5",
          "2023-06-7"
         ],
         "customdata": [
          [
           "Spotter ",
           5,
           4,
           0
          ],
          [
           "Spotter ",
           4,
           3,
           0
          ],
          [
           "Spotter ",
           4,
           3,
           0
          ],
          [
           "Spotter ",
           4,
           3,
           0
          ],
          [
           "Spotter ",
           4,
           3,
           0
          ],
          [
           "Spotter ",
           4,
           3,
           0
          ],
          [
           "Spotter ",
           5,
           2,
           2
          ]
         ],
         "hovertemplate": "Position Type=Spotter <br>Start=%{base}<br>Finish=%{x}<br>Candidate Name=%{y}<br>Position=%{customdata[0]}<br>Experience=%{customdata[1]}<br>Language Skills=%{customdata[2]}<br>Presentation Skills=%{customdata[3]}<extra></extra>",
         "legendgroup": "Spotter ",
         "marker": {
          "color": "#ab63fa",
          "pattern": {
           "shape": ""
          }
         },
         "name": "Spotter ",
         "offsetgroup": "Spotter ",
         "orientation": "h",
         "showlegend": true,
         "textposition": "auto",
         "type": "bar",
         "x": [
          86400000,
          86400000,
          86400000,
          86400000,
          86400000,
          86400000,
          86400000
         ],
         "xaxis": "x",
         "y": [
          "Francisco Fernandes",
          "Gonçalo Ferreira",
          "Gonçalo Ferreira",
          "Gonçalo Ferreira",
          "Gonçalo Ferreira",
          "Gonçalo Ferreira",
          "Harper Johnson"
         ],
         "yaxis": "y"
        },
        {
         "alignmentgroup": "True",
         "base": [
          "2023-06-2",
          "2023-06-4",
          "2023-06-3",
          "2023-06-2",
          "2023-06-1",
          "2023-06-6",
          "2023-06-4",
          "2023-06-3",
          "2023-06-5",
          "2023-06-7"
         ],
         "customdata": [
          [
           "Client Services Assistant ",
           5,
           4,
           0
          ],
          [
           "Client Services Assistant ",
           5,
           1,
           5
          ],
          [
           "Client Services Assistant ",
           5,
           1,
           5
          ],
          [
           "Client Services Assistant ",
           5,
           1,
           5
          ],
          [
           "Client Services Assistant ",
           4,
           4,
           1
          ],
          [
           "Client Services Assistant ",
           5,
           4,
           2
          ],
          [
           "Client Services Assistant ",
           5,
           4,
           2
          ],
          [
           "Client Services Assistant ",
           5,
           4,
           2
          ],
          [
           "Client Services Assistant ",
           5,
           4,
           2
          ],
          [
           "Client Services Assistant ",
           5,
           4,
           2
          ]
         ],
         "hovertemplate": "Position Type=Client Services Assistant <br>Start=%{base}<br>Finish=%{x}<br>Candidate Name=%{y}<br>Position=%{customdata[0]}<br>Experience=%{customdata[1]}<br>Language Skills=%{customdata[2]}<br>Presentation Skills=%{customdata[3]}<extra></extra>",
         "legendgroup": "Client Services Assistant ",
         "marker": {
          "color": "#FFA15A",
          "pattern": {
           "shape": ""
          }
         },
         "name": "Client Services Assistant ",
         "offsetgroup": "Client Services Assistant ",
         "orientation": "h",
         "showlegend": true,
         "textposition": "auto",
         "type": "bar",
         "x": [
          86400000,
          86400000,
          86400000,
          86400000,
          86400000,
          86400000,
          86400000,
          86400000,
          86400000,
          86400000
         ],
         "xaxis": "x",
         "y": [
          "Francisco Fernandes",
          "Inês Ribeiro",
          "Inês Ribeiro",
          "Inês Ribeiro",
          "Isabella Mitchell",
          "Isaiah Hernandez",
          "Isaiah Hernandez",
          "Isaiah Hernandez",
          "Isaiah Hernandez",
          "Isaiah Hernandez"
         ],
         "yaxis": "y"
        },
        {
         "alignmentgroup": "True",
         "base": [
          "2023-06-5",
          "2023-06-8",
          "2023-06-2",
          "2023-06-3",
          "2023-06-4",
          "2023-06-1",
          "2023-06-2",
          "2023-06-9",
          "2023-06-3",
          "2023-06-2",
          "2023-06-5",
          "2023-06-1"
         ],
         "customdata": [
          [
           "Information Assistant ",
           5,
           1,
           5
          ],
          [
           "Information Assistant (Hall 3B) ",
           5,
           1,
           5
          ],
          [
           "Information Assistant (Hall 3B) ",
           5,
           1,
           5
          ],
          [
           "Information Assistant (Hall 3B) ",
           5,
           1,
           5
          ],
          [
           "Information Assistant ",
           5,
           1,
           5
          ],
          [
           "Information Assistant ",
           5,
           3,
           2
          ],
          [
           "Information Assistant ",
           5,
           3,
           2
          ],
          [
           "Information Assistant (Hall 3B) ",
           5,
           3,
           2
          ],
          [
           "Information Assistant ",
           5,
           3,
           2
          ],
          [
           "Information Assistant (Hall 3B) ",
           5,
           2,
           2
          ],
          [
           "Information Assistant (Hall 3B) ",
           5,
           2,
           2
          ],
          [
           "Information Assistant ",
           5,
           2,
           2
          ]
         ],
         "hovertemplate": "Position Type=Information Assistant <br>Start=%{base}<br>Finish=%{x}<br>Candidate Name=%{y}<br>Position=%{customdata[0]}<br>Experience=%{customdata[1]}<br>Language Skills=%{customdata[2]}<br>Presentation Skills=%{customdata[3]}<extra></extra>",
         "legendgroup": "Information Assistant ",
         "marker": {
          "color": "#FF6692",
          "pattern": {
           "shape": ""
          }
         },
         "name": "Information Assistant ",
         "offsetgroup": "Information Assistant ",
         "orientation": "h",
         "showlegend": true,
         "textposition": "auto",
         "type": "bar",
         "x": [
          86400000,
          86400000,
          86400000,
          86400000,
          86400000,
          86400000,
          86400000,
          86400000,
          86400000,
          86400000,
          86400000,
          86400000
         ],
         "xaxis": "x",
         "y": [
          "Daniela Ribeiro",
          "Daniela Ribeiro",
          "Daniela Ribeiro",
          "Daniela Ribeiro",
          "Daniela Ribeiro",
          "Guilherme Silva",
          "Guilherme Silva",
          "Guilherme Silva",
          "Guilherme Silva",
          "Harper Johnson",
          "Harper Johnson",
          "Harper Johnson"
         ],
         "yaxis": "y"
        }
       ],
       "layout": {
        "barmode": "overlay",
        "height": 1500,
        "legend": {
         "title": {
          "text": "Position Type"
         },
         "tracegroupgap": 0
        },
        "margin": {
         "t": 60
        },
        "template": {
         "data": {
          "bar": [
           {
            "error_x": {
             "color": "#2a3f5f"
            },
            "error_y": {
             "color": "#2a3f5f"
            },
            "marker": {
             "line": {
              "color": "#E5ECF6",
              "width": 0.5
             },
             "pattern": {
              "fillmode": "overlay",
              "size": 10,
              "solidity": 0.2
             }
            },
            "type": "bar"
           }
          ],
          "barpolar": [
           {
            "marker": {
             "line": {
              "color": "#E5ECF6",
              "width": 0.5
             },
             "pattern": {
              "fillmode": "overlay",
              "size": 10,
              "solidity": 0.2
             }
            },
            "type": "barpolar"
           }
          ],
          "carpet": [
           {
            "aaxis": {
             "endlinecolor": "#2a3f5f",
             "gridcolor": "white",
             "linecolor": "white",
             "minorgridcolor": "white",
             "startlinecolor": "#2a3f5f"
            },
            "baxis": {
             "endlinecolor": "#2a3f5f",
             "gridcolor": "white",
             "linecolor": "white",
             "minorgridcolor": "white",
             "startlinecolor": "#2a3f5f"
            },
            "type": "carpet"
           }
          ],
          "choropleth": [
           {
            "colorbar": {
             "outlinewidth": 0,
             "ticks": ""
            },
            "type": "choropleth"
           }
          ],
          "contour": [
           {
            "colorbar": {
             "outlinewidth": 0,
             "ticks": ""
            },
            "colorscale": [
             [
              0,
              "#0d0887"
             ],
             [
              0.1111111111111111,
              "#46039f"
             ],
             [
              0.2222222222222222,
              "#7201a8"
             ],
             [
              0.3333333333333333,
              "#9c179e"
             ],
             [
              0.4444444444444444,
              "#bd3786"
             ],
             [
              0.5555555555555556,
              "#d8576b"
             ],
             [
              0.6666666666666666,
              "#ed7953"
             ],
             [
              0.7777777777777778,
              "#fb9f3a"
             ],
             [
              0.8888888888888888,
              "#fdca26"
             ],
             [
              1,
              "#f0f921"
             ]
            ],
            "type": "contour"
           }
          ],
          "contourcarpet": [
           {
            "colorbar": {
             "outlinewidth": 0,
             "ticks": ""
            },
            "type": "contourcarpet"
           }
          ],
          "heatmap": [
           {
            "colorbar": {
             "outlinewidth": 0,
             "ticks": ""
            },
            "colorscale": [
             [
              0,
              "#0d0887"
             ],
             [
              0.1111111111111111,
              "#46039f"
             ],
             [
              0.2222222222222222,
              "#7201a8"
             ],
             [
              0.3333333333333333,
              "#9c179e"
             ],
             [
              0.4444444444444444,
              "#bd3786"
             ],
             [
              0.5555555555555556,
              "#d8576b"
             ],
             [
              0.6666666666666666,
              "#ed7953"
             ],
             [
              0.7777777777777778,
              "#fb9f3a"
             ],
             [
              0.8888888888888888,
              "#fdca26"
             ],
             [
              1,
              "#f0f921"
             ]
            ],
            "type": "heatmap"
           }
          ],
          "heatmapgl": [
           {
            "colorbar": {
             "outlinewidth": 0,
             "ticks": ""
            },
            "colorscale": [
             [
              0,
              "#0d0887"
             ],
             [
              0.1111111111111111,
              "#46039f"
             ],
             [
              0.2222222222222222,
              "#7201a8"
             ],
             [
              0.3333333333333333,
              "#9c179e"
             ],
             [
              0.4444444444444444,
              "#bd3786"
             ],
             [
              0.5555555555555556,
              "#d8576b"
             ],
             [
              0.6666666666666666,
              "#ed7953"
             ],
             [
              0.7777777777777778,
              "#fb9f3a"
             ],
             [
              0.8888888888888888,
              "#fdca26"
             ],
             [
              1,
              "#f0f921"
             ]
            ],
            "type": "heatmapgl"
           }
          ],
          "histogram": [
           {
            "marker": {
             "pattern": {
              "fillmode": "overlay",
              "size": 10,
              "solidity": 0.2
             }
            },
            "type": "histogram"
           }
          ],
          "histogram2d": [
           {
            "colorbar": {
             "outlinewidth": 0,
             "ticks": ""
            },
            "colorscale": [
             [
              0,
              "#0d0887"
             ],
             [
              0.1111111111111111,
              "#46039f"
             ],
             [
              0.2222222222222222,
              "#7201a8"
             ],
             [
              0.3333333333333333,
              "#9c179e"
             ],
             [
              0.4444444444444444,
              "#bd3786"
             ],
             [
              0.5555555555555556,
              "#d8576b"
             ],
             [
              0.6666666666666666,
              "#ed7953"
             ],
             [
              0.7777777777777778,
              "#fb9f3a"
             ],
             [
              0.8888888888888888,
              "#fdca26"
             ],
             [
              1,
              "#f0f921"
             ]
            ],
            "type": "histogram2d"
           }
          ],
          "histogram2dcontour": [
           {
            "colorbar": {
             "outlinewidth": 0,
             "ticks": ""
            },
            "colorscale": [
             [
              0,
              "#0d0887"
             ],
             [
              0.1111111111111111,
              "#46039f"
             ],
             [
              0.2222222222222222,
              "#7201a8"
             ],
             [
              0.3333333333333333,
              "#9c179e"
             ],
             [
              0.4444444444444444,
              "#bd3786"
             ],
             [
              0.5555555555555556,
              "#d8576b"
             ],
             [
              0.6666666666666666,
              "#ed7953"
             ],
             [
              0.7777777777777778,
              "#fb9f3a"
             ],
             [
              0.8888888888888888,
              "#fdca26"
             ],
             [
              1,
              "#f0f921"
             ]
            ],
            "type": "histogram2dcontour"
           }
          ],
          "mesh3d": [
           {
            "colorbar": {
             "outlinewidth": 0,
             "ticks": ""
            },
            "type": "mesh3d"
           }
          ],
          "parcoords": [
           {
            "line": {
             "colorbar": {
              "outlinewidth": 0,
              "ticks": ""
             }
            },
            "type": "parcoords"
           }
          ],
          "pie": [
           {
            "automargin": true,
            "type": "pie"
           }
          ],
          "scatter": [
           {
            "fillpattern": {
             "fillmode": "overlay",
             "size": 10,
             "solidity": 0.2
            },
            "type": "scatter"
           }
          ],
          "scatter3d": [
           {
            "line": {
             "colorbar": {
              "outlinewidth": 0,
              "ticks": ""
             }
            },
            "marker": {
             "colorbar": {
              "outlinewidth": 0,
              "ticks": ""
             }
            },
            "type": "scatter3d"
           }
          ],
          "scattercarpet": [
           {
            "marker": {
             "colorbar": {
              "outlinewidth": 0,
              "ticks": ""
             }
            },
            "type": "scattercarpet"
           }
          ],
          "scattergeo": [
           {
            "marker": {
             "colorbar": {
              "outlinewidth": 0,
              "ticks": ""
             }
            },
            "type": "scattergeo"
           }
          ],
          "scattergl": [
           {
            "marker": {
             "colorbar": {
              "outlinewidth": 0,
              "ticks": ""
             }
            },
            "type": "scattergl"
           }
          ],
          "scattermapbox": [
           {
            "marker": {
             "colorbar": {
              "outlinewidth": 0,
              "ticks": ""
             }
            },
            "type": "scattermapbox"
           }
          ],
          "scatterpolar": [
           {
            "marker": {
             "colorbar": {
              "outlinewidth": 0,
              "ticks": ""
             }
            },
            "type": "scatterpolar"
           }
          ],
          "scatterpolargl": [
           {
            "marker": {
             "colorbar": {
              "outlinewidth": 0,
              "ticks": ""
             }
            },
            "type": "scatterpolargl"
           }
          ],
          "scatterternary": [
           {
            "marker": {
             "colorbar": {
              "outlinewidth": 0,
              "ticks": ""
             }
            },
            "type": "scatterternary"
           }
          ],
          "surface": [
           {
            "colorbar": {
             "outlinewidth": 0,
             "ticks": ""
            },
            "colorscale": [
             [
              0,
              "#0d0887"
             ],
             [
              0.1111111111111111,
              "#46039f"
             ],
             [
              0.2222222222222222,
              "#7201a8"
             ],
             [
              0.3333333333333333,
              "#9c179e"
             ],
             [
              0.4444444444444444,
              "#bd3786"
             ],
             [
              0.5555555555555556,
              "#d8576b"
             ],
             [
              0.6666666666666666,
              "#ed7953"
             ],
             [
              0.7777777777777778,
              "#fb9f3a"
             ],
             [
              0.8888888888888888,
              "#fdca26"
             ],
             [
              1,
              "#f0f921"
             ]
            ],
            "type": "surface"
           }
          ],
          "table": [
           {
            "cells": {
             "fill": {
              "color": "#EBF0F8"
             },
             "line": {
              "color": "white"
             }
            },
            "header": {
             "fill": {
              "color": "#C8D4E3"
             },
             "line": {
              "color": "white"
             }
            },
            "type": "table"
           }
          ]
         },
         "layout": {
          "annotationdefaults": {
           "arrowcolor": "#2a3f5f",
           "arrowhead": 0,
           "arrowwidth": 1
          },
          "autotypenumbers": "strict",
          "coloraxis": {
           "colorbar": {
            "outlinewidth": 0,
            "ticks": ""
           }
          },
          "colorscale": {
           "diverging": [
            [
             0,
             "#8e0152"
            ],
            [
             0.1,
             "#c51b7d"
            ],
            [
             0.2,
             "#de77ae"
            ],
            [
             0.3,
             "#f1b6da"
            ],
            [
             0.4,
             "#fde0ef"
            ],
            [
             0.5,
             "#f7f7f7"
            ],
            [
             0.6,
             "#e6f5d0"
            ],
            [
             0.7,
             "#b8e186"
            ],
            [
             0.8,
             "#7fbc41"
            ],
            [
             0.9,
             "#4d9221"
            ],
            [
             1,
             "#276419"
            ]
           ],
           "sequential": [
            [
             0,
             "#0d0887"
            ],
            [
             0.1111111111111111,
             "#46039f"
            ],
            [
             0.2222222222222222,
             "#7201a8"
            ],
            [
             0.3333333333333333,
             "#9c179e"
            ],
            [
             0.4444444444444444,
             "#bd3786"
            ],
            [
             0.5555555555555556,
             "#d8576b"
            ],
            [
             0.6666666666666666,
             "#ed7953"
            ],
            [
             0.7777777777777778,
             "#fb9f3a"
            ],
            [
             0.8888888888888888,
             "#fdca26"
            ],
            [
             1,
             "#f0f921"
            ]
           ],
           "sequentialminus": [
            [
             0,
             "#0d0887"
            ],
            [
             0.1111111111111111,
             "#46039f"
            ],
            [
             0.2222222222222222,
             "#7201a8"
            ],
            [
             0.3333333333333333,
             "#9c179e"
            ],
            [
             0.4444444444444444,
             "#bd3786"
            ],
            [
             0.5555555555555556,
             "#d8576b"
            ],
            [
             0.6666666666666666,
             "#ed7953"
            ],
            [
             0.7777777777777778,
             "#fb9f3a"
            ],
            [
             0.8888888888888888,
             "#fdca26"
            ],
            [
             1,
             "#f0f921"
            ]
           ]
          },
          "colorway": [
           "#636efa",
           "#EF553B",
           "#00cc96",
           "#ab63fa",
           "#FFA15A",
           "#19d3f3",
           "#FF6692",
           "#B6E880",
           "#FF97FF",
           "#FECB52"
          ],
          "font": {
           "color": "#2a3f5f"
          },
          "geo": {
           "bgcolor": "white",
           "lakecolor": "white",
           "landcolor": "#E5ECF6",
           "showlakes": true,
           "showland": true,
           "subunitcolor": "white"
          },
          "hoverlabel": {
           "align": "left"
          },
          "hovermode": "closest",
          "mapbox": {
           "style": "light"
          },
          "paper_bgcolor": "white",
          "plot_bgcolor": "#E5ECF6",
          "polar": {
           "angularaxis": {
            "gridcolor": "white",
            "linecolor": "white",
            "ticks": ""
           },
           "bgcolor": "#E5ECF6",
           "radialaxis": {
            "gridcolor": "white",
            "linecolor": "white",
            "ticks": ""
           }
          },
          "scene": {
           "xaxis": {
            "backgroundcolor": "#E5ECF6",
            "gridcolor": "white",
            "gridwidth": 2,
            "linecolor": "white",
            "showbackground": true,
            "ticks": "",
            "zerolinecolor": "white"
           },
           "yaxis": {
            "backgroundcolor": "#E5ECF6",
            "gridcolor": "white",
            "gridwidth": 2,
            "linecolor": "white",
            "showbackground": true,
            "ticks": "",
            "zerolinecolor": "white"
           },
           "zaxis": {
            "backgroundcolor": "#E5ECF6",
            "gridcolor": "white",
            "gridwidth": 2,
            "linecolor": "white",
            "showbackground": true,
            "ticks": "",
            "zerolinecolor": "white"
           }
          },
          "shapedefaults": {
           "line": {
            "color": "#2a3f5f"
           }
          },
          "ternary": {
           "aaxis": {
            "gridcolor": "white",
            "linecolor": "white",
            "ticks": ""
           },
           "baxis": {
            "gridcolor": "white",
            "linecolor": "white",
            "ticks": ""
           },
           "bgcolor": "#E5ECF6",
           "caxis": {
            "gridcolor": "white",
            "linecolor": "white",
            "ticks": ""
           }
          },
          "title": {
           "x": 0.05
          },
          "xaxis": {
           "automargin": true,
           "gridcolor": "white",
           "linecolor": "white",
           "ticks": "",
           "title": {
            "standoff": 15
           },
           "zerolinecolor": "white",
           "zerolinewidth": 2
          },
          "yaxis": {
           "automargin": true,
           "gridcolor": "white",
           "linecolor": "white",
           "ticks": "",
           "title": {
            "standoff": 15
           },
           "zerolinecolor": "white",
           "zerolinewidth": 2
          }
         }
        },
        "xaxis": {
         "anchor": "y",
         "domain": [
          0,
          1
         ],
         "type": "date"
        },
        "yaxis": {
         "anchor": "x",
         "autorange": "reversed",
         "categoryarray": [
          "Abigail Perez",
          "Abigail Perez",
          "Abigail Perez",
          "Abigail Perez",
          "Abigail Perez",
          "Abigail Perez",
          "Adam Mitchell",
          "Adam Mitchell",
          "Adam Mitchell",
          "Adam Mitchell",
          "Adam Mitchell",
          "Addison Johnson",
          "Addison Johnson",
          "Addison Johnson",
          "Afonso Costa",
          "Afonso Costa",
          "Afonso Costa",
          "Afonso Costa",
          "Afonso Costa",
          "Afonso Costa",
          "Afonso Pereira",
          "Afonso Pereira",
          "Afonso Pereira",
          "Afonso Pereira",
          "Afonso Pereira",
          "Afonso Pereira",
          "Afonso Pereira",
          "Alexander Anderson",
          "Alexander Anderson",
          "Alexander Anderson",
          "Alexander Anderson",
          "Alexander Anderson",
          "Alexander Anderson",
          "Alexander Thompson",
          "Alexander Thompson",
          "Alexander Thompson",
          "Alexander Thompson",
          "Alexander Thompson",
          "Alexander Thompson",
          "Alexandra Campbell",
          "Alexandra Campbell",
          "Alexandra Campbell",
          "Alexandra Campbell",
          "Alexandra Campbell",
          "Alexandra Campbell",
          "Alexandra Campbell",
          "Alexandre Martins",
          "Alexandre Martins",
          "Alexandre Martins",
          "Alexandre Martins",
          "Alexandre Martins",
          "Alexandre Martins",
          "Alexandre Martins",
          "Alexandre Silva",
          "Alexandre Silva",
          "Alexandre Silva",
          "Alexandre Silva",
          "Alexandre Silva",
          "Alexandre Silva",
          "Alexandre Silva",
          "Amelia Taylor",
          "Amelia Taylor",
          "Amelia Taylor",
          "Amelia Taylor",
          "Amelia Taylor",
          "Amelia Taylor",
          "Amelia Taylor",
          "Ana Beatriz Ferreira",
          "Ana Beatriz Ferreira",
          "Ana Beatriz Ferreira",
          "Ana Beatriz Ferreira",
          "Ana Beatriz Ferreira",
          "Ana Beatriz Ferreira",
          "Ana Beatriz Ferreira",
          "Ana Carvalho",
          "Ana Carvalho",
          "Ana Carvalho",
          "Ana Carvalho",
          "Ana Carvalho",
          "Ana Carvalho",
          "Ana Carvalho",
          "Ana Costa",
          "Ana Costa",
          "Ana Costa",
          "Ana Costa",
          "Ana Costa",
          "Ana Costa",
          "Ana Costa",
          "Ana Ferreira",
          "Ana Ferreira",
          "Ana Ferreira",
          "Ana Ferreira",
          "Ana Ferreira",
          "Ana Gonçalves",
          "Ana Gonçalves",
          "Ana Gonçalves",
          "Ana Gonçalves",
          "Ana Gonçalves",
          "Ana Gonçalves",
          "Ana Gonçalves",
          "Ana Martins",
          "Ana Martins",
          "Ana Martins",
          "Ana Martins",
          "Ana Nunes",
          "Ana Nunes",
          "Ana Nunes",
          "Ana Nunes",
          "Ana Nunes",
          "Ana Nunes",
          "Ana Nunes",
          "Ana Paula Ferreira",
          "Ana Paula Ferreira",
          "Ana Paula Ferreira",
          "Ana Paula Ferreira",
          "Ana Paula Ferreira",
          "Ana Paula Ferreira",
          "Ana Paula Ferreira",
          "Ana Paula Ferreira",
          "Ana Pires",
          "Ana Pires",
          "Ana Rodrigues",
          "Ana Rodrigues",
          "Ana Rodrigues",
          "Ana Rodrigues",
          "Ana Rodrigues",
          "Ana Rodrigues",
          "Ana Santos",
          "Ana Santos",
          "Ana Santos",
          "Ana Santos",
          "Ana Santos",
          "Ana Santos",
          "Ana Santos",
          "Ana Sousa",
          "Ana Sousa",
          "Ana Sousa",
          "Ana Sousa",
          "Ana Sousa",
          "Ana Sousa",
          "Andrew Moore",
          "Andrew Moore",
          "Andrew Moore",
          "Andrew Moore",
          "Andrew Moore",
          "Andrew Moore",
          "André Castro",
          "André Castro",
          "André Castro",
          "André Castro",
          "André Castro",
          "André Castro",
          "André Castro",
          "André Fernandes",
          "André Fernandes",
          "André Fernandes",
          "André Fernandes",
          "André Fernandes",
          "André Fernandes",
          "André Fernandes",
          "André Fernandes",
          "André Luís Silva",
          "André Luís Silva",
          "André Luís Silva",
          "André Luís Silva",
          "André Luís Silva",
          "André Mendes",
          "André Mendes",
          "André Mendes",
          "André Mendes",
          "André Mendes",
          "André Mendes",
          "André Santos",
          "André Santos",
          "André Santos",
          "Andréia Santos",
          "Andréia Santos",
          "Andréia Santos",
          "Andréia Santos",
          "Andréia Santos",
          "Andréia Santos",
          "António Costa",
          "António Costa",
          "António Costa",
          "António Costa",
          "António Pereira",
          "António Pereira",
          "António Pereira",
          "António Pereira",
          "António Pereira",
          "Aria Wright",
          "Aria Wright",
          "Aria Wright",
          "Aria Wright",
          "Aria Wright",
          "Aria Wright",
          "Aria Wright",
          "Arianna Hernandez",
          "Arianna Hernandez",
          "Arianna Hernandez",
          "Arianna Hernandez",
          "Arianna Hernandez",
          "Arianna Hernandez",
          "Arianna Hernandez",
          "Arianna Peterson",
          "Aubrey Davis",
          "Aubrey Davis",
          "Aubrey Davis",
          "Aubrey Davis",
          "Aubrey Davis",
          "Autumn Davis",
          "Autumn Davis",
          "Ava Martinez",
          "Ava Martinez",
          "Ava Martinez",
          "Ava Martinez",
          "Ava Martinez",
          "Ava Martinez",
          "Ava Roberts",
          "Ava Roberts",
          "Ava Roberts",
          "Ava Roberts",
          "Avery Green",
          "Avery Green",
          "Avery Green",
          "Beatriz Costa",
          "Beatriz Costa",
          "Beatriz Ferreira",
          "Beatriz Ferreira",
          "Beatriz Ferreira",
          "Beatriz Ferreira",
          "Beatriz Ferreira",
          "Beatriz Oliveira",
          "Beatriz Rodrigues",
          "Beatriz Rodrigues",
          "Beatriz Rodrigues",
          "Beatriz Rodrigues",
          "Beatriz Rodrigues",
          "Beatriz Rodrigues",
          "Beatriz Rodrigues",
          "Beatriz Santos",
          "Beatriz Santos",
          "Beatriz Santos",
          "Beatriz Santos",
          "Beatriz Santos",
          "Beatriz Sousa",
          "Beatriz Sousa",
          "Beatriz Sousa",
          "Benjamin Nelson",
          "Benjamin Nelson",
          "Benjamin Nelson",
          "Benjamin Nelson",
          "Benjamin Nelson",
          "Benjamin Nelson",
          "Bernardo Barbosa",
          "Bernardo Barbosa",
          "Bernardo Barbosa",
          "Bernardo Barbosa",
          "Bernardo Ferreira",
          "Bernardo Soares",
          "Bernardo Soares",
          "Bernardo Soares",
          "Bernardo Soares",
          "Bernardo Soares",
          "Bernardo Soares",
          "Brooklyn Lee",
          "Brooklyn Lee",
          "Brooklyn Lee",
          "Brooklyn Lee",
          "Brooklyn Lee",
          "Brooklyn Lee",
          "Bruna Oliveira",
          "Bruna Oliveira",
          "Bruna Oliveira",
          "Bruna Oliveira",
          "Bruna Oliveira",
          "Bruna Oliveira",
          "Bruna Oliveira",
          "Bruno Almeida",
          "Bruno Almeida",
          "Bruno Almeida",
          "Bruno Almeida",
          "Bruno Almeida",
          "Bruno Almeida",
          "Bruno Almeida",
          "Bruno Almeida",
          "Bruno Rodrigues",
          "Bruno Rodrigues",
          "Bruno Rodrigues",
          "Bruno Rodrigues",
          "Bruno Rodrigues",
          "Bruno Rodrigues",
          "Bárbara Silva",
          "Bárbara Silva",
          "Bárbara Silva",
          "Bárbara Silva",
          "Bárbara Silva",
          "Bárbara Silva",
          "Caleb Green",
          "Caleb Green",
          "Caleb Green",
          "Caleb Green",
          "Caleb Green",
          "Caleb Turner",
          "Caleb Turner",
          "Caleb Turner",
          "Caleb Turner",
          "Caleb Turner",
          "Caleb Turner",
          "Camila Santos",
          "Camila Santos",
          "Camila Santos",
          "Camila Santos",
          "Camila Santos",
          "Camila Santos",
          "Candidate Name",
          "Candidate Name",
          "Candidate Name",
          "Candidate Name",
          "Candidate Name",
          "Candidate Name",
          "Carolina Alves",
          "Carolina Alves",
          "Carolina Alves",
          "Carolina Alves",
          "Carolina Alves",
          "Carolina Carvalho",
          "Carolina Carvalho",
          "Carolina Carvalho",
          "Carolina Carvalho",
          "Carolina Carvalho",
          "Carolina Carvalho",
          "Carolina Carvalho",
          "Carolina Costa",
          "Carolina Costa",
          "Carolina Costa",
          "Carolina Costa",
          "Carolina Costa",
          "Carolina Fernandes",
          "Carolina Fernandes",
          "Carolina Fernandes",
          "Carolina Fernandes",
          "Carolina Fernandes",
          "Carolina Fernandes",
          "Carolina Fernandes",
          "Carolina Fernandes",
          "Carolina Fernandes",
          "Carolina Lima",
          "Carolina Lima",
          "Carolina Lima",
          "Carolina Lourenço",
          "Carolina Lourenço",
          "Carolina Lourenço",
          "Carolina Lourenço",
          "Carolina Lourenço",
          "Carolina Nunes",
          "Carolina Nunes",
          "Carolina Nunes",
          "Carolina Nunes",
          "Carolina Nunes",
          "Carolina Nunes",
          "Carolina Nunes",
          "Carolina Pires",
          "Carolina Pires",
          "Carolina Pires",
          "Carolina Rodrigues",
          "Carolina Rodrigues",
          "Carolina Rodrigues",
          "Carolina Rodrigues",
          "Carolina Teixeira",
          "Carolina Teixeira",
          "Carolina Teixeira",
          "Carolina Teixeira",
          "Carolina Teixeira",
          "Catarina Martins",
          "Catarina Martins",
          "Catarina Martins",
          "Catarina Oliveira",
          "Catarina Oliveira",
          "Catarina Oliveira",
          "Catarina Oliveira",
          "Catarina Oliveira",
          "Catarina Silva",
          "Catarina Silva",
          "Catarina Silva",
          "Catarina Silva",
          "Catarina Silva",
          "Charlotte Garcia",
          "Charlotte Garcia",
          "Charlotte Garcia",
          "Charlotte Garcia",
          "Charlotte Garcia",
          "Charlotte Garcia",
          "Charlotte Garcia",
          "Charlotte Garcia",
          "Charlotte Turner",
          "Charlotte Turner",
          "Charlotte Turner",
          "Charlotte Turner",
          "Chloe Young",
          "Chloe Young",
          "Chloe Young",
          "Christian Collins",
          "Christian Collins",
          "Christian Collins",
          "Christian Collins",
          "Christian Collins",
          "Christian Collins",
          "Christopher Baker",
          "Christopher Baker",
          "Christopher Baker",
          "Christopher Baker",
          "Christopher Baker",
          "Christopher Baker",
          "Colton Wright",
          "Colton Wright",
          "Colton Wright",
          "Colton Wright",
          "Daniel Wright",
          "Daniel Wright",
          "Daniel Wright",
          "Daniel Wright",
          "Daniel Wright",
          "Daniela Ribeiro",
          "Daniela Ribeiro",
          "Daniela Ribeiro",
          "Daniela Ribeiro",
          "Daniela Ribeiro",
          "David Fernandes",
          "David Fernandes",
          "David Fernandes",
          "David Fernandes",
          "David Fernandes",
          "David Lopes",
          "David Lopes",
          "David Lopes",
          "David Lopes",
          "David Mitchell",
          "David Mitchell",
          "David Mitchell",
          "David Mitchell",
          "David Mitchell",
          "David Mitchell",
          "David Pereira",
          "David Pereira",
          "David Pereira",
          "David Pereira",
          "David Pereira",
          "David Wilson",
          "David Wilson",
          "David Wilson",
          "David Wilson",
          "David Wilson",
          "David Wilson",
          "Diana Costa",
          "Diana Costa",
          "Diana Costa",
          "Diana Costa",
          "Diana Costa",
          "Diana Fernandes",
          "Diana Fernandes",
          "Diana Fernandes",
          "Diana Fernandes",
          "Diana Fernandes",
          "Diana Fernandes",
          "Diana Rodrigues",
          "Diogo Costa",
          "Diogo Costa",
          "Diogo Costa",
          "Diogo Costa",
          "Diogo Costa",
          "Diogo Costa",
          "Diogo Cunha",
          "Diogo Cunha",
          "Diogo Cunha",
          "Diogo Cunha",
          "Diogo Cunha",
          "Diogo Oliveira",
          "Diogo Oliveira",
          "Diogo Oliveira",
          "Diogo Oliveira",
          "Diogo Oliveira",
          "Diogo Oliveira",
          "Diogo Oliveira",
          "Diogo Oliveira",
          "Diogo Pereira",
          "Diogo Pereira",
          "Diogo Pereira",
          "Diogo Pereira",
          "Diogo Pereira",
          "Duarte Alves",
          "Duarte Alves",
          "Duarte Alves",
          "Duarte Alves",
          "Duarte Alves",
          "Duarte Martins",
          "Duarte Martins",
          "Duarte Martins",
          "Duarte Martins",
          "Duarte Martins",
          "Duarte Pereira",
          "Duarte Pereira",
          "Duarte Pereira",
          "Duarte Pinto",
          "Duarte Pinto",
          "Duarte Pinto",
          "Duarte Pinto",
          "Duarte Pinto",
          "Dylan Hernandez",
          "Dylan Hernandez",
          "Dylan Hernandez",
          "Dylan Hernandez",
          "Dylan Hernandez",
          "Dylan Hernandez",
          "Eduardo Silva",
          "Eduardo Silva",
          "Eduardo Silva",
          "Eduardo Silva",
          "Eduardo Silva",
          "Eduardo Silva",
          "Eduardo Sousa",
          "Eduardo Sousa",
          "Eduardo Sousa",
          "Eduardo Sousa",
          "Eduardo Sousa",
          "Eduardo Sousa",
          "Eduardo Sousa",
          "Eli Wright",
          "Eli Wright",
          "Eli Wright",
          "Eli Wright",
          "Eli Wright",
          "Elijah Campbell",
          "Elijah Campbell",
          "Elijah Campbell",
          "Elijah Campbell",
          "Elijah Campbell",
          "Elizabeth Adams",
          "Elizabeth Adams",
          "Elizabeth Adams",
          "Elizabeth Adams",
          "Ellie Turner",
          "Ellie Turner",
          "Ellie Turner",
          "Ellie Turner",
          "Ellie Turner",
          "Ellie Turner",
          "Emily Martin",
          "Emily Martin",
          "Emily Martin",
          "Emily Martin",
          "Emily Martin",
          "Emma Carter",
          "Emma Carter",
          "Emma Carter",
          "Emma Carter",
          "Emma Carter",
          "Ethan Flores",
          "Ethan Flores",
          "Ethan Flores",
          "Ethan Flores",
          "Ethan Jones",
          "Ethan Jones",
          "Ethan Jones",
          "Ethan Jones",
          "Eva Nelson",
          "Eva Nelson",
          "Eva Nelson",
          "Eva Nelson",
          "Eva Nelson",
          "Eva Scott",
          "Eva Scott",
          "Filipa Carvalho",
          "Filipa Carvalho",
          "Filipa Carvalho",
          "Filipa Carvalho",
          "Filipa Carvalho",
          "Filipa Carvalho",
          "Filipa Rodrigues",
          "Filipa Rodrigues",
          "Filipa Rodrigues",
          "Filipa Rodrigues",
          "Filipa Rodrigues",
          "Filipe Carvalho",
          "Filipe Carvalho",
          "Filipe Carvalho",
          "Filipe Carvalho",
          "Filipe Carvalho",
          "Filipe Ramos",
          "Filipe Ramos",
          "Francisca Castro",
          "Francisca Castro",
          "Francisca Castro",
          "Francisca Castro",
          "Francisca Ferreira",
          "Francisca Ferreira",
          "Francisca Ferreira",
          "Francisca Ferreira",
          "Francisca Ferreira",
          "Francisca Ferreira",
          "Francisca Ferreira",
          "Francisca Oliveira",
          "Francisca Oliveira",
          "Francisca Oliveira",
          "Francisca Oliveira",
          "Francisco Alves",
          "Francisco Alves",
          "Francisco Alves",
          "Francisco Alves",
          "Francisco Alves",
          "Francisco Alves",
          "Francisco Alves",
          "Francisco Fernandes",
          "Francisco Fernandes",
          "Francisco Fernandes",
          "Francisco Fernandes",
          "Francisco Fernandes",
          "Francisco Fernandes",
          "Francisco Fernandes",
          "Francisco Fernandes",
          "Francisco Ferreira",
          "Francisco Ferreira",
          "Francisco Ferreira",
          "Francisco Ferreira",
          "Francisco Ferreira",
          "Francisco Ferreira",
          "Francisco Ferreira",
          "Francisco Lopes",
          "Francisco Lopes",
          "Francisco Lopes",
          "Francisco Pinto",
          "Francisco Pinto",
          "Francisco Pinto",
          "Francisco Pinto",
          "Francisco Pinto",
          "Francisco Pinto",
          "Francisco Rodrigues",
          "Francisco Rodrigues",
          "Francisco Rodrigues",
          "Francisco Rodrigues",
          "Francisco Rodrigues",
          "Francisco Santos",
          "Francisco Santos",
          "Francisco Santos",
          "Francisco Santos",
          "Francisco Santos",
          "Francisco Santos",
          "Francisco Santos",
          "Francisco Sousa",
          "Francisco Sousa",
          "Francisco Sousa",
          "Francisco Sousa",
          "Francisco Sousa",
          "Francisco Sousa",
          "Gabriel Costa",
          "Gabriel Costa",
          "Gabriel Ferreira",
          "Gabriel Ferreira",
          "Gabriel Ferreira",
          "Gabriel Ferreira",
          "Gabriel Ferreira",
          "Gabriel Ferreira",
          "Gabriel Ferreira",
          "Gabriel Santos",
          "Gabriel Santos",
          "Gabriel Santos",
          "Gabriel Santos",
          "Gabriel Santos",
          "Gabriel Santos",
          "Gabriel Santos",
          "Gabriel Santos",
          "Gabriel Sousa",
          "Gabriel Sousa",
          "Gabriel Sousa",
          "Gabriel Sousa",
          "Gabriel Turner",
          "Gabriel Turner",
          "Gabriel Turner",
          "Gabriel Turner",
          "Gabriel Turner",
          "Gabriel Turner",
          "Gabriel Turner",
          "Gonçalo Castro",
          "Gonçalo Castro",
          "Gonçalo Castro",
          "Gonçalo Castro",
          "Gonçalo Castro",
          "Gonçalo Castro",
          "Gonçalo Castro",
          "Gonçalo Castro",
          "Gonçalo Ferreira",
          "Gonçalo Ferreira",
          "Gonçalo Ferreira",
          "Gonçalo Ferreira",
          "Gonçalo Ferreira",
          "Gonçalo Ferreira",
          "Gonçalo Ferreira",
          "Gonçalo Martins",
          "Gonçalo Martins",
          "Gonçalo Martins",
          "Gonçalo Martins",
          "Gonçalo Martins",
          "Gonçalo Martins",
          "Gonçalo Martins",
          "Gonçalo Oliveira",
          "Gonçalo Oliveira",
          "Gonçalo Oliveira",
          "Gonçalo Oliveira",
          "Gonçalo Oliveira",
          "Gonçalo Oliveira",
          "Gonçalo Oliveira",
          "Gonçalo Pereira",
          "Grace Turner",
          "Grace Turner",
          "Grace Turner",
          "Grace Turner",
          "Grace Turner",
          "Guilherme Silva",
          "Guilherme Silva",
          "Guilherme Silva",
          "Guilherme Silva",
          "Guilherme Silva",
          "Guilherme Sousa",
          "Guilherme Sousa",
          "Guilherme Sousa",
          "Guilherme Sousa",
          "Gustavo Ribeiro",
          "Gustavo Ribeiro",
          "Gustavo Ribeiro",
          "Gustavo Ribeiro",
          "Gustavo Silva",
          "Gustavo Silva",
          "Harper Johnson",
          "Harper Johnson",
          "Harper Johnson",
          "Harper Johnson",
          "Harper Johnson",
          "Harper Johnson",
          "Harper Scott",
          "Harper Scott",
          "Harper Scott",
          "Henrique Pereira",
          "Henrique Pereira",
          "Henrique Pereira",
          "Henrique Pereira",
          "Henrique Pereira",
          "Inês Almeida",
          "Inês Almeida",
          "Inês Almeida",
          "Inês Martins",
          "Inês Martins",
          "Inês Martins",
          "Inês Martins",
          "Inês Martins",
          "Inês Martins",
          "Inês Pinto",
          "Inês Pinto",
          "Inês Pinto",
          "Inês Pinto",
          "Inês Pinto",
          "Inês Pinto",
          "Inês Pinto",
          "Inês Pinto",
          "Inês Ribeiro",
          "Inês Ribeiro",
          "Inês Ribeiro",
          "Inês Ribeiro",
          "Inês Ribeiro",
          "Inês Ribeiro",
          "Inês Ribeiro",
          "Isaac Jackson",
          "Isaac Jackson",
          "Isaac Jackson",
          "Isaac Jackson",
          "Isaac Jackson",
          "Isaac Jackson",
          "Isaac Jackson",
          "Isabela Costa",
          "Isabela Costa",
          "Isabela Costa",
          "Isabela Costa",
          "Isabela Costa",
          "Isabela Costa",
          "Isabela Costa",
          "Isabella Jackson",
          "Isabella Jackson",
          "Isabella Jackson",
          "Isabella Jackson",
          "Isabella Jackson",
          "Isabella Jackson",
          "Isabella Mitchell",
          "Isabella Mitchell",
          "Isabella Mitchell",
          "Isabella Mitchell",
          "Isabella Mitchell",
          "Isabelle Adams",
          "Isaiah Hernandez",
          "Isaiah Hernandez",
          "Isaiah Hernandez",
          "Isaiah Hernandez",
          "Isaiah Hernandez",
          "Jack Edwards",
          "Jack Edwards",
          "Jack Edwards",
          "Jack Edwards",
          "Jack Edwards",
          "Jacob Campbell",
          "Jacob Campbell",
          "Jacob Campbell",
          "Jacob Campbell",
          "James Lee",
          "James Lee",
          "James Lee",
          "James Lee",
          "James Lee",
          "Joana Nunes",
          "Jonathan King",
          "Jonathan King",
          "Jonathan King",
          "Jonathan King",
          "Jonathan King",
          "Jonathan King",
          "Jonathan King",
          "Jonathan Scott",
          "Jonathan Scott",
          "Jonathan Scott",
          "Jonathan Scott",
          "Jonathan Scott",
          "Jonathan Scott",
          "Joseph Hall",
          "Joseph Hall",
          "Joseph Hall",
          "Joseph Hall",
          "Joseph Hall",
          "Joseph Wright",
          "Joseph Wright",
          "Joseph Wright",
          "Joseph Wright",
          "Joshua Hill",
          "Joshua Hill",
          "Joshua Hill",
          "Joshua Hill",
          "Joshua Hill",
          "Joshua Hill",
          "José Carlos Oliveira",
          "José Carlos Oliveira",
          "José Carlos Oliveira",
          "José Carlos Oliveira",
          "José Carlos Oliveira",
          "José Carlos Oliveira",
          "José Carlos Oliveira",
          "José Carvalho",
          "José Carvalho",
          "José Carvalho",
          "José Carvalho",
          "José Carvalho",
          "José Carvalho",
          "José Carvalho",
          "José Carvalho",
          "José Rodrigues",
          "José Rodrigues",
          "José Rodrigues",
          "José Rodrigues",
          "José Rodrigues",
          "José Rodrigues",
          "João Pedro Almeida",
          "João Pedro Almeida",
          "João Pedro Almeida",
          "João Pedro Almeida",
          "João Pedro Almeida",
          "João Silva",
          "João Silva",
          "João Silva",
          "João Silva",
          "João Silva",
          "João Silva",
          "João Silva",
          "Julia Martinez",
          "Julia Martinez",
          "Julia Martinez",
          "Julia Martinez",
          "Justin Taylor",
          "Justin Taylor",
          "Justin Taylor",
          "Justin Taylor",
          "Justin Taylor",
          "Justin Taylor",
          "Júlia Costa",
          "Júlia Costa",
          "Júlia Costa",
          "Júlia Costa",
          "Júlia Costa",
          "Lara Costa",
          "Lara Costa",
          "Lara Costa",
          "Lara Costa",
          "Lara Costa",
          "Lara Costa",
          "Lara Costa",
          "Lara Silva",
          "Lara Silva",
          "Lara Silva",
          "Lara Silva",
          "Lara Silva",
          "Lara Silva",
          "Laura Santos",
          "Laura Santos",
          "Laura Santos",
          "Laura Santos",
          "Laura Santos",
          "Laura Santos",
          "Laura Santos",
          "Laura Vieira",
          "Laura Vieira",
          "Laura Vieira",
          "Laura Vieira",
          "Laura Vieira",
          "Laura Vieira",
          "Leah Johnson",
          "Leah Johnson",
          "Leah Johnson",
          "Leah Johnson",
          "Leah Johnson",
          "Leah Johnson",
          "Leah Johnson",
          "Leah Johnson",
          "Leah Johnson",
          "Leonor Costa",
          "Leonor Costa",
          "Leonor Mendes",
          "Leonor Mendes",
          "Leonor Mendes",
          "Leonor Mendes",
          "Leonor Mendes",
          "Leonor Pereira",
          "Leonor Pereira",
          "Leonor Pereira",
          "Leonor Pereira",
          "Leonor Pereira",
          "Leonor Ribeiro",
          "Leonor Ribeiro",
          "Leonor Ribeiro",
          "Leonor Ribeiro",
          "Leonor Ribeiro",
          "Leonor Sousa",
          "Leonor Sousa",
          "Leonor Sousa",
          "Leonor Sousa",
          "Leonor Sousa",
          "Leonor Sousa",
          "Leonor Sousa",
          "Liam Davis",
          "Liam Davis",
          "Liam Davis",
          "Liam Davis",
          "Lily Taylor",
          "Lily Taylor",
          "Lily Taylor",
          "Lily Taylor",
          "Lily Taylor",
          "Logan Davis",
          "Logan Davis",
          "Logan Davis",
          "Logan Davis",
          "Logan Davis",
          "Logan Davis",
          "Lucas Alves",
          "Lucas Alves",
          "Lucas Alves",
          "Lucas Barbosa",
          "Lucas Barbosa",
          "Lucas Barbosa",
          "Lucas Barbosa",
          "Lucas Barbosa",
          "Lucas Carvalho",
          "Lucas Carvalho",
          "Lucas Carvalho",
          "Lucas Carvalho",
          "Lucas Carvalho",
          "Lucas Carvalho",
          "Lucas Green",
          "Lucas Green",
          "Lucas Green",
          "Lucas Green",
          "Lucas Green",
          "Lucas Green",
          "Lucas Green",
          "Luke Collins",
          "Luke Collins",
          "Luke Collins",
          "Luke Collins",
          "Luís Costa",
          "Luís Costa",
          "Luís Ferreira",
          "Luís Ferreira",
          "Luís Ferreira",
          "Luís Ferreira",
          "Luísa Fernandes",
          "Luísa Fernandes",
          "Luísa Fernandes",
          "Luísa Fernandes",
          "Luísa Fernandes",
          "Luísa Fernandes",
          "Lídia Sousa",
          "Lídia Sousa",
          "Lídia Sousa",
          "Lídia Sousa",
          "Lídia Sousa",
          "Lídia Sousa",
          "Madalena Ferreira",
          "Madalena Ferreira",
          "Madalena Ferreira",
          "Madalena Ferreira",
          "Madalena Lima",
          "Madalena Oliveira",
          "Madalena Oliveira",
          "Madalena Oliveira",
          "Madalena Oliveira",
          "Madalena Oliveira",
          "Madalena Oliveira",
          "Madalena Oliveira",
          "Madalena Ribeiro",
          "Madalena Ribeiro",
          "Madalena Ribeiro",
          "Madalena Ribeiro",
          "Madalena Ribeiro",
          "Madelyn Brown",
          "Madelyn Brown",
          "Madelyn Brown",
          "Madelyn Brown",
          "Madelyn Brown",
          "Madison Allen",
          "Madison Allen",
          "Madison Allen",
          "Madison Allen",
          "Madison Allen",
          "Madison Allen",
          "Madison Allen",
          "Mafalda Cruz",
          "Mafalda Cruz",
          "Mafalda Cruz",
          "Mafalda Cruz",
          "Mafalda Ferreira",
          "Mafalda Ferreira",
          "Mafalda Ferreira",
          "Mafalda Ferreira",
          "Mafalda Ferreira",
          "Mafalda Ribeiro",
          "Mafalda Ribeiro",
          "Mafalda Ribeiro",
          "Mafalda Ribeiro",
          "Mafalda Santos",
          "Mafalda Santos",
          "Mafalda Santos",
          "Mafalda Santos",
          "Mafalda Santos",
          "Margarida Oliveira",
          "Margarida Oliveira",
          "Margarida Oliveira",
          "Margarida Oliveira",
          "Margarida Oliveira",
          "Margarida Sousa",
          "Margarida Sousa",
          "Margarida Sousa",
          "Margarida Sousa",
          "Margarida Sousa",
          "Margarida Sousa",
          "Margarida Sousa",
          "Maria Almeida",
          "Maria Almeida",
          "Maria Almeida",
          "Maria Almeida",
          "Maria Almeida",
          "Maria Almeida",
          "Maria Ferreira",
          "Maria Ferreira",
          "Maria Ferreira",
          "Maria Ferreira",
          "Maria Ferreira",
          "Maria Ferreira",
          "Maria Gonçalves",
          "Maria Gonçalves",
          "Maria Gonçalves",
          "Maria Gonçalves",
          "Maria Gonçalves",
          "Maria Gonçalves",
          "Maria Ribeiro",
          "Maria Ribeiro",
          "Maria Ribeiro",
          "Maria Ribeiro",
          "Maria Ribeiro",
          "Maria Silva",
          "Maria Silva",
          "Maria Silva",
          "Maria Silva",
          "Maria Silva",
          "Maria Silva",
          "Maria Silva",
          "Maria Sousa",
          "Maria Sousa",
          "Maria Sousa",
          "Maria Sousa",
          "Maria Sousa",
          "Maria Sousa",
          "Mariana Andrade",
          "Mariana Andrade",
          "Mariana Andrade",
          "Mariana Andrade",
          "Mariana Andrade",
          "Mariana Costa",
          "Mariana Costa",
          "Mariana Dias",
          "Mariana Dias",
          "Mariana Dias",
          "Mariana Dias",
          "Mariana Dias",
          "Mariana Fernandes",
          "Mariana Fernandes",
          "Mariana Fernandes",
          "Mariana Lopes",
          "Mariana Lopes",
          "Mariana Lopes",
          "Mariana Lopes",
          "Mariana Pereira",
          "Mariana Pereira",
          "Mariana Pereira",
          "Mariana Pereira",
          "Mariana Pereira",
          "Mariana Pereira",
          "Mariana Rocha",
          "Mariana Rocha",
          "Mariana Rocha",
          "Mariana Rocha",
          "Mariana Rocha",
          "Mariana Rocha",
          "Mariana Rodrigues",
          "Mariana Rodrigues",
          "Mariana Rodrigues",
          "Mariana Rodrigues",
          "Mariana Rodrigues",
          "Mariana Santos",
          "Mariana Santos",
          "Mariana Santos",
          "Mariana Santos",
          "Mariana Santos",
          "Mariana Santos",
          "Mariana Santos",
          "Mariana Silva",
          "Mariana Silva",
          "Mariana Silva",
          "Mariana Silva",
          "Mariana Silva",
          "Mariana Silva",
          "Mariana Sousa",
          "Mariana Sousa",
          "Mariana Sousa",
          "Mariana Sousa",
          "Mariana Sousa",
          "Mariana Vaz",
          "Mariana Vaz",
          "Mariana Vaz",
          "Mariana Vaz",
          "Mariana Vaz",
          "Mariana Vaz",
          "Mariana Vaz",
          "Matilde Almeida",
          "Matilde Almeida",
          "Matilde Almeida",
          "Matilde Almeida",
          "Matilde Almeida",
          "Matilde Costa",
          "Matilde Costa",
          "Matilde Costa",
          "Matilde Costa",
          "Matilde Costa",
          "Matilde Costa",
          "Matilde Gomes",
          "Matilde Gomes",
          "Matilde Gomes",
          "Matilde Gomes",
          "Matilde Gomes",
          "Matilde Gomes",
          "Matilde Gomes",
          "Matilde Marques",
          "Matilde Marques",
          "Matilde Marques",
          "Matilde Marques",
          "Matilde Marques",
          "Matilde Marques",
          "Matilde Martins",
          "Matilde Martins",
          "Matilde Martins",
          "Matilde Martins",
          "Matilde Martins",
          "Matilde Martins",
          "Matilde Martins",
          "Matilde Pinto",
          "Matilde Pinto",
          "Matilde Pinto",
          "Matilde Pinto",
          "Matthew Edwards",
          "Matthew Edwards",
          "Matthew Edwards",
          "Matthew Edwards",
          "Matthew Edwards",
          "Matthew Edwards",
          "Maya Thompson",
          "Maya Thompson",
          "Maya Thompson",
          "Mia Brown",
          "Mia Brown",
          "Mia Brown",
          "Mia Brown",
          "Mia Brown",
          "Mia Brown",
          "Mia Cooper",
          "Mia Cooper",
          "Mia Cooper",
          "Mia Cooper",
          "Mia Cooper",
          "Michael Lewis",
          "Michael Lewis",
          "Michael Lewis",
          "Michael Lewis",
          "Michael Lewis",
          "Michael Lewis",
          "Michael Lewis",
          "Miguel Almeida",
          "Miguel Almeida",
          "Miguel Almeida",
          "Miguel Almeida",
          "Miguel Almeida",
          "Miguel Almeida",
          "Miguel Almeida",
          "Miguel Costa",
          "Miguel Costa",
          "Miguel Costa",
          "Miguel Costa",
          "Miguel Costa",
          "Miguel Costa",
          "Miguel Lopes",
          "Miguel Lopes",
          "Miguel Lopes",
          "Miguel Lopes",
          "Miguel Lopes",
          "Miguel Lopes",
          "Miguel Lopes",
          "Miguel Pereira",
          "Miguel Pereira",
          "Miguel Pereira",
          "Miguel Pereira",
          "Miguel Pereira",
          "Miguel Pereira",
          "Miguel Pereira",
          "Natalie Baker",
          "Natalie Baker",
          "Natalie Baker",
          "Natalie Baker",
          "Natalie Baker",
          "Natalie Baker",
          "Nathan Price",
          "Nathan Price",
          "Nathan Price",
          "Nathan Price",
          "Nathan Price",
          "Nathan Price",
          "Nathan Price",
          "Nicholas Walker",
          "Nicholas Walker",
          "Nicholas Walker",
          "Nicholas Walker",
          "Nicholas Walker",
          "Nicholas Walker",
          "Nicholas Walker",
          "Noah Rodriguez",
          "Noah Rodriguez",
          "Noah Rodriguez",
          "Noah Rodriguez",
          "Noah Rodriguez",
          "Nuno Almeida",
          "Nuno Almeida",
          "Nuno Almeida",
          "Nuno Almeida",
          "Nuno Almeida",
          "Nuno Almeida",
          "Nuno Santos",
          "Nuno Santos",
          "Nuno Santos",
          "Nuno Santos",
          "Nuno Santos",
          "Nuno Santos",
          "Nuno Santos",
          "Nuno Santos",
          "Olivia Smith",
          "Olivia Smith",
          "Olivia Smith",
          "Owen Lee",
          "Owen Lee",
          "Owen Lee",
          "Owen Lee",
          "Pedro Dias",
          "Pedro Dias",
          "Pedro Dias",
          "Pedro Dias",
          "Pedro Dias",
          "Pedro Dias",
          "Pedro Dias",
          "Pedro Matos",
          "Pedro Matos",
          "Pedro Matos",
          "Pedro Matos",
          "Pedro Matos",
          "Pedro Matos",
          "Pedro Oliveira",
          "Pedro Oliveira",
          "Pedro Oliveira",
          "Pedro Oliveira",
          "Pedro Oliveira",
          "Pedro Oliveira",
          "Pedro Ribeiro",
          "Pedro Ribeiro",
          "Pedro Ribeiro",
          "Pedro Ribeiro",
          "Pedro Ribeiro",
          "Pedro Ribeiro",
          "Pedro Sousa",
          "Pedro Sousa",
          "Pedro Sousa",
          "Pedro Sousa",
          "Penelope Flores",
          "Penelope Flores",
          "Peyton Turner",
          "Peyton Turner",
          "Peyton Turner",
          "Peyton Turner",
          "Rafael Fernandes",
          "Rafael Fernandes",
          "Rafael Fernandes",
          "Rafael Fernandes",
          "Rafael Fernandes",
          "Rafael Fernandes",
          "Rafael Teixeira",
          "Rafael Teixeira",
          "Rafael Teixeira",
          "Rafael Teixeira",
          "Rafael Teixeira",
          "Rafael Vieira",
          "Rafael Vieira",
          "Rafael Vieira",
          "Rafael Vieira",
          "Rafael Vieira",
          "Rafael Vieira",
          "Rafael Vieira",
          "Rafaela Alves",
          "Rafaela Alves",
          "Rafaela Alves",
          "Rafaela Alves",
          "Rafaela Alves",
          "Rafaela Alves",
          "Rafaela Alves",
          "Rafaela Ferreira",
          "Rafaela Ferreira",
          "Rafaela Ferreira",
          "Rafaela Ferreira",
          "Rafaela Ferreira",
          "Rafaela Silva",
          "Raquel Alves",
          "Rita Carvalho",
          "Rita Carvalho",
          "Rita Carvalho",
          "Rita Carvalho",
          "Rita Carvalho",
          "Rita Carvalho",
          "Rita Fernandes",
          "Rita Fernandes",
          "Rita Fernandes",
          "Rita Fernandes",
          "Rita Fernandes",
          "Rita Fernandes",
          "Rita Matos",
          "Rita Matos",
          "Rita Matos",
          "Rita Matos",
          "Rita Matos",
          "Rita Matos",
          "Rita Matos",
          "Rodrigo Castro",
          "Rodrigo Castro",
          "Rodrigo Castro",
          "Rodrigo Castro",
          "Rodrigo Castro",
          "Rodrigo Castro",
          "Rodrigo Castro",
          "Rodrigo Castro",
          "Rodrigo Ferreira",
          "Rodrigo Ferreira",
          "Rodrigo Ferreira",
          "Rodrigo Ferreira",
          "Rodrigo Ferreira",
          "Rodrigo Ferreira",
          "Rodrigo Ferreira",
          "Rodrigo Mendes",
          "Rodrigo Mendes",
          "Rodrigo Mendes",
          "Rodrigo Mendes",
          "Rodrigo Mendes",
          "Rodrigo Mendes",
          "Rodrigo Mendes",
          "Rodrigo Nunes",
          "Rodrigo Nunes",
          "Rodrigo Nunes",
          "Rodrigo Nunes",
          "Rodrigo Nunes",
          "Rodrigo Nunes",
          "Rodrigo Oliveira",
          "Rodrigo Oliveira",
          "Rodrigo Oliveira",
          "Rodrigo Oliveira",
          "Rodrigo Oliveira",
          "Rodrigo Pereira",
          "Rodrigo Pereira",
          "Rodrigo Pereira",
          "Rodrigo Pereira",
          "Rodrigo Pereira",
          "Rodrigo Pereira",
          "Rodrigo Sousa",
          "Rodrigo Sousa",
          "Rodrigo Sousa",
          "Rodrigo Sousa",
          "Rui Ferreira",
          "Rui Ferreira",
          "Rui Ferreira",
          "Rui Ferreira",
          "Rui Ferreira",
          "Rui Ferreira",
          "Rui Ferreira",
          "Ryan Parker",
          "Ryan Parker",
          "Ryan Parker",
          "Ryan Parker",
          "Ryan Parker",
          "Ryan Parker",
          "Ryan Parker",
          "Ryan Perez",
          "Ryan Perez",
          "Ryan Perez",
          "Ryan Perez",
          "Ryan Perez",
          "Samantha Rodriguez",
          "Samantha Rodriguez",
          "Samantha Rodriguez",
          "Samantha Rodriguez",
          "Samantha Rodriguez",
          "Samantha Rodriguez",
          "Samuel Davis",
          "Samuel Davis",
          "Samuel Davis",
          "Samuel Davis",
          "Samuel Davis",
          "Samuel Davis",
          "Samuel Davis",
          "Samuel Ferreira",
          "Samuel Ferreira",
          "Samuel Ferreira",
          "Samuel Wilson",
          "Samuel Wilson",
          "Samuel Wilson",
          "Samuel Wilson",
          "Samuel Wilson",
          "Samuel Wilson",
          "Samuel Wilson",
          "Sara Ribeiro",
          "Sara Ribeiro",
          "Sara Ribeiro",
          "Sara Ribeiro",
          "Sara Ribeiro",
          "Sara Ribeiro",
          "Sara Ribeiro",
          "Sara Silva",
          "Sara Silva",
          "Sara Silva",
          "Sara Silva",
          "Sara Silva",
          "Sara Silva",
          "Sarah Garcia",
          "Sarah Garcia",
          "Sarah Garcia",
          "Sarah Garcia",
          "Sarah Garcia",
          "Sarah Garcia",
          "Sarah Garcia",
          "Savannah Hall",
          "Savannah Hall",
          "Savannah Hall",
          "Savannah Hall",
          "Savannah Hall",
          "Savannah Hall",
          "Savannah Hall",
          "Scarlett Rodriguez",
          "Scarlett Rodriguez",
          "Scarlett Rodriguez",
          "Scarlett Rodriguez",
          "Scarlett Rodriguez",
          "Scarlett Rodriguez",
          "Scarlett Rodriguez",
          "Simão Costa",
          "Simão Costa",
          "Simão Fernandes",
          "Simão Fernandes",
          "Simão Fernandes",
          "Simão Fernandes",
          "Simão Fernandes",
          "Simão Fernandes",
          "Simão Fernandes",
          "Simão Rodrigues",
          "Simão Rodrigues",
          "Simão Rodrigues",
          "Simão Rodrigues",
          "Simão Rodrigues",
          "Simão Rodrigues",
          "Sofia Nunes",
          "Sofia Nunes",
          "Sofia Nunes",
          "Sofia Nunes",
          "Sofia Nunes",
          "Sofia Ribeiro",
          "Sofia Ribeiro",
          "Sofia Ribeiro",
          "Sofia Ribeiro",
          "Sofia Ribeiro",
          "Sofia Ribeiro",
          "Sofia Santos",
          "Sofia Santos",
          "Sofia Santos",
          "Sofia Santos",
          "Sofia Santos",
          "Sofia Santos",
          "Sofia Santos",
          "Sofia Silva",
          "Sofia Silva",
          "Sofia Silva",
          "Sofia Silva",
          "Sofia Silva",
          "Sofia Turner",
          "Sofia Turner",
          "Sofia Turner",
          "Sofia Turner",
          "Sofia Turner",
          "Sophia Anderson",
          "Sophia Anderson",
          "Sophia Anderson",
          "Sophia Anderson",
          "Sophia Anderson",
          "Sophia Anderson",
          "Sophia Anderson",
          "Tiago Costa",
          "Tiago Costa",
          "Tiago Costa",
          "Tiago Costa",
          "Tiago Costa",
          "Tiago Costa",
          "Tiago Cunha",
          "Tiago Cunha",
          "Tiago Cunha",
          "Tiago Cunha",
          "Tiago Fernandes",
          "Tiago Fernandes",
          "Tiago Fernandes",
          "Tiago Fernandes",
          "Tiago Fernandes",
          "Tiago Fernandes",
          "Tiago Fernandes",
          "Tiago Gonçalves",
          "Tiago Gonçalves",
          "Tiago Gonçalves",
          "Tiago Gonçalves",
          "Tiago Gonçalves",
          "Tiago Rodrigues",
          "Tiago Rodrigues",
          "Tiago Rodrigues",
          "Tiago Rodrigues",
          "Tiago Rodrigues",
          "Tiago Rodrigues",
          "Tiago Sousa Cruz",
          "Tiago Sousa Cruz",
          "Tiago Sousa Cruz",
          "Tiago Sousa Cruz",
          "Tiago Sousa Cruz",
          "Tiago Sousa Cruz",
          "Tiago Sousa Cruz",
          "Tomás Carvalho",
          "Tomás Carvalho",
          "Tomás Carvalho",
          "Tomás Carvalho",
          "Tomás Carvalho",
          "Tomás Carvalho",
          "Tomás Carvalho",
          "Tomás Costa",
          "Tomás Martins",
          "Tomás Martins",
          "Tomás Martins",
          "Tomás Martins",
          "Tomás Martins",
          "Tomás Martins",
          "Tomás Oliveira",
          "Tomás Oliveira",
          "Tomás Oliveira",
          "Tomás Oliveira",
          "Tomás Oliveira",
          "Tomás Oliveira",
          "Tomás Oliveira",
          "Tomás Rodrigues",
          "Tomás Rodrigues",
          "Tomás Rodrigues",
          "Tomás Rodrigues",
          "Tomás Rodrigues",
          "Tomás Rodrigues",
          "Tomás Rodrigues",
          "Tomás Santos",
          "Tomás Santos",
          "Tomás Santos",
          "Tomás Santos",
          "Tomé Martins",
          "Tomé Martins",
          "Tomé Martins",
          "Tomé Martins",
          "Tomé Martins",
          "Tomé Martins",
          "Tomé Martins",
          "Tyler Martin",
          "Tyler Martin",
          "Tyler Martin",
          "Tyler Martin",
          "Tyler Martin",
          "Tyler Martin",
          "Tyler Martin",
          "Vasco Santos",
          "Vasco Santos",
          "Vasco Santos",
          "Vasco Santos",
          "Vasco Santos",
          "Vasco Santos",
          "Vasco Santos",
          "Vasco Santos",
          "Victoria Clark",
          "William Hernandez",
          "William Hernandez",
          "William Hernandez",
          "William Hernandez",
          "William Hernandez",
          "William Hernandez",
          "Zachary Garcia",
          "Zachary Garcia",
          "Zachary Garcia",
          "Zoey Nelson",
          "Zoey Nelson",
          "Zoey Nelson",
          "Zoey Nelson",
          "Zoey Nelson",
          "Zoey Nelson",
          "Zoey Nelson"
         ],
         "categoryorder": "array",
         "domain": [
          0,
          1
         ],
         "title": {
          "text": "Candidate Name"
         }
        }
       }
      }
     },
     "metadata": {},
     "output_type": "display_data"
    },
    {
     "name": "stderr",
     "output_type": "stream",
     "text": [
      "/tmp/ipykernel_3585/1862508806.py:11: UserWarning:\n",
      "\n",
      "Boolean Series key will be reindexed to match DataFrame index.\n",
      "\n"
     ]
    },
    {
     "data": {
      "application/vnd.plotly.v1+json": {
       "config": {
        "plotlyServerURL": "https://plot.ly"
       },
       "data": [
        {
         "alignmentgroup": "True",
         "base": [
          "2023-06-4",
          "2023-06-2",
          "2023-06-3",
          "2023-06-2",
          "2023-06-5",
          "2023-06-1",
          "2023-06-3",
          "2023-06-9",
          "2023-06-6",
          "2023-06-7",
          "2023-06-6",
          "2023-06-4",
          "2023-06-1",
          "2023-06-5",
          "2023-06-2",
          "2023-06-6",
          "2023-06-7",
          "2023-06-4",
          "2023-06-8",
          "2023-06-2",
          "2023-06-6",
          "2023-06-5",
          "2023-06-3",
          "2023-06-7",
          "2023-06-1",
          "2023-06-6",
          "2023-06-9",
          "2023-06-7",
          "2023-06-8",
          "2023-06-4",
          "2023-06-7"
         ],
         "customdata": [
          [
           "Site Assistant ",
           5,
           2,
           5
          ],
          [
           "Site Assistant ",
           5,
           2,
           5
          ],
          [
           "Site Assistant ",
           5,
           2,
           5
          ],
          [
           "Site Assistant ",
           5,
           2,
           3
          ],
          [
           "Site Assistant ",
           5,
           2,
           3
          ],
          [
           "Site Assistant ",
           5,
           2,
           3
          ],
          [
           "Site Assistant ",
           5,
           2,
           3
          ],
          [
           "Site Assistant ",
           5,
           2,
           3
          ],
          [
           "Site Assistant ",
           5,
           2,
           3
          ],
          [
           "Site Assistant ",
           5,
           2,
           3
          ],
          [
           "Site Assistant ",
           4,
           1,
           1
          ],
          [
           "Site Assistant ",
           4,
           1,
           1
          ],
          [
           "Site Assistant ",
           4,
           1,
           1
          ],
          [
           "Site Assistant ",
           4,
           1,
           1
          ],
          [
           "Site Assistant ",
           4,
           1,
           1
          ],
          [
           "Site Assistant ",
           5,
           4,
           3
          ],
          [
           "Site Assistant ",
           5,
           4,
           3
          ],
          [
           "Site Assistant ",
           4,
           1,
           1
          ],
          [
           "Site Assistant ",
           4,
           1,
           1
          ],
          [
           "Site Assistant ",
           4,
           1,
           1
          ],
          [
           "Site Assistant ",
           4,
           1,
           1
          ],
          [
           "Site Assistant ",
           4,
           1,
           1
          ],
          [
           "Site Assistant ",
           4,
           1,
           1
          ],
          [
           "Site Assistant ",
           4,
           1,
           1
          ],
          [
           "Site Assistant ",
           5,
           3,
           2
          ],
          [
           "Site Assistant ",
           5,
           3,
           2
          ],
          [
           "Site Assistant ",
           5,
           3,
           2
          ],
          [
           "Site Assistant ",
           5,
           3,
           2
          ],
          [
           "Site Assistant ",
           5,
           5,
           3
          ],
          [
           "Site Assistant ",
           5,
           5,
           3
          ],
          [
           "Site Assistant ",
           5,
           5,
           3
          ]
         ],
         "hovertemplate": "Position Type=Site Assistant <br>Start=%{base}<br>Finish=%{x}<br>Candidate Name=%{y}<br>Position=%{customdata[0]}<br>Experience=%{customdata[1]}<br>Language Skills=%{customdata[2]}<br>Presentation Skills=%{customdata[3]}<extra></extra>",
         "legendgroup": "Site Assistant ",
         "marker": {
          "color": "#636efa",
          "pattern": {
           "shape": ""
          }
         },
         "name": "Site Assistant ",
         "offsetgroup": "Site Assistant ",
         "orientation": "h",
         "showlegend": true,
         "textposition": "auto",
         "type": "bar",
         "x": [
          86400000,
          86400000,
          86400000,
          86400000,
          86400000,
          86400000,
          86400000,
          86400000,
          86400000,
          86400000,
          86400000,
          86400000,
          86400000,
          86400000,
          86400000,
          86400000,
          86400000,
          86400000,
          86400000,
          86400000,
          86400000,
          86400000,
          86400000,
          86400000,
          86400000,
          86400000,
          86400000,
          86400000,
          86400000,
          86400000,
          86400000
         ],
         "xaxis": "x",
         "y": [
          "Joseph Hall",
          "Joseph Hall",
          "Joseph Hall",
          "João Silva",
          "João Silva",
          "João Silva",
          "João Silva",
          "João Silva",
          "João Silva",
          "João Silva",
          "Justin Taylor",
          "Justin Taylor",
          "Justin Taylor",
          "Justin Taylor",
          "Justin Taylor",
          "Leonor Ribeiro",
          "Leonor Ribeiro",
          "Leonor Sousa",
          "Leonor Sousa",
          "Leonor Sousa",
          "Leonor Sousa",
          "Leonor Sousa",
          "Leonor Sousa",
          "Leonor Sousa",
          "Lucas Green",
          "Lucas Green",
          "Lucas Green",
          "Lucas Green",
          "Matthew Edwards",
          "Matthew Edwards",
          "Matthew Edwards"
         ],
         "yaxis": "y"
        },
        {
         "alignmentgroup": "True",
         "base": [
          "2023-06-6",
          "2023-06-3",
          "2023-06-4",
          "2023-06-2",
          "2023-06-2",
          "2023-06-3",
          "2023-06-4",
          "2023-06-1",
          "2023-06-2",
          "2023-06-8",
          "2023-06-6",
          "2023-06-8",
          "2023-06-6",
          "2023-06-5",
          "2023-06-7",
          "2023-06-8",
          "2023-06-2",
          "2023-06-1",
          "2023-06-4",
          "2023-06-8",
          "2023-06-1",
          "2023-06-6",
          "2023-06-4",
          "2023-06-2",
          "2023-06-3",
          "2023-06-7",
          "2023-06-3",
          "2023-06-4"
         ],
         "customdata": [
          [
           "Dept L Set Up Assistant ",
           4,
           2,
           4
          ],
          [
           "Dept K Set Up Assistant ",
           4,
           2,
           4
          ],
          [
           "Dept K Set Up Assistant ",
           4,
           2,
           4
          ],
          [
           "Dept L Set Up Assistant ",
           4,
           3,
           1
          ],
          [
           "Dept K Set Up Assistant ",
           3,
           1,
           3
          ],
          [
           "Dept K Set Up Assistant ",
           5,
           1,
           4
          ],
          [
           "Dept K Set Up Assistant ",
           5,
           1,
           4
          ],
          [
           "Dept L Set Up Assistant ",
           5,
           1,
           4
          ],
          [
           "Dept L Set Up Assistant ",
           5,
           1,
           4
          ],
          [
           "Dept K Set Up Assistant ",
           5,
           1,
           4
          ],
          [
           "Dept K Set Up Assistant ",
           5,
           1,
           4
          ],
          [
           "Dept K Set Up Assistant ",
           5,
           4,
           3
          ],
          [
           "Dept K Set Up Assistant ",
           5,
           2,
           5
          ],
          [
           "Dept K Set Up Assistant ",
           5,
           2,
           5
          ],
          [
           "Dept K Set Up Assistant ",
           5,
           2,
           5
          ],
          [
           "Dept L Set Up Assistant ",
           5,
           2,
           5
          ],
          [
           "Dept K Set Up Assistant ",
           5,
           2,
           5
          ],
          [
           "Dept K Set Up Assistant ",
           5,
           3,
           5
          ],
          [
           "Dept L Set Up Assistant ",
           5,
           3,
           5
          ],
          [
           "Dept K Set Up Assistant ",
           4,
           1,
           5
          ],
          [
           "Dept L Set Up Assistant ",
           4,
           1,
           5
          ],
          [
           "Dept K Set Up Assistant ",
           4,
           1,
           4
          ],
          [
           "Dept L Set Up Assistant ",
           4,
           1,
           4
          ],
          [
           "Dept L Set Up Assistant ",
           4,
           1,
           4
          ],
          [
           "Dept L Set Up Assistant ",
           4,
           1,
           4
          ],
          [
           "Dept L Set Up Assistant ",
           4,
           1,
           4
          ],
          [
           "Dept K Set Up Assistant ",
           5,
           3,
           5
          ],
          [
           "Dept K Set Up Assistant ",
           5,
           3,
           5
          ]
         ],
         "hovertemplate": "Position Type=Set Up Assistant <br>Start=%{base}<br>Finish=%{x}<br>Candidate Name=%{y}<br>Position=%{customdata[0]}<br>Experience=%{customdata[1]}<br>Language Skills=%{customdata[2]}<br>Presentation Skills=%{customdata[3]}<extra></extra>",
         "legendgroup": "Set Up Assistant ",
         "marker": {
          "color": "#EF553B",
          "pattern": {
           "shape": ""
          }
         },
         "name": "Set Up Assistant ",
         "offsetgroup": "Set Up Assistant ",
         "orientation": "h",
         "showlegend": true,
         "textposition": "auto",
         "type": "bar",
         "x": [
          86400000,
          86400000,
          86400000,
          86400000,
          86400000,
          86400000,
          86400000,
          86400000,
          86400000,
          86400000,
          86400000,
          86400000,
          86400000,
          86400000,
          86400000,
          86400000,
          86400000,
          86400000,
          86400000,
          86400000,
          86400000,
          86400000,
          86400000,
          86400000,
          86400000,
          86400000,
          86400000,
          86400000
         ],
         "xaxis": "x",
         "y": [
          "José Carvalho",
          "José Carvalho",
          "José Carvalho",
          "João Pedro Almeida",
          "Júlia Costa",
          "Lara Costa",
          "Lara Costa",
          "Lara Costa",
          "Lara Costa",
          "Lara Costa",
          "Lara Costa",
          "Leonor Ribeiro",
          "Lily Taylor",
          "Lily Taylor",
          "Lily Taylor",
          "Lily Taylor",
          "Lily Taylor",
          "Lucas Barbosa",
          "Lucas Barbosa",
          "Mariana Vaz",
          "Mariana Vaz",
          "Mia Brown",
          "Mia Brown",
          "Mia Brown",
          "Mia Brown",
          "Mia Brown",
          "Mia Cooper",
          "Mia Cooper"
         ],
         "yaxis": "y"
        },
        {
         "alignmentgroup": "True",
         "base": [
          "2023-06-8",
          "2023-06-1",
          "2023-06-2",
          "2023-06-6",
          "2023-06-3",
          "2023-06-2",
          "2023-06-1",
          "2023-06-8",
          "2023-06-2",
          "2023-06-5",
          "2023-06-8",
          "2023-06-2",
          "2023-06-7",
          "2023-06-1",
          "2023-06-4",
          "2023-06-9",
          "2023-06-8",
          "2023-06-4",
          "2023-06-2",
          "2023-06-1",
          "2023-06-5",
          "2023-06-6",
          "2023-06-7",
          "2023-06-5",
          "2023-06-8",
          "2023-06-3",
          "2023-06-6",
          "2023-06-9",
          "2023-06-5",
          "2023-06-6",
          "2023-06-1",
          "2023-06-7",
          "2023-06-5",
          "2023-06-2",
          "2023-06-4",
          "2023-06-7",
          "2023-06-4",
          "2023-06-9",
          "2023-06-3",
          "2023-06-8",
          "2023-06-7"
         ],
         "customdata": [
          [
           "Waiting List ",
           0,
           1,
           2
          ],
          [
           "Waiting List ",
           0,
           1,
           2
          ],
          [
           "Waiting List ",
           0,
           1,
           2
          ],
          [
           "Waiting List ",
           0,
           1,
           2
          ],
          [
           "Waiting List ",
           0,
           1,
           2
          ],
          [
           "Waiting List ",
           0,
           1,
           0
          ],
          [
           "Waiting List ",
           0,
           2,
           1
          ],
          [
           "Waiting List ",
           0,
           2,
           1
          ],
          [
           "Waiting List ",
           0,
           2,
           1
          ],
          [
           "Waiting List ",
           0,
           2,
           1
          ],
          [
           "Waiting List ",
           0,
           2,
           4
          ],
          [
           "Waiting List ",
           0,
           0,
           2
          ],
          [
           "Waiting List ",
           0,
           0,
           2
          ],
          [
           "Waiting List ",
           0,
           0,
           2
          ],
          [
           "Waiting List ",
           0,
           0,
           2
          ],
          [
           "Waiting List ",
           0,
           5,
           3
          ],
          [
           "Waiting List ",
           0,
           5,
           3
          ],
          [
           "Waiting List ",
           0,
           0,
           1
          ],
          [
           "Waiting List ",
           0,
           0,
           1
          ],
          [
           "Waiting List ",
           0,
           2,
           0
          ],
          [
           "Waiting List ",
           0,
           2,
           0
          ],
          [
           "Waiting List ",
           0,
           2,
           0
          ],
          [
           "Waiting List ",
           0,
           2,
           4
          ],
          [
           "Waiting List ",
           0,
           2,
           4
          ],
          [
           "Waiting List ",
           0,
           2,
           4
          ],
          [
           "Waiting List ",
           0,
           2,
           4
          ],
          [
           "Waiting List ",
           0,
           4,
           4
          ],
          [
           "Waiting List ",
           0,
           4,
           4
          ],
          [
           "Waiting List ",
           0,
           4,
           5
          ],
          [
           "Waiting List ",
           0,
           3,
           0
          ],
          [
           "Waiting List ",
           0,
           3,
           0
          ],
          [
           "Waiting List ",
           0,
           3,
           0
          ],
          [
           "Waiting List ",
           0,
           3,
           0
          ],
          [
           "Waiting List ",
           0,
           4,
           3
          ],
          [
           "Waiting List ",
           0,
           4,
           3
          ],
          [
           "Waiting List ",
           0,
           3,
           1
          ],
          [
           "Waiting List ",
           0,
           3,
           1
          ],
          [
           "Waiting List ",
           0,
           3,
           1
          ],
          [
           "Waiting List ",
           0,
           0,
           4
          ],
          [
           "Waiting List ",
           0,
           0,
           4
          ],
          [
           "Waiting List ",
           0,
           0,
           4
          ]
         ],
         "hovertemplate": "Position Type=Waiting List<br>Start=%{base}<br>Finish=%{x}<br>Candidate Name=%{y}<br>Position=%{customdata[0]}<br>Experience=%{customdata[1]}<br>Language Skills=%{customdata[2]}<br>Presentation Skills=%{customdata[3]}<extra></extra>",
         "legendgroup": "Waiting List",
         "marker": {
          "color": "#00cc96",
          "pattern": {
           "shape": ""
          }
         },
         "name": "Waiting List",
         "offsetgroup": "Waiting List",
         "orientation": "h",
         "showlegend": true,
         "textposition": "auto",
         "type": "bar",
         "x": [
          86400000,
          86400000,
          86400000,
          86400000,
          86400000,
          86400000,
          86400000,
          86400000,
          86400000,
          86400000,
          86400000,
          86400000,
          86400000,
          86400000,
          86400000,
          86400000,
          86400000,
          86400000,
          86400000,
          86400000,
          86400000,
          86400000,
          86400000,
          86400000,
          86400000,
          86400000,
          86400000,
          86400000,
          86400000,
          86400000,
          86400000,
          86400000,
          86400000,
          86400000,
          86400000,
          86400000,
          86400000,
          86400000,
          86400000,
          86400000,
          86400000
         ],
         "xaxis": "x",
         "y": [
          "James Lee",
          "James Lee",
          "James Lee",
          "James Lee",
          "James Lee",
          "Joana Nunes",
          "Joseph Wright",
          "Joseph Wright",
          "Joseph Wright",
          "Joseph Wright",
          "José Carvalho",
          "Julia Martinez",
          "Julia Martinez",
          "Julia Martinez",
          "Julia Martinez",
          "Leah Johnson",
          "Leah Johnson",
          "Leonor Costa",
          "Leonor Costa",
          "Lucas Alves",
          "Lucas Alves",
          "Lucas Alves",
          "Luke Collins",
          "Luke Collins",
          "Luke Collins",
          "Luke Collins",
          "Luís Costa",
          "Luís Costa",
          "Madalena Lima",
          "Mafalda Cruz",
          "Mafalda Cruz",
          "Mafalda Cruz",
          "Mafalda Cruz",
          "Mariana Costa",
          "Mariana Costa",
          "Mariana Fernandes",
          "Mariana Fernandes",
          "Mariana Fernandes",
          "Maya Thompson",
          "Maya Thompson",
          "Maya Thompson"
         ],
         "yaxis": "y"
        },
        {
         "alignmentgroup": "True",
         "base": [
          "2023-06-2",
          "2023-06-8",
          "2023-06-7",
          "2023-06-7",
          "2023-06-2",
          "2023-06-6",
          "2023-06-3",
          "2023-06-1",
          "2023-06-8",
          "2023-06-7",
          "2023-06-1",
          "2023-06-4",
          "2023-06-9",
          "2023-06-5",
          "2023-06-2",
          "2023-06-3",
          "2023-06-7",
          "2023-06-6",
          "2023-06-4",
          "2023-06-2",
          "2023-06-5",
          "2023-06-6",
          "2023-06-5",
          "2023-06-8",
          "2023-06-1",
          "2023-06-5",
          "2023-06-2",
          "2023-06-4",
          "2023-06-1",
          "2023-06-3",
          "2023-06-6",
          "2023-06-5",
          "2023-06-1",
          "2023-06-8",
          "2023-06-6",
          "2023-06-4",
          "2023-06-2",
          "2023-06-8",
          "2023-06-1",
          "2023-06-1",
          "2023-06-8",
          "2023-06-6",
          "2023-06-4",
          "2023-06-5",
          "2023-06-3",
          "2023-06-7",
          "2023-06-1",
          "2023-06-2",
          "2023-06-8",
          "2023-06-4",
          "2023-06-7",
          "2023-06-1",
          "2023-06-3",
          "2023-06-4",
          "2023-06-6",
          "2023-06-5",
          "2023-06-6",
          "2023-06-3",
          "2023-06-1",
          "2023-06-2",
          "2023-06-3",
          "2023-06-1",
          "2023-06-6",
          "2023-06-5",
          "2023-06-9",
          "2023-06-7",
          "2023-06-6",
          "2023-06-5"
         ],
         "customdata": [
          [
           "Dept F Viewing Assistant ",
           4,
           2,
           4
          ],
          [
           "Dept D Viewing Assistant ",
           4,
           2,
           4
          ],
          [
           "Dept D Viewing Assistant ",
           4,
           2,
           4
          ],
          [
           "Dept G Viewing Assistant ",
           5,
           1,
           4
          ],
          [
           "Dept I Viewing Assistant ",
           5,
           1,
           4
          ],
          [
           "Dept I Viewing Assistant ",
           5,
           1,
           4
          ],
          [
           "Dept I Viewing Assistant ",
           5,
           1,
           4
          ],
          [
           "Dept B Viewing Assistant ",
           5,
           1,
           4
          ],
          [
           "Dept I Viewing Assistant ",
           5,
           1,
           4
          ],
          [
           "Dept I Viewing Assistant ",
           5,
           3,
           3
          ],
          [
           "Dept I Viewing Assistant ",
           5,
           3,
           3
          ],
          [
           "Dept K Viewing Assistant ",
           5,
           3,
           3
          ],
          [
           "Dept L Viewing Assistant ",
           5,
           3,
           3
          ],
          [
           "Dept G Viewing Assistant ",
           5,
           3,
           3
          ],
          [
           "Dept K Viewing Assistant ",
           5,
           3,
           3
          ],
          [
           "Dept K Viewing Assistant ",
           4,
           4,
           3
          ],
          [
           "Dept D Viewing Assistant ",
           4,
           4,
           3
          ],
          [
           "Dept K Viewing Assistant ",
           4,
           4,
           3
          ],
          [
           "Dept D Viewing Assistant ",
           4,
           4,
           3
          ],
          [
           "Dept B Viewing Assistant ",
           4,
           4,
           3
          ],
          [
           "Dept I Viewing Assistant ",
           4,
           4,
           3
          ],
          [
           "Dept I Viewing Assistant ",
           5,
           3,
           3
          ],
          [
           "Dept K Viewing Assistant ",
           5,
           3,
           3
          ],
          [
           "Dept G Viewing Assistant ",
           5,
           3,
           3
          ],
          [
           "Dept F Viewing Assistant ",
           5,
           3,
           3
          ],
          [
           "Dept L Viewing Assistant ",
           5,
           4,
           2
          ],
          [
           "Dept L Viewing Assistant ",
           5,
           4,
           2
          ],
          [
           "Dept G Viewing Assistant ",
           5,
           4,
           2
          ],
          [
           "Dept L Viewing Assistant ",
           5,
           4,
           2
          ],
          [
           "Dept I Viewing Assistant ",
           5,
           4,
           2
          ],
          [
           "Dept G Viewing Assistant ",
           5,
           4,
           2
          ],
          [
           "Dept D Viewing Assistant ",
           5,
           2,
           2
          ],
          [
           "Dept G Viewing Assistant ",
           5,
           2,
           2
          ],
          [
           "Dept L Viewing Assistant ",
           5,
           2,
           2
          ],
          [
           "Dept G Viewing Assistant ",
           5,
           2,
           2
          ],
          [
           "Dept I Viewing Assistant ",
           5,
           2,
           2
          ],
          [
           "Dept G Viewing Assistant ",
           3,
           3,
           4
          ],
          [
           "Dept D Viewing Assistant ",
           3,
           4,
           3
          ],
          [
           "Dept B Viewing Assistant ",
           5,
           3,
           0
          ],
          [
           "Dept I Viewing Assistant ",
           5,
           4,
           2
          ],
          [
           "Dept G Viewing Assistant ",
           5,
           4,
           2
          ],
          [
           "Dept L Viewing Assistant ",
           5,
           4,
           2
          ],
          [
           "Dept G Viewing Assistant ",
           5,
           4,
           2
          ],
          [
           "Dept D Viewing Assistant ",
           5,
           4,
           2
          ],
          [
           "Dept L Viewing Assistant ",
           5,
           4,
           2
          ],
          [
           "Dept K Viewing Assistant ",
           5,
           4,
           2
          ],
          [
           "Dept B Viewing Assistant ",
           3,
           4,
           3
          ],
          [
           "Dept K Viewing Assistant ",
           4,
           4,
           4
          ],
          [
           "Dept G Viewing Assistant ",
           4,
           4,
           4
          ],
          [
           "Dept I Viewing Assistant ",
           4,
           4,
           4
          ],
          [
           "Dept L Viewing Assistant ",
           4,
           4,
           4
          ],
          [
           "Dept G Viewing Assistant ",
           5,
           2,
           2
          ],
          [
           "Dept G Viewing Assistant ",
           5,
           2,
           2
          ],
          [
           "Dept D Viewing Assistant ",
           5,
           2,
           2
          ],
          [
           "Dept D Viewing Assistant ",
           5,
           2,
           2
          ],
          [
           "Dept G Viewing Assistant ",
           5,
           2,
           2
          ],
          [
           "Dept F Viewing Assistant (VIP)",
           3,
           2,
           3
          ],
          [
           "Dept F Viewing Assistant ",
           3,
           2,
           3
          ],
          [
           "Dept B Viewing Assistant ",
           3,
           2,
           3
          ],
          [
           "Dept G Viewing Assistant ",
           3,
           2,
           3
          ],
          [
           "Dept F Viewing Assistant ",
           4,
           1,
           5
          ],
          [
           "Dept B Viewing Assistant ",
           4,
           1,
           5
          ],
          [
           "Dept D Viewing Assistant ",
           4,
           1,
           5
          ],
          [
           "Dept F Viewing Assistant (VIP)",
           4,
           1,
           5
          ],
          [
           "Dept I Viewing Assistant ",
           4,
           1,
           5
          ],
          [
           "Dept K Viewing Assistant ",
           4,
           3,
           5
          ],
          [
           "Dept G Viewing Assistant ",
           4,
           3,
           5
          ],
          [
           "Dept I Viewing Assistant ",
           4,
           3,
           5
          ]
         ],
         "hovertemplate": "Position Type=Viewing Assistant <br>Start=%{base}<br>Finish=%{x}<br>Candidate Name=%{y}<br>Position=%{customdata[0]}<br>Experience=%{customdata[1]}<br>Language Skills=%{customdata[2]}<br>Presentation Skills=%{customdata[3]}<extra></extra>",
         "legendgroup": "Viewing Assistant ",
         "marker": {
          "color": "#ab63fa",
          "pattern": {
           "shape": ""
          }
         },
         "name": "Viewing Assistant ",
         "offsetgroup": "Viewing Assistant ",
         "orientation": "h",
         "showlegend": true,
         "textposition": "auto",
         "type": "bar",
         "x": [
          86400000,
          86400000,
          86400000,
          86400000,
          86400000,
          86400000,
          86400000,
          86400000,
          86400000,
          86400000,
          86400000,
          86400000,
          86400000,
          86400000,
          86400000,
          86400000,
          86400000,
          86400000,
          86400000,
          86400000,
          86400000,
          86400000,
          86400000,
          86400000,
          86400000,
          86400000,
          86400000,
          86400000,
          86400000,
          86400000,
          86400000,
          86400000,
          86400000,
          86400000,
          86400000,
          86400000,
          86400000,
          86400000,
          86400000,
          86400000,
          86400000,
          86400000,
          86400000,
          86400000,
          86400000,
          86400000,
          86400000,
          86400000,
          86400000,
          86400000,
          86400000,
          86400000,
          86400000,
          86400000,
          86400000,
          86400000,
          86400000,
          86400000,
          86400000,
          86400000,
          86400000,
          86400000,
          86400000,
          86400000,
          86400000,
          86400000,
          86400000,
          86400000
         ],
         "xaxis": "x",
         "y": [
          "José Carlos Oliveira",
          "José Carlos Oliveira",
          "José Carlos Oliveira",
          "José Rodrigues",
          "José Rodrigues",
          "José Rodrigues",
          "José Rodrigues",
          "José Rodrigues",
          "José Rodrigues",
          "Lara Silva",
          "Lara Silva",
          "Lara Silva",
          "Lara Silva",
          "Lara Silva",
          "Lara Silva",
          "Laura Vieira",
          "Laura Vieira",
          "Laura Vieira",
          "Laura Vieira",
          "Laura Vieira",
          "Laura Vieira",
          "Liam Davis",
          "Liam Davis",
          "Liam Davis",
          "Liam Davis",
          "Lídia Sousa",
          "Lídia Sousa",
          "Lídia Sousa",
          "Lídia Sousa",
          "Lídia Sousa",
          "Lídia Sousa",
          "Mafalda Ferreira",
          "Mafalda Ferreira",
          "Mafalda Ferreira",
          "Mafalda Ferreira",
          "Mafalda Ferreira",
          "Maria Ferreira",
          "Maria Gonçalves",
          "Maria Ribeiro",
          "Maria Silva",
          "Maria Silva",
          "Maria Silva",
          "Maria Silva",
          "Maria Silva",
          "Maria Silva",
          "Maria Silva",
          "Mariana Dias",
          "Mariana Lopes",
          "Mariana Lopes",
          "Mariana Lopes",
          "Mariana Lopes",
          "Matilde Almeida",
          "Matilde Almeida",
          "Matilde Almeida",
          "Matilde Almeida",
          "Matilde Almeida",
          "Matilde Gomes",
          "Matilde Gomes",
          "Matilde Gomes",
          "Matilde Gomes",
          "Matilde Marques",
          "Matilde Marques",
          "Matilde Marques",
          "Matilde Marques",
          "Matilde Marques",
          "Mia Cooper",
          "Mia Cooper",
          "Mia Cooper"
         ],
         "yaxis": "y"
        },
        {
         "alignmentgroup": "True",
         "base": [
          "2023-06-7",
          "2023-06-5",
          "2023-06-6",
          "2023-06-7",
          "2023-06-4",
          "2023-06-9",
          "2023-06-5",
          "2023-06-4"
         ],
         "customdata": [
          [
           "Catalogue Desk Assistant ",
           5,
           2,
           2
          ],
          [
           "Catalogue Desk Assistant ",
           5,
           2,
           2
          ],
          [
           "Catalogue Desk Assistant ",
           5,
           3,
           3
          ],
          [
           "Catalogue Desk Assistant ",
           5,
           3,
           3
          ],
          [
           "Catalogue Desk Assistant ",
           5,
           3,
           3
          ],
          [
           "Catalogue Desk Assistant ",
           5,
           3,
           3
          ],
          [
           "Catalogue Desk Assistant ",
           4,
           2,
           3
          ],
          [
           "Catalogue Desk Assistant ",
           4,
           2,
           3
          ]
         ],
         "hovertemplate": "Position Type=Catalogue Desk Assistant <br>Start=%{base}<br>Finish=%{x}<br>Candidate Name=%{y}<br>Position=%{customdata[0]}<br>Experience=%{customdata[1]}<br>Language Skills=%{customdata[2]}<br>Presentation Skills=%{customdata[3]}<extra></extra>",
         "legendgroup": "Catalogue Desk Assistant ",
         "marker": {
          "color": "#FFA15A",
          "pattern": {
           "shape": ""
          }
         },
         "name": "Catalogue Desk Assistant ",
         "offsetgroup": "Catalogue Desk Assistant ",
         "orientation": "h",
         "showlegend": true,
         "textposition": "auto",
         "type": "bar",
         "x": [
          86400000,
          86400000,
          86400000,
          86400000,
          86400000,
          86400000,
          86400000,
          86400000
         ],
         "xaxis": "x",
         "y": [
          "Logan Davis",
          "Logan Davis",
          "Mariana Pereira",
          "Mariana Pereira",
          "Mariana Pereira",
          "Mariana Pereira",
          "Matilde Gomes",
          "Matilde Gomes"
         ],
         "yaxis": "y"
        },
        {
         "alignmentgroup": "True",
         "base": [
          "2023-06-6",
          "2023-06-7",
          "2023-06-8",
          "2023-06-9",
          "2023-06-5",
          "2023-06-1",
          "2023-06-1",
          "2023-06-7",
          "2023-06-2",
          "2023-06-5",
          "2023-06-4"
         ],
         "customdata": [
          [
           "Operations & Administration Packer ",
           5,
           0,
           0
          ],
          [
           "Operations & Administration Packer ",
           5,
           0,
           0
          ],
          [
           "Operations & Administration Packer ",
           5,
           0,
           0
          ],
          [
           "Operations & Administration Packer ",
           5,
           0,
           0
          ],
          [
           "Operations & Administration Packer ",
           5,
           0,
           0
          ],
          [
           "Operations & Administration Packer ",
           5,
           0,
           0
          ],
          [
           "Operations & Administration Packer ",
           5,
           1,
           0
          ],
          [
           "Operations & Administration Packer ",
           5,
           1,
           0
          ],
          [
           "Operations & Administration Packer ",
           5,
           1,
           0
          ],
          [
           "Operations & Administration Packer ",
           5,
           1,
           0
          ],
          [
           "Operations & Administration Packer ",
           5,
           1,
           0
          ]
         ],
         "hovertemplate": "Position Type=Operations & Administration Packer <br>Start=%{base}<br>Finish=%{x}<br>Candidate Name=%{y}<br>Position=%{customdata[0]}<br>Experience=%{customdata[1]}<br>Language Skills=%{customdata[2]}<br>Presentation Skills=%{customdata[3]}<extra></extra>",
         "legendgroup": "Operations & Administration Packer ",
         "marker": {
          "color": "#19d3f3",
          "pattern": {
           "shape": ""
          }
         },
         "name": "Operations & Administration Packer ",
         "offsetgroup": "Operations & Administration Packer ",
         "orientation": "h",
         "showlegend": true,
         "textposition": "auto",
         "type": "bar",
         "x": [
          86400000,
          86400000,
          86400000,
          86400000,
          86400000,
          86400000,
          86400000,
          86400000,
          86400000,
          86400000,
          86400000
         ],
         "xaxis": "x",
         "y": [
          "Lucas Carvalho",
          "Lucas Carvalho",
          "Lucas Carvalho",
          "Lucas Carvalho",
          "Lucas Carvalho",
          "Lucas Carvalho",
          "Maria Almeida",
          "Maria Almeida",
          "Maria Almeida",
          "Maria Almeida",
          "Maria Almeida"
         ],
         "yaxis": "y"
        },
        {
         "alignmentgroup": "True",
         "base": [
          "2023-06-6",
          "2023-06-5",
          "2023-06-7",
          "2023-06-9",
          "2023-06-9",
          "2023-06-5",
          "2023-06-9"
         ],
         "customdata": [
          [
           "Public Relationship Assistant ",
           5,
           2,
           3
          ],
          [
           "Public Relationship Assistant ",
           5,
           2,
           5
          ],
          [
           "Public Relationship Assistant ",
           5,
           2,
           5
          ],
          [
           "Public Relationship Assistant ",
           4,
           1,
           4
          ],
          [
           "Public Relationship Assistant ",
           5,
           4,
           3
          ],
          [
           "Public Relationship Assistant ",
           5,
           3,
           4
          ],
          [
           "Public Relationship Assistant ",
           5,
           3,
           4
          ]
         ],
         "hovertemplate": "Position Type=Public Relationship Assistant <br>Start=%{base}<br>Finish=%{x}<br>Candidate Name=%{y}<br>Position=%{customdata[0]}<br>Experience=%{customdata[1]}<br>Language Skills=%{customdata[2]}<br>Presentation Skills=%{customdata[3]}<extra></extra>",
         "legendgroup": "Public Relationship Assistant ",
         "marker": {
          "color": "#FF6692",
          "pattern": {
           "shape": ""
          }
         },
         "name": "Public Relationship Assistant ",
         "offsetgroup": "Public Relationship Assistant ",
         "orientation": "h",
         "showlegend": true,
         "textposition": "auto",
         "type": "bar",
         "x": [
          86400000,
          86400000,
          86400000,
          86400000,
          86400000,
          86400000,
          86400000
         ],
         "xaxis": "x",
         "y": [
          "Jonathan King",
          "Joseph Hall",
          "Joseph Hall",
          "Lara Costa",
          "Mafalda Santos",
          "Maria Ferreira",
          "Maria Ferreira"
         ],
         "yaxis": "y"
        },
        {
         "alignmentgroup": "True",
         "base": [
          "2023-06-7",
          "2023-06-9",
          "2023-06-3",
          "2023-06-5",
          "2023-06-8",
          "2023-06-1",
          "2023-06-2",
          "2023-06-1",
          "2023-06-3",
          "2023-06-9",
          "2023-06-8",
          "2023-06-3",
          "2023-06-1",
          "2023-06-8",
          "2023-06-4",
          "2023-06-5",
          "2023-06-6",
          "2023-06-1",
          "2023-06-4",
          "2023-06-7",
          "2023-06-2",
          "2023-06-5",
          "2023-06-1",
          "2023-06-9",
          "2023-06-3",
          "2023-06-6",
          "2023-06-3",
          "2023-06-4",
          "2023-06-5",
          "2023-06-4",
          "2023-06-6",
          "2023-06-7",
          "2023-06-6",
          "2023-06-4",
          "2023-06-1",
          "2023-06-5",
          "2023-06-2",
          "2023-06-7",
          "2023-06-4",
          "2023-06-3",
          "2023-06-7",
          "2023-06-6",
          "2023-06-8",
          "2023-06-5",
          "2023-06-1",
          "2023-06-4",
          "2023-06-8",
          "2023-06-5",
          "2023-06-6",
          "2023-06-2",
          "2023-06-3"
         ],
         "customdata": [
          [
           "Dept A Assistant ",
           3,
           1,
           1
          ],
          [
           "Dept E Assistant ",
           5,
           1,
           4
          ],
          [
           "Dept H Assistant ",
           5,
           1,
           4
          ],
          [
           "Dept A Assistant ",
           5,
           1,
           4
          ],
          [
           "Dept A Assistant ",
           5,
           1,
           4
          ],
          [
           "Dept H Assistant ",
           5,
           1,
           4
          ],
          [
           "Dept D Assistant ",
           3,
           2,
           2
          ],
          [
           "Dept D Assistant ",
           3,
           2,
           2
          ],
          [
           "Dept A Assistant ",
           4,
           0,
           2
          ],
          [
           "Dept A Assistant ",
           4,
           0,
           2
          ],
          [
           "Dept E Assistant ",
           4,
           0,
           2
          ],
          [
           "Dept D Assistant ",
           4,
           1,
           5
          ],
          [
           "Dept D Assistant ",
           3,
           3,
           1
          ],
          [
           "Dept E Assistant ",
           3,
           3,
           1
          ],
          [
           "Dept A Assistant ",
           3,
           3,
           1
          ],
          [
           "Dept D Assistant ",
           3,
           3,
           1
          ],
          [
           "Dept E Assistant ",
           3,
           3,
           1
          ],
          [
           "Dept H Assistant ",
           4,
           4,
           3
          ],
          [
           "Dept C Assistant ",
           5,
           2,
           4
          ],
          [
           "Dept E Assistant ",
           5,
           2,
           4
          ],
          [
           "Dept C Assistant ",
           5,
           2,
           4
          ],
          [
           "Dept D Assistant ",
           5,
           2,
           4
          ],
          [
           "Dept C Assistant ",
           5,
           2,
           4
          ],
          [
           "Dept C Assistant ",
           5,
           2,
           4
          ],
          [
           "Dept C Assistant ",
           5,
           2,
           4
          ],
          [
           "Dept D Assistant ",
           4,
           1,
           0
          ],
          [
           "Dept D Assistant ",
           4,
           3,
           4
          ],
          [
           "Dept D Assistant ",
           4,
           3,
           4
          ],
          [
           "Dept A Assistant ",
           4,
           3,
           0
          ],
          [
           "Dept D Assistant ",
           4,
           3,
           0
          ],
          [
           "Dept E Assistant ",
           4,
           3,
           0
          ],
          [
           "Dept E Assistant ",
           4,
           3,
           0
          ],
          [
           "Dept A Assistant ",
           5,
           2,
           1
          ],
          [
           "Dept H Assistant ",
           5,
           2,
           1
          ],
          [
           "Dept H Assistant ",
           5,
           2,
           1
          ],
          [
           "Dept C Assistant ",
           5,
           2,
           1
          ],
          [
           "Dept C Assistant ",
           5,
           2,
           1
          ],
          [
           "Dept D Assistant ",
           5,
           2,
           1
          ],
          [
           "Dept H Assistant ",
           5,
           3,
           4
          ],
          [
           "Dept H Assistant ",
           5,
           3,
           4
          ],
          [
           "Dept C Assistant ",
           5,
           3,
           4
          ],
          [
           "Dept C Assistant ",
           5,
           3,
           4
          ],
          [
           "Dept C Assistant ",
           5,
           3,
           4
          ],
          [
           "Dept C Assistant ",
           5,
           3,
           4
          ],
          [
           "Dept C Assistant ",
           5,
           4,
           3
          ],
          [
           "Dept C Assistant ",
           5,
           4,
           3
          ],
          [
           "Dept C Assistant ",
           5,
           4,
           3
          ],
          [
           "Dept C Assistant ",
           5,
           4,
           3
          ],
          [
           "Dept C Assistant ",
           5,
           4,
           3
          ],
          [
           "Dept H Assistant ",
           5,
           4,
           3
          ],
          [
           "Dept C Assistant ",
           5,
           4,
           3
          ]
         ],
         "hovertemplate": "Position Type=Assistant <br>Start=%{base}<br>Finish=%{x}<br>Candidate Name=%{y}<br>Position=%{customdata[0]}<br>Experience=%{customdata[1]}<br>Language Skills=%{customdata[2]}<br>Presentation Skills=%{customdata[3]}<extra></extra>",
         "legendgroup": "Assistant ",
         "marker": {
          "color": "#B6E880",
          "pattern": {
           "shape": ""
          }
         },
         "name": "Assistant ",
         "offsetgroup": "Assistant ",
         "orientation": "h",
         "showlegend": true,
         "textposition": "auto",
         "type": "bar",
         "x": [
          86400000,
          86400000,
          86400000,
          86400000,
          86400000,
          86400000,
          86400000,
          86400000,
          86400000,
          86400000,
          86400000,
          86400000,
          86400000,
          86400000,
          86400000,
          86400000,
          86400000,
          86400000,
          86400000,
          86400000,
          86400000,
          86400000,
          86400000,
          86400000,
          86400000,
          86400000,
          86400000,
          86400000,
          86400000,
          86400000,
          86400000,
          86400000,
          86400000,
          86400000,
          86400000,
          86400000,
          86400000,
          86400000,
          86400000,
          86400000,
          86400000,
          86400000,
          86400000,
          86400000,
          86400000,
          86400000,
          86400000,
          86400000,
          86400000,
          86400000,
          86400000
         ],
         "xaxis": "x",
         "y": [
          "Justin Taylor",
          "Leonor Mendes",
          "Leonor Mendes",
          "Leonor Mendes",
          "Leonor Mendes",
          "Leonor Mendes",
          "Leonor Pereira",
          "Leonor Pereira",
          "Luísa Fernandes",
          "Luísa Fernandes",
          "Luísa Fernandes",
          "Madalena Ferreira",
          "Madalena Ribeiro",
          "Madalena Ribeiro",
          "Madalena Ribeiro",
          "Madalena Ribeiro",
          "Madalena Ribeiro",
          "Mafalda Santos",
          "Margarida Sousa",
          "Margarida Sousa",
          "Margarida Sousa",
          "Margarida Sousa",
          "Margarida Sousa",
          "Margarida Sousa",
          "Margarida Sousa",
          "Maria Almeida",
          "Maria Ferreira",
          "Maria Ferreira",
          "Maria Ribeiro",
          "Maria Ribeiro",
          "Maria Ribeiro",
          "Maria Ribeiro",
          "Mariana Rocha",
          "Mariana Rocha",
          "Mariana Rocha",
          "Mariana Rocha",
          "Mariana Rocha",
          "Mariana Rocha",
          "Matilde Costa",
          "Matilde Costa",
          "Matilde Costa",
          "Matilde Costa",
          "Matilde Costa",
          "Matilde Costa",
          "Matilde Martins",
          "Matilde Martins",
          "Matilde Martins",
          "Matilde Martins",
          "Matilde Martins",
          "Matilde Martins",
          "Matilde Martins"
         ],
         "yaxis": "y"
        },
        {
         "alignmentgroup": "True",
         "base": [
          "2023-06-6",
          "2023-06-5",
          "2023-06-6",
          "2023-06-4",
          "2023-06-5",
          "2023-06-7",
          "2023-06-7",
          "2023-06-5",
          "2023-06-6",
          "2023-06-6",
          "2023-06-7",
          "2023-06-4",
          "2023-06-5",
          "2023-06-4",
          "2023-06-5"
         ],
         "customdata": [
          [
           "Currency Board Operator (Saleroom 1) ",
           5,
           2,
           4
          ],
          [
           "Currency Board Operator (Saleroom 1) ",
           5,
           2,
           4
          ],
          [
           "Currency Board Operator (Saleroom 2) ",
           5,
           3,
           1
          ],
          [
           "Currency Board Operator (Saleroom 1) ",
           5,
           3,
           1
          ],
          [
           "Currency Board Operator (Saleroom 2) ",
           5,
           3,
           1
          ],
          [
           "Currency Board Operator (Saleroom 2) ",
           5,
           3,
           1
          ],
          [
           "Currency Board Operator (Saleroom 1) ",
           5,
           0,
           2
          ],
          [
           "Currency Board Operator (Saleroom 1) ",
           5,
           0,
           2
          ],
          [
           "Currency Board Operator (Saleroom 1) ",
           5,
           0,
           2
          ],
          [
           "Currency Board Operator (Saleroom 1) ",
           5,
           1,
           5
          ],
          [
           "Currency Board Operator (Saleroom 1) ",
           5,
           1,
           5
          ],
          [
           "Currency Board Operator (Saleroom 1) ",
           5,
           1,
           5
          ],
          [
           "Currency Board Operator (Saleroom 1) ",
           5,
           1,
           5
          ],
          [
           "Currency Board Operator (Saleroom 1) ",
           5,
           0,
           3
          ],
          [
           "Currency Board Operator (Saleroom 1) ",
           5,
           0,
           3
          ]
         ],
         "hovertemplate": "Position Type=Currency Board Operator<br>Start=%{base}<br>Finish=%{x}<br>Candidate Name=%{y}<br>Position=%{customdata[0]}<br>Experience=%{customdata[1]}<br>Language Skills=%{customdata[2]}<br>Presentation Skills=%{customdata[3]}<extra></extra>",
         "legendgroup": "Currency Board Operator",
         "marker": {
          "color": "#FF97FF",
          "pattern": {
           "shape": ""
          }
         },
         "name": "Currency Board Operator",
         "offsetgroup": "Currency Board Operator",
         "orientation": "h",
         "showlegend": true,
         "textposition": "auto",
         "type": "bar",
         "x": [
          86400000,
          86400000,
          86400000,
          86400000,
          86400000,
          86400000,
          86400000,
          86400000,
          86400000,
          86400000,
          86400000,
          86400000,
          86400000,
          86400000,
          86400000
         ],
         "xaxis": "x",
         "y": [
          "José Carlos Oliveira",
          "José Carlos Oliveira",
          "João Pedro Almeida",
          "João Pedro Almeida",
          "João Pedro Almeida",
          "João Pedro Almeida",
          "Luísa Fernandes",
          "Luísa Fernandes",
          "Luísa Fernandes",
          "Mariana Vaz",
          "Mariana Vaz",
          "Mariana Vaz",
          "Mariana Vaz",
          "Matilde Pinto",
          "Matilde Pinto"
         ],
         "yaxis": "y"
        },
        {
         "alignmentgroup": "True",
         "base": [
          "2023-06-1",
          "2023-06-3",
          "2023-06-1",
          "2023-06-1",
          "2023-06-5",
          "2023-06-7",
          "2023-06-2",
          "2023-06-1",
          "2023-06-1",
          "2023-06-2",
          "2023-06-3",
          "2023-06-2",
          "2023-06-8",
          "2023-06-5",
          "2023-06-7",
          "2023-06-4",
          "2023-06-2"
         ],
         "customdata": [
          [
           "Dept L Packing Assistant ",
           4,
           2,
           2
          ],
          [
           "Dept F Packing Assistant ",
           4,
           2,
           2
          ],
          [
           "Dept L Packing Assistant ",
           5,
           4,
           1
          ],
          [
           "Dept K Packing Assistant ",
           5,
           2,
           4
          ],
          [
           "Dept L Packing Assistant ",
           5,
           2,
           4
          ],
          [
           "Dept K Packing Assistant ",
           5,
           2,
           4
          ],
          [
           "Dept K Packing Assistant ",
           5,
           2,
           4
          ],
          [
           "Dept B Packing Assistant ",
           4,
           3,
           3
          ],
          [
           "Dept L Packing Assistant ",
           5,
           5,
           1
          ],
          [
           "Dept L Packing Assistant ",
           5,
           5,
           1
          ],
          [
           "Dept L Packing Assistant ",
           5,
           5,
           1
          ],
          [
           "Dept B Packing Assistant ",
           5,
           2,
           3
          ],
          [
           "Dept K Packing Assistant ",
           5,
           2,
           3
          ],
          [
           "Dept K Packing Assistant ",
           5,
           2,
           3
          ],
          [
           "Dept K Packing Assistant ",
           5,
           2,
           3
          ],
          [
           "Dept K Packing Assistant ",
           5,
           2,
           3
          ],
          [
           "Dept L Packing Assistant ",
           4,
           1,
           5
          ]
         ],
         "hovertemplate": "Position Type=Packing Assistant <br>Start=%{base}<br>Finish=%{x}<br>Candidate Name=%{y}<br>Position=%{customdata[0]}<br>Experience=%{customdata[1]}<br>Language Skills=%{customdata[2]}<br>Presentation Skills=%{customdata[3]}<extra></extra>",
         "legendgroup": "Packing Assistant ",
         "marker": {
          "color": "#FECB52",
          "pattern": {
           "shape": ""
          }
         },
         "name": "Packing Assistant ",
         "offsetgroup": "Packing Assistant ",
         "orientation": "h",
         "showlegend": true,
         "textposition": "auto",
         "type": "bar",
         "x": [
          86400000,
          86400000,
          86400000,
          86400000,
          86400000,
          86400000,
          86400000,
          86400000,
          86400000,
          86400000,
          86400000,
          86400000,
          86400000,
          86400000,
          86400000,
          86400000,
          86400000
         ],
         "xaxis": "x",
         "y": [
          "Logan Davis",
          "Logan Davis",
          "Mafalda Ribeiro",
          "Margarida Oliveira",
          "Margarida Oliveira",
          "Margarida Oliveira",
          "Margarida Oliveira",
          "Mariana Pereira",
          "Mariana Silva",
          "Mariana Silva",
          "Mariana Silva",
          "Mariana Sousa",
          "Mariana Sousa",
          "Mariana Sousa",
          "Mariana Sousa",
          "Mariana Sousa",
          "Mariana Vaz"
         ],
         "yaxis": "y"
        },
        {
         "alignmentgroup": "True",
         "base": [
          "2023-06-7",
          "2023-06-8",
          "2023-06-7"
         ],
         "customdata": [
          [
           "Impressionist painting Viewing Assistant ",
           5,
           1,
           5
          ],
          [
           "Impressionist painting Viewing Assistant ",
           5,
           3,
           4
          ],
          [
           "Impressionist painting Viewing Assistant ",
           5,
           2,
           3
          ]
         ],
         "hovertemplate": "Position Type=Impressionist Painting Viewing Assistant <br>Start=%{base}<br>Finish=%{x}<br>Candidate Name=%{y}<br>Position=%{customdata[0]}<br>Experience=%{customdata[1]}<br>Language Skills=%{customdata[2]}<br>Presentation Skills=%{customdata[3]}<extra></extra>",
         "legendgroup": "Impressionist Painting Viewing Assistant ",
         "marker": {
          "color": "#636efa",
          "pattern": {
           "shape": ""
          }
         },
         "name": "Impressionist Painting Viewing Assistant ",
         "offsetgroup": "Impressionist Painting Viewing Assistant ",
         "orientation": "h",
         "showlegend": true,
         "textposition": "auto",
         "type": "bar",
         "x": [
          86400000,
          86400000,
          86400000
         ],
         "xaxis": "x",
         "y": [
          "Madalena Ferreira",
          "Maria Ferreira",
          "Matilde Gomes"
         ],
         "yaxis": "y"
        },
        {
         "alignmentgroup": "True",
         "base": [
          "2023-06-1",
          "2023-06-8",
          "2023-06-7",
          "2023-06-6",
          "2023-06-6",
          "2023-06-2",
          "2023-06-7",
          "2023-06-4",
          "2023-06-7",
          "2023-06-5",
          "2023-06-1",
          "2023-06-5",
          "2023-06-6",
          "2023-06-7",
          "2023-06-2",
          "2023-06-4",
          "2023-06-1",
          "2023-06-4",
          "2023-06-2",
          "2023-06-6",
          "2023-06-3",
          "2023-06-2",
          "2023-06-8",
          "2023-06-3",
          "2023-06-5",
          "2023-06-9"
         ],
         "customdata": [
          [
           "London Jewellery Viewing Assistant ",
           4,
           2,
           3
          ],
          [
           "London Jewellery Viewing Assistant ",
           5,
           3,
           5
          ],
          [
           "London Jewellery Viewing Assistant ",
           5,
           3,
           5
          ],
          [
           "London Jewellery Viewing Assistant ",
           5,
           3,
           5
          ],
          [
           "London Jewellery Viewing Assistant ",
           5,
           2,
           0
          ],
          [
           "London Jewellery Viewing Assistant ",
           5,
           2,
           0
          ],
          [
           "London Jewellery Viewing Assistant ",
           5,
           2,
           0
          ],
          [
           "London Jewellery Viewing Assistant ",
           5,
           4,
           3
          ],
          [
           "London Jewellery Viewing Assistant ",
           5,
           4,
           3
          ],
          [
           "London Jewellery Viewing Assistant ",
           5,
           4,
           3
          ],
          [
           "London Jewellery Viewing Assistant ",
           5,
           2,
           3
          ],
          [
           "London Jewellery Viewing Assistant ",
           5,
           2,
           3
          ],
          [
           "London Jewellery Viewing Assistant ",
           5,
           2,
           3
          ],
          [
           "London Jewellery Viewing Assistant ",
           5,
           2,
           3
          ],
          [
           "London Jewellery Viewing Assistant ",
           5,
           2,
           3
          ],
          [
           "London Jewellery Viewing Assistant ",
           5,
           2,
           3
          ],
          [
           "London Jewellery Viewing Assistant ",
           4,
           0,
           1
          ],
          [
           "London Jewellery Viewing Assistant ",
           4,
           4,
           3
          ],
          [
           "London Jewellery Viewing Assistant ",
           4,
           4,
           3
          ],
          [
           "London Jewellery Viewing Assistant ",
           4,
           4,
           3
          ],
          [
           "London Jewellery Viewing Assistant ",
           4,
           4,
           3
          ],
          [
           "London Jewellery Viewing Assistant ",
           4,
           3,
           3
          ],
          [
           "London Jewellery Viewing Assistant ",
           5,
           2,
           2
          ],
          [
           "London Jewellery Viewing Assistant ",
           5,
           2,
           2
          ],
          [
           "London Jewellery Viewing Assistant ",
           5,
           2,
           2
          ],
          [
           "London Jewellery Viewing Assistant ",
           4,
           1,
           4
          ]
         ],
         "hovertemplate": "Position Type=London Jewellery Viewing Assistant <br>Start=%{base}<br>Finish=%{x}<br>Candidate Name=%{y}<br>Position=%{customdata[0]}<br>Experience=%{customdata[1]}<br>Language Skills=%{customdata[2]}<br>Presentation Skills=%{customdata[3]}<extra></extra>",
         "legendgroup": "London Jewellery Viewing Assistant ",
         "marker": {
          "color": "#EF553B",
          "pattern": {
           "shape": ""
          }
         },
         "name": "London Jewellery Viewing Assistant ",
         "offsetgroup": "London Jewellery Viewing Assistant ",
         "orientation": "h",
         "showlegend": true,
         "textposition": "auto",
         "type": "bar",
         "x": [
          86400000,
          86400000,
          86400000,
          86400000,
          86400000,
          86400000,
          86400000,
          86400000,
          86400000,
          86400000,
          86400000,
          86400000,
          86400000,
          86400000,
          86400000,
          86400000,
          86400000,
          86400000,
          86400000,
          86400000,
          86400000,
          86400000,
          86400000,
          86400000,
          86400000,
          86400000
         ],
         "xaxis": "x",
         "y": [
          "Jonathan King",
          "Lucas Barbosa",
          "Lucas Barbosa",
          "Lucas Barbosa",
          "Madelyn Brown",
          "Madelyn Brown",
          "Madelyn Brown",
          "Mafalda Santos",
          "Mafalda Santos",
          "Mafalda Santos",
          "Maria Sousa",
          "Maria Sousa",
          "Maria Sousa",
          "Maria Sousa",
          "Maria Sousa",
          "Maria Sousa",
          "Mariana Andrade",
          "Mariana Dias",
          "Mariana Dias",
          "Mariana Dias",
          "Mariana Dias",
          "Mariana Pereira",
          "Mariana Rodrigues",
          "Mariana Rodrigues",
          "Mariana Rodrigues",
          "Mia Brown"
         ],
         "yaxis": "y"
        },
        {
         "alignmentgroup": "True",
         "base": [
          "2023-06-5",
          "2023-06-4",
          "2023-06-7",
          "2023-06-3",
          "2023-06-2",
          "2023-06-2",
          "2023-06-3",
          "2023-06-4",
          "2023-06-5",
          "2023-06-6",
          "2023-06-7",
          "2023-06-9",
          "2023-06-2",
          "2023-06-5",
          "2023-06-6",
          "2023-06-8",
          "2023-06-9",
          "2023-06-8",
          "2023-06-6",
          "2023-06-7",
          "2023-06-4",
          "2023-06-6",
          "2023-06-3"
         ],
         "customdata": [
          [
           "Cloak Room Assistant ",
           5,
           2,
           3
          ],
          [
           "Cloak Room Assistant ",
           5,
           2,
           3
          ],
          [
           "Cloak Room Assistant ",
           5,
           2,
           3
          ],
          [
           "Cloak Room Assistant ",
           5,
           2,
           3
          ],
          [
           "Cloak Room Assistant ",
           5,
           2,
           3
          ],
          [
           "Cloak Room Assistant ",
           4,
           2,
           3
          ],
          [
           "Cloak Room Assistant ",
           4,
           2,
           3
          ],
          [
           "Cloak Room Assistant ",
           4,
           2,
           3
          ],
          [
           "Cloak Room Assistant ",
           4,
           2,
           3
          ],
          [
           "Cloak Room Assistant ",
           4,
           2,
           3
          ],
          [
           "Cloak Room Assistant ",
           4,
           2,
           3
          ],
          [
           "Cloak Room Assistant ",
           5,
           5,
           4
          ],
          [
           "Cloak Room Assistant ",
           5,
           5,
           4
          ],
          [
           "Cloak Room Assistant ",
           5,
           5,
           4
          ],
          [
           "Cloak Room Assistant ",
           5,
           5,
           4
          ],
          [
           "Cloak Room Assistant ",
           5,
           2,
           4
          ],
          [
           "Cloak Room Assistant ",
           5,
           2,
           2
          ],
          [
           "Cloak Room Assistant ",
           5,
           5,
           1
          ],
          [
           "Cloak Room Assistant ",
           5,
           5,
           1
          ],
          [
           "Cloak Room Assistant ",
           5,
           5,
           1
          ],
          [
           "Cloak Room Assistant ",
           5,
           1,
           5
          ],
          [
           "Cloak Room Assistant ",
           5,
           0,
           3
          ],
          [
           "Cloak Room Assistant ",
           5,
           0,
           3
          ]
         ],
         "hovertemplate": "Position Type=Cloak Room Assistant <br>Start=%{base}<br>Finish=%{x}<br>Candidate Name=%{y}<br>Position=%{customdata[0]}<br>Experience=%{customdata[1]}<br>Language Skills=%{customdata[2]}<br>Presentation Skills=%{customdata[3]}<extra></extra>",
         "legendgroup": "Cloak Room Assistant ",
         "marker": {
          "color": "#00cc96",
          "pattern": {
           "shape": ""
          }
         },
         "name": "Cloak Room Assistant ",
         "offsetgroup": "Cloak Room Assistant ",
         "orientation": "h",
         "showlegend": true,
         "textposition": "auto",
         "type": "bar",
         "x": [
          86400000,
          86400000,
          86400000,
          86400000,
          86400000,
          86400000,
          86400000,
          86400000,
          86400000,
          86400000,
          86400000,
          86400000,
          86400000,
          86400000,
          86400000,
          86400000,
          86400000,
          86400000,
          86400000,
          86400000,
          86400000,
          86400000,
          86400000
         ],
         "xaxis": "x",
         "y": [
          "Jonathan King",
          "Jonathan King",
          "Jonathan King",
          "Jonathan King",
          "Jonathan King",
          "Joshua Hill",
          "Joshua Hill",
          "Joshua Hill",
          "Joshua Hill",
          "Joshua Hill",
          "Joshua Hill",
          "Luís Ferreira",
          "Luís Ferreira",
          "Luís Ferreira",
          "Luís Ferreira",
          "Margarida Oliveira",
          "Mariana Rodrigues",
          "Mariana Silva",
          "Mariana Silva",
          "Mariana Silva",
          "Matilde Marques",
          "Matilde Pinto",
          "Matilde Pinto"
         ],
         "yaxis": "y"
        },
        {
         "alignmentgroup": "True",
         "base": [
          "2023-06-4",
          "2023-06-6",
          "2023-06-7",
          "2023-06-5",
          "2023-06-3",
          "2023-06-7",
          "2023-06-6",
          "2023-06-3",
          "2023-06-5",
          "2023-06-6",
          "2023-06-4",
          "2023-06-7",
          "2023-06-5",
          "2023-06-7",
          "2023-06-6",
          "2023-06-4",
          "2023-06-6",
          "2023-06-7",
          "2023-06-4",
          "2023-06-5",
          "2023-06-3",
          "2023-06-6",
          "2023-06-7",
          "2023-06-4",
          "2023-06-5"
         ],
         "customdata": [
          [
           "Spotter ",
           4,
           1,
           3
          ],
          [
           "Spotter ",
           4,
           1,
           3
          ],
          [
           "Spotter ",
           4,
           1,
           3
          ],
          [
           "Spotter ",
           4,
           1,
           3
          ],
          [
           "Spotter ",
           5,
           2,
           2
          ],
          [
           "Spotter ",
           5,
           2,
           2
          ],
          [
           "Spotter ",
           5,
           2,
           2
          ],
          [
           "Spotter ",
           5,
           2,
           1
          ],
          [
           "Spotter ",
           5,
           2,
           1
          ],
          [
           "Spotter ",
           5,
           2,
           1
          ],
          [
           "Spotter ",
           5,
           2,
           1
          ],
          [
           "Spotter ",
           5,
           2,
           1
          ],
          [
           "Spotter ",
           4,
           3,
           0
          ],
          [
           "Spotter ",
           4,
           3,
           0
          ],
          [
           "Spotter ",
           4,
           3,
           0
          ],
          [
           "Spotter ",
           4,
           3,
           0
          ],
          [
           "Spotter ",
           5,
           4,
           3
          ],
          [
           "Spotter ",
           5,
           4,
           3
          ],
          [
           "Spotter ",
           5,
           4,
           3
          ],
          [
           "Spotter ",
           5,
           4,
           3
          ],
          [
           "Spotter ",
           5,
           4,
           3
          ],
          [
           "Spotter ",
           5,
           0,
           1
          ],
          [
           "Spotter ",
           5,
           0,
           1
          ],
          [
           "Spotter ",
           5,
           0,
           1
          ],
          [
           "Spotter ",
           5,
           0,
           1
          ]
         ],
         "hovertemplate": "Position Type=Spotter <br>Start=%{base}<br>Finish=%{x}<br>Candidate Name=%{y}<br>Position=%{customdata[0]}<br>Experience=%{customdata[1]}<br>Language Skills=%{customdata[2]}<br>Presentation Skills=%{customdata[3]}<extra></extra>",
         "legendgroup": "Spotter ",
         "marker": {
          "color": "#ab63fa",
          "pattern": {
           "shape": ""
          }
         },
         "name": "Spotter ",
         "offsetgroup": "Spotter ",
         "orientation": "h",
         "showlegend": true,
         "textposition": "auto",
         "type": "bar",
         "x": [
          86400000,
          86400000,
          86400000,
          86400000,
          86400000,
          86400000,
          86400000,
          86400000,
          86400000,
          86400000,
          86400000,
          86400000,
          86400000,
          86400000,
          86400000,
          86400000,
          86400000,
          86400000,
          86400000,
          86400000,
          86400000,
          86400000,
          86400000,
          86400000,
          86400000
         ],
         "xaxis": "x",
         "y": [
          "Júlia Costa",
          "Júlia Costa",
          "Júlia Costa",
          "Júlia Costa",
          "Leonor Pereira",
          "Leonor Pereira",
          "Leonor Pereira",
          "Madalena Oliveira",
          "Madalena Oliveira",
          "Madalena Oliveira",
          "Madalena Oliveira",
          "Madalena Oliveira",
          "Madison Allen",
          "Madison Allen",
          "Madison Allen",
          "Madison Allen",
          "Maria Gonçalves",
          "Maria Gonçalves",
          "Maria Gonçalves",
          "Maria Gonçalves",
          "Maria Gonçalves",
          "Mariana Andrade",
          "Mariana Andrade",
          "Mariana Andrade",
          "Mariana Andrade"
         ],
         "yaxis": "y"
        },
        {
         "alignmentgroup": "True",
         "base": [
          "2023-06-5",
          "2023-06-7",
          "2023-06-2",
          "2023-06-1",
          "2023-06-9",
          "2023-06-6",
          "2023-06-2",
          "2023-06-8",
          "2023-06-3",
          "2023-06-4",
          "2023-06-7",
          "2023-06-9",
          "2023-06-6",
          "2023-06-2",
          "2023-06-1",
          "2023-06-8",
          "2023-06-5",
          "2023-06-3",
          "2023-06-1",
          "2023-06-7",
          "2023-06-8",
          "2023-06-9",
          "2023-06-6",
          "2023-06-4",
          "2023-06-5"
         ],
         "customdata": [
          [
           "Client Services Assistant ",
           5,
           2,
           4
          ],
          [
           "Client Services Assistant ",
           5,
           2,
           4
          ],
          [
           "Client Services Assistant ",
           5,
           2,
           4
          ],
          [
           "Client Services Assistant ",
           5,
           2,
           4
          ],
          [
           "Client Services Assistant ",
           5,
           4,
           2
          ],
          [
           "Client Services Assistant ",
           5,
           4,
           2
          ],
          [
           "Client Services Assistant ",
           5,
           4,
           2
          ],
          [
           "Client Services Assistant ",
           5,
           4,
           2
          ],
          [
           "Client Services Assistant ",
           5,
           4,
           2
          ],
          [
           "Client Services Assistant ",
           5,
           4,
           2
          ],
          [
           "Client Services Assistant ",
           5,
           4,
           2
          ],
          [
           "Client Services Assistant ",
           5,
           2,
           2
          ],
          [
           "Client Services Assistant ",
           5,
           2,
           2
          ],
          [
           "Client Services Assistant ",
           5,
           2,
           1
          ],
          [
           "Client Services Assistant ",
           5,
           2,
           1
          ],
          [
           "Client Services Assistant ",
           5,
           2,
           0
          ],
          [
           "Client Services Assistant ",
           5,
           2,
           0
          ],
          [
           "Client Services Assistant ",
           5,
           3,
           0
          ],
          [
           "Client Services Assistant ",
           5,
           3,
           0
          ],
          [
           "Client Services Assistant ",
           5,
           3,
           0
          ],
          [
           "Client Services Assistant ",
           5,
           3,
           0
          ],
          [
           "Client Services Assistant ",
           5,
           3,
           0
          ],
          [
           "Client Services Assistant ",
           5,
           3,
           0
          ],
          [
           "Client Services Assistant ",
           5,
           3,
           0
          ],
          [
           "Client Services Assistant ",
           5,
           5,
           3
          ]
         ],
         "hovertemplate": "Position Type=Client Services Assistant <br>Start=%{base}<br>Finish=%{x}<br>Candidate Name=%{y}<br>Position=%{customdata[0]}<br>Experience=%{customdata[1]}<br>Language Skills=%{customdata[2]}<br>Presentation Skills=%{customdata[3]}<extra></extra>",
         "legendgroup": "Client Services Assistant ",
         "marker": {
          "color": "#FFA15A",
          "pattern": {
           "shape": ""
          }
         },
         "name": "Client Services Assistant ",
         "offsetgroup": "Client Services Assistant ",
         "orientation": "h",
         "showlegend": true,
         "textposition": "auto",
         "type": "bar",
         "x": [
          86400000,
          86400000,
          86400000,
          86400000,
          86400000,
          86400000,
          86400000,
          86400000,
          86400000,
          86400000,
          86400000,
          86400000,
          86400000,
          86400000,
          86400000,
          86400000,
          86400000,
          86400000,
          86400000,
          86400000,
          86400000,
          86400000,
          86400000,
          86400000,
          86400000
         ],
         "xaxis": "x",
         "y": [
          "José Carvalho",
          "José Carvalho",
          "José Carvalho",
          "José Carvalho",
          "Laura Santos",
          "Laura Santos",
          "Laura Santos",
          "Laura Santos",
          "Laura Santos",
          "Laura Santos",
          "Laura Santos",
          "Logan Davis",
          "Logan Davis",
          "Madalena Oliveira",
          "Madalena Oliveira",
          "Madelyn Brown",
          "Madelyn Brown",
          "Mariana Santos",
          "Mariana Santos",
          "Mariana Santos",
          "Mariana Santos",
          "Mariana Santos",
          "Mariana Santos",
          "Mariana Santos",
          "Matthew Edwards"
         ],
         "yaxis": "y"
        },
        {
         "alignmentgroup": "True",
         "base": [
          "2023-06-6",
          "2023-06-5",
          "2023-06-3",
          "2023-06-6"
         ],
         "customdata": [
          [
           "Event Assistant ",
           5,
           1,
           5
          ],
          [
           "Event Assistant ",
           5,
           1,
           5
          ],
          [
           "Event Assistant ",
           5,
           5,
           3
          ],
          [
           "Event Assistant ",
           5,
           5,
           3
          ]
         ],
         "hovertemplate": "Position Type=Event Assistant <br>Start=%{base}<br>Finish=%{x}<br>Candidate Name=%{y}<br>Position=%{customdata[0]}<br>Experience=%{customdata[1]}<br>Language Skills=%{customdata[2]}<br>Presentation Skills=%{customdata[3]}<extra></extra>",
         "legendgroup": "Event Assistant ",
         "marker": {
          "color": "#19d3f3",
          "pattern": {
           "shape": ""
          }
         },
         "name": "Event Assistant ",
         "offsetgroup": "Event Assistant ",
         "orientation": "h",
         "showlegend": true,
         "textposition": "auto",
         "type": "bar",
         "x": [
          86400000,
          86400000,
          86400000,
          86400000
         ],
         "xaxis": "x",
         "y": [
          "Madalena Ferreira",
          "Madalena Ferreira",
          "Matthew Edwards",
          "Matthew Edwards"
         ],
         "yaxis": "y"
        },
        {
         "alignmentgroup": "True",
         "base": [
          "2023-06-7",
          "2023-06-2",
          "2023-06-6",
          "2023-06-3",
          "2023-06-1",
          "2023-06-8",
          "2023-06-3",
          "2023-06-9",
          "2023-06-7",
          "2023-06-4",
          "2023-06-3",
          "2023-06-5",
          "2023-06-6",
          "2023-06-1",
          "2023-06-2",
          "2023-06-4",
          "2023-06-5",
          "2023-06-5",
          "2023-06-3",
          "2023-06-4",
          "2023-06-1",
          "2023-06-2",
          "2023-06-8",
          "2023-06-7",
          "2023-06-4",
          "2023-06-8",
          "2023-06-1"
         ],
         "customdata": [
          [
           "Information Assistant (Hall 3B) ",
           5,
           5,
           0
          ],
          [
           "Information Assistant (Hall 3B) ",
           5,
           5,
           0
          ],
          [
           "Information Assistant (Hall 3B) ",
           5,
           5,
           0
          ],
          [
           "Information Assistant ",
           5,
           5,
           0
          ],
          [
           "Information Assistant ",
           5,
           5,
           0
          ],
          [
           "Information Assistant (Hall 3B) ",
           5,
           5,
           0
          ],
          [
           "Information Assistant (Hall 3B) ",
           5,
           2,
           4
          ],
          [
           "Information Assistant (Hall 3B) ",
           5,
           2,
           4
          ],
          [
           "Information Assistant (Hall 3B) ",
           5,
           5,
           3
          ],
          [
           "Information Assistant ",
           5,
           5,
           3
          ],
          [
           "Information Assistant ",
           5,
           5,
           3
          ],
          [
           "Information Assistant (Hall 3B) ",
           5,
           5,
           3
          ],
          [
           "Information Assistant (Hall 3B) ",
           5,
           5,
           3
          ],
          [
           "Information Assistant (Hall 3B) ",
           5,
           5,
           3
          ],
          [
           "Information Assistant ",
           5,
           5,
           3
          ],
          [
           "Information Assistant (Hall 3B) ",
           5,
           4,
           3
          ],
          [
           "Information Assistant (Hall 3B) ",
           5,
           4,
           3
          ],
          [
           "Information Assistant ",
           5,
           3,
           2
          ],
          [
           "Information Assistant (Hall 3B) ",
           5,
           3,
           2
          ],
          [
           "Information Assistant (Hall 3B) ",
           5,
           3,
           2
          ],
          [
           "Information Assistant (Hall 3B) ",
           4,
           3,
           0
          ],
          [
           "Information Assistant ",
           4,
           3,
           0
          ],
          [
           "Information Assistant (Hall 3B) ",
           4,
           3,
           0
          ],
          [
           "Information Assistant (Hall 3B) ",
           5,
           4,
           1
          ],
          [
           "Information Assistant (Hall 3B) ",
           5,
           4,
           1
          ],
          [
           "Information Assistant (Hall 3B) ",
           5,
           4,
           1
          ],
          [
           "Information Assistant ",
           5,
           2,
           2
          ]
         ],
         "hovertemplate": "Position Type=Information Assistant <br>Start=%{base}<br>Finish=%{x}<br>Candidate Name=%{y}<br>Position=%{customdata[0]}<br>Experience=%{customdata[1]}<br>Language Skills=%{customdata[2]}<br>Presentation Skills=%{customdata[3]}<extra></extra>",
         "legendgroup": "Information Assistant ",
         "marker": {
          "color": "#FF6692",
          "pattern": {
           "shape": ""
          }
         },
         "name": "Information Assistant ",
         "offsetgroup": "Information Assistant ",
         "orientation": "h",
         "showlegend": true,
         "textposition": "auto",
         "type": "bar",
         "x": [
          86400000,
          86400000,
          86400000,
          86400000,
          86400000,
          86400000,
          86400000,
          86400000,
          86400000,
          86400000,
          86400000,
          86400000,
          86400000,
          86400000,
          86400000,
          86400000,
          86400000,
          86400000,
          86400000,
          86400000,
          86400000,
          86400000,
          86400000,
          86400000,
          86400000,
          86400000,
          86400000
         ],
         "xaxis": "x",
         "y": [
          "Jonathan Scott",
          "Jonathan Scott",
          "Jonathan Scott",
          "Jonathan Scott",
          "Jonathan Scott",
          "Jonathan Scott",
          "José Carlos Oliveira",
          "José Carlos Oliveira",
          "Leah Johnson",
          "Leah Johnson",
          "Leah Johnson",
          "Leah Johnson",
          "Leah Johnson",
          "Leah Johnson",
          "Leah Johnson",
          "Leonor Ribeiro",
          "Leonor Ribeiro",
          "Lucas Green",
          "Lucas Green",
          "Lucas Green",
          "Madison Allen",
          "Madison Allen",
          "Madison Allen",
          "Mafalda Ribeiro",
          "Mafalda Ribeiro",
          "Mafalda Ribeiro",
          "Mariana Rodrigues"
         ],
         "yaxis": "y"
        }
       ],
       "layout": {
        "barmode": "overlay",
        "height": 1500,
        "legend": {
         "title": {
          "text": "Position Type"
         },
         "tracegroupgap": 0
        },
        "margin": {
         "t": 60
        },
        "template": {
         "data": {
          "bar": [
           {
            "error_x": {
             "color": "#2a3f5f"
            },
            "error_y": {
             "color": "#2a3f5f"
            },
            "marker": {
             "line": {
              "color": "#E5ECF6",
              "width": 0.5
             },
             "pattern": {
              "fillmode": "overlay",
              "size": 10,
              "solidity": 0.2
             }
            },
            "type": "bar"
           }
          ],
          "barpolar": [
           {
            "marker": {
             "line": {
              "color": "#E5ECF6",
              "width": 0.5
             },
             "pattern": {
              "fillmode": "overlay",
              "size": 10,
              "solidity": 0.2
             }
            },
            "type": "barpolar"
           }
          ],
          "carpet": [
           {
            "aaxis": {
             "endlinecolor": "#2a3f5f",
             "gridcolor": "white",
             "linecolor": "white",
             "minorgridcolor": "white",
             "startlinecolor": "#2a3f5f"
            },
            "baxis": {
             "endlinecolor": "#2a3f5f",
             "gridcolor": "white",
             "linecolor": "white",
             "minorgridcolor": "white",
             "startlinecolor": "#2a3f5f"
            },
            "type": "carpet"
           }
          ],
          "choropleth": [
           {
            "colorbar": {
             "outlinewidth": 0,
             "ticks": ""
            },
            "type": "choropleth"
           }
          ],
          "contour": [
           {
            "colorbar": {
             "outlinewidth": 0,
             "ticks": ""
            },
            "colorscale": [
             [
              0,
              "#0d0887"
             ],
             [
              0.1111111111111111,
              "#46039f"
             ],
             [
              0.2222222222222222,
              "#7201a8"
             ],
             [
              0.3333333333333333,
              "#9c179e"
             ],
             [
              0.4444444444444444,
              "#bd3786"
             ],
             [
              0.5555555555555556,
              "#d8576b"
             ],
             [
              0.6666666666666666,
              "#ed7953"
             ],
             [
              0.7777777777777778,
              "#fb9f3a"
             ],
             [
              0.8888888888888888,
              "#fdca26"
             ],
             [
              1,
              "#f0f921"
             ]
            ],
            "type": "contour"
           }
          ],
          "contourcarpet": [
           {
            "colorbar": {
             "outlinewidth": 0,
             "ticks": ""
            },
            "type": "contourcarpet"
           }
          ],
          "heatmap": [
           {
            "colorbar": {
             "outlinewidth": 0,
             "ticks": ""
            },
            "colorscale": [
             [
              0,
              "#0d0887"
             ],
             [
              0.1111111111111111,
              "#46039f"
             ],
             [
              0.2222222222222222,
              "#7201a8"
             ],
             [
              0.3333333333333333,
              "#9c179e"
             ],
             [
              0.4444444444444444,
              "#bd3786"
             ],
             [
              0.5555555555555556,
              "#d8576b"
             ],
             [
              0.6666666666666666,
              "#ed7953"
             ],
             [
              0.7777777777777778,
              "#fb9f3a"
             ],
             [
              0.8888888888888888,
              "#fdca26"
             ],
             [
              1,
              "#f0f921"
             ]
            ],
            "type": "heatmap"
           }
          ],
          "heatmapgl": [
           {
            "colorbar": {
             "outlinewidth": 0,
             "ticks": ""
            },
            "colorscale": [
             [
              0,
              "#0d0887"
             ],
             [
              0.1111111111111111,
              "#46039f"
             ],
             [
              0.2222222222222222,
              "#7201a8"
             ],
             [
              0.3333333333333333,
              "#9c179e"
             ],
             [
              0.4444444444444444,
              "#bd3786"
             ],
             [
              0.5555555555555556,
              "#d8576b"
             ],
             [
              0.6666666666666666,
              "#ed7953"
             ],
             [
              0.7777777777777778,
              "#fb9f3a"
             ],
             [
              0.8888888888888888,
              "#fdca26"
             ],
             [
              1,
              "#f0f921"
             ]
            ],
            "type": "heatmapgl"
           }
          ],
          "histogram": [
           {
            "marker": {
             "pattern": {
              "fillmode": "overlay",
              "size": 10,
              "solidity": 0.2
             }
            },
            "type": "histogram"
           }
          ],
          "histogram2d": [
           {
            "colorbar": {
             "outlinewidth": 0,
             "ticks": ""
            },
            "colorscale": [
             [
              0,
              "#0d0887"
             ],
             [
              0.1111111111111111,
              "#46039f"
             ],
             [
              0.2222222222222222,
              "#7201a8"
             ],
             [
              0.3333333333333333,
              "#9c179e"
             ],
             [
              0.4444444444444444,
              "#bd3786"
             ],
             [
              0.5555555555555556,
              "#d8576b"
             ],
             [
              0.6666666666666666,
              "#ed7953"
             ],
             [
              0.7777777777777778,
              "#fb9f3a"
             ],
             [
              0.8888888888888888,
              "#fdca26"
             ],
             [
              1,
              "#f0f921"
             ]
            ],
            "type": "histogram2d"
           }
          ],
          "histogram2dcontour": [
           {
            "colorbar": {
             "outlinewidth": 0,
             "ticks": ""
            },
            "colorscale": [
             [
              0,
              "#0d0887"
             ],
             [
              0.1111111111111111,
              "#46039f"
             ],
             [
              0.2222222222222222,
              "#7201a8"
             ],
             [
              0.3333333333333333,
              "#9c179e"
             ],
             [
              0.4444444444444444,
              "#bd3786"
             ],
             [
              0.5555555555555556,
              "#d8576b"
             ],
             [
              0.6666666666666666,
              "#ed7953"
             ],
             [
              0.7777777777777778,
              "#fb9f3a"
             ],
             [
              0.8888888888888888,
              "#fdca26"
             ],
             [
              1,
              "#f0f921"
             ]
            ],
            "type": "histogram2dcontour"
           }
          ],
          "mesh3d": [
           {
            "colorbar": {
             "outlinewidth": 0,
             "ticks": ""
            },
            "type": "mesh3d"
           }
          ],
          "parcoords": [
           {
            "line": {
             "colorbar": {
              "outlinewidth": 0,
              "ticks": ""
             }
            },
            "type": "parcoords"
           }
          ],
          "pie": [
           {
            "automargin": true,
            "type": "pie"
           }
          ],
          "scatter": [
           {
            "fillpattern": {
             "fillmode": "overlay",
             "size": 10,
             "solidity": 0.2
            },
            "type": "scatter"
           }
          ],
          "scatter3d": [
           {
            "line": {
             "colorbar": {
              "outlinewidth": 0,
              "ticks": ""
             }
            },
            "marker": {
             "colorbar": {
              "outlinewidth": 0,
              "ticks": ""
             }
            },
            "type": "scatter3d"
           }
          ],
          "scattercarpet": [
           {
            "marker": {
             "colorbar": {
              "outlinewidth": 0,
              "ticks": ""
             }
            },
            "type": "scattercarpet"
           }
          ],
          "scattergeo": [
           {
            "marker": {
             "colorbar": {
              "outlinewidth": 0,
              "ticks": ""
             }
            },
            "type": "scattergeo"
           }
          ],
          "scattergl": [
           {
            "marker": {
             "colorbar": {
              "outlinewidth": 0,
              "ticks": ""
             }
            },
            "type": "scattergl"
           }
          ],
          "scattermapbox": [
           {
            "marker": {
             "colorbar": {
              "outlinewidth": 0,
              "ticks": ""
             }
            },
            "type": "scattermapbox"
           }
          ],
          "scatterpolar": [
           {
            "marker": {
             "colorbar": {
              "outlinewidth": 0,
              "ticks": ""
             }
            },
            "type": "scatterpolar"
           }
          ],
          "scatterpolargl": [
           {
            "marker": {
             "colorbar": {
              "outlinewidth": 0,
              "ticks": ""
             }
            },
            "type": "scatterpolargl"
           }
          ],
          "scatterternary": [
           {
            "marker": {
             "colorbar": {
              "outlinewidth": 0,
              "ticks": ""
             }
            },
            "type": "scatterternary"
           }
          ],
          "surface": [
           {
            "colorbar": {
             "outlinewidth": 0,
             "ticks": ""
            },
            "colorscale": [
             [
              0,
              "#0d0887"
             ],
             [
              0.1111111111111111,
              "#46039f"
             ],
             [
              0.2222222222222222,
              "#7201a8"
             ],
             [
              0.3333333333333333,
              "#9c179e"
             ],
             [
              0.4444444444444444,
              "#bd3786"
             ],
             [
              0.5555555555555556,
              "#d8576b"
             ],
             [
              0.6666666666666666,
              "#ed7953"
             ],
             [
              0.7777777777777778,
              "#fb9f3a"
             ],
             [
              0.8888888888888888,
              "#fdca26"
             ],
             [
              1,
              "#f0f921"
             ]
            ],
            "type": "surface"
           }
          ],
          "table": [
           {
            "cells": {
             "fill": {
              "color": "#EBF0F8"
             },
             "line": {
              "color": "white"
             }
            },
            "header": {
             "fill": {
              "color": "#C8D4E3"
             },
             "line": {
              "color": "white"
             }
            },
            "type": "table"
           }
          ]
         },
         "layout": {
          "annotationdefaults": {
           "arrowcolor": "#2a3f5f",
           "arrowhead": 0,
           "arrowwidth": 1
          },
          "autotypenumbers": "strict",
          "coloraxis": {
           "colorbar": {
            "outlinewidth": 0,
            "ticks": ""
           }
          },
          "colorscale": {
           "diverging": [
            [
             0,
             "#8e0152"
            ],
            [
             0.1,
             "#c51b7d"
            ],
            [
             0.2,
             "#de77ae"
            ],
            [
             0.3,
             "#f1b6da"
            ],
            [
             0.4,
             "#fde0ef"
            ],
            [
             0.5,
             "#f7f7f7"
            ],
            [
             0.6,
             "#e6f5d0"
            ],
            [
             0.7,
             "#b8e186"
            ],
            [
             0.8,
             "#7fbc41"
            ],
            [
             0.9,
             "#4d9221"
            ],
            [
             1,
             "#276419"
            ]
           ],
           "sequential": [
            [
             0,
             "#0d0887"
            ],
            [
             0.1111111111111111,
             "#46039f"
            ],
            [
             0.2222222222222222,
             "#7201a8"
            ],
            [
             0.3333333333333333,
             "#9c179e"
            ],
            [
             0.4444444444444444,
             "#bd3786"
            ],
            [
             0.5555555555555556,
             "#d8576b"
            ],
            [
             0.6666666666666666,
             "#ed7953"
            ],
            [
             0.7777777777777778,
             "#fb9f3a"
            ],
            [
             0.8888888888888888,
             "#fdca26"
            ],
            [
             1,
             "#f0f921"
            ]
           ],
           "sequentialminus": [
            [
             0,
             "#0d0887"
            ],
            [
             0.1111111111111111,
             "#46039f"
            ],
            [
             0.2222222222222222,
             "#7201a8"
            ],
            [
             0.3333333333333333,
             "#9c179e"
            ],
            [
             0.4444444444444444,
             "#bd3786"
            ],
            [
             0.5555555555555556,
             "#d8576b"
            ],
            [
             0.6666666666666666,
             "#ed7953"
            ],
            [
             0.7777777777777778,
             "#fb9f3a"
            ],
            [
             0.8888888888888888,
             "#fdca26"
            ],
            [
             1,
             "#f0f921"
            ]
           ]
          },
          "colorway": [
           "#636efa",
           "#EF553B",
           "#00cc96",
           "#ab63fa",
           "#FFA15A",
           "#19d3f3",
           "#FF6692",
           "#B6E880",
           "#FF97FF",
           "#FECB52"
          ],
          "font": {
           "color": "#2a3f5f"
          },
          "geo": {
           "bgcolor": "white",
           "lakecolor": "white",
           "landcolor": "#E5ECF6",
           "showlakes": true,
           "showland": true,
           "subunitcolor": "white"
          },
          "hoverlabel": {
           "align": "left"
          },
          "hovermode": "closest",
          "mapbox": {
           "style": "light"
          },
          "paper_bgcolor": "white",
          "plot_bgcolor": "#E5ECF6",
          "polar": {
           "angularaxis": {
            "gridcolor": "white",
            "linecolor": "white",
            "ticks": ""
           },
           "bgcolor": "#E5ECF6",
           "radialaxis": {
            "gridcolor": "white",
            "linecolor": "white",
            "ticks": ""
           }
          },
          "scene": {
           "xaxis": {
            "backgroundcolor": "#E5ECF6",
            "gridcolor": "white",
            "gridwidth": 2,
            "linecolor": "white",
            "showbackground": true,
            "ticks": "",
            "zerolinecolor": "white"
           },
           "yaxis": {
            "backgroundcolor": "#E5ECF6",
            "gridcolor": "white",
            "gridwidth": 2,
            "linecolor": "white",
            "showbackground": true,
            "ticks": "",
            "zerolinecolor": "white"
           },
           "zaxis": {
            "backgroundcolor": "#E5ECF6",
            "gridcolor": "white",
            "gridwidth": 2,
            "linecolor": "white",
            "showbackground": true,
            "ticks": "",
            "zerolinecolor": "white"
           }
          },
          "shapedefaults": {
           "line": {
            "color": "#2a3f5f"
           }
          },
          "ternary": {
           "aaxis": {
            "gridcolor": "white",
            "linecolor": "white",
            "ticks": ""
           },
           "baxis": {
            "gridcolor": "white",
            "linecolor": "white",
            "ticks": ""
           },
           "bgcolor": "#E5ECF6",
           "caxis": {
            "gridcolor": "white",
            "linecolor": "white",
            "ticks": ""
           }
          },
          "title": {
           "x": 0.05
          },
          "xaxis": {
           "automargin": true,
           "gridcolor": "white",
           "linecolor": "white",
           "ticks": "",
           "title": {
            "standoff": 15
           },
           "zerolinecolor": "white",
           "zerolinewidth": 2
          },
          "yaxis": {
           "automargin": true,
           "gridcolor": "white",
           "linecolor": "white",
           "ticks": "",
           "title": {
            "standoff": 15
           },
           "zerolinecolor": "white",
           "zerolinewidth": 2
          }
         }
        },
        "xaxis": {
         "anchor": "y",
         "domain": [
          0,
          1
         ],
         "type": "date"
        },
        "yaxis": {
         "anchor": "x",
         "autorange": "reversed",
         "categoryarray": [
          "Abigail Perez",
          "Abigail Perez",
          "Abigail Perez",
          "Abigail Perez",
          "Abigail Perez",
          "Abigail Perez",
          "Adam Mitchell",
          "Adam Mitchell",
          "Adam Mitchell",
          "Adam Mitchell",
          "Adam Mitchell",
          "Addison Johnson",
          "Addison Johnson",
          "Addison Johnson",
          "Afonso Costa",
          "Afonso Costa",
          "Afonso Costa",
          "Afonso Costa",
          "Afonso Costa",
          "Afonso Costa",
          "Afonso Pereira",
          "Afonso Pereira",
          "Afonso Pereira",
          "Afonso Pereira",
          "Afonso Pereira",
          "Afonso Pereira",
          "Afonso Pereira",
          "Alexander Anderson",
          "Alexander Anderson",
          "Alexander Anderson",
          "Alexander Anderson",
          "Alexander Anderson",
          "Alexander Anderson",
          "Alexander Thompson",
          "Alexander Thompson",
          "Alexander Thompson",
          "Alexander Thompson",
          "Alexander Thompson",
          "Alexander Thompson",
          "Alexandra Campbell",
          "Alexandra Campbell",
          "Alexandra Campbell",
          "Alexandra Campbell",
          "Alexandra Campbell",
          "Alexandra Campbell",
          "Alexandra Campbell",
          "Alexandre Martins",
          "Alexandre Martins",
          "Alexandre Martins",
          "Alexandre Martins",
          "Alexandre Martins",
          "Alexandre Martins",
          "Alexandre Martins",
          "Alexandre Silva",
          "Alexandre Silva",
          "Alexandre Silva",
          "Alexandre Silva",
          "Alexandre Silva",
          "Alexandre Silva",
          "Alexandre Silva",
          "Amelia Taylor",
          "Amelia Taylor",
          "Amelia Taylor",
          "Amelia Taylor",
          "Amelia Taylor",
          "Amelia Taylor",
          "Amelia Taylor",
          "Ana Beatriz Ferreira",
          "Ana Beatriz Ferreira",
          "Ana Beatriz Ferreira",
          "Ana Beatriz Ferreira",
          "Ana Beatriz Ferreira",
          "Ana Beatriz Ferreira",
          "Ana Beatriz Ferreira",
          "Ana Carvalho",
          "Ana Carvalho",
          "Ana Carvalho",
          "Ana Carvalho",
          "Ana Carvalho",
          "Ana Carvalho",
          "Ana Carvalho",
          "Ana Costa",
          "Ana Costa",
          "Ana Costa",
          "Ana Costa",
          "Ana Costa",
          "Ana Costa",
          "Ana Costa",
          "Ana Ferreira",
          "Ana Ferreira",
          "Ana Ferreira",
          "Ana Ferreira",
          "Ana Ferreira",
          "Ana Gonçalves",
          "Ana Gonçalves",
          "Ana Gonçalves",
          "Ana Gonçalves",
          "Ana Gonçalves",
          "Ana Gonçalves",
          "Ana Gonçalves",
          "Ana Martins",
          "Ana Martins",
          "Ana Martins",
          "Ana Martins",
          "Ana Nunes",
          "Ana Nunes",
          "Ana Nunes",
          "Ana Nunes",
          "Ana Nunes",
          "Ana Nunes",
          "Ana Nunes",
          "Ana Paula Ferreira",
          "Ana Paula Ferreira",
          "Ana Paula Ferreira",
          "Ana Paula Ferreira",
          "Ana Paula Ferreira",
          "Ana Paula Ferreira",
          "Ana Paula Ferreira",
          "Ana Paula Ferreira",
          "Ana Pires",
          "Ana Pires",
          "Ana Rodrigues",
          "Ana Rodrigues",
          "Ana Rodrigues",
          "Ana Rodrigues",
          "Ana Rodrigues",
          "Ana Rodrigues",
          "Ana Santos",
          "Ana Santos",
          "Ana Santos",
          "Ana Santos",
          "Ana Santos",
          "Ana Santos",
          "Ana Santos",
          "Ana Sousa",
          "Ana Sousa",
          "Ana Sousa",
          "Ana Sousa",
          "Ana Sousa",
          "Ana Sousa",
          "Andrew Moore",
          "Andrew Moore",
          "Andrew Moore",
          "Andrew Moore",
          "Andrew Moore",
          "Andrew Moore",
          "André Castro",
          "André Castro",
          "André Castro",
          "André Castro",
          "André Castro",
          "André Castro",
          "André Castro",
          "André Fernandes",
          "André Fernandes",
          "André Fernandes",
          "André Fernandes",
          "André Fernandes",
          "André Fernandes",
          "André Fernandes",
          "André Fernandes",
          "André Luís Silva",
          "André Luís Silva",
          "André Luís Silva",
          "André Luís Silva",
          "André Luís Silva",
          "André Mendes",
          "André Mendes",
          "André Mendes",
          "André Mendes",
          "André Mendes",
          "André Mendes",
          "André Santos",
          "André Santos",
          "André Santos",
          "Andréia Santos",
          "Andréia Santos",
          "Andréia Santos",
          "Andréia Santos",
          "Andréia Santos",
          "Andréia Santos",
          "António Costa",
          "António Costa",
          "António Costa",
          "António Costa",
          "António Pereira",
          "António Pereira",
          "António Pereira",
          "António Pereira",
          "António Pereira",
          "Aria Wright",
          "Aria Wright",
          "Aria Wright",
          "Aria Wright",
          "Aria Wright",
          "Aria Wright",
          "Aria Wright",
          "Arianna Hernandez",
          "Arianna Hernandez",
          "Arianna Hernandez",
          "Arianna Hernandez",
          "Arianna Hernandez",
          "Arianna Hernandez",
          "Arianna Hernandez",
          "Arianna Peterson",
          "Aubrey Davis",
          "Aubrey Davis",
          "Aubrey Davis",
          "Aubrey Davis",
          "Aubrey Davis",
          "Autumn Davis",
          "Autumn Davis",
          "Ava Martinez",
          "Ava Martinez",
          "Ava Martinez",
          "Ava Martinez",
          "Ava Martinez",
          "Ava Martinez",
          "Ava Roberts",
          "Ava Roberts",
          "Ava Roberts",
          "Ava Roberts",
          "Avery Green",
          "Avery Green",
          "Avery Green",
          "Beatriz Costa",
          "Beatriz Costa",
          "Beatriz Ferreira",
          "Beatriz Ferreira",
          "Beatriz Ferreira",
          "Beatriz Ferreira",
          "Beatriz Ferreira",
          "Beatriz Oliveira",
          "Beatriz Rodrigues",
          "Beatriz Rodrigues",
          "Beatriz Rodrigues",
          "Beatriz Rodrigues",
          "Beatriz Rodrigues",
          "Beatriz Rodrigues",
          "Beatriz Rodrigues",
          "Beatriz Santos",
          "Beatriz Santos",
          "Beatriz Santos",
          "Beatriz Santos",
          "Beatriz Santos",
          "Beatriz Sousa",
          "Beatriz Sousa",
          "Beatriz Sousa",
          "Benjamin Nelson",
          "Benjamin Nelson",
          "Benjamin Nelson",
          "Benjamin Nelson",
          "Benjamin Nelson",
          "Benjamin Nelson",
          "Bernardo Barbosa",
          "Bernardo Barbosa",
          "Bernardo Barbosa",
          "Bernardo Barbosa",
          "Bernardo Ferreira",
          "Bernardo Soares",
          "Bernardo Soares",
          "Bernardo Soares",
          "Bernardo Soares",
          "Bernardo Soares",
          "Bernardo Soares",
          "Brooklyn Lee",
          "Brooklyn Lee",
          "Brooklyn Lee",
          "Brooklyn Lee",
          "Brooklyn Lee",
          "Brooklyn Lee",
          "Bruna Oliveira",
          "Bruna Oliveira",
          "Bruna Oliveira",
          "Bruna Oliveira",
          "Bruna Oliveira",
          "Bruna Oliveira",
          "Bruna Oliveira",
          "Bruno Almeida",
          "Bruno Almeida",
          "Bruno Almeida",
          "Bruno Almeida",
          "Bruno Almeida",
          "Bruno Almeida",
          "Bruno Almeida",
          "Bruno Almeida",
          "Bruno Rodrigues",
          "Bruno Rodrigues",
          "Bruno Rodrigues",
          "Bruno Rodrigues",
          "Bruno Rodrigues",
          "Bruno Rodrigues",
          "Bárbara Silva",
          "Bárbara Silva",
          "Bárbara Silva",
          "Bárbara Silva",
          "Bárbara Silva",
          "Bárbara Silva",
          "Caleb Green",
          "Caleb Green",
          "Caleb Green",
          "Caleb Green",
          "Caleb Green",
          "Caleb Turner",
          "Caleb Turner",
          "Caleb Turner",
          "Caleb Turner",
          "Caleb Turner",
          "Caleb Turner",
          "Camila Santos",
          "Camila Santos",
          "Camila Santos",
          "Camila Santos",
          "Camila Santos",
          "Camila Santos",
          "Candidate Name",
          "Candidate Name",
          "Candidate Name",
          "Candidate Name",
          "Candidate Name",
          "Candidate Name",
          "Carolina Alves",
          "Carolina Alves",
          "Carolina Alves",
          "Carolina Alves",
          "Carolina Alves",
          "Carolina Carvalho",
          "Carolina Carvalho",
          "Carolina Carvalho",
          "Carolina Carvalho",
          "Carolina Carvalho",
          "Carolina Carvalho",
          "Carolina Carvalho",
          "Carolina Costa",
          "Carolina Costa",
          "Carolina Costa",
          "Carolina Costa",
          "Carolina Costa",
          "Carolina Fernandes",
          "Carolina Fernandes",
          "Carolina Fernandes",
          "Carolina Fernandes",
          "Carolina Fernandes",
          "Carolina Fernandes",
          "Carolina Fernandes",
          "Carolina Fernandes",
          "Carolina Fernandes",
          "Carolina Lima",
          "Carolina Lima",
          "Carolina Lima",
          "Carolina Lourenço",
          "Carolina Lourenço",
          "Carolina Lourenço",
          "Carolina Lourenço",
          "Carolina Lourenço",
          "Carolina Nunes",
          "Carolina Nunes",
          "Carolina Nunes",
          "Carolina Nunes",
          "Carolina Nunes",
          "Carolina Nunes",
          "Carolina Nunes",
          "Carolina Pires",
          "Carolina Pires",
          "Carolina Pires",
          "Carolina Rodrigues",
          "Carolina Rodrigues",
          "Carolina Rodrigues",
          "Carolina Rodrigues",
          "Carolina Teixeira",
          "Carolina Teixeira",
          "Carolina Teixeira",
          "Carolina Teixeira",
          "Carolina Teixeira",
          "Catarina Martins",
          "Catarina Martins",
          "Catarina Martins",
          "Catarina Oliveira",
          "Catarina Oliveira",
          "Catarina Oliveira",
          "Catarina Oliveira",
          "Catarina Oliveira",
          "Catarina Silva",
          "Catarina Silva",
          "Catarina Silva",
          "Catarina Silva",
          "Catarina Silva",
          "Charlotte Garcia",
          "Charlotte Garcia",
          "Charlotte Garcia",
          "Charlotte Garcia",
          "Charlotte Garcia",
          "Charlotte Garcia",
          "Charlotte Garcia",
          "Charlotte Garcia",
          "Charlotte Turner",
          "Charlotte Turner",
          "Charlotte Turner",
          "Charlotte Turner",
          "Chloe Young",
          "Chloe Young",
          "Chloe Young",
          "Christian Collins",
          "Christian Collins",
          "Christian Collins",
          "Christian Collins",
          "Christian Collins",
          "Christian Collins",
          "Christopher Baker",
          "Christopher Baker",
          "Christopher Baker",
          "Christopher Baker",
          "Christopher Baker",
          "Christopher Baker",
          "Colton Wright",
          "Colton Wright",
          "Colton Wright",
          "Colton Wright",
          "Daniel Wright",
          "Daniel Wright",
          "Daniel Wright",
          "Daniel Wright",
          "Daniel Wright",
          "Daniela Ribeiro",
          "Daniela Ribeiro",
          "Daniela Ribeiro",
          "Daniela Ribeiro",
          "Daniela Ribeiro",
          "David Fernandes",
          "David Fernandes",
          "David Fernandes",
          "David Fernandes",
          "David Fernandes",
          "David Lopes",
          "David Lopes",
          "David Lopes",
          "David Lopes",
          "David Mitchell",
          "David Mitchell",
          "David Mitchell",
          "David Mitchell",
          "David Mitchell",
          "David Mitchell",
          "David Pereira",
          "David Pereira",
          "David Pereira",
          "David Pereira",
          "David Pereira",
          "David Wilson",
          "David Wilson",
          "David Wilson",
          "David Wilson",
          "David Wilson",
          "David Wilson",
          "Diana Costa",
          "Diana Costa",
          "Diana Costa",
          "Diana Costa",
          "Diana Costa",
          "Diana Fernandes",
          "Diana Fernandes",
          "Diana Fernandes",
          "Diana Fernandes",
          "Diana Fernandes",
          "Diana Fernandes",
          "Diana Rodrigues",
          "Diogo Costa",
          "Diogo Costa",
          "Diogo Costa",
          "Diogo Costa",
          "Diogo Costa",
          "Diogo Costa",
          "Diogo Cunha",
          "Diogo Cunha",
          "Diogo Cunha",
          "Diogo Cunha",
          "Diogo Cunha",
          "Diogo Oliveira",
          "Diogo Oliveira",
          "Diogo Oliveira",
          "Diogo Oliveira",
          "Diogo Oliveira",
          "Diogo Oliveira",
          "Diogo Oliveira",
          "Diogo Oliveira",
          "Diogo Pereira",
          "Diogo Pereira",
          "Diogo Pereira",
          "Diogo Pereira",
          "Diogo Pereira",
          "Duarte Alves",
          "Duarte Alves",
          "Duarte Alves",
          "Duarte Alves",
          "Duarte Alves",
          "Duarte Martins",
          "Duarte Martins",
          "Duarte Martins",
          "Duarte Martins",
          "Duarte Martins",
          "Duarte Pereira",
          "Duarte Pereira",
          "Duarte Pereira",
          "Duarte Pinto",
          "Duarte Pinto",
          "Duarte Pinto",
          "Duarte Pinto",
          "Duarte Pinto",
          "Dylan Hernandez",
          "Dylan Hernandez",
          "Dylan Hernandez",
          "Dylan Hernandez",
          "Dylan Hernandez",
          "Dylan Hernandez",
          "Eduardo Silva",
          "Eduardo Silva",
          "Eduardo Silva",
          "Eduardo Silva",
          "Eduardo Silva",
          "Eduardo Silva",
          "Eduardo Sousa",
          "Eduardo Sousa",
          "Eduardo Sousa",
          "Eduardo Sousa",
          "Eduardo Sousa",
          "Eduardo Sousa",
          "Eduardo Sousa",
          "Eli Wright",
          "Eli Wright",
          "Eli Wright",
          "Eli Wright",
          "Eli Wright",
          "Elijah Campbell",
          "Elijah Campbell",
          "Elijah Campbell",
          "Elijah Campbell",
          "Elijah Campbell",
          "Elizabeth Adams",
          "Elizabeth Adams",
          "Elizabeth Adams",
          "Elizabeth Adams",
          "Ellie Turner",
          "Ellie Turner",
          "Ellie Turner",
          "Ellie Turner",
          "Ellie Turner",
          "Ellie Turner",
          "Emily Martin",
          "Emily Martin",
          "Emily Martin",
          "Emily Martin",
          "Emily Martin",
          "Emma Carter",
          "Emma Carter",
          "Emma Carter",
          "Emma Carter",
          "Emma Carter",
          "Ethan Flores",
          "Ethan Flores",
          "Ethan Flores",
          "Ethan Flores",
          "Ethan Jones",
          "Ethan Jones",
          "Ethan Jones",
          "Ethan Jones",
          "Eva Nelson",
          "Eva Nelson",
          "Eva Nelson",
          "Eva Nelson",
          "Eva Nelson",
          "Eva Scott",
          "Eva Scott",
          "Filipa Carvalho",
          "Filipa Carvalho",
          "Filipa Carvalho",
          "Filipa Carvalho",
          "Filipa Carvalho",
          "Filipa Carvalho",
          "Filipa Rodrigues",
          "Filipa Rodrigues",
          "Filipa Rodrigues",
          "Filipa Rodrigues",
          "Filipa Rodrigues",
          "Filipe Carvalho",
          "Filipe Carvalho",
          "Filipe Carvalho",
          "Filipe Carvalho",
          "Filipe Carvalho",
          "Filipe Ramos",
          "Filipe Ramos",
          "Francisca Castro",
          "Francisca Castro",
          "Francisca Castro",
          "Francisca Castro",
          "Francisca Ferreira",
          "Francisca Ferreira",
          "Francisca Ferreira",
          "Francisca Ferreira",
          "Francisca Ferreira",
          "Francisca Ferreira",
          "Francisca Ferreira",
          "Francisca Oliveira",
          "Francisca Oliveira",
          "Francisca Oliveira",
          "Francisca Oliveira",
          "Francisco Alves",
          "Francisco Alves",
          "Francisco Alves",
          "Francisco Alves",
          "Francisco Alves",
          "Francisco Alves",
          "Francisco Alves",
          "Francisco Fernandes",
          "Francisco Fernandes",
          "Francisco Fernandes",
          "Francisco Fernandes",
          "Francisco Fernandes",
          "Francisco Fernandes",
          "Francisco Fernandes",
          "Francisco Fernandes",
          "Francisco Ferreira",
          "Francisco Ferreira",
          "Francisco Ferreira",
          "Francisco Ferreira",
          "Francisco Ferreira",
          "Francisco Ferreira",
          "Francisco Ferreira",
          "Francisco Lopes",
          "Francisco Lopes",
          "Francisco Lopes",
          "Francisco Pinto",
          "Francisco Pinto",
          "Francisco Pinto",
          "Francisco Pinto",
          "Francisco Pinto",
          "Francisco Pinto",
          "Francisco Rodrigues",
          "Francisco Rodrigues",
          "Francisco Rodrigues",
          "Francisco Rodrigues",
          "Francisco Rodrigues",
          "Francisco Santos",
          "Francisco Santos",
          "Francisco Santos",
          "Francisco Santos",
          "Francisco Santos",
          "Francisco Santos",
          "Francisco Santos",
          "Francisco Sousa",
          "Francisco Sousa",
          "Francisco Sousa",
          "Francisco Sousa",
          "Francisco Sousa",
          "Francisco Sousa",
          "Gabriel Costa",
          "Gabriel Costa",
          "Gabriel Ferreira",
          "Gabriel Ferreira",
          "Gabriel Ferreira",
          "Gabriel Ferreira",
          "Gabriel Ferreira",
          "Gabriel Ferreira",
          "Gabriel Ferreira",
          "Gabriel Santos",
          "Gabriel Santos",
          "Gabriel Santos",
          "Gabriel Santos",
          "Gabriel Santos",
          "Gabriel Santos",
          "Gabriel Santos",
          "Gabriel Santos",
          "Gabriel Sousa",
          "Gabriel Sousa",
          "Gabriel Sousa",
          "Gabriel Sousa",
          "Gabriel Turner",
          "Gabriel Turner",
          "Gabriel Turner",
          "Gabriel Turner",
          "Gabriel Turner",
          "Gabriel Turner",
          "Gabriel Turner",
          "Gonçalo Castro",
          "Gonçalo Castro",
          "Gonçalo Castro",
          "Gonçalo Castro",
          "Gonçalo Castro",
          "Gonçalo Castro",
          "Gonçalo Castro",
          "Gonçalo Castro",
          "Gonçalo Ferreira",
          "Gonçalo Ferreira",
          "Gonçalo Ferreira",
          "Gonçalo Ferreira",
          "Gonçalo Ferreira",
          "Gonçalo Ferreira",
          "Gonçalo Ferreira",
          "Gonçalo Martins",
          "Gonçalo Martins",
          "Gonçalo Martins",
          "Gonçalo Martins",
          "Gonçalo Martins",
          "Gonçalo Martins",
          "Gonçalo Martins",
          "Gonçalo Oliveira",
          "Gonçalo Oliveira",
          "Gonçalo Oliveira",
          "Gonçalo Oliveira",
          "Gonçalo Oliveira",
          "Gonçalo Oliveira",
          "Gonçalo Oliveira",
          "Gonçalo Pereira",
          "Grace Turner",
          "Grace Turner",
          "Grace Turner",
          "Grace Turner",
          "Grace Turner",
          "Guilherme Silva",
          "Guilherme Silva",
          "Guilherme Silva",
          "Guilherme Silva",
          "Guilherme Silva",
          "Guilherme Sousa",
          "Guilherme Sousa",
          "Guilherme Sousa",
          "Guilherme Sousa",
          "Gustavo Ribeiro",
          "Gustavo Ribeiro",
          "Gustavo Ribeiro",
          "Gustavo Ribeiro",
          "Gustavo Silva",
          "Gustavo Silva",
          "Harper Johnson",
          "Harper Johnson",
          "Harper Johnson",
          "Harper Johnson",
          "Harper Johnson",
          "Harper Johnson",
          "Harper Scott",
          "Harper Scott",
          "Harper Scott",
          "Henrique Pereira",
          "Henrique Pereira",
          "Henrique Pereira",
          "Henrique Pereira",
          "Henrique Pereira",
          "Inês Almeida",
          "Inês Almeida",
          "Inês Almeida",
          "Inês Martins",
          "Inês Martins",
          "Inês Martins",
          "Inês Martins",
          "Inês Martins",
          "Inês Martins",
          "Inês Pinto",
          "Inês Pinto",
          "Inês Pinto",
          "Inês Pinto",
          "Inês Pinto",
          "Inês Pinto",
          "Inês Pinto",
          "Inês Pinto",
          "Inês Ribeiro",
          "Inês Ribeiro",
          "Inês Ribeiro",
          "Inês Ribeiro",
          "Inês Ribeiro",
          "Inês Ribeiro",
          "Inês Ribeiro",
          "Isaac Jackson",
          "Isaac Jackson",
          "Isaac Jackson",
          "Isaac Jackson",
          "Isaac Jackson",
          "Isaac Jackson",
          "Isaac Jackson",
          "Isabela Costa",
          "Isabela Costa",
          "Isabela Costa",
          "Isabela Costa",
          "Isabela Costa",
          "Isabela Costa",
          "Isabela Costa",
          "Isabella Jackson",
          "Isabella Jackson",
          "Isabella Jackson",
          "Isabella Jackson",
          "Isabella Jackson",
          "Isabella Jackson",
          "Isabella Mitchell",
          "Isabella Mitchell",
          "Isabella Mitchell",
          "Isabella Mitchell",
          "Isabella Mitchell",
          "Isabelle Adams",
          "Isaiah Hernandez",
          "Isaiah Hernandez",
          "Isaiah Hernandez",
          "Isaiah Hernandez",
          "Isaiah Hernandez",
          "Jack Edwards",
          "Jack Edwards",
          "Jack Edwards",
          "Jack Edwards",
          "Jack Edwards",
          "Jacob Campbell",
          "Jacob Campbell",
          "Jacob Campbell",
          "Jacob Campbell",
          "James Lee",
          "James Lee",
          "James Lee",
          "James Lee",
          "James Lee",
          "Joana Nunes",
          "Jonathan King",
          "Jonathan King",
          "Jonathan King",
          "Jonathan King",
          "Jonathan King",
          "Jonathan King",
          "Jonathan King",
          "Jonathan Scott",
          "Jonathan Scott",
          "Jonathan Scott",
          "Jonathan Scott",
          "Jonathan Scott",
          "Jonathan Scott",
          "Joseph Hall",
          "Joseph Hall",
          "Joseph Hall",
          "Joseph Hall",
          "Joseph Hall",
          "Joseph Wright",
          "Joseph Wright",
          "Joseph Wright",
          "Joseph Wright",
          "Joshua Hill",
          "Joshua Hill",
          "Joshua Hill",
          "Joshua Hill",
          "Joshua Hill",
          "Joshua Hill",
          "José Carlos Oliveira",
          "José Carlos Oliveira",
          "José Carlos Oliveira",
          "José Carlos Oliveira",
          "José Carlos Oliveira",
          "José Carlos Oliveira",
          "José Carlos Oliveira",
          "José Carvalho",
          "José Carvalho",
          "José Carvalho",
          "José Carvalho",
          "José Carvalho",
          "José Carvalho",
          "José Carvalho",
          "José Carvalho",
          "José Rodrigues",
          "José Rodrigues",
          "José Rodrigues",
          "José Rodrigues",
          "José Rodrigues",
          "José Rodrigues",
          "João Pedro Almeida",
          "João Pedro Almeida",
          "João Pedro Almeida",
          "João Pedro Almeida",
          "João Pedro Almeida",
          "João Silva",
          "João Silva",
          "João Silva",
          "João Silva",
          "João Silva",
          "João Silva",
          "João Silva",
          "Julia Martinez",
          "Julia Martinez",
          "Julia Martinez",
          "Julia Martinez",
          "Justin Taylor",
          "Justin Taylor",
          "Justin Taylor",
          "Justin Taylor",
          "Justin Taylor",
          "Justin Taylor",
          "Júlia Costa",
          "Júlia Costa",
          "Júlia Costa",
          "Júlia Costa",
          "Júlia Costa",
          "Lara Costa",
          "Lara Costa",
          "Lara Costa",
          "Lara Costa",
          "Lara Costa",
          "Lara Costa",
          "Lara Costa",
          "Lara Silva",
          "Lara Silva",
          "Lara Silva",
          "Lara Silva",
          "Lara Silva",
          "Lara Silva",
          "Laura Santos",
          "Laura Santos",
          "Laura Santos",
          "Laura Santos",
          "Laura Santos",
          "Laura Santos",
          "Laura Santos",
          "Laura Vieira",
          "Laura Vieira",
          "Laura Vieira",
          "Laura Vieira",
          "Laura Vieira",
          "Laura Vieira",
          "Leah Johnson",
          "Leah Johnson",
          "Leah Johnson",
          "Leah Johnson",
          "Leah Johnson",
          "Leah Johnson",
          "Leah Johnson",
          "Leah Johnson",
          "Leah Johnson",
          "Leonor Costa",
          "Leonor Costa",
          "Leonor Mendes",
          "Leonor Mendes",
          "Leonor Mendes",
          "Leonor Mendes",
          "Leonor Mendes",
          "Leonor Pereira",
          "Leonor Pereira",
          "Leonor Pereira",
          "Leonor Pereira",
          "Leonor Pereira",
          "Leonor Ribeiro",
          "Leonor Ribeiro",
          "Leonor Ribeiro",
          "Leonor Ribeiro",
          "Leonor Ribeiro",
          "Leonor Sousa",
          "Leonor Sousa",
          "Leonor Sousa",
          "Leonor Sousa",
          "Leonor Sousa",
          "Leonor Sousa",
          "Leonor Sousa",
          "Liam Davis",
          "Liam Davis",
          "Liam Davis",
          "Liam Davis",
          "Lily Taylor",
          "Lily Taylor",
          "Lily Taylor",
          "Lily Taylor",
          "Lily Taylor",
          "Logan Davis",
          "Logan Davis",
          "Logan Davis",
          "Logan Davis",
          "Logan Davis",
          "Logan Davis",
          "Lucas Alves",
          "Lucas Alves",
          "Lucas Alves",
          "Lucas Barbosa",
          "Lucas Barbosa",
          "Lucas Barbosa",
          "Lucas Barbosa",
          "Lucas Barbosa",
          "Lucas Carvalho",
          "Lucas Carvalho",
          "Lucas Carvalho",
          "Lucas Carvalho",
          "Lucas Carvalho",
          "Lucas Carvalho",
          "Lucas Green",
          "Lucas Green",
          "Lucas Green",
          "Lucas Green",
          "Lucas Green",
          "Lucas Green",
          "Lucas Green",
          "Luke Collins",
          "Luke Collins",
          "Luke Collins",
          "Luke Collins",
          "Luís Costa",
          "Luís Costa",
          "Luís Ferreira",
          "Luís Ferreira",
          "Luís Ferreira",
          "Luís Ferreira",
          "Luísa Fernandes",
          "Luísa Fernandes",
          "Luísa Fernandes",
          "Luísa Fernandes",
          "Luísa Fernandes",
          "Luísa Fernandes",
          "Lídia Sousa",
          "Lídia Sousa",
          "Lídia Sousa",
          "Lídia Sousa",
          "Lídia Sousa",
          "Lídia Sousa",
          "Madalena Ferreira",
          "Madalena Ferreira",
          "Madalena Ferreira",
          "Madalena Ferreira",
          "Madalena Lima",
          "Madalena Oliveira",
          "Madalena Oliveira",
          "Madalena Oliveira",
          "Madalena Oliveira",
          "Madalena Oliveira",
          "Madalena Oliveira",
          "Madalena Oliveira",
          "Madalena Ribeiro",
          "Madalena Ribeiro",
          "Madalena Ribeiro",
          "Madalena Ribeiro",
          "Madalena Ribeiro",
          "Madelyn Brown",
          "Madelyn Brown",
          "Madelyn Brown",
          "Madelyn Brown",
          "Madelyn Brown",
          "Madison Allen",
          "Madison Allen",
          "Madison Allen",
          "Madison Allen",
          "Madison Allen",
          "Madison Allen",
          "Madison Allen",
          "Mafalda Cruz",
          "Mafalda Cruz",
          "Mafalda Cruz",
          "Mafalda Cruz",
          "Mafalda Ferreira",
          "Mafalda Ferreira",
          "Mafalda Ferreira",
          "Mafalda Ferreira",
          "Mafalda Ferreira",
          "Mafalda Ribeiro",
          "Mafalda Ribeiro",
          "Mafalda Ribeiro",
          "Mafalda Ribeiro",
          "Mafalda Santos",
          "Mafalda Santos",
          "Mafalda Santos",
          "Mafalda Santos",
          "Mafalda Santos",
          "Margarida Oliveira",
          "Margarida Oliveira",
          "Margarida Oliveira",
          "Margarida Oliveira",
          "Margarida Oliveira",
          "Margarida Sousa",
          "Margarida Sousa",
          "Margarida Sousa",
          "Margarida Sousa",
          "Margarida Sousa",
          "Margarida Sousa",
          "Margarida Sousa",
          "Maria Almeida",
          "Maria Almeida",
          "Maria Almeida",
          "Maria Almeida",
          "Maria Almeida",
          "Maria Almeida",
          "Maria Ferreira",
          "Maria Ferreira",
          "Maria Ferreira",
          "Maria Ferreira",
          "Maria Ferreira",
          "Maria Ferreira",
          "Maria Gonçalves",
          "Maria Gonçalves",
          "Maria Gonçalves",
          "Maria Gonçalves",
          "Maria Gonçalves",
          "Maria Gonçalves",
          "Maria Ribeiro",
          "Maria Ribeiro",
          "Maria Ribeiro",
          "Maria Ribeiro",
          "Maria Ribeiro",
          "Maria Silva",
          "Maria Silva",
          "Maria Silva",
          "Maria Silva",
          "Maria Silva",
          "Maria Silva",
          "Maria Silva",
          "Maria Sousa",
          "Maria Sousa",
          "Maria Sousa",
          "Maria Sousa",
          "Maria Sousa",
          "Maria Sousa",
          "Mariana Andrade",
          "Mariana Andrade",
          "Mariana Andrade",
          "Mariana Andrade",
          "Mariana Andrade",
          "Mariana Costa",
          "Mariana Costa",
          "Mariana Dias",
          "Mariana Dias",
          "Mariana Dias",
          "Mariana Dias",
          "Mariana Dias",
          "Mariana Fernandes",
          "Mariana Fernandes",
          "Mariana Fernandes",
          "Mariana Lopes",
          "Mariana Lopes",
          "Mariana Lopes",
          "Mariana Lopes",
          "Mariana Pereira",
          "Mariana Pereira",
          "Mariana Pereira",
          "Mariana Pereira",
          "Mariana Pereira",
          "Mariana Pereira",
          "Mariana Rocha",
          "Mariana Rocha",
          "Mariana Rocha",
          "Mariana Rocha",
          "Mariana Rocha",
          "Mariana Rocha",
          "Mariana Rodrigues",
          "Mariana Rodrigues",
          "Mariana Rodrigues",
          "Mariana Rodrigues",
          "Mariana Rodrigues",
          "Mariana Santos",
          "Mariana Santos",
          "Mariana Santos",
          "Mariana Santos",
          "Mariana Santos",
          "Mariana Santos",
          "Mariana Santos",
          "Mariana Silva",
          "Mariana Silva",
          "Mariana Silva",
          "Mariana Silva",
          "Mariana Silva",
          "Mariana Silva",
          "Mariana Sousa",
          "Mariana Sousa",
          "Mariana Sousa",
          "Mariana Sousa",
          "Mariana Sousa",
          "Mariana Vaz",
          "Mariana Vaz",
          "Mariana Vaz",
          "Mariana Vaz",
          "Mariana Vaz",
          "Mariana Vaz",
          "Mariana Vaz",
          "Matilde Almeida",
          "Matilde Almeida",
          "Matilde Almeida",
          "Matilde Almeida",
          "Matilde Almeida",
          "Matilde Costa",
          "Matilde Costa",
          "Matilde Costa",
          "Matilde Costa",
          "Matilde Costa",
          "Matilde Costa",
          "Matilde Gomes",
          "Matilde Gomes",
          "Matilde Gomes",
          "Matilde Gomes",
          "Matilde Gomes",
          "Matilde Gomes",
          "Matilde Gomes",
          "Matilde Marques",
          "Matilde Marques",
          "Matilde Marques",
          "Matilde Marques",
          "Matilde Marques",
          "Matilde Marques",
          "Matilde Martins",
          "Matilde Martins",
          "Matilde Martins",
          "Matilde Martins",
          "Matilde Martins",
          "Matilde Martins",
          "Matilde Martins",
          "Matilde Pinto",
          "Matilde Pinto",
          "Matilde Pinto",
          "Matilde Pinto",
          "Matthew Edwards",
          "Matthew Edwards",
          "Matthew Edwards",
          "Matthew Edwards",
          "Matthew Edwards",
          "Matthew Edwards",
          "Maya Thompson",
          "Maya Thompson",
          "Maya Thompson",
          "Mia Brown",
          "Mia Brown",
          "Mia Brown",
          "Mia Brown",
          "Mia Brown",
          "Mia Brown",
          "Mia Cooper",
          "Mia Cooper",
          "Mia Cooper",
          "Mia Cooper",
          "Mia Cooper",
          "Michael Lewis",
          "Michael Lewis",
          "Michael Lewis",
          "Michael Lewis",
          "Michael Lewis",
          "Michael Lewis",
          "Michael Lewis",
          "Miguel Almeida",
          "Miguel Almeida",
          "Miguel Almeida",
          "Miguel Almeida",
          "Miguel Almeida",
          "Miguel Almeida",
          "Miguel Almeida",
          "Miguel Costa",
          "Miguel Costa",
          "Miguel Costa",
          "Miguel Costa",
          "Miguel Costa",
          "Miguel Costa",
          "Miguel Lopes",
          "Miguel Lopes",
          "Miguel Lopes",
          "Miguel Lopes",
          "Miguel Lopes",
          "Miguel Lopes",
          "Miguel Lopes",
          "Miguel Pereira",
          "Miguel Pereira",
          "Miguel Pereira",
          "Miguel Pereira",
          "Miguel Pereira",
          "Miguel Pereira",
          "Miguel Pereira",
          "Natalie Baker",
          "Natalie Baker",
          "Natalie Baker",
          "Natalie Baker",
          "Natalie Baker",
          "Natalie Baker",
          "Nathan Price",
          "Nathan Price",
          "Nathan Price",
          "Nathan Price",
          "Nathan Price",
          "Nathan Price",
          "Nathan Price",
          "Nicholas Walker",
          "Nicholas Walker",
          "Nicholas Walker",
          "Nicholas Walker",
          "Nicholas Walker",
          "Nicholas Walker",
          "Nicholas Walker",
          "Noah Rodriguez",
          "Noah Rodriguez",
          "Noah Rodriguez",
          "Noah Rodriguez",
          "Noah Rodriguez",
          "Nuno Almeida",
          "Nuno Almeida",
          "Nuno Almeida",
          "Nuno Almeida",
          "Nuno Almeida",
          "Nuno Almeida",
          "Nuno Santos",
          "Nuno Santos",
          "Nuno Santos",
          "Nuno Santos",
          "Nuno Santos",
          "Nuno Santos",
          "Nuno Santos",
          "Nuno Santos",
          "Olivia Smith",
          "Olivia Smith",
          "Olivia Smith",
          "Owen Lee",
          "Owen Lee",
          "Owen Lee",
          "Owen Lee",
          "Pedro Dias",
          "Pedro Dias",
          "Pedro Dias",
          "Pedro Dias",
          "Pedro Dias",
          "Pedro Dias",
          "Pedro Dias",
          "Pedro Matos",
          "Pedro Matos",
          "Pedro Matos",
          "Pedro Matos",
          "Pedro Matos",
          "Pedro Matos",
          "Pedro Oliveira",
          "Pedro Oliveira",
          "Pedro Oliveira",
          "Pedro Oliveira",
          "Pedro Oliveira",
          "Pedro Oliveira",
          "Pedro Ribeiro",
          "Pedro Ribeiro",
          "Pedro Ribeiro",
          "Pedro Ribeiro",
          "Pedro Ribeiro",
          "Pedro Ribeiro",
          "Pedro Sousa",
          "Pedro Sousa",
          "Pedro Sousa",
          "Pedro Sousa",
          "Penelope Flores",
          "Penelope Flores",
          "Peyton Turner",
          "Peyton Turner",
          "Peyton Turner",
          "Peyton Turner",
          "Rafael Fernandes",
          "Rafael Fernandes",
          "Rafael Fernandes",
          "Rafael Fernandes",
          "Rafael Fernandes",
          "Rafael Fernandes",
          "Rafael Teixeira",
          "Rafael Teixeira",
          "Rafael Teixeira",
          "Rafael Teixeira",
          "Rafael Teixeira",
          "Rafael Vieira",
          "Rafael Vieira",
          "Rafael Vieira",
          "Rafael Vieira",
          "Rafael Vieira",
          "Rafael Vieira",
          "Rafael Vieira",
          "Rafaela Alves",
          "Rafaela Alves",
          "Rafaela Alves",
          "Rafaela Alves",
          "Rafaela Alves",
          "Rafaela Alves",
          "Rafaela Alves",
          "Rafaela Ferreira",
          "Rafaela Ferreira",
          "Rafaela Ferreira",
          "Rafaela Ferreira",
          "Rafaela Ferreira",
          "Rafaela Silva",
          "Raquel Alves",
          "Rita Carvalho",
          "Rita Carvalho",
          "Rita Carvalho",
          "Rita Carvalho",
          "Rita Carvalho",
          "Rita Carvalho",
          "Rita Fernandes",
          "Rita Fernandes",
          "Rita Fernandes",
          "Rita Fernandes",
          "Rita Fernandes",
          "Rita Fernandes",
          "Rita Matos",
          "Rita Matos",
          "Rita Matos",
          "Rita Matos",
          "Rita Matos",
          "Rita Matos",
          "Rita Matos",
          "Rodrigo Castro",
          "Rodrigo Castro",
          "Rodrigo Castro",
          "Rodrigo Castro",
          "Rodrigo Castro",
          "Rodrigo Castro",
          "Rodrigo Castro",
          "Rodrigo Castro",
          "Rodrigo Ferreira",
          "Rodrigo Ferreira",
          "Rodrigo Ferreira",
          "Rodrigo Ferreira",
          "Rodrigo Ferreira",
          "Rodrigo Ferreira",
          "Rodrigo Ferreira",
          "Rodrigo Mendes",
          "Rodrigo Mendes",
          "Rodrigo Mendes",
          "Rodrigo Mendes",
          "Rodrigo Mendes",
          "Rodrigo Mendes",
          "Rodrigo Mendes",
          "Rodrigo Nunes",
          "Rodrigo Nunes",
          "Rodrigo Nunes",
          "Rodrigo Nunes",
          "Rodrigo Nunes",
          "Rodrigo Nunes",
          "Rodrigo Oliveira",
          "Rodrigo Oliveira",
          "Rodrigo Oliveira",
          "Rodrigo Oliveira",
          "Rodrigo Oliveira",
          "Rodrigo Pereira",
          "Rodrigo Pereira",
          "Rodrigo Pereira",
          "Rodrigo Pereira",
          "Rodrigo Pereira",
          "Rodrigo Pereira",
          "Rodrigo Sousa",
          "Rodrigo Sousa",
          "Rodrigo Sousa",
          "Rodrigo Sousa",
          "Rui Ferreira",
          "Rui Ferreira",
          "Rui Ferreira",
          "Rui Ferreira",
          "Rui Ferreira",
          "Rui Ferreira",
          "Rui Ferreira",
          "Ryan Parker",
          "Ryan Parker",
          "Ryan Parker",
          "Ryan Parker",
          "Ryan Parker",
          "Ryan Parker",
          "Ryan Parker",
          "Ryan Perez",
          "Ryan Perez",
          "Ryan Perez",
          "Ryan Perez",
          "Ryan Perez",
          "Samantha Rodriguez",
          "Samantha Rodriguez",
          "Samantha Rodriguez",
          "Samantha Rodriguez",
          "Samantha Rodriguez",
          "Samantha Rodriguez",
          "Samuel Davis",
          "Samuel Davis",
          "Samuel Davis",
          "Samuel Davis",
          "Samuel Davis",
          "Samuel Davis",
          "Samuel Davis",
          "Samuel Ferreira",
          "Samuel Ferreira",
          "Samuel Ferreira",
          "Samuel Wilson",
          "Samuel Wilson",
          "Samuel Wilson",
          "Samuel Wilson",
          "Samuel Wilson",
          "Samuel Wilson",
          "Samuel Wilson",
          "Sara Ribeiro",
          "Sara Ribeiro",
          "Sara Ribeiro",
          "Sara Ribeiro",
          "Sara Ribeiro",
          "Sara Ribeiro",
          "Sara Ribeiro",
          "Sara Silva",
          "Sara Silva",
          "Sara Silva",
          "Sara Silva",
          "Sara Silva",
          "Sara Silva",
          "Sarah Garcia",
          "Sarah Garcia",
          "Sarah Garcia",
          "Sarah Garcia",
          "Sarah Garcia",
          "Sarah Garcia",
          "Sarah Garcia",
          "Savannah Hall",
          "Savannah Hall",
          "Savannah Hall",
          "Savannah Hall",
          "Savannah Hall",
          "Savannah Hall",
          "Savannah Hall",
          "Scarlett Rodriguez",
          "Scarlett Rodriguez",
          "Scarlett Rodriguez",
          "Scarlett Rodriguez",
          "Scarlett Rodriguez",
          "Scarlett Rodriguez",
          "Scarlett Rodriguez",
          "Simão Costa",
          "Simão Costa",
          "Simão Fernandes",
          "Simão Fernandes",
          "Simão Fernandes",
          "Simão Fernandes",
          "Simão Fernandes",
          "Simão Fernandes",
          "Simão Fernandes",
          "Simão Rodrigues",
          "Simão Rodrigues",
          "Simão Rodrigues",
          "Simão Rodrigues",
          "Simão Rodrigues",
          "Simão Rodrigues",
          "Sofia Nunes",
          "Sofia Nunes",
          "Sofia Nunes",
          "Sofia Nunes",
          "Sofia Nunes",
          "Sofia Ribeiro",
          "Sofia Ribeiro",
          "Sofia Ribeiro",
          "Sofia Ribeiro",
          "Sofia Ribeiro",
          "Sofia Ribeiro",
          "Sofia Santos",
          "Sofia Santos",
          "Sofia Santos",
          "Sofia Santos",
          "Sofia Santos",
          "Sofia Santos",
          "Sofia Santos",
          "Sofia Silva",
          "Sofia Silva",
          "Sofia Silva",
          "Sofia Silva",
          "Sofia Silva",
          "Sofia Turner",
          "Sofia Turner",
          "Sofia Turner",
          "Sofia Turner",
          "Sofia Turner",
          "Sophia Anderson",
          "Sophia Anderson",
          "Sophia Anderson",
          "Sophia Anderson",
          "Sophia Anderson",
          "Sophia Anderson",
          "Sophia Anderson",
          "Tiago Costa",
          "Tiago Costa",
          "Tiago Costa",
          "Tiago Costa",
          "Tiago Costa",
          "Tiago Costa",
          "Tiago Cunha",
          "Tiago Cunha",
          "Tiago Cunha",
          "Tiago Cunha",
          "Tiago Fernandes",
          "Tiago Fernandes",
          "Tiago Fernandes",
          "Tiago Fernandes",
          "Tiago Fernandes",
          "Tiago Fernandes",
          "Tiago Fernandes",
          "Tiago Gonçalves",
          "Tiago Gonçalves",
          "Tiago Gonçalves",
          "Tiago Gonçalves",
          "Tiago Gonçalves",
          "Tiago Rodrigues",
          "Tiago Rodrigues",
          "Tiago Rodrigues",
          "Tiago Rodrigues",
          "Tiago Rodrigues",
          "Tiago Rodrigues",
          "Tiago Sousa Cruz",
          "Tiago Sousa Cruz",
          "Tiago Sousa Cruz",
          "Tiago Sousa Cruz",
          "Tiago Sousa Cruz",
          "Tiago Sousa Cruz",
          "Tiago Sousa Cruz",
          "Tomás Carvalho",
          "Tomás Carvalho",
          "Tomás Carvalho",
          "Tomás Carvalho",
          "Tomás Carvalho",
          "Tomás Carvalho",
          "Tomás Carvalho",
          "Tomás Costa",
          "Tomás Martins",
          "Tomás Martins",
          "Tomás Martins",
          "Tomás Martins",
          "Tomás Martins",
          "Tomás Martins",
          "Tomás Oliveira",
          "Tomás Oliveira",
          "Tomás Oliveira",
          "Tomás Oliveira",
          "Tomás Oliveira",
          "Tomás Oliveira",
          "Tomás Oliveira",
          "Tomás Rodrigues",
          "Tomás Rodrigues",
          "Tomás Rodrigues",
          "Tomás Rodrigues",
          "Tomás Rodrigues",
          "Tomás Rodrigues",
          "Tomás Rodrigues",
          "Tomás Santos",
          "Tomás Santos",
          "Tomás Santos",
          "Tomás Santos",
          "Tomé Martins",
          "Tomé Martins",
          "Tomé Martins",
          "Tomé Martins",
          "Tomé Martins",
          "Tomé Martins",
          "Tomé Martins",
          "Tyler Martin",
          "Tyler Martin",
          "Tyler Martin",
          "Tyler Martin",
          "Tyler Martin",
          "Tyler Martin",
          "Tyler Martin",
          "Vasco Santos",
          "Vasco Santos",
          "Vasco Santos",
          "Vasco Santos",
          "Vasco Santos",
          "Vasco Santos",
          "Vasco Santos",
          "Vasco Santos",
          "Victoria Clark",
          "William Hernandez",
          "William Hernandez",
          "William Hernandez",
          "William Hernandez",
          "William Hernandez",
          "William Hernandez",
          "Zachary Garcia",
          "Zachary Garcia",
          "Zachary Garcia",
          "Zoey Nelson",
          "Zoey Nelson",
          "Zoey Nelson",
          "Zoey Nelson",
          "Zoey Nelson",
          "Zoey Nelson",
          "Zoey Nelson"
         ],
         "categoryorder": "array",
         "domain": [
          0,
          1
         ],
         "title": {
          "text": "Candidate Name"
         }
        }
       }
      }
     },
     "metadata": {},
     "output_type": "display_data"
    },
    {
     "name": "stderr",
     "output_type": "stream",
     "text": [
      "/tmp/ipykernel_3585/1862508806.py:11: UserWarning:\n",
      "\n",
      "Boolean Series key will be reindexed to match DataFrame index.\n",
      "\n"
     ]
    },
    {
     "data": {
      "application/vnd.plotly.v1+json": {
       "config": {
        "plotlyServerURL": "https://plot.ly"
       },
       "data": [
        {
         "alignmentgroup": "True",
         "base": [
          "2023-06-9",
          "2023-06-1",
          "2023-06-5",
          "2023-06-4",
          "2023-06-6",
          "2023-06-9",
          "2023-06-3",
          "2023-06-8",
          "2023-06-4",
          "2023-06-2",
          "2023-06-6",
          "2023-06-7",
          "2023-06-5",
          "2023-06-4",
          "2023-06-1",
          "2023-06-3",
          "2023-06-2"
         ],
         "customdata": [
          [
           "Site Assistant ",
           5,
           4,
           4
          ],
          [
           "Site Assistant ",
           5,
           1,
           4
          ],
          [
           "Site Assistant ",
           5,
           3,
           1
          ],
          [
           "Site Assistant ",
           5,
           3,
           1
          ],
          [
           "Site Assistant ",
           5,
           3,
           1
          ],
          [
           "Site Assistant ",
           5,
           3,
           1
          ],
          [
           "Site Assistant ",
           5,
           3,
           1
          ],
          [
           "Site Assistant ",
           5,
           3,
           1
          ],
          [
           "Site Assistant ",
           5,
           3,
           4
          ],
          [
           "Site Assistant ",
           5,
           3,
           4
          ],
          [
           "Site Assistant ",
           4,
           5,
           4
          ],
          [
           "Site Assistant ",
           4,
           5,
           4
          ],
          [
           "Site Assistant ",
           4,
           5,
           4
          ],
          [
           "Site Assistant ",
           4,
           5,
           4
          ],
          [
           "Site Assistant ",
           4,
           5,
           4
          ],
          [
           "Site Assistant ",
           4,
           5,
           4
          ],
          [
           "Site Assistant ",
           4,
           5,
           4
          ]
         ],
         "hovertemplate": "Position Type=Site Assistant <br>Start=%{base}<br>Finish=%{x}<br>Candidate Name=%{y}<br>Position=%{customdata[0]}<br>Experience=%{customdata[1]}<br>Language Skills=%{customdata[2]}<br>Presentation Skills=%{customdata[3]}<extra></extra>",
         "legendgroup": "Site Assistant ",
         "marker": {
          "color": "#636efa",
          "pattern": {
           "shape": ""
          }
         },
         "name": "Site Assistant ",
         "offsetgroup": "Site Assistant ",
         "orientation": "h",
         "showlegend": true,
         "textposition": "auto",
         "type": "bar",
         "x": [
          86400000,
          86400000,
          86400000,
          86400000,
          86400000,
          86400000,
          86400000,
          86400000,
          86400000,
          86400000,
          86400000,
          86400000,
          86400000,
          86400000,
          86400000,
          86400000,
          86400000
         ],
         "xaxis": "x",
         "y": [
          "Nicholas Walker",
          "Savannah Hall",
          "Tiago Rodrigues",
          "Tiago Rodrigues",
          "Tiago Rodrigues",
          "Tiago Rodrigues",
          "Tiago Rodrigues",
          "Tiago Rodrigues",
          "Tomás Santos",
          "Tomás Santos",
          "Zoey Nelson",
          "Zoey Nelson",
          "Zoey Nelson",
          "Zoey Nelson",
          "Zoey Nelson",
          "Zoey Nelson",
          "Zoey Nelson"
         ],
         "yaxis": "y"
        },
        {
         "alignmentgroup": "True",
         "base": [
          "2023-06-1",
          "2023-06-1",
          "2023-06-3",
          "2023-06-4",
          "2023-06-7",
          "2023-06-6",
          "2023-06-1",
          "2023-06-5",
          "2023-06-8",
          "2023-06-4",
          "2023-06-3",
          "2023-06-8",
          "2023-06-5",
          "2023-06-4",
          "2023-06-3",
          "2023-06-6",
          "2023-06-7",
          "2023-06-2",
          "2023-06-8",
          "2023-06-2",
          "2023-06-5",
          "2023-06-1",
          "2023-06-4",
          "2023-06-6",
          "2023-06-7",
          "2023-06-5",
          "2023-06-6",
          "2023-06-4",
          "2023-06-7",
          "2023-06-2",
          "2023-06-3",
          "2023-06-1",
          "2023-06-4",
          "2023-06-2"
         ],
         "customdata": [
          [
           "Dept L Set Up Assistant ",
           4,
           2,
           3
          ],
          [
           "Dept K Set Up Assistant ",
           3,
           1,
           4
          ],
          [
           "Dept L Set Up Assistant ",
           5,
           2,
           4
          ],
          [
           "Dept L Set Up Assistant ",
           5,
           2,
           4
          ],
          [
           "Dept L Set Up Assistant ",
           5,
           2,
           4
          ],
          [
           "Dept L Set Up Assistant ",
           5,
           2,
           4
          ],
          [
           "Dept L Set Up Assistant ",
           3,
           3,
           1
          ],
          [
           "Dept L Set Up Assistant ",
           4,
           1,
           2
          ],
          [
           "Dept L Set Up Assistant ",
           4,
           1,
           2
          ],
          [
           "Dept K Set Up Assistant ",
           4,
           1,
           2
          ],
          [
           "Dept L Set Up Assistant ",
           4,
           1,
           2
          ],
          [
           "Dept K Set Up Assistant ",
           5,
           1,
           3
          ],
          [
           "Dept K Set Up Assistant ",
           5,
           1,
           3
          ],
          [
           "Dept L Set Up Assistant ",
           5,
           1,
           3
          ],
          [
           "Dept L Set Up Assistant ",
           5,
           1,
           3
          ],
          [
           "Dept K Set Up Assistant ",
           5,
           1,
           3
          ],
          [
           "Dept K Set Up Assistant ",
           5,
           1,
           3
          ],
          [
           "Dept L Set Up Assistant ",
           5,
           1,
           3
          ],
          [
           "Dept K Set Up Assistant ",
           5,
           1,
           1
          ],
          [
           "Dept K Set Up Assistant ",
           5,
           1,
           1
          ],
          [
           "Dept L Set Up Assistant ",
           5,
           1,
           1
          ],
          [
           "Dept K Set Up Assistant ",
           5,
           1,
           1
          ],
          [
           "Dept K Set Up Assistant ",
           5,
           1,
           1
          ],
          [
           "Dept L Set Up Assistant ",
           5,
           1,
           1
          ],
          [
           "Dept L Set Up Assistant ",
           5,
           1,
           1
          ],
          [
           "Dept K Set Up Assistant ",
           5,
           1,
           2
          ],
          [
           "Dept L Set Up Assistant ",
           5,
           1,
           2
          ],
          [
           "Dept L Set Up Assistant ",
           5,
           1,
           2
          ],
          [
           "Dept L Set Up Assistant ",
           5,
           1,
           2
          ],
          [
           "Dept L Set Up Assistant ",
           5,
           1,
           2
          ],
          [
           "Dept L Set Up Assistant ",
           5,
           1,
           2
          ],
          [
           "Dept L Set Up Assistant ",
           3,
           1,
           1
          ],
          [
           "Dept K Set Up Assistant ",
           4,
           0,
           2
          ],
          [
           "Dept K Set Up Assistant ",
           3,
           3,
           2
          ]
         ],
         "hovertemplate": "Position Type=Set Up Assistant <br>Start=%{base}<br>Finish=%{x}<br>Candidate Name=%{y}<br>Position=%{customdata[0]}<br>Experience=%{customdata[1]}<br>Language Skills=%{customdata[2]}<br>Presentation Skills=%{customdata[3]}<extra></extra>",
         "legendgroup": "Set Up Assistant ",
         "marker": {
          "color": "#EF553B",
          "pattern": {
           "shape": ""
          }
         },
         "name": "Set Up Assistant ",
         "offsetgroup": "Set Up Assistant ",
         "orientation": "h",
         "showlegend": true,
         "textposition": "auto",
         "type": "bar",
         "x": [
          86400000,
          86400000,
          86400000,
          86400000,
          86400000,
          86400000,
          86400000,
          86400000,
          86400000,
          86400000,
          86400000,
          86400000,
          86400000,
          86400000,
          86400000,
          86400000,
          86400000,
          86400000,
          86400000,
          86400000,
          86400000,
          86400000,
          86400000,
          86400000,
          86400000,
          86400000,
          86400000,
          86400000,
          86400000,
          86400000,
          86400000,
          86400000,
          86400000,
          86400000
         ],
         "xaxis": "x",
         "y": [
          "Michael Lewis",
          "Miguel Almeida",
          "Noah Rodriguez",
          "Noah Rodriguez",
          "Noah Rodriguez",
          "Noah Rodriguez",
          "Pedro Dias",
          "Pedro Ribeiro",
          "Pedro Ribeiro",
          "Pedro Ribeiro",
          "Pedro Ribeiro",
          "Rita Matos",
          "Rita Matos",
          "Rita Matos",
          "Rita Matos",
          "Rita Matos",
          "Rita Matos",
          "Rita Matos",
          "Rui Ferreira",
          "Rui Ferreira",
          "Rui Ferreira",
          "Rui Ferreira",
          "Rui Ferreira",
          "Rui Ferreira",
          "Rui Ferreira",
          "Samantha Rodriguez",
          "Samantha Rodriguez",
          "Samantha Rodriguez",
          "Samantha Rodriguez",
          "Samantha Rodriguez",
          "Samantha Rodriguez",
          "Samuel Davis",
          "Scarlett Rodriguez",
          "Sophia Anderson"
         ],
         "yaxis": "y"
        },
        {
         "alignmentgroup": "True",
         "base": [
          "2023-06-9",
          "2023-06-9",
          "2023-06-4",
          "2023-06-8",
          "2023-06-3",
          "2023-06-4",
          "2023-06-9",
          "2023-06-6",
          "2023-06-4",
          "2023-06-9",
          "2023-06-1",
          "2023-06-5",
          "2023-06-3",
          "2023-06-5",
          "2023-06-4",
          "2023-06-1",
          "2023-06-2",
          "2023-06-5",
          "2023-06-9",
          "2023-06-5",
          "2023-06-7",
          "2023-06-9",
          "2023-06-5",
          "2023-06-7",
          "2023-06-6",
          "2023-06-4",
          "2023-06-1",
          "2023-06-4",
          "2023-06-3",
          "2023-06-1",
          "2023-06-3",
          "2023-06-3",
          "2023-06-9",
          "2023-06-3",
          "2023-06-3",
          "2023-06-2",
          "2023-06-6"
         ],
         "customdata": [
          [
           "Waiting List ",
           0,
           3,
           2
          ],
          [
           "Waiting List ",
           0,
           2,
           4
          ],
          [
           "Waiting List ",
           0,
           2,
           4
          ],
          [
           "Waiting List ",
           0,
           2,
           4
          ],
          [
           "Waiting List ",
           0,
           1,
           3
          ],
          [
           "Waiting List ",
           0,
           1,
           3
          ],
          [
           "Waiting List ",
           0,
           1,
           3
          ],
          [
           "Waiting List ",
           0,
           1,
           3
          ],
          [
           "Waiting List ",
           0,
           3,
           1
          ],
          [
           "Waiting List ",
           0,
           3,
           1
          ],
          [
           "Waiting List ",
           0,
           3,
           1
          ],
          [
           "Waiting List ",
           0,
           3,
           1
          ],
          [
           "Waiting List ",
           0,
           1,
           3
          ],
          [
           "Waiting List ",
           0,
           1,
           3
          ],
          [
           "Waiting List ",
           0,
           3,
           5
          ],
          [
           "Waiting List ",
           0,
           3,
           5
          ],
          [
           "Waiting List ",
           0,
           3,
           5
          ],
          [
           "Waiting List ",
           0,
           3,
           5
          ],
          [
           "Waiting List ",
           0,
           2,
           2
          ],
          [
           "Waiting List ",
           0,
           2,
           1
          ],
          [
           "Waiting List ",
           0,
           1,
           1
          ],
          [
           "Waiting List ",
           0,
           1,
           3
          ],
          [
           "Waiting List ",
           0,
           1,
           1
          ],
          [
           "Waiting List ",
           0,
           1,
           1
          ],
          [
           "Waiting List ",
           0,
           1,
           1
          ],
          [
           "Waiting List ",
           0,
           1,
           1
          ],
          [
           "Waiting List ",
           0,
           4,
           2
          ],
          [
           "Waiting List ",
           0,
           4,
           2
          ],
          [
           "Waiting List ",
           0,
           4,
           2
          ],
          [
           "Waiting List ",
           0,
           2,
           3
          ],
          [
           "Waiting List ",
           0,
           2,
           3
          ],
          [
           "Waiting List ",
           0,
           0,
           1
          ],
          [
           "Waiting List ",
           0,
           2,
           4
          ],
          [
           "Waiting List ",
           0,
           3,
           5
          ],
          [
           "Waiting List ",
           0,
           2,
           5
          ],
          [
           "Waiting List ",
           0,
           2,
           5
          ],
          [
           "Waiting List ",
           0,
           2,
           5
          ]
         ],
         "hovertemplate": "Position Type=Waiting List<br>Start=%{base}<br>Finish=%{x}<br>Candidate Name=%{y}<br>Position=%{customdata[0]}<br>Experience=%{customdata[1]}<br>Language Skills=%{customdata[2]}<br>Presentation Skills=%{customdata[3]}<extra></extra>",
         "legendgroup": "Waiting List",
         "marker": {
          "color": "#00cc96",
          "pattern": {
           "shape": ""
          }
         },
         "name": "Waiting List",
         "offsetgroup": "Waiting List",
         "orientation": "h",
         "showlegend": true,
         "textposition": "auto",
         "type": "bar",
         "x": [
          86400000,
          86400000,
          86400000,
          86400000,
          86400000,
          86400000,
          86400000,
          86400000,
          86400000,
          86400000,
          86400000,
          86400000,
          86400000,
          86400000,
          86400000,
          86400000,
          86400000,
          86400000,
          86400000,
          86400000,
          86400000,
          86400000,
          86400000,
          86400000,
          86400000,
          86400000,
          86400000,
          86400000,
          86400000,
          86400000,
          86400000,
          86400000,
          86400000,
          86400000,
          86400000,
          86400000,
          86400000
         ],
         "xaxis": "x",
         "y": [
          "Nuno Santos",
          "Olivia Smith",
          "Olivia Smith",
          "Olivia Smith",
          "Owen Lee",
          "Owen Lee",
          "Owen Lee",
          "Owen Lee",
          "Pedro Sousa",
          "Pedro Sousa",
          "Pedro Sousa",
          "Pedro Sousa",
          "Penelope Flores",
          "Penelope Flores",
          "Peyton Turner",
          "Peyton Turner",
          "Peyton Turner",
          "Peyton Turner",
          "Rafaela Alves",
          "Rafaela Silva",
          "Raquel Alves",
          "Rodrigo Castro",
          "Rodrigo Sousa",
          "Rodrigo Sousa",
          "Rodrigo Sousa",
          "Rodrigo Sousa",
          "Samuel Ferreira",
          "Samuel Ferreira",
          "Samuel Ferreira",
          "Simão Costa",
          "Simão Costa",
          "Tomás Costa",
          "Vasco Santos",
          "Victoria Clark",
          "Zachary Garcia",
          "Zachary Garcia",
          "Zachary Garcia"
         ],
         "yaxis": "y"
        },
        {
         "alignmentgroup": "True",
         "base": [
          "2023-06-7",
          "2023-06-2",
          "2023-06-4",
          "2023-06-6",
          "2023-06-3",
          "2023-06-8",
          "2023-06-1",
          "2023-06-7",
          "2023-06-9",
          "2023-06-3",
          "2023-06-2",
          "2023-06-8",
          "2023-06-4",
          "2023-06-4",
          "2023-06-5",
          "2023-06-1",
          "2023-06-2",
          "2023-06-3",
          "2023-06-6",
          "2023-06-8",
          "2023-06-7",
          "2023-06-2",
          "2023-06-2",
          "2023-06-2",
          "2023-06-7",
          "2023-06-6",
          "2023-06-5",
          "2023-06-3",
          "2023-06-2",
          "2023-06-7",
          "2023-06-1",
          "2023-06-5",
          "2023-06-7",
          "2023-06-2",
          "2023-06-6",
          "2023-06-8",
          "2023-06-2",
          "2023-06-2",
          "2023-06-7",
          "2023-06-8",
          "2023-06-1",
          "2023-06-7",
          "2023-06-3",
          "2023-06-2",
          "2023-06-6",
          "2023-06-6",
          "2023-06-8",
          "2023-06-7",
          "2023-06-5",
          "2023-06-1",
          "2023-06-9",
          "2023-06-1",
          "2023-06-2",
          "2023-06-9",
          "2023-06-8",
          "2023-06-7",
          "2023-06-5",
          "2023-06-7",
          "2023-06-9",
          "2023-06-6",
          "2023-06-6",
          "2023-06-8",
          "2023-06-2",
          "2023-06-5",
          "2023-06-7",
          "2023-06-6",
          "2023-06-9",
          "2023-06-5",
          "2023-06-2",
          "2023-06-4",
          "2023-06-3",
          "2023-06-7",
          "2023-06-4",
          "2023-06-5",
          "2023-06-6",
          "2023-06-1",
          "2023-06-1",
          "2023-06-3",
          "2023-06-2",
          "2023-06-4",
          "2023-06-6",
          "2023-06-1",
          "2023-06-7",
          "2023-06-3",
          "2023-06-5",
          "2023-06-2",
          "2023-06-1",
          "2023-06-5",
          "2023-06-8",
          "2023-06-2",
          "2023-06-6",
          "2023-06-7",
          "2023-06-4",
          "2023-06-5",
          "2023-06-6",
          "2023-06-8",
          "2023-06-1",
          "2023-06-7"
         ],
         "customdata": [
          [
           "Dept G Viewing Assistant ",
           5,
           3,
           2
          ],
          [
           "Dept L Viewing Assistant ",
           5,
           3,
           2
          ],
          [
           "Dept K Viewing Assistant ",
           5,
           3,
           2
          ],
          [
           "Dept I Viewing Assistant ",
           5,
           3,
           2
          ],
          [
           "Dept K Viewing Assistant ",
           5,
           3,
           2
          ],
          [
           "Dept I Viewing Assistant ",
           5,
           3,
           2
          ],
          [
           "Dept F Viewing Assistant ",
           5,
           3,
           2
          ],
          [
           "Dept D Viewing Assistant ",
           3,
           5,
           4
          ],
          [
           "Dept G Viewing Assistant ",
           3,
           5,
           4
          ],
          [
           "Dept F Viewing Assistant ",
           3,
           5,
           4
          ],
          [
           "Dept B Viewing Assistant ",
           3,
           5,
           4
          ],
          [
           "Dept D Viewing Assistant ",
           3,
           5,
           4
          ],
          [
           "Dept K Viewing Assistant ",
           3,
           5,
           4
          ],
          [
           "Dept D Viewing Assistant ",
           4,
           4,
           5
          ],
          [
           "Dept L Viewing Assistant ",
           4,
           4,
           5
          ],
          [
           "Dept L Viewing Assistant ",
           4,
           4,
           5
          ],
          [
           "Dept I Viewing Assistant ",
           4,
           4,
           5
          ],
          [
           "Dept I Viewing Assistant ",
           4,
           4,
           5
          ],
          [
           "Dept K Viewing Assistant ",
           5,
           3,
           2
          ],
          [
           "Dept L Viewing Assistant ",
           5,
           3,
           2
          ],
          [
           "Dept I Viewing Assistant ",
           5,
           3,
           2
          ],
          [
           "Dept I Viewing Assistant ",
           5,
           3,
           2
          ],
          [
           "Dept F Viewing Assistant ",
           2,
           3,
           1
          ],
          [
           "Dept G Viewing Assistant ",
           4,
           1,
           2
          ],
          [
           "Dept D Viewing Assistant ",
           4,
           1,
           2
          ],
          [
           "Dept F Viewing Assistant (VIP)",
           4,
           2,
           2
          ],
          [
           "Dept F Viewing Assistant (VIP)",
           4,
           2,
           2
          ],
          [
           "Dept F Viewing Assistant ",
           4,
           2,
           2
          ],
          [
           "Dept F Viewing Assistant ",
           4,
           2,
           2
          ],
          [
           "Dept F Viewing Assistant (VIP)",
           4,
           2,
           2
          ],
          [
           "Dept B Viewing Assistant ",
           4,
           2,
           3
          ],
          [
           "Dept G Viewing Assistant ",
           5,
           5,
           3
          ],
          [
           "Dept G Viewing Assistant ",
           5,
           3,
           1
          ],
          [
           "Dept B Viewing Assistant ",
           5,
           3,
           1
          ],
          [
           "Dept L Viewing Assistant ",
           5,
           3,
           1
          ],
          [
           "Dept I Viewing Assistant ",
           4,
           4,
           3
          ],
          [
           "Dept F Viewing Assistant ",
           4,
           4,
           3
          ],
          [
           "Dept G Viewing Assistant ",
           3,
           1,
           1
          ],
          [
           "Dept F Viewing Assistant (VIP)",
           3,
           0,
           4
          ],
          [
           "Dept D Viewing Assistant ",
           3,
           0,
           4
          ],
          [
           "Dept F Viewing Assistant ",
           5,
           1,
           2
          ],
          [
           "Dept F Viewing Assistant (VIP)",
           5,
           1,
           2
          ],
          [
           "Dept F Viewing Assistant ",
           5,
           1,
           2
          ],
          [
           "Dept B Viewing Assistant ",
           5,
           1,
           2
          ],
          [
           "Dept F Viewing Assistant (VIP)",
           5,
           1,
           2
          ],
          [
           "Dept D Viewing Assistant ",
           5,
           0,
           2
          ],
          [
           "Dept D Viewing Assistant ",
           5,
           0,
           2
          ],
          [
           "Dept D Viewing Assistant ",
           5,
           0,
           2
          ],
          [
           "Dept F Viewing Assistant (VIP)",
           5,
           0,
           2
          ],
          [
           "Dept G Viewing Assistant ",
           5,
           0,
           2
          ],
          [
           "Dept I Viewing Assistant ",
           5,
           0,
           2
          ],
          [
           "Dept F Viewing Assistant ",
           5,
           3,
           1
          ],
          [
           "Dept G Viewing Assistant ",
           5,
           3,
           1
          ],
          [
           "Dept L Viewing Assistant ",
           5,
           3,
           1
          ],
          [
           "Dept G Viewing Assistant ",
           5,
           3,
           1
          ],
          [
           "Dept I Viewing Assistant ",
           5,
           3,
           1
          ],
          [
           "Dept D Viewing Assistant ",
           5,
           3,
           1
          ],
          [
           "Dept K Viewing Assistant ",
           5,
           1,
           4
          ],
          [
           "Dept G Viewing Assistant ",
           5,
           1,
           4
          ],
          [
           "Dept K Viewing Assistant ",
           5,
           1,
           4
          ],
          [
           "Dept D Viewing Assistant ",
           5,
           1,
           0
          ],
          [
           "Dept D Viewing Assistant ",
           5,
           1,
           0
          ],
          [
           "Dept F Viewing Assistant ",
           5,
           1,
           0
          ],
          [
           "Dept F Viewing Assistant (VIP)",
           5,
           1,
           0
          ],
          [
           "Dept D Viewing Assistant ",
           3,
           4,
           5
          ],
          [
           "Dept F Viewing Assistant (VIP)",
           3,
           4,
           5
          ],
          [
           "Dept L Viewing Assistant ",
           3,
           4,
           5
          ],
          [
           "Dept F Viewing Assistant (VIP)",
           3,
           4,
           5
          ],
          [
           "Dept B Viewing Assistant ",
           3,
           4,
           5
          ],
          [
           "Dept D Viewing Assistant ",
           3,
           4,
           5
          ],
          [
           "Dept F Viewing Assistant ",
           3,
           4,
           5
          ],
          [
           "Dept F Viewing Assistant (VIP)",
           4,
           5,
           2
          ],
          [
           "Dept L Viewing Assistant ",
           4,
           5,
           2
          ],
          [
           "Dept I Viewing Assistant ",
           4,
           5,
           2
          ],
          [
           "Dept F Viewing Assistant (VIP)",
           4,
           5,
           2
          ],
          [
           "Dept G Viewing Assistant ",
           4,
           5,
           2
          ],
          [
           "Dept L Viewing Assistant ",
           4,
           4,
           5
          ],
          [
           "Dept L Viewing Assistant ",
           4,
           4,
           5
          ],
          [
           "Dept L Viewing Assistant ",
           4,
           4,
           5
          ],
          [
           "Dept D Viewing Assistant ",
           4,
           4,
           5
          ],
          [
           "Dept D Viewing Assistant ",
           4,
           5,
           1
          ],
          [
           "Dept F Viewing Assistant ",
           4,
           5,
           1
          ],
          [
           "Dept F Viewing Assistant (VIP)",
           4,
           5,
           1
          ],
          [
           "Dept F Viewing Assistant ",
           4,
           5,
           1
          ],
          [
           "Dept F Viewing Assistant (VIP)",
           4,
           5,
           1
          ],
          [
           "Dept B Viewing Assistant ",
           4,
           5,
           1
          ],
          [
           "Dept I Viewing Assistant ",
           5,
           2,
           4
          ],
          [
           "Dept G Viewing Assistant ",
           5,
           2,
           4
          ],
          [
           "Dept G Viewing Assistant ",
           5,
           2,
           4
          ],
          [
           "Dept I Viewing Assistant ",
           5,
           2,
           4
          ],
          [
           "Dept I Viewing Assistant ",
           5,
           2,
           4
          ],
          [
           "Dept I Viewing Assistant ",
           5,
           2,
           4
          ],
          [
           "Dept I Viewing Assistant ",
           5,
           2,
           4
          ],
          [
           "Dept F Viewing Assistant (VIP)",
           3,
           3,
           4
          ],
          [
           "Dept F Viewing Assistant (VIP)",
           3,
           3,
           4
          ],
          [
           "Dept D Viewing Assistant ",
           3,
           3,
           4
          ],
          [
           "Dept B Viewing Assistant ",
           3,
           3,
           4
          ],
          [
           "Dept D Viewing Assistant ",
           3,
           3,
           4
          ]
         ],
         "hovertemplate": "Position Type=Viewing Assistant <br>Start=%{base}<br>Finish=%{x}<br>Candidate Name=%{y}<br>Position=%{customdata[0]}<br>Experience=%{customdata[1]}<br>Language Skills=%{customdata[2]}<br>Presentation Skills=%{customdata[3]}<extra></extra>",
         "legendgroup": "Viewing Assistant ",
         "marker": {
          "color": "#ab63fa",
          "pattern": {
           "shape": ""
          }
         },
         "name": "Viewing Assistant ",
         "offsetgroup": "Viewing Assistant ",
         "orientation": "h",
         "showlegend": true,
         "textposition": "auto",
         "type": "bar",
         "x": [
          86400000,
          86400000,
          86400000,
          86400000,
          86400000,
          86400000,
          86400000,
          86400000,
          86400000,
          86400000,
          86400000,
          86400000,
          86400000,
          86400000,
          86400000,
          86400000,
          86400000,
          86400000,
          86400000,
          86400000,
          86400000,
          86400000,
          86400000,
          86400000,
          86400000,
          86400000,
          86400000,
          86400000,
          86400000,
          86400000,
          86400000,
          86400000,
          86400000,
          86400000,
          86400000,
          86400000,
          86400000,
          86400000,
          86400000,
          86400000,
          86400000,
          86400000,
          86400000,
          86400000,
          86400000,
          86400000,
          86400000,
          86400000,
          86400000,
          86400000,
          86400000,
          86400000,
          86400000,
          86400000,
          86400000,
          86400000,
          86400000,
          86400000,
          86400000,
          86400000,
          86400000,
          86400000,
          86400000,
          86400000,
          86400000,
          86400000,
          86400000,
          86400000,
          86400000,
          86400000,
          86400000,
          86400000,
          86400000,
          86400000,
          86400000,
          86400000,
          86400000,
          86400000,
          86400000,
          86400000,
          86400000,
          86400000,
          86400000,
          86400000,
          86400000,
          86400000,
          86400000,
          86400000,
          86400000,
          86400000,
          86400000,
          86400000,
          86400000,
          86400000,
          86400000,
          86400000,
          86400000,
          86400000
         ],
         "xaxis": "x",
         "y": [
          "Miguel Lopes",
          "Miguel Lopes",
          "Miguel Lopes",
          "Miguel Lopes",
          "Miguel Lopes",
          "Miguel Lopes",
          "Miguel Lopes",
          "Natalie Baker",
          "Natalie Baker",
          "Natalie Baker",
          "Natalie Baker",
          "Natalie Baker",
          "Natalie Baker",
          "Nathan Price",
          "Nathan Price",
          "Nathan Price",
          "Nathan Price",
          "Nathan Price",
          "Nuno Santos",
          "Nuno Santos",
          "Nuno Santos",
          "Nuno Santos",
          "Pedro Dias",
          "Pedro Ribeiro",
          "Pedro Ribeiro",
          "Rafaela Alves",
          "Rafaela Alves",
          "Rafaela Alves",
          "Rafaela Alves",
          "Rafaela Alves",
          "Rafaela Ferreira",
          "Rita Carvalho",
          "Rodrigo Mendes",
          "Rodrigo Mendes",
          "Rodrigo Mendes",
          "Rodrigo Oliveira",
          "Rodrigo Oliveira",
          "Samuel Davis",
          "Sara Ribeiro",
          "Sara Ribeiro",
          "Sarah Garcia",
          "Sarah Garcia",
          "Sarah Garcia",
          "Sarah Garcia",
          "Sarah Garcia",
          "Scarlett Rodriguez",
          "Scarlett Rodriguez",
          "Scarlett Rodriguez",
          "Scarlett Rodriguez",
          "Scarlett Rodriguez",
          "Scarlett Rodriguez",
          "Sofia Santos",
          "Sofia Santos",
          "Sofia Santos",
          "Sofia Santos",
          "Sofia Santos",
          "Sofia Santos",
          "Sofia Silva",
          "Sofia Silva",
          "Sofia Silva",
          "Sofia Turner",
          "Sofia Turner",
          "Sofia Turner",
          "Sofia Turner",
          "Tomás Carvalho",
          "Tomás Carvalho",
          "Tomás Carvalho",
          "Tomás Carvalho",
          "Tomás Carvalho",
          "Tomás Carvalho",
          "Tomás Carvalho",
          "Tomás Martins",
          "Tomás Martins",
          "Tomás Martins",
          "Tomás Martins",
          "Tomás Martins",
          "Tomás Oliveira",
          "Tomás Oliveira",
          "Tomás Oliveira",
          "Tomás Oliveira",
          "Tomé Martins",
          "Tomé Martins",
          "Tomé Martins",
          "Tomé Martins",
          "Tomé Martins",
          "Tomé Martins",
          "Vasco Santos",
          "Vasco Santos",
          "Vasco Santos",
          "Vasco Santos",
          "Vasco Santos",
          "Vasco Santos",
          "Vasco Santos",
          "William Hernandez",
          "William Hernandez",
          "William Hernandez",
          "William Hernandez",
          "William Hernandez"
         ],
         "yaxis": "y"
        },
        {
         "alignmentgroup": "True",
         "base": [
          "2023-06-4",
          "2023-06-8",
          "2023-06-5",
          "2023-06-6",
          "2023-06-9",
          "2023-06-7",
          "2023-06-5"
         ],
         "customdata": [
          [
           "Catalogue Desk Assistant ",
           4,
           2,
           2
          ],
          [
           "Catalogue Desk Assistant ",
           4,
           3,
           2
          ],
          [
           "Catalogue Desk Assistant ",
           4,
           3,
           2
          ],
          [
           "Catalogue Desk Assistant ",
           5,
           4,
           5
          ],
          [
           "Catalogue Desk Assistant ",
           5,
           4,
           5
          ],
          [
           "Catalogue Desk Assistant ",
           5,
           4,
           5
          ],
          [
           "Catalogue Desk Assistant ",
           4,
           5,
           1
          ]
         ],
         "hovertemplate": "Position Type=Catalogue Desk Assistant <br>Start=%{base}<br>Finish=%{x}<br>Candidate Name=%{y}<br>Position=%{customdata[0]}<br>Experience=%{customdata[1]}<br>Language Skills=%{customdata[2]}<br>Presentation Skills=%{customdata[3]}<extra></extra>",
         "legendgroup": "Catalogue Desk Assistant ",
         "marker": {
          "color": "#FFA15A",
          "pattern": {
           "shape": ""
          }
         },
         "name": "Catalogue Desk Assistant ",
         "offsetgroup": "Catalogue Desk Assistant ",
         "orientation": "h",
         "showlegend": true,
         "textposition": "auto",
         "type": "bar",
         "x": [
          86400000,
          86400000,
          86400000,
          86400000,
          86400000,
          86400000,
          86400000
         ],
         "xaxis": "x",
         "y": [
          "Rafaela Alves",
          "Sophia Anderson",
          "Sophia Anderson",
          "Tomás Oliveira",
          "Tomás Oliveira",
          "Tomás Oliveira",
          "Tyler Martin"
         ],
         "yaxis": "y"
        },
        {
         "alignmentgroup": "True",
         "base": [
          "2023-06-7",
          "2023-06-6",
          "2023-06-5",
          "2023-06-2",
          "2023-06-4",
          "2023-06-9",
          "2023-06-3"
         ],
         "customdata": [
          [
           "Operations & Administration Packer ",
           5,
           3,
           3
          ],
          [
           "Operations & Administration Packer ",
           5,
           3,
           3
          ],
          [
           "Operations & Administration Packer ",
           5,
           3,
           3
          ],
          [
           "Operations & Administration Packer ",
           5,
           3,
           3
          ],
          [
           "Operations & Administration Packer ",
           5,
           3,
           3
          ],
          [
           "Operations & Administration Packer ",
           5,
           3,
           3
          ],
          [
           "Operations & Administration Packer ",
           5,
           3,
           3
          ]
         ],
         "hovertemplate": "Position Type=Operations & Administration Packer <br>Start=%{base}<br>Finish=%{x}<br>Candidate Name=%{y}<br>Position=%{customdata[0]}<br>Experience=%{customdata[1]}<br>Language Skills=%{customdata[2]}<br>Presentation Skills=%{customdata[3]}<extra></extra>",
         "legendgroup": "Operations & Administration Packer ",
         "marker": {
          "color": "#19d3f3",
          "pattern": {
           "shape": ""
          }
         },
         "name": "Operations & Administration Packer ",
         "offsetgroup": "Operations & Administration Packer ",
         "orientation": "h",
         "showlegend": true,
         "textposition": "auto",
         "type": "bar",
         "x": [
          86400000,
          86400000,
          86400000,
          86400000,
          86400000,
          86400000,
          86400000
         ],
         "xaxis": "x",
         "y": [
          "Samuel Wilson",
          "Samuel Wilson",
          "Samuel Wilson",
          "Samuel Wilson",
          "Samuel Wilson",
          "Samuel Wilson",
          "Samuel Wilson"
         ],
         "yaxis": "y"
        },
        {
         "alignmentgroup": "True",
         "base": [
          "2023-06-9",
          "2023-06-5",
          "2023-06-7",
          "2023-06-6",
          "2023-06-6",
          "2023-06-8",
          "2023-06-7",
          "2023-06-9",
          "2023-06-8",
          "2023-06-7",
          "2023-06-6",
          "2023-06-6"
         ],
         "customdata": [
          [
           "Public Relationship Assistant ",
           5,
           1,
           4
          ],
          [
           "Public Relationship Assistant ",
           5,
           1,
           4
          ],
          [
           "Public Relationship Assistant ",
           5,
           1,
           4
          ],
          [
           "Public Relationship Assistant ",
           5,
           1,
           4
          ],
          [
           "Public Relationship Assistant ",
           4,
           3,
           1
          ],
          [
           "Public Relationship Assistant ",
           4,
           3,
           1
          ],
          [
           "Public Relationship Assistant ",
           4,
           3,
           1
          ],
          [
           "Public Relationship Assistant ",
           5,
           4,
           3
          ],
          [
           "Public Relationship Assistant ",
           5,
           4,
           3
          ],
          [
           "Public Relationship Assistant ",
           5,
           4,
           3
          ],
          [
           "Public Relationship Assistant ",
           5,
           4,
           3
          ],
          [
           "Public Relationship Assistant ",
           5,
           4,
           3
          ]
         ],
         "hovertemplate": "Position Type=Public Relationship Assistant <br>Start=%{base}<br>Finish=%{x}<br>Candidate Name=%{y}<br>Position=%{customdata[0]}<br>Experience=%{customdata[1]}<br>Language Skills=%{customdata[2]}<br>Presentation Skills=%{customdata[3]}<extra></extra>",
         "legendgroup": "Public Relationship Assistant ",
         "marker": {
          "color": "#FF6692",
          "pattern": {
           "shape": ""
          }
         },
         "name": "Public Relationship Assistant ",
         "offsetgroup": "Public Relationship Assistant ",
         "orientation": "h",
         "showlegend": true,
         "textposition": "auto",
         "type": "bar",
         "x": [
          86400000,
          86400000,
          86400000,
          86400000,
          86400000,
          86400000,
          86400000,
          86400000,
          86400000,
          86400000,
          86400000,
          86400000
         ],
         "xaxis": "x",
         "y": [
          "Miguel Almeida",
          "Miguel Almeida",
          "Miguel Almeida",
          "Miguel Almeida",
          "Pedro Dias",
          "Pedro Dias",
          "Pedro Dias",
          "Pedro Oliveira",
          "Pedro Oliveira",
          "Pedro Oliveira",
          "Pedro Oliveira",
          "Rodrigo Oliveira"
         ],
         "yaxis": "y"
        },
        {
         "alignmentgroup": "True",
         "base": [
          "2023-06-3",
          "2023-06-7",
          "2023-06-7",
          "2023-06-1",
          "2023-06-9",
          "2023-06-6",
          "2023-06-4",
          "2023-06-8",
          "2023-06-7",
          "2023-06-3",
          "2023-06-7",
          "2023-06-2",
          "2023-06-7",
          "2023-06-5",
          "2023-06-4",
          "2023-06-9",
          "2023-06-6",
          "2023-06-4",
          "2023-06-5",
          "2023-06-2",
          "2023-06-6",
          "2023-06-8",
          "2023-06-7",
          "2023-06-9",
          "2023-06-5",
          "2023-06-3",
          "2023-06-4",
          "2023-06-6",
          "2023-06-8",
          "2023-06-7",
          "2023-06-9",
          "2023-06-3",
          "2023-06-2",
          "2023-06-6",
          "2023-06-8",
          "2023-06-5",
          "2023-06-4",
          "2023-06-3",
          "2023-06-7",
          "2023-06-2",
          "2023-06-6",
          "2023-06-8",
          "2023-06-4",
          "2023-06-7",
          "2023-06-6",
          "2023-06-3",
          "2023-06-3",
          "2023-06-6",
          "2023-06-7",
          "2023-06-2",
          "2023-06-1",
          "2023-06-5",
          "2023-06-4",
          "2023-06-6",
          "2023-06-6",
          "2023-06-3",
          "2023-06-9",
          "2023-06-8",
          "2023-06-5",
          "2023-06-2",
          "2023-06-1",
          "2023-06-6",
          "2023-06-7",
          "2023-06-7",
          "2023-06-6",
          "2023-06-5",
          "2023-06-9",
          "2023-06-8",
          "2023-06-1",
          "2023-06-3",
          "2023-06-6",
          "2023-06-7",
          "2023-06-2",
          "2023-06-4",
          "2023-06-6",
          "2023-06-3",
          "2023-06-7",
          "2023-06-2",
          "2023-06-4",
          "2023-06-5",
          "2023-06-4",
          "2023-06-6",
          "2023-06-2",
          "2023-06-3",
          "2023-06-4",
          "2023-06-9",
          "2023-06-6",
          "2023-06-8",
          "2023-06-1",
          "2023-06-5",
          "2023-06-9"
         ],
         "customdata": [
          [
           "Dept A Assistant ",
           4,
           2,
           3
          ],
          [
           "Dept E Assistant ",
           4,
           2,
           3
          ],
          [
           "Dept D Assistant ",
           3,
           4,
           0
          ],
          [
           "Dept D Assistant ",
           4,
           3,
           1
          ],
          [
           "Dept A Assistant ",
           4,
           3,
           1
          ],
          [
           "Dept E Assistant ",
           4,
           3,
           1
          ],
          [
           "Dept D Assistant ",
           4,
           3,
           1
          ],
          [
           "Dept E Assistant ",
           4,
           3,
           1
          ],
          [
           "Dept A Assistant ",
           4,
           3,
           1
          ],
          [
           "Dept A Assistant ",
           4,
           3,
           1
          ],
          [
           "Dept D Assistant ",
           4,
           4,
           4
          ],
          [
           "Dept D Assistant ",
           4,
           4,
           2
          ],
          [
           "Dept A Assistant ",
           4,
           4,
           2
          ],
          [
           "Dept A Assistant ",
           4,
           4,
           2
          ],
          [
           "Dept A Assistant ",
           4,
           4,
           2
          ],
          [
           "Dept E Assistant ",
           4,
           4,
           2
          ],
          [
           "Dept A Assistant ",
           4,
           4,
           2
          ],
          [
           "Dept A Assistant ",
           4,
           4,
           3
          ],
          [
           "Dept D Assistant ",
           4,
           4,
           3
          ],
          [
           "Dept D Assistant ",
           4,
           4,
           3
          ],
          [
           "Dept D Assistant ",
           4,
           4,
           3
          ],
          [
           "Dept A Assistant ",
           4,
           4,
           3
          ],
          [
           "Dept A Assistant ",
           4,
           4,
           3
          ],
          [
           "Dept A Assistant ",
           4,
           1,
           3
          ],
          [
           "Dept A Assistant ",
           4,
           1,
           3
          ],
          [
           "Dept D Assistant ",
           4,
           1,
           3
          ],
          [
           "Dept D Assistant ",
           4,
           1,
           3
          ],
          [
           "Dept A Assistant ",
           4,
           1,
           3
          ],
          [
           "Dept E Assistant ",
           4,
           1,
           3
          ],
          [
           "Dept D Assistant ",
           4,
           1,
           3
          ],
          [
           "Dept C Assistant ",
           5,
           5,
           3
          ],
          [
           "Dept C Assistant ",
           5,
           5,
           3
          ],
          [
           "Dept H Assistant ",
           5,
           5,
           3
          ],
          [
           "Dept C Assistant ",
           5,
           5,
           3
          ],
          [
           "Dept C Assistant ",
           5,
           5,
           3
          ],
          [
           "Dept D Assistant ",
           4,
           1,
           3
          ],
          [
           "Dept A Assistant ",
           4,
           1,
           3
          ],
          [
           "Dept D Assistant ",
           4,
           1,
           3
          ],
          [
           "Dept E Assistant ",
           4,
           1,
           3
          ],
          [
           "Dept D Assistant ",
           4,
           1,
           3
          ],
          [
           "Dept A Assistant ",
           4,
           1,
           3
          ],
          [
           "Dept E Assistant ",
           4,
           1,
           3
          ],
          [
           "Dept D Assistant ",
           4,
           1,
           2
          ],
          [
           "Dept D Assistant ",
           4,
           1,
           2
          ],
          [
           "Dept E Assistant ",
           4,
           1,
           2
          ],
          [
           "Dept A Assistant ",
           4,
           1,
           2
          ],
          [
           "Dept D Assistant ",
           3,
           1,
           1
          ],
          [
           "Dept D Assistant ",
           3,
           1,
           1
          ],
          [
           "Dept D Assistant ",
           5,
           2,
           1
          ],
          [
           "Dept C Assistant ",
           5,
           2,
           1
          ],
          [
           "Dept H Assistant ",
           5,
           2,
           1
          ],
          [
           "Dept D Assistant ",
           5,
           2,
           1
          ],
          [
           "Dept C Assistant ",
           5,
           2,
           1
          ],
          [
           "Dept E Assistant ",
           5,
           2,
           1
          ],
          [
           "Dept D Assistant ",
           4,
           3,
           4
          ],
          [
           "Dept A Assistant ",
           4,
           3,
           4
          ],
          [
           "Dept E Assistant ",
           4,
           3,
           4
          ],
          [
           "Dept A Assistant ",
           4,
           3,
           4
          ],
          [
           "Dept A Assistant ",
           4,
           3,
           4
          ],
          [
           "Dept D Assistant ",
           4,
           3,
           4
          ],
          [
           "Dept D Assistant ",
           4,
           3,
           4
          ],
          [
           "Dept E Assistant ",
           3,
           5,
           2
          ],
          [
           "Dept E Assistant ",
           3,
           5,
           2
          ],
          [
           "Dept A Assistant ",
           4,
           2,
           1
          ],
          [
           "Dept E Assistant ",
           4,
           2,
           1
          ],
          [
           "Dept A Assistant ",
           4,
           2,
           1
          ],
          [
           "Dept A Assistant ",
           4,
           2,
           1
          ],
          [
           "Dept E Assistant ",
           4,
           2,
           1
          ],
          [
           "Dept D Assistant ",
           4,
           2,
           1
          ],
          [
           "Dept D Assistant ",
           2,
           3,
           2
          ],
          [
           "Dept C Assistant ",
           5,
           3,
           2
          ],
          [
           "Dept C Assistant ",
           5,
           3,
           2
          ],
          [
           "Dept H Assistant ",
           5,
           3,
           2
          ],
          [
           "Dept H Assistant ",
           5,
           3,
           2
          ],
          [
           "Dept A Assistant ",
           4,
           2,
           4
          ],
          [
           "Dept A Assistant ",
           4,
           2,
           4
          ],
          [
           "Dept E Assistant ",
           4,
           2,
           4
          ],
          [
           "Dept D Assistant ",
           4,
           2,
           4
          ],
          [
           "Dept A Assistant ",
           4,
           2,
           4
          ],
          [
           "Dept D Assistant ",
           4,
           3,
           3
          ],
          [
           "Dept D Assistant ",
           4,
           3,
           3
          ],
          [
           "Dept A Assistant ",
           4,
           3,
           3
          ],
          [
           "Dept D Assistant ",
           4,
           3,
           3
          ],
          [
           "Dept D Assistant ",
           4,
           1,
           2
          ],
          [
           "Dept D Assistant ",
           4,
           1,
           2
          ],
          [
           "Dept E Assistant ",
           4,
           1,
           2
          ],
          [
           "Dept D Assistant ",
           4,
           1,
           2
          ],
          [
           "Dept A Assistant ",
           4,
           1,
           2
          ],
          [
           "Dept D Assistant ",
           4,
           1,
           2
          ],
          [
           "Dept A Assistant ",
           4,
           1,
           2
          ],
          [
           "Dept E Assistant ",
           3,
           3,
           4
          ]
         ],
         "hovertemplate": "Position Type=Assistant <br>Start=%{base}<br>Finish=%{x}<br>Candidate Name=%{y}<br>Position=%{customdata[0]}<br>Experience=%{customdata[1]}<br>Language Skills=%{customdata[2]}<br>Presentation Skills=%{customdata[3]}<extra></extra>",
         "legendgroup": "Assistant ",
         "marker": {
          "color": "#B6E880",
          "pattern": {
           "shape": ""
          }
         },
         "name": "Assistant ",
         "offsetgroup": "Assistant ",
         "orientation": "h",
         "showlegend": true,
         "textposition": "auto",
         "type": "bar",
         "x": [
          86400000,
          86400000,
          86400000,
          86400000,
          86400000,
          86400000,
          86400000,
          86400000,
          86400000,
          86400000,
          86400000,
          86400000,
          86400000,
          86400000,
          86400000,
          86400000,
          86400000,
          86400000,
          86400000,
          86400000,
          86400000,
          86400000,
          86400000,
          86400000,
          86400000,
          86400000,
          86400000,
          86400000,
          86400000,
          86400000,
          86400000,
          86400000,
          86400000,
          86400000,
          86400000,
          86400000,
          86400000,
          86400000,
          86400000,
          86400000,
          86400000,
          86400000,
          86400000,
          86400000,
          86400000,
          86400000,
          86400000,
          86400000,
          86400000,
          86400000,
          86400000,
          86400000,
          86400000,
          86400000,
          86400000,
          86400000,
          86400000,
          86400000,
          86400000,
          86400000,
          86400000,
          86400000,
          86400000,
          86400000,
          86400000,
          86400000,
          86400000,
          86400000,
          86400000,
          86400000,
          86400000,
          86400000,
          86400000,
          86400000,
          86400000,
          86400000,
          86400000,
          86400000,
          86400000,
          86400000,
          86400000,
          86400000,
          86400000,
          86400000,
          86400000,
          86400000,
          86400000,
          86400000,
          86400000,
          86400000,
          86400000
         ],
         "xaxis": "x",
         "y": [
          "Michael Lewis",
          "Michael Lewis",
          "Miguel Costa",
          "Miguel Pereira",
          "Miguel Pereira",
          "Miguel Pereira",
          "Miguel Pereira",
          "Miguel Pereira",
          "Miguel Pereira",
          "Miguel Pereira",
          "Nicholas Walker",
          "Nuno Almeida",
          "Nuno Almeida",
          "Nuno Almeida",
          "Nuno Almeida",
          "Nuno Almeida",
          "Nuno Almeida",
          "Rafael Fernandes",
          "Rafael Fernandes",
          "Rafael Fernandes",
          "Rafael Fernandes",
          "Rafael Fernandes",
          "Rafael Fernandes",
          "Rafael Vieira",
          "Rafael Vieira",
          "Rafael Vieira",
          "Rafael Vieira",
          "Rafael Vieira",
          "Rafael Vieira",
          "Rafael Vieira",
          "Rita Carvalho",
          "Rita Carvalho",
          "Rita Carvalho",
          "Rita Carvalho",
          "Rita Carvalho",
          "Rodrigo Castro",
          "Rodrigo Castro",
          "Rodrigo Castro",
          "Rodrigo Castro",
          "Rodrigo Castro",
          "Rodrigo Castro",
          "Rodrigo Castro",
          "Rodrigo Nunes",
          "Rodrigo Nunes",
          "Rodrigo Nunes",
          "Rodrigo Nunes",
          "Samuel Davis",
          "Samuel Davis",
          "Sara Silva",
          "Sara Silva",
          "Sara Silva",
          "Sara Silva",
          "Sara Silva",
          "Sara Silva",
          "Simão Fernandes",
          "Simão Fernandes",
          "Simão Fernandes",
          "Simão Fernandes",
          "Simão Fernandes",
          "Simão Fernandes",
          "Simão Fernandes",
          "Sofia Nunes",
          "Sofia Nunes",
          "Sofia Ribeiro",
          "Sofia Ribeiro",
          "Sofia Ribeiro",
          "Sofia Ribeiro",
          "Sofia Ribeiro",
          "Sofia Ribeiro",
          "Sophia Anderson",
          "Tiago Cunha",
          "Tiago Cunha",
          "Tiago Cunha",
          "Tiago Cunha",
          "Tiago Fernandes",
          "Tiago Fernandes",
          "Tiago Fernandes",
          "Tiago Fernandes",
          "Tiago Fernandes",
          "Tiago Gonçalves",
          "Tiago Gonçalves",
          "Tiago Gonçalves",
          "Tiago Gonçalves",
          "Tomás Rodrigues",
          "Tomás Rodrigues",
          "Tomás Rodrigues",
          "Tomás Rodrigues",
          "Tomás Rodrigues",
          "Tomás Rodrigues",
          "Tomás Rodrigues",
          "William Hernandez"
         ],
         "yaxis": "y"
        },
        {
         "alignmentgroup": "True",
         "base": [
          "2023-06-7",
          "2023-06-5",
          "2023-06-4",
          "2023-06-5",
          "2023-06-4",
          "2023-06-8",
          "2023-06-5",
          "2023-06-7",
          "2023-06-4",
          "2023-06-6",
          "2023-06-6",
          "2023-06-7",
          "2023-06-5",
          "2023-06-8",
          "2023-06-7",
          "2023-06-6"
         ],
         "customdata": [
          [
           "Currency Board Operator (Saleroom 1) ",
           4,
           1,
           1
          ],
          [
           "Currency Board Operator (Saleroom 1) ",
           4,
           1,
           1
          ],
          [
           "Currency Board Operator (Saleroom 1) ",
           4,
           1,
           1
          ],
          [
           "Currency Board Operator (Saleroom 1) ",
           5,
           1,
           2
          ],
          [
           "Currency Board Operator (Saleroom 1) ",
           5,
           1,
           2
          ],
          [
           "Currency Board Operator (Saleroom 2) ",
           5,
           4,
           1
          ],
          [
           "Currency Board Operator (Saleroom 2) ",
           5,
           4,
           1
          ],
          [
           "Currency Board Operator (Saleroom 1) ",
           4,
           3,
           2
          ],
          [
           "Currency Board Operator (Saleroom 1) ",
           4,
           3,
           2
          ],
          [
           "Currency Board Operator (Saleroom 1) ",
           4,
           3,
           2
          ],
          [
           "Currency Board Operator (Saleroom 2) ",
           5,
           5,
           3
          ],
          [
           "Currency Board Operator (Saleroom 2) ",
           5,
           5,
           3
          ],
          [
           "Currency Board Operator (Saleroom 2) ",
           5,
           5,
           3
          ],
          [
           "Currency Board Operator (Saleroom 2) ",
           5,
           5,
           3
          ],
          [
           "Currency Board Operator (Saleroom 2) ",
           5,
           3,
           4
          ],
          [
           "Currency Board Operator (Saleroom 2) ",
           5,
           3,
           4
          ]
         ],
         "hovertemplate": "Position Type=Currency Board Operator<br>Start=%{base}<br>Finish=%{x}<br>Candidate Name=%{y}<br>Position=%{customdata[0]}<br>Experience=%{customdata[1]}<br>Language Skills=%{customdata[2]}<br>Presentation Skills=%{customdata[3]}<extra></extra>",
         "legendgroup": "Currency Board Operator",
         "marker": {
          "color": "#FF97FF",
          "pattern": {
           "shape": ""
          }
         },
         "name": "Currency Board Operator",
         "offsetgroup": "Currency Board Operator",
         "orientation": "h",
         "showlegend": true,
         "textposition": "auto",
         "type": "bar",
         "x": [
          86400000,
          86400000,
          86400000,
          86400000,
          86400000,
          86400000,
          86400000,
          86400000,
          86400000,
          86400000,
          86400000,
          86400000,
          86400000,
          86400000,
          86400000,
          86400000
         ],
         "xaxis": "x",
         "y": [
          "Samuel Davis",
          "Samuel Davis",
          "Samuel Davis",
          "Sarah Garcia",
          "Sarah Garcia",
          "Simão Rodrigues",
          "Simão Rodrigues",
          "Sophia Anderson",
          "Sophia Anderson",
          "Sophia Anderson",
          "Tiago Sousa Cruz",
          "Tiago Sousa Cruz",
          "Tiago Sousa Cruz",
          "Tiago Sousa Cruz",
          "Tomás Santos",
          "Tomás Santos"
         ],
         "yaxis": "y"
        },
        {
         "alignmentgroup": "True",
         "base": [
          "2023-06-3",
          "2023-06-4",
          "2023-06-2",
          "2023-06-1",
          "2023-06-3",
          "2023-06-1",
          "2023-06-4",
          "2023-06-4",
          "2023-06-3",
          "2023-06-4",
          "2023-06-3",
          "2023-06-5",
          "2023-06-6",
          "2023-06-1",
          "2023-06-6",
          "2023-06-4",
          "2023-06-5",
          "2023-06-3",
          "2023-06-5",
          "2023-06-2",
          "2023-06-3",
          "2023-06-4",
          "2023-06-6",
          "2023-06-1",
          "2023-06-9",
          "2023-06-2",
          "2023-06-4",
          "2023-06-4",
          "2023-06-3",
          "2023-06-4",
          "2023-06-1",
          "2023-06-4",
          "2023-06-3",
          "2023-06-6"
         ],
         "customdata": [
          [
           "Dept L Packing Assistant ",
           4,
           4,
           0
          ],
          [
           "Dept F Packing Assistant ",
           4,
           4,
           0
          ],
          [
           "Dept B Packing Assistant ",
           4,
           4,
           0
          ],
          [
           "Dept L Packing Assistant ",
           4,
           4,
           0
          ],
          [
           "Dept L Packing Assistant ",
           5,
           3,
           2
          ],
          [
           "Dept B Packing Assistant ",
           5,
           3,
           2
          ],
          [
           "Dept K Packing Assistant ",
           5,
           3,
           2
          ],
          [
           "Dept F Packing Assistant ",
           3,
           3,
           1
          ],
          [
           "Dept L Packing Assistant ",
           3,
           3,
           1
          ],
          [
           "Dept F Packing Assistant ",
           4,
           3,
           0
          ],
          [
           "Dept F Packing Assistant ",
           4,
           3,
           0
          ],
          [
           "Dept L Packing Assistant ",
           4,
           3,
           0
          ],
          [
           "Dept L Packing Assistant ",
           4,
           3,
           0
          ],
          [
           "Dept B Packing Assistant ",
           4,
           3,
           0
          ],
          [
           "Dept L Packing Assistant ",
           4,
           1,
           1
          ],
          [
           "Dept L Packing Assistant ",
           4,
           1,
           1
          ],
          [
           "Dept L Packing Assistant ",
           4,
           1,
           1
          ],
          [
           "Dept L Packing Assistant ",
           4,
           1,
           1
          ],
          [
           "Dept L Packing Assistant ",
           4,
           0,
           4
          ],
          [
           "Dept B Packing Assistant ",
           4,
           0,
           4
          ],
          [
           "Dept F Packing Assistant ",
           4,
           0,
           4
          ],
          [
           "Dept F Packing Assistant ",
           4,
           0,
           4
          ],
          [
           "Dept L Packing Assistant ",
           4,
           0,
           4
          ],
          [
           "Dept L Packing Assistant ",
           5,
           4,
           1
          ],
          [
           "Dept K Packing Assistant ",
           5,
           4,
           1
          ],
          [
           "Dept K Packing Assistant ",
           5,
           4,
           1
          ],
          [
           "Dept F Packing Assistant ",
           5,
           4,
           1
          ],
          [
           "Dept L Packing Assistant ",
           5,
           1,
           4
          ],
          [
           "Dept F Packing Assistant ",
           5,
           1,
           4
          ],
          [
           "Dept F Packing Assistant ",
           4,
           1,
           0
          ],
          [
           "Dept L Packing Assistant ",
           4,
           2,
           4
          ],
          [
           "Dept L Packing Assistant ",
           4,
           5,
           1
          ],
          [
           "Dept L Packing Assistant ",
           4,
           5,
           1
          ],
          [
           "Dept L Packing Assistant ",
           4,
           5,
           1
          ]
         ],
         "hovertemplate": "Position Type=Packing Assistant <br>Start=%{base}<br>Finish=%{x}<br>Candidate Name=%{y}<br>Position=%{customdata[0]}<br>Experience=%{customdata[1]}<br>Language Skills=%{customdata[2]}<br>Presentation Skills=%{customdata[3]}<extra></extra>",
         "legendgroup": "Packing Assistant ",
         "marker": {
          "color": "#FECB52",
          "pattern": {
           "shape": ""
          }
         },
         "name": "Packing Assistant ",
         "offsetgroup": "Packing Assistant ",
         "orientation": "h",
         "showlegend": true,
         "textposition": "auto",
         "type": "bar",
         "x": [
          86400000,
          86400000,
          86400000,
          86400000,
          86400000,
          86400000,
          86400000,
          86400000,
          86400000,
          86400000,
          86400000,
          86400000,
          86400000,
          86400000,
          86400000,
          86400000,
          86400000,
          86400000,
          86400000,
          86400000,
          86400000,
          86400000,
          86400000,
          86400000,
          86400000,
          86400000,
          86400000,
          86400000,
          86400000,
          86400000,
          86400000,
          86400000,
          86400000,
          86400000
         ],
         "xaxis": "x",
         "y": [
          "Miguel Costa",
          "Miguel Costa",
          "Miguel Costa",
          "Miguel Costa",
          "Nuno Santos",
          "Nuno Santos",
          "Nuno Santos",
          "Pedro Dias",
          "Pedro Dias",
          "Rodrigo Pereira",
          "Rodrigo Pereira",
          "Rodrigo Pereira",
          "Rodrigo Pereira",
          "Rodrigo Pereira",
          "Ryan Perez",
          "Ryan Perez",
          "Ryan Perez",
          "Ryan Perez",
          "Sara Ribeiro",
          "Sara Ribeiro",
          "Sara Ribeiro",
          "Sara Ribeiro",
          "Sara Ribeiro",
          "Simão Rodrigues",
          "Simão Rodrigues",
          "Simão Rodrigues",
          "Simão Rodrigues",
          "Sofia Silva",
          "Sofia Silva",
          "Sofia Turner",
          "Tiago Fernandes",
          "Tyler Martin",
          "Tyler Martin",
          "Tyler Martin"
         ],
         "yaxis": "y"
        },
        {
         "alignmentgroup": "True",
         "base": [
          "2023-06-7",
          "2023-06-9",
          "2023-06-8",
          "2023-06-9",
          "2023-06-9",
          "2023-06-7",
          "2023-06-8"
         ],
         "customdata": [
          [
           "Impressionist painting Viewing Assistant ",
           5,
           4,
           5
          ],
          [
           "Impressionist painting Viewing Assistant ",
           5,
           4,
           5
          ],
          [
           "Impressionist painting Viewing Assistant ",
           5,
           2,
           4
          ],
          [
           "Impressionist painting Viewing Assistant ",
           5,
           3,
           3
          ],
          [
           "Impressionist painting Viewing Assistant ",
           5,
           5,
           1
          ],
          [
           "Impressionist painting Viewing Assistant ",
           5,
           5,
           1
          ],
          [
           "Impressionist painting Viewing Assistant ",
           5,
           5,
           1
          ]
         ],
         "hovertemplate": "Position Type=Impressionist Painting Viewing Assistant <br>Start=%{base}<br>Finish=%{x}<br>Candidate Name=%{y}<br>Position=%{customdata[0]}<br>Experience=%{customdata[1]}<br>Language Skills=%{customdata[2]}<br>Presentation Skills=%{customdata[3]}<extra></extra>",
         "legendgroup": "Impressionist Painting Viewing Assistant ",
         "marker": {
          "color": "#636efa",
          "pattern": {
           "shape": ""
          }
         },
         "name": "Impressionist Painting Viewing Assistant ",
         "offsetgroup": "Impressionist Painting Viewing Assistant ",
         "orientation": "h",
         "showlegend": true,
         "textposition": "auto",
         "type": "bar",
         "x": [
          86400000,
          86400000,
          86400000,
          86400000,
          86400000,
          86400000,
          86400000
         ],
         "xaxis": "x",
         "y": [
          "Nathan Price",
          "Nathan Price",
          "Tiago Fernandes",
          "Tiago Gonçalves",
          "Tyler Martin",
          "Tyler Martin",
          "Tyler Martin"
         ],
         "yaxis": "y"
        },
        {
         "alignmentgroup": "True",
         "base": [
          "2023-06-4",
          "2023-06-3",
          "2023-06-6",
          "2023-06-8",
          "2023-06-3",
          "2023-06-1",
          "2023-06-4",
          "2023-06-9",
          "2023-06-4",
          "2023-06-3",
          "2023-06-9",
          "2023-06-5",
          "2023-06-7",
          "2023-06-2",
          "2023-06-5",
          "2023-06-7",
          "2023-06-8",
          "2023-06-4",
          "2023-06-6",
          "2023-06-9",
          "2023-06-8",
          "2023-06-7",
          "2023-06-9",
          "2023-06-3",
          "2023-06-6",
          "2023-06-5",
          "2023-06-2",
          "2023-06-3",
          "2023-06-8"
         ],
         "customdata": [
          [
           "London Jewellery Viewing Assistant ",
           3,
           1,
           4
          ],
          [
           "London Jewellery Viewing Assistant ",
           3,
           1,
           4
          ],
          [
           "London Jewellery Viewing Assistant ",
           5,
           0,
           5
          ],
          [
           "London Jewellery Viewing Assistant ",
           5,
           0,
           5
          ],
          [
           "London Jewellery Viewing Assistant ",
           5,
           0,
           5
          ],
          [
           "London Jewellery Viewing Assistant ",
           5,
           0,
           5
          ],
          [
           "London Jewellery Viewing Assistant ",
           5,
           0,
           5
          ],
          [
           "London Jewellery Viewing Assistant ",
           5,
           0,
           5
          ],
          [
           "London Jewellery Viewing Assistant ",
           4,
           4,
           3
          ],
          [
           "London Jewellery Viewing Assistant ",
           4,
           4,
           3
          ],
          [
           "London Jewellery Viewing Assistant ",
           5,
           1,
           2
          ],
          [
           "London Jewellery Viewing Assistant ",
           5,
           1,
           2
          ],
          [
           "London Jewellery Viewing Assistant ",
           4,
           3,
           0
          ],
          [
           "London Jewellery Viewing Assistant ",
           5,
           4,
           4
          ],
          [
           "London Jewellery Viewing Assistant ",
           5,
           4,
           4
          ],
          [
           "London Jewellery Viewing Assistant ",
           5,
           4,
           4
          ],
          [
           "London Jewellery Viewing Assistant ",
           5,
           4,
           4
          ],
          [
           "London Jewellery Viewing Assistant ",
           5,
           4,
           4
          ],
          [
           "London Jewellery Viewing Assistant ",
           5,
           4,
           4
          ],
          [
           "London Jewellery Viewing Assistant ",
           5,
           4,
           4
          ],
          [
           "London Jewellery Viewing Assistant ",
           5,
           1,
           4
          ],
          [
           "London Jewellery Viewing Assistant ",
           5,
           1,
           4
          ],
          [
           "London Jewellery Viewing Assistant ",
           5,
           1,
           4
          ],
          [
           "London Jewellery Viewing Assistant ",
           5,
           1,
           4
          ],
          [
           "London Jewellery Viewing Assistant ",
           5,
           1,
           4
          ],
          [
           "London Jewellery Viewing Assistant ",
           5,
           1,
           4
          ],
          [
           "London Jewellery Viewing Assistant ",
           4,
           5,
           2
          ],
          [
           "London Jewellery Viewing Assistant ",
           4,
           5,
           2
          ],
          [
           "London Jewellery Viewing Assistant ",
           4,
           5,
           2
          ]
         ],
         "hovertemplate": "Position Type=London Jewellery Viewing Assistant <br>Start=%{base}<br>Finish=%{x}<br>Candidate Name=%{y}<br>Position=%{customdata[0]}<br>Experience=%{customdata[1]}<br>Language Skills=%{customdata[2]}<br>Presentation Skills=%{customdata[3]}<extra></extra>",
         "legendgroup": "London Jewellery Viewing Assistant ",
         "marker": {
          "color": "#EF553B",
          "pattern": {
           "shape": ""
          }
         },
         "name": "London Jewellery Viewing Assistant ",
         "offsetgroup": "London Jewellery Viewing Assistant ",
         "orientation": "h",
         "showlegend": true,
         "textposition": "auto",
         "type": "bar",
         "x": [
          86400000,
          86400000,
          86400000,
          86400000,
          86400000,
          86400000,
          86400000,
          86400000,
          86400000,
          86400000,
          86400000,
          86400000,
          86400000,
          86400000,
          86400000,
          86400000,
          86400000,
          86400000,
          86400000,
          86400000,
          86400000,
          86400000,
          86400000,
          86400000,
          86400000,
          86400000,
          86400000,
          86400000,
          86400000
         ],
         "xaxis": "x",
         "y": [
          "Miguel Almeida",
          "Miguel Almeida",
          "Pedro Matos",
          "Pedro Matos",
          "Pedro Matos",
          "Pedro Matos",
          "Pedro Matos",
          "Pedro Matos",
          "Pedro Oliveira",
          "Pedro Oliveira",
          "Rodrigo Nunes",
          "Rodrigo Nunes",
          "Rodrigo Pereira",
          "Ryan Parker",
          "Ryan Parker",
          "Ryan Parker",
          "Ryan Parker",
          "Ryan Parker",
          "Ryan Parker",
          "Ryan Parker",
          "Savannah Hall",
          "Savannah Hall",
          "Savannah Hall",
          "Savannah Hall",
          "Savannah Hall",
          "Savannah Hall",
          "Sofia Nunes",
          "Sofia Nunes",
          "Sofia Nunes"
         ],
         "yaxis": "y"
        },
        {
         "alignmentgroup": "True",
         "base": [
          "2023-06-4",
          "2023-06-5",
          "2023-06-2",
          "2023-06-8",
          "2023-06-5",
          "2023-06-9",
          "2023-06-8",
          "2023-06-8",
          "2023-06-7",
          "2023-06-4",
          "2023-06-9",
          "2023-06-6",
          "2023-06-5"
         ],
         "customdata": [
          [
           "Cloak Room Assistant ",
           5,
           2,
           3
          ],
          [
           "Cloak Room Assistant ",
           5,
           2,
           3
          ],
          [
           "Cloak Room Assistant ",
           5,
           2,
           3
          ],
          [
           "Cloak Room Assistant ",
           5,
           2,
           3
          ],
          [
           "Cloak Room Assistant ",
           4,
           4,
           0
          ],
          [
           "Cloak Room Assistant ",
           5,
           2,
           3
          ],
          [
           "Cloak Room Assistant ",
           5,
           2,
           3
          ],
          [
           "Cloak Room Assistant ",
           5,
           4,
           4
          ],
          [
           "Cloak Room Assistant ",
           5,
           4,
           4
          ],
          [
           "Cloak Room Assistant ",
           5,
           4,
           4
          ],
          [
           "Cloak Room Assistant ",
           5,
           4,
           4
          ],
          [
           "Cloak Room Assistant ",
           5,
           4,
           4
          ],
          [
           "Cloak Room Assistant ",
           5,
           4,
           4
          ]
         ],
         "hovertemplate": "Position Type=Cloak Room Assistant <br>Start=%{base}<br>Finish=%{x}<br>Candidate Name=%{y}<br>Position=%{customdata[0]}<br>Experience=%{customdata[1]}<br>Language Skills=%{customdata[2]}<br>Presentation Skills=%{customdata[3]}<extra></extra>",
         "legendgroup": "Cloak Room Assistant ",
         "marker": {
          "color": "#00cc96",
          "pattern": {
           "shape": ""
          }
         },
         "name": "Cloak Room Assistant ",
         "offsetgroup": "Cloak Room Assistant ",
         "orientation": "h",
         "showlegend": true,
         "textposition": "auto",
         "type": "bar",
         "x": [
          86400000,
          86400000,
          86400000,
          86400000,
          86400000,
          86400000,
          86400000,
          86400000,
          86400000,
          86400000,
          86400000,
          86400000,
          86400000
         ],
         "xaxis": "x",
         "y": [
          "Michael Lewis",
          "Michael Lewis",
          "Michael Lewis",
          "Michael Lewis",
          "Miguel Costa",
          "Rafaela Ferreira",
          "Rafaela Ferreira",
          "Rita Fernandes",
          "Rita Fernandes",
          "Rita Fernandes",
          "Rita Fernandes",
          "Rita Fernandes",
          "Rita Fernandes"
         ],
         "yaxis": "y"
        },
        {
         "alignmentgroup": "True",
         "base": [
          "2023-06-4",
          "2023-06-5",
          "2023-06-3",
          "2023-06-3"
         ],
         "customdata": [
          [
           "Spotter ",
           5,
           2,
           3
          ],
          [
           "Spotter ",
           5,
           2,
           3
          ],
          [
           "Spotter ",
           5,
           3,
           1
          ],
          [
           "Spotter ",
           5,
           5,
           2
          ]
         ],
         "hovertemplate": "Position Type=Spotter <br>Start=%{base}<br>Finish=%{x}<br>Candidate Name=%{y}<br>Position=%{customdata[0]}<br>Experience=%{customdata[1]}<br>Language Skills=%{customdata[2]}<br>Presentation Skills=%{customdata[3]}<extra></extra>",
         "legendgroup": "Spotter ",
         "marker": {
          "color": "#ab63fa",
          "pattern": {
           "shape": ""
          }
         },
         "name": "Spotter ",
         "offsetgroup": "Spotter ",
         "orientation": "h",
         "showlegend": true,
         "textposition": "auto",
         "type": "bar",
         "x": [
          86400000,
          86400000,
          86400000,
          86400000
         ],
         "xaxis": "x",
         "y": [
          "Rafaela Ferreira",
          "Rafaela Ferreira",
          "Sofia Santos",
          "Tomás Martins"
         ],
         "yaxis": "y"
        },
        {
         "alignmentgroup": "True",
         "base": [
          "2023-06-9",
          "2023-06-8",
          "2023-06-1"
         ],
         "customdata": [
          [
           "Client Services Assistant ",
           5,
           2,
           4
          ],
          [
           "Client Services Assistant ",
           5,
           1,
           1
          ],
          [
           "Client Services Assistant ",
           4,
           5,
           3
          ]
         ],
         "hovertemplate": "Position Type=Client Services Assistant <br>Start=%{base}<br>Finish=%{x}<br>Candidate Name=%{y}<br>Position=%{customdata[0]}<br>Experience=%{customdata[1]}<br>Language Skills=%{customdata[2]}<br>Presentation Skills=%{customdata[3]}<extra></extra>",
         "legendgroup": "Client Services Assistant ",
         "marker": {
          "color": "#FFA15A",
          "pattern": {
           "shape": ""
          }
         },
         "name": "Client Services Assistant ",
         "offsetgroup": "Client Services Assistant ",
         "orientation": "h",
         "showlegend": true,
         "textposition": "auto",
         "type": "bar",
         "x": [
          86400000,
          86400000,
          86400000
         ],
         "xaxis": "x",
         "y": [
          "Noah Rodriguez",
          "Ryan Perez",
          "Tiago Sousa Cruz"
         ],
         "yaxis": "y"
        },
        {
         "alignmentgroup": "True",
         "base": [
          "2023-06-5",
          "2023-06-4",
          "2023-06-3",
          "2023-06-4",
          "2023-06-4"
         ],
         "customdata": [
          [
           "Event Assistant ",
           5,
           4,
           3
          ],
          [
           "Event Assistant ",
           5,
           4,
           3
          ],
          [
           "Event Assistant ",
           5,
           5,
           3
          ],
          [
           "Event Assistant ",
           5,
           5,
           3
          ],
          [
           "Event Assistant ",
           5,
           5,
           1
          ]
         ],
         "hovertemplate": "Position Type=Event Assistant <br>Start=%{base}<br>Finish=%{x}<br>Candidate Name=%{y}<br>Position=%{customdata[0]}<br>Experience=%{customdata[1]}<br>Language Skills=%{customdata[2]}<br>Presentation Skills=%{customdata[3]}<extra></extra>",
         "legendgroup": "Event Assistant ",
         "marker": {
          "color": "#19d3f3",
          "pattern": {
           "shape": ""
          }
         },
         "name": "Event Assistant ",
         "offsetgroup": "Event Assistant ",
         "orientation": "h",
         "showlegend": true,
         "textposition": "auto",
         "type": "bar",
         "x": [
          86400000,
          86400000,
          86400000,
          86400000,
          86400000
         ],
         "xaxis": "x",
         "y": [
          "Rodrigo Oliveira",
          "Rodrigo Oliveira",
          "Tiago Sousa Cruz",
          "Tiago Sousa Cruz",
          "Tomé Martins"
         ],
         "yaxis": "y"
        },
        {
         "alignmentgroup": "True",
         "base": [
          "2023-06-1",
          "2023-06-3",
          "2023-06-2",
          "2023-06-5",
          "2023-06-4",
          "2023-06-9",
          "2023-06-6",
          "2023-06-4",
          "2023-06-5",
          "2023-06-3",
          "2023-06-5",
          "2023-06-6",
          "2023-06-3",
          "2023-06-4",
          "2023-06-7",
          "2023-06-1",
          "2023-06-9",
          "2023-06-4",
          "2023-06-5",
          "2023-06-1",
          "2023-06-3",
          "2023-06-4",
          "2023-06-9",
          "2023-06-6",
          "2023-06-2",
          "2023-06-7",
          "2023-06-8"
         ],
         "customdata": [
          [
           "Information Assistant (Hall 3B) ",
           5,
           4,
           4
          ],
          [
           "Information Assistant (Hall 3B) ",
           5,
           4,
           4
          ],
          [
           "Information Assistant (Hall 3B) ",
           5,
           4,
           4
          ],
          [
           "Information Assistant (Hall 3B) ",
           5,
           4,
           4
          ],
          [
           "Information Assistant ",
           5,
           4,
           4
          ],
          [
           "Information Assistant (Hall 3B) ",
           5,
           4,
           3
          ],
          [
           "Information Assistant (Hall 3B) ",
           5,
           4,
           3
          ],
          [
           "Information Assistant (Hall 3B) ",
           5,
           4,
           3
          ],
          [
           "Information Assistant ",
           5,
           4,
           3
          ],
          [
           "Information Assistant ",
           5,
           4,
           3
          ],
          [
           "Information Assistant ",
           5,
           1,
           1
          ],
          [
           "Information Assistant (Hall 3B) ",
           5,
           1,
           1
          ],
          [
           "Information Assistant ",
           5,
           1,
           1
          ],
          [
           "Information Assistant ",
           5,
           1,
           1
          ],
          [
           "Information Assistant (Hall 3B) ",
           5,
           1,
           1
          ],
          [
           "Information Assistant ",
           5,
           1,
           1
          ],
          [
           "Information Assistant (Hall 3B) ",
           5,
           1,
           1
          ],
          [
           "Information Assistant (Hall 3B) ",
           5,
           3,
           1
          ],
          [
           "Information Assistant (Hall 3B) ",
           5,
           3,
           1
          ],
          [
           "Information Assistant (Hall 3B) ",
           5,
           3,
           1
          ],
          [
           "Information Assistant (Hall 3B) ",
           5,
           3,
           1
          ],
          [
           "Information Assistant ",
           5,
           2,
           0
          ],
          [
           "Information Assistant (Hall 3B) ",
           5,
           2,
           0
          ],
          [
           "Information Assistant (Hall 3B) ",
           5,
           2,
           0
          ],
          [
           "Information Assistant ",
           5,
           2,
           0
          ],
          [
           "Information Assistant (Hall 3B) ",
           5,
           2,
           0
          ],
          [
           "Information Assistant (Hall 3B) ",
           5,
           2,
           0
          ]
         ],
         "hovertemplate": "Position Type=Information Assistant <br>Start=%{base}<br>Finish=%{x}<br>Candidate Name=%{y}<br>Position=%{customdata[0]}<br>Experience=%{customdata[1]}<br>Language Skills=%{customdata[2]}<br>Presentation Skills=%{customdata[3]}<extra></extra>",
         "legendgroup": "Information Assistant ",
         "marker": {
          "color": "#FF6692",
          "pattern": {
           "shape": ""
          }
         },
         "name": "Information Assistant ",
         "offsetgroup": "Information Assistant ",
         "orientation": "h",
         "showlegend": true,
         "textposition": "auto",
         "type": "bar",
         "x": [
          86400000,
          86400000,
          86400000,
          86400000,
          86400000,
          86400000,
          86400000,
          86400000,
          86400000,
          86400000,
          86400000,
          86400000,
          86400000,
          86400000,
          86400000,
          86400000,
          86400000,
          86400000,
          86400000,
          86400000,
          86400000,
          86400000,
          86400000,
          86400000,
          86400000,
          86400000,
          86400000
         ],
         "xaxis": "x",
         "y": [
          "Nicholas Walker",
          "Nicholas Walker",
          "Nicholas Walker",
          "Nicholas Walker",
          "Nicholas Walker",
          "Rafael Teixeira",
          "Rafael Teixeira",
          "Rafael Teixeira",
          "Rafael Teixeira",
          "Rafael Teixeira",
          "Rodrigo Ferreira",
          "Rodrigo Ferreira",
          "Rodrigo Ferreira",
          "Rodrigo Ferreira",
          "Rodrigo Ferreira",
          "Rodrigo Ferreira",
          "Rodrigo Ferreira",
          "Rodrigo Mendes",
          "Rodrigo Mendes",
          "Rodrigo Mendes",
          "Rodrigo Mendes",
          "Tiago Costa",
          "Tiago Costa",
          "Tiago Costa",
          "Tiago Costa",
          "Tiago Costa",
          "Tiago Costa"
         ],
         "yaxis": "y"
        }
       ],
       "layout": {
        "barmode": "overlay",
        "height": 1500,
        "legend": {
         "title": {
          "text": "Position Type"
         },
         "tracegroupgap": 0
        },
        "margin": {
         "t": 60
        },
        "template": {
         "data": {
          "bar": [
           {
            "error_x": {
             "color": "#2a3f5f"
            },
            "error_y": {
             "color": "#2a3f5f"
            },
            "marker": {
             "line": {
              "color": "#E5ECF6",
              "width": 0.5
             },
             "pattern": {
              "fillmode": "overlay",
              "size": 10,
              "solidity": 0.2
             }
            },
            "type": "bar"
           }
          ],
          "barpolar": [
           {
            "marker": {
             "line": {
              "color": "#E5ECF6",
              "width": 0.5
             },
             "pattern": {
              "fillmode": "overlay",
              "size": 10,
              "solidity": 0.2
             }
            },
            "type": "barpolar"
           }
          ],
          "carpet": [
           {
            "aaxis": {
             "endlinecolor": "#2a3f5f",
             "gridcolor": "white",
             "linecolor": "white",
             "minorgridcolor": "white",
             "startlinecolor": "#2a3f5f"
            },
            "baxis": {
             "endlinecolor": "#2a3f5f",
             "gridcolor": "white",
             "linecolor": "white",
             "minorgridcolor": "white",
             "startlinecolor": "#2a3f5f"
            },
            "type": "carpet"
           }
          ],
          "choropleth": [
           {
            "colorbar": {
             "outlinewidth": 0,
             "ticks": ""
            },
            "type": "choropleth"
           }
          ],
          "contour": [
           {
            "colorbar": {
             "outlinewidth": 0,
             "ticks": ""
            },
            "colorscale": [
             [
              0,
              "#0d0887"
             ],
             [
              0.1111111111111111,
              "#46039f"
             ],
             [
              0.2222222222222222,
              "#7201a8"
             ],
             [
              0.3333333333333333,
              "#9c179e"
             ],
             [
              0.4444444444444444,
              "#bd3786"
             ],
             [
              0.5555555555555556,
              "#d8576b"
             ],
             [
              0.6666666666666666,
              "#ed7953"
             ],
             [
              0.7777777777777778,
              "#fb9f3a"
             ],
             [
              0.8888888888888888,
              "#fdca26"
             ],
             [
              1,
              "#f0f921"
             ]
            ],
            "type": "contour"
           }
          ],
          "contourcarpet": [
           {
            "colorbar": {
             "outlinewidth": 0,
             "ticks": ""
            },
            "type": "contourcarpet"
           }
          ],
          "heatmap": [
           {
            "colorbar": {
             "outlinewidth": 0,
             "ticks": ""
            },
            "colorscale": [
             [
              0,
              "#0d0887"
             ],
             [
              0.1111111111111111,
              "#46039f"
             ],
             [
              0.2222222222222222,
              "#7201a8"
             ],
             [
              0.3333333333333333,
              "#9c179e"
             ],
             [
              0.4444444444444444,
              "#bd3786"
             ],
             [
              0.5555555555555556,
              "#d8576b"
             ],
             [
              0.6666666666666666,
              "#ed7953"
             ],
             [
              0.7777777777777778,
              "#fb9f3a"
             ],
             [
              0.8888888888888888,
              "#fdca26"
             ],
             [
              1,
              "#f0f921"
             ]
            ],
            "type": "heatmap"
           }
          ],
          "heatmapgl": [
           {
            "colorbar": {
             "outlinewidth": 0,
             "ticks": ""
            },
            "colorscale": [
             [
              0,
              "#0d0887"
             ],
             [
              0.1111111111111111,
              "#46039f"
             ],
             [
              0.2222222222222222,
              "#7201a8"
             ],
             [
              0.3333333333333333,
              "#9c179e"
             ],
             [
              0.4444444444444444,
              "#bd3786"
             ],
             [
              0.5555555555555556,
              "#d8576b"
             ],
             [
              0.6666666666666666,
              "#ed7953"
             ],
             [
              0.7777777777777778,
              "#fb9f3a"
             ],
             [
              0.8888888888888888,
              "#fdca26"
             ],
             [
              1,
              "#f0f921"
             ]
            ],
            "type": "heatmapgl"
           }
          ],
          "histogram": [
           {
            "marker": {
             "pattern": {
              "fillmode": "overlay",
              "size": 10,
              "solidity": 0.2
             }
            },
            "type": "histogram"
           }
          ],
          "histogram2d": [
           {
            "colorbar": {
             "outlinewidth": 0,
             "ticks": ""
            },
            "colorscale": [
             [
              0,
              "#0d0887"
             ],
             [
              0.1111111111111111,
              "#46039f"
             ],
             [
              0.2222222222222222,
              "#7201a8"
             ],
             [
              0.3333333333333333,
              "#9c179e"
             ],
             [
              0.4444444444444444,
              "#bd3786"
             ],
             [
              0.5555555555555556,
              "#d8576b"
             ],
             [
              0.6666666666666666,
              "#ed7953"
             ],
             [
              0.7777777777777778,
              "#fb9f3a"
             ],
             [
              0.8888888888888888,
              "#fdca26"
             ],
             [
              1,
              "#f0f921"
             ]
            ],
            "type": "histogram2d"
           }
          ],
          "histogram2dcontour": [
           {
            "colorbar": {
             "outlinewidth": 0,
             "ticks": ""
            },
            "colorscale": [
             [
              0,
              "#0d0887"
             ],
             [
              0.1111111111111111,
              "#46039f"
             ],
             [
              0.2222222222222222,
              "#7201a8"
             ],
             [
              0.3333333333333333,
              "#9c179e"
             ],
             [
              0.4444444444444444,
              "#bd3786"
             ],
             [
              0.5555555555555556,
              "#d8576b"
             ],
             [
              0.6666666666666666,
              "#ed7953"
             ],
             [
              0.7777777777777778,
              "#fb9f3a"
             ],
             [
              0.8888888888888888,
              "#fdca26"
             ],
             [
              1,
              "#f0f921"
             ]
            ],
            "type": "histogram2dcontour"
           }
          ],
          "mesh3d": [
           {
            "colorbar": {
             "outlinewidth": 0,
             "ticks": ""
            },
            "type": "mesh3d"
           }
          ],
          "parcoords": [
           {
            "line": {
             "colorbar": {
              "outlinewidth": 0,
              "ticks": ""
             }
            },
            "type": "parcoords"
           }
          ],
          "pie": [
           {
            "automargin": true,
            "type": "pie"
           }
          ],
          "scatter": [
           {
            "fillpattern": {
             "fillmode": "overlay",
             "size": 10,
             "solidity": 0.2
            },
            "type": "scatter"
           }
          ],
          "scatter3d": [
           {
            "line": {
             "colorbar": {
              "outlinewidth": 0,
              "ticks": ""
             }
            },
            "marker": {
             "colorbar": {
              "outlinewidth": 0,
              "ticks": ""
             }
            },
            "type": "scatter3d"
           }
          ],
          "scattercarpet": [
           {
            "marker": {
             "colorbar": {
              "outlinewidth": 0,
              "ticks": ""
             }
            },
            "type": "scattercarpet"
           }
          ],
          "scattergeo": [
           {
            "marker": {
             "colorbar": {
              "outlinewidth": 0,
              "ticks": ""
             }
            },
            "type": "scattergeo"
           }
          ],
          "scattergl": [
           {
            "marker": {
             "colorbar": {
              "outlinewidth": 0,
              "ticks": ""
             }
            },
            "type": "scattergl"
           }
          ],
          "scattermapbox": [
           {
            "marker": {
             "colorbar": {
              "outlinewidth": 0,
              "ticks": ""
             }
            },
            "type": "scattermapbox"
           }
          ],
          "scatterpolar": [
           {
            "marker": {
             "colorbar": {
              "outlinewidth": 0,
              "ticks": ""
             }
            },
            "type": "scatterpolar"
           }
          ],
          "scatterpolargl": [
           {
            "marker": {
             "colorbar": {
              "outlinewidth": 0,
              "ticks": ""
             }
            },
            "type": "scatterpolargl"
           }
          ],
          "scatterternary": [
           {
            "marker": {
             "colorbar": {
              "outlinewidth": 0,
              "ticks": ""
             }
            },
            "type": "scatterternary"
           }
          ],
          "surface": [
           {
            "colorbar": {
             "outlinewidth": 0,
             "ticks": ""
            },
            "colorscale": [
             [
              0,
              "#0d0887"
             ],
             [
              0.1111111111111111,
              "#46039f"
             ],
             [
              0.2222222222222222,
              "#7201a8"
             ],
             [
              0.3333333333333333,
              "#9c179e"
             ],
             [
              0.4444444444444444,
              "#bd3786"
             ],
             [
              0.5555555555555556,
              "#d8576b"
             ],
             [
              0.6666666666666666,
              "#ed7953"
             ],
             [
              0.7777777777777778,
              "#fb9f3a"
             ],
             [
              0.8888888888888888,
              "#fdca26"
             ],
             [
              1,
              "#f0f921"
             ]
            ],
            "type": "surface"
           }
          ],
          "table": [
           {
            "cells": {
             "fill": {
              "color": "#EBF0F8"
             },
             "line": {
              "color": "white"
             }
            },
            "header": {
             "fill": {
              "color": "#C8D4E3"
             },
             "line": {
              "color": "white"
             }
            },
            "type": "table"
           }
          ]
         },
         "layout": {
          "annotationdefaults": {
           "arrowcolor": "#2a3f5f",
           "arrowhead": 0,
           "arrowwidth": 1
          },
          "autotypenumbers": "strict",
          "coloraxis": {
           "colorbar": {
            "outlinewidth": 0,
            "ticks": ""
           }
          },
          "colorscale": {
           "diverging": [
            [
             0,
             "#8e0152"
            ],
            [
             0.1,
             "#c51b7d"
            ],
            [
             0.2,
             "#de77ae"
            ],
            [
             0.3,
             "#f1b6da"
            ],
            [
             0.4,
             "#fde0ef"
            ],
            [
             0.5,
             "#f7f7f7"
            ],
            [
             0.6,
             "#e6f5d0"
            ],
            [
             0.7,
             "#b8e186"
            ],
            [
             0.8,
             "#7fbc41"
            ],
            [
             0.9,
             "#4d9221"
            ],
            [
             1,
             "#276419"
            ]
           ],
           "sequential": [
            [
             0,
             "#0d0887"
            ],
            [
             0.1111111111111111,
             "#46039f"
            ],
            [
             0.2222222222222222,
             "#7201a8"
            ],
            [
             0.3333333333333333,
             "#9c179e"
            ],
            [
             0.4444444444444444,
             "#bd3786"
            ],
            [
             0.5555555555555556,
             "#d8576b"
            ],
            [
             0.6666666666666666,
             "#ed7953"
            ],
            [
             0.7777777777777778,
             "#fb9f3a"
            ],
            [
             0.8888888888888888,
             "#fdca26"
            ],
            [
             1,
             "#f0f921"
            ]
           ],
           "sequentialminus": [
            [
             0,
             "#0d0887"
            ],
            [
             0.1111111111111111,
             "#46039f"
            ],
            [
             0.2222222222222222,
             "#7201a8"
            ],
            [
             0.3333333333333333,
             "#9c179e"
            ],
            [
             0.4444444444444444,
             "#bd3786"
            ],
            [
             0.5555555555555556,
             "#d8576b"
            ],
            [
             0.6666666666666666,
             "#ed7953"
            ],
            [
             0.7777777777777778,
             "#fb9f3a"
            ],
            [
             0.8888888888888888,
             "#fdca26"
            ],
            [
             1,
             "#f0f921"
            ]
           ]
          },
          "colorway": [
           "#636efa",
           "#EF553B",
           "#00cc96",
           "#ab63fa",
           "#FFA15A",
           "#19d3f3",
           "#FF6692",
           "#B6E880",
           "#FF97FF",
           "#FECB52"
          ],
          "font": {
           "color": "#2a3f5f"
          },
          "geo": {
           "bgcolor": "white",
           "lakecolor": "white",
           "landcolor": "#E5ECF6",
           "showlakes": true,
           "showland": true,
           "subunitcolor": "white"
          },
          "hoverlabel": {
           "align": "left"
          },
          "hovermode": "closest",
          "mapbox": {
           "style": "light"
          },
          "paper_bgcolor": "white",
          "plot_bgcolor": "#E5ECF6",
          "polar": {
           "angularaxis": {
            "gridcolor": "white",
            "linecolor": "white",
            "ticks": ""
           },
           "bgcolor": "#E5ECF6",
           "radialaxis": {
            "gridcolor": "white",
            "linecolor": "white",
            "ticks": ""
           }
          },
          "scene": {
           "xaxis": {
            "backgroundcolor": "#E5ECF6",
            "gridcolor": "white",
            "gridwidth": 2,
            "linecolor": "white",
            "showbackground": true,
            "ticks": "",
            "zerolinecolor": "white"
           },
           "yaxis": {
            "backgroundcolor": "#E5ECF6",
            "gridcolor": "white",
            "gridwidth": 2,
            "linecolor": "white",
            "showbackground": true,
            "ticks": "",
            "zerolinecolor": "white"
           },
           "zaxis": {
            "backgroundcolor": "#E5ECF6",
            "gridcolor": "white",
            "gridwidth": 2,
            "linecolor": "white",
            "showbackground": true,
            "ticks": "",
            "zerolinecolor": "white"
           }
          },
          "shapedefaults": {
           "line": {
            "color": "#2a3f5f"
           }
          },
          "ternary": {
           "aaxis": {
            "gridcolor": "white",
            "linecolor": "white",
            "ticks": ""
           },
           "baxis": {
            "gridcolor": "white",
            "linecolor": "white",
            "ticks": ""
           },
           "bgcolor": "#E5ECF6",
           "caxis": {
            "gridcolor": "white",
            "linecolor": "white",
            "ticks": ""
           }
          },
          "title": {
           "x": 0.05
          },
          "xaxis": {
           "automargin": true,
           "gridcolor": "white",
           "linecolor": "white",
           "ticks": "",
           "title": {
            "standoff": 15
           },
           "zerolinecolor": "white",
           "zerolinewidth": 2
          },
          "yaxis": {
           "automargin": true,
           "gridcolor": "white",
           "linecolor": "white",
           "ticks": "",
           "title": {
            "standoff": 15
           },
           "zerolinecolor": "white",
           "zerolinewidth": 2
          }
         }
        },
        "xaxis": {
         "anchor": "y",
         "domain": [
          0,
          1
         ],
         "type": "date"
        },
        "yaxis": {
         "anchor": "x",
         "autorange": "reversed",
         "categoryarray": [
          "Abigail Perez",
          "Abigail Perez",
          "Abigail Perez",
          "Abigail Perez",
          "Abigail Perez",
          "Abigail Perez",
          "Adam Mitchell",
          "Adam Mitchell",
          "Adam Mitchell",
          "Adam Mitchell",
          "Adam Mitchell",
          "Addison Johnson",
          "Addison Johnson",
          "Addison Johnson",
          "Afonso Costa",
          "Afonso Costa",
          "Afonso Costa",
          "Afonso Costa",
          "Afonso Costa",
          "Afonso Costa",
          "Afonso Pereira",
          "Afonso Pereira",
          "Afonso Pereira",
          "Afonso Pereira",
          "Afonso Pereira",
          "Afonso Pereira",
          "Afonso Pereira",
          "Alexander Anderson",
          "Alexander Anderson",
          "Alexander Anderson",
          "Alexander Anderson",
          "Alexander Anderson",
          "Alexander Anderson",
          "Alexander Thompson",
          "Alexander Thompson",
          "Alexander Thompson",
          "Alexander Thompson",
          "Alexander Thompson",
          "Alexander Thompson",
          "Alexandra Campbell",
          "Alexandra Campbell",
          "Alexandra Campbell",
          "Alexandra Campbell",
          "Alexandra Campbell",
          "Alexandra Campbell",
          "Alexandra Campbell",
          "Alexandre Martins",
          "Alexandre Martins",
          "Alexandre Martins",
          "Alexandre Martins",
          "Alexandre Martins",
          "Alexandre Martins",
          "Alexandre Martins",
          "Alexandre Silva",
          "Alexandre Silva",
          "Alexandre Silva",
          "Alexandre Silva",
          "Alexandre Silva",
          "Alexandre Silva",
          "Alexandre Silva",
          "Amelia Taylor",
          "Amelia Taylor",
          "Amelia Taylor",
          "Amelia Taylor",
          "Amelia Taylor",
          "Amelia Taylor",
          "Amelia Taylor",
          "Ana Beatriz Ferreira",
          "Ana Beatriz Ferreira",
          "Ana Beatriz Ferreira",
          "Ana Beatriz Ferreira",
          "Ana Beatriz Ferreira",
          "Ana Beatriz Ferreira",
          "Ana Beatriz Ferreira",
          "Ana Carvalho",
          "Ana Carvalho",
          "Ana Carvalho",
          "Ana Carvalho",
          "Ana Carvalho",
          "Ana Carvalho",
          "Ana Carvalho",
          "Ana Costa",
          "Ana Costa",
          "Ana Costa",
          "Ana Costa",
          "Ana Costa",
          "Ana Costa",
          "Ana Costa",
          "Ana Ferreira",
          "Ana Ferreira",
          "Ana Ferreira",
          "Ana Ferreira",
          "Ana Ferreira",
          "Ana Gonçalves",
          "Ana Gonçalves",
          "Ana Gonçalves",
          "Ana Gonçalves",
          "Ana Gonçalves",
          "Ana Gonçalves",
          "Ana Gonçalves",
          "Ana Martins",
          "Ana Martins",
          "Ana Martins",
          "Ana Martins",
          "Ana Nunes",
          "Ana Nunes",
          "Ana Nunes",
          "Ana Nunes",
          "Ana Nunes",
          "Ana Nunes",
          "Ana Nunes",
          "Ana Paula Ferreira",
          "Ana Paula Ferreira",
          "Ana Paula Ferreira",
          "Ana Paula Ferreira",
          "Ana Paula Ferreira",
          "Ana Paula Ferreira",
          "Ana Paula Ferreira",
          "Ana Paula Ferreira",
          "Ana Pires",
          "Ana Pires",
          "Ana Rodrigues",
          "Ana Rodrigues",
          "Ana Rodrigues",
          "Ana Rodrigues",
          "Ana Rodrigues",
          "Ana Rodrigues",
          "Ana Santos",
          "Ana Santos",
          "Ana Santos",
          "Ana Santos",
          "Ana Santos",
          "Ana Santos",
          "Ana Santos",
          "Ana Sousa",
          "Ana Sousa",
          "Ana Sousa",
          "Ana Sousa",
          "Ana Sousa",
          "Ana Sousa",
          "Andrew Moore",
          "Andrew Moore",
          "Andrew Moore",
          "Andrew Moore",
          "Andrew Moore",
          "Andrew Moore",
          "André Castro",
          "André Castro",
          "André Castro",
          "André Castro",
          "André Castro",
          "André Castro",
          "André Castro",
          "André Fernandes",
          "André Fernandes",
          "André Fernandes",
          "André Fernandes",
          "André Fernandes",
          "André Fernandes",
          "André Fernandes",
          "André Fernandes",
          "André Luís Silva",
          "André Luís Silva",
          "André Luís Silva",
          "André Luís Silva",
          "André Luís Silva",
          "André Mendes",
          "André Mendes",
          "André Mendes",
          "André Mendes",
          "André Mendes",
          "André Mendes",
          "André Santos",
          "André Santos",
          "André Santos",
          "Andréia Santos",
          "Andréia Santos",
          "Andréia Santos",
          "Andréia Santos",
          "Andréia Santos",
          "Andréia Santos",
          "António Costa",
          "António Costa",
          "António Costa",
          "António Costa",
          "António Pereira",
          "António Pereira",
          "António Pereira",
          "António Pereira",
          "António Pereira",
          "Aria Wright",
          "Aria Wright",
          "Aria Wright",
          "Aria Wright",
          "Aria Wright",
          "Aria Wright",
          "Aria Wright",
          "Arianna Hernandez",
          "Arianna Hernandez",
          "Arianna Hernandez",
          "Arianna Hernandez",
          "Arianna Hernandez",
          "Arianna Hernandez",
          "Arianna Hernandez",
          "Arianna Peterson",
          "Aubrey Davis",
          "Aubrey Davis",
          "Aubrey Davis",
          "Aubrey Davis",
          "Aubrey Davis",
          "Autumn Davis",
          "Autumn Davis",
          "Ava Martinez",
          "Ava Martinez",
          "Ava Martinez",
          "Ava Martinez",
          "Ava Martinez",
          "Ava Martinez",
          "Ava Roberts",
          "Ava Roberts",
          "Ava Roberts",
          "Ava Roberts",
          "Avery Green",
          "Avery Green",
          "Avery Green",
          "Beatriz Costa",
          "Beatriz Costa",
          "Beatriz Ferreira",
          "Beatriz Ferreira",
          "Beatriz Ferreira",
          "Beatriz Ferreira",
          "Beatriz Ferreira",
          "Beatriz Oliveira",
          "Beatriz Rodrigues",
          "Beatriz Rodrigues",
          "Beatriz Rodrigues",
          "Beatriz Rodrigues",
          "Beatriz Rodrigues",
          "Beatriz Rodrigues",
          "Beatriz Rodrigues",
          "Beatriz Santos",
          "Beatriz Santos",
          "Beatriz Santos",
          "Beatriz Santos",
          "Beatriz Santos",
          "Beatriz Sousa",
          "Beatriz Sousa",
          "Beatriz Sousa",
          "Benjamin Nelson",
          "Benjamin Nelson",
          "Benjamin Nelson",
          "Benjamin Nelson",
          "Benjamin Nelson",
          "Benjamin Nelson",
          "Bernardo Barbosa",
          "Bernardo Barbosa",
          "Bernardo Barbosa",
          "Bernardo Barbosa",
          "Bernardo Ferreira",
          "Bernardo Soares",
          "Bernardo Soares",
          "Bernardo Soares",
          "Bernardo Soares",
          "Bernardo Soares",
          "Bernardo Soares",
          "Brooklyn Lee",
          "Brooklyn Lee",
          "Brooklyn Lee",
          "Brooklyn Lee",
          "Brooklyn Lee",
          "Brooklyn Lee",
          "Bruna Oliveira",
          "Bruna Oliveira",
          "Bruna Oliveira",
          "Bruna Oliveira",
          "Bruna Oliveira",
          "Bruna Oliveira",
          "Bruna Oliveira",
          "Bruno Almeida",
          "Bruno Almeida",
          "Bruno Almeida",
          "Bruno Almeida",
          "Bruno Almeida",
          "Bruno Almeida",
          "Bruno Almeida",
          "Bruno Almeida",
          "Bruno Rodrigues",
          "Bruno Rodrigues",
          "Bruno Rodrigues",
          "Bruno Rodrigues",
          "Bruno Rodrigues",
          "Bruno Rodrigues",
          "Bárbara Silva",
          "Bárbara Silva",
          "Bárbara Silva",
          "Bárbara Silva",
          "Bárbara Silva",
          "Bárbara Silva",
          "Caleb Green",
          "Caleb Green",
          "Caleb Green",
          "Caleb Green",
          "Caleb Green",
          "Caleb Turner",
          "Caleb Turner",
          "Caleb Turner",
          "Caleb Turner",
          "Caleb Turner",
          "Caleb Turner",
          "Camila Santos",
          "Camila Santos",
          "Camila Santos",
          "Camila Santos",
          "Camila Santos",
          "Camila Santos",
          "Candidate Name",
          "Candidate Name",
          "Candidate Name",
          "Candidate Name",
          "Candidate Name",
          "Candidate Name",
          "Carolina Alves",
          "Carolina Alves",
          "Carolina Alves",
          "Carolina Alves",
          "Carolina Alves",
          "Carolina Carvalho",
          "Carolina Carvalho",
          "Carolina Carvalho",
          "Carolina Carvalho",
          "Carolina Carvalho",
          "Carolina Carvalho",
          "Carolina Carvalho",
          "Carolina Costa",
          "Carolina Costa",
          "Carolina Costa",
          "Carolina Costa",
          "Carolina Costa",
          "Carolina Fernandes",
          "Carolina Fernandes",
          "Carolina Fernandes",
          "Carolina Fernandes",
          "Carolina Fernandes",
          "Carolina Fernandes",
          "Carolina Fernandes",
          "Carolina Fernandes",
          "Carolina Fernandes",
          "Carolina Lima",
          "Carolina Lima",
          "Carolina Lima",
          "Carolina Lourenço",
          "Carolina Lourenço",
          "Carolina Lourenço",
          "Carolina Lourenço",
          "Carolina Lourenço",
          "Carolina Nunes",
          "Carolina Nunes",
          "Carolina Nunes",
          "Carolina Nunes",
          "Carolina Nunes",
          "Carolina Nunes",
          "Carolina Nunes",
          "Carolina Pires",
          "Carolina Pires",
          "Carolina Pires",
          "Carolina Rodrigues",
          "Carolina Rodrigues",
          "Carolina Rodrigues",
          "Carolina Rodrigues",
          "Carolina Teixeira",
          "Carolina Teixeira",
          "Carolina Teixeira",
          "Carolina Teixeira",
          "Carolina Teixeira",
          "Catarina Martins",
          "Catarina Martins",
          "Catarina Martins",
          "Catarina Oliveira",
          "Catarina Oliveira",
          "Catarina Oliveira",
          "Catarina Oliveira",
          "Catarina Oliveira",
          "Catarina Silva",
          "Catarina Silva",
          "Catarina Silva",
          "Catarina Silva",
          "Catarina Silva",
          "Charlotte Garcia",
          "Charlotte Garcia",
          "Charlotte Garcia",
          "Charlotte Garcia",
          "Charlotte Garcia",
          "Charlotte Garcia",
          "Charlotte Garcia",
          "Charlotte Garcia",
          "Charlotte Turner",
          "Charlotte Turner",
          "Charlotte Turner",
          "Charlotte Turner",
          "Chloe Young",
          "Chloe Young",
          "Chloe Young",
          "Christian Collins",
          "Christian Collins",
          "Christian Collins",
          "Christian Collins",
          "Christian Collins",
          "Christian Collins",
          "Christopher Baker",
          "Christopher Baker",
          "Christopher Baker",
          "Christopher Baker",
          "Christopher Baker",
          "Christopher Baker",
          "Colton Wright",
          "Colton Wright",
          "Colton Wright",
          "Colton Wright",
          "Daniel Wright",
          "Daniel Wright",
          "Daniel Wright",
          "Daniel Wright",
          "Daniel Wright",
          "Daniela Ribeiro",
          "Daniela Ribeiro",
          "Daniela Ribeiro",
          "Daniela Ribeiro",
          "Daniela Ribeiro",
          "David Fernandes",
          "David Fernandes",
          "David Fernandes",
          "David Fernandes",
          "David Fernandes",
          "David Lopes",
          "David Lopes",
          "David Lopes",
          "David Lopes",
          "David Mitchell",
          "David Mitchell",
          "David Mitchell",
          "David Mitchell",
          "David Mitchell",
          "David Mitchell",
          "David Pereira",
          "David Pereira",
          "David Pereira",
          "David Pereira",
          "David Pereira",
          "David Wilson",
          "David Wilson",
          "David Wilson",
          "David Wilson",
          "David Wilson",
          "David Wilson",
          "Diana Costa",
          "Diana Costa",
          "Diana Costa",
          "Diana Costa",
          "Diana Costa",
          "Diana Fernandes",
          "Diana Fernandes",
          "Diana Fernandes",
          "Diana Fernandes",
          "Diana Fernandes",
          "Diana Fernandes",
          "Diana Rodrigues",
          "Diogo Costa",
          "Diogo Costa",
          "Diogo Costa",
          "Diogo Costa",
          "Diogo Costa",
          "Diogo Costa",
          "Diogo Cunha",
          "Diogo Cunha",
          "Diogo Cunha",
          "Diogo Cunha",
          "Diogo Cunha",
          "Diogo Oliveira",
          "Diogo Oliveira",
          "Diogo Oliveira",
          "Diogo Oliveira",
          "Diogo Oliveira",
          "Diogo Oliveira",
          "Diogo Oliveira",
          "Diogo Oliveira",
          "Diogo Pereira",
          "Diogo Pereira",
          "Diogo Pereira",
          "Diogo Pereira",
          "Diogo Pereira",
          "Duarte Alves",
          "Duarte Alves",
          "Duarte Alves",
          "Duarte Alves",
          "Duarte Alves",
          "Duarte Martins",
          "Duarte Martins",
          "Duarte Martins",
          "Duarte Martins",
          "Duarte Martins",
          "Duarte Pereira",
          "Duarte Pereira",
          "Duarte Pereira",
          "Duarte Pinto",
          "Duarte Pinto",
          "Duarte Pinto",
          "Duarte Pinto",
          "Duarte Pinto",
          "Dylan Hernandez",
          "Dylan Hernandez",
          "Dylan Hernandez",
          "Dylan Hernandez",
          "Dylan Hernandez",
          "Dylan Hernandez",
          "Eduardo Silva",
          "Eduardo Silva",
          "Eduardo Silva",
          "Eduardo Silva",
          "Eduardo Silva",
          "Eduardo Silva",
          "Eduardo Sousa",
          "Eduardo Sousa",
          "Eduardo Sousa",
          "Eduardo Sousa",
          "Eduardo Sousa",
          "Eduardo Sousa",
          "Eduardo Sousa",
          "Eli Wright",
          "Eli Wright",
          "Eli Wright",
          "Eli Wright",
          "Eli Wright",
          "Elijah Campbell",
          "Elijah Campbell",
          "Elijah Campbell",
          "Elijah Campbell",
          "Elijah Campbell",
          "Elizabeth Adams",
          "Elizabeth Adams",
          "Elizabeth Adams",
          "Elizabeth Adams",
          "Ellie Turner",
          "Ellie Turner",
          "Ellie Turner",
          "Ellie Turner",
          "Ellie Turner",
          "Ellie Turner",
          "Emily Martin",
          "Emily Martin",
          "Emily Martin",
          "Emily Martin",
          "Emily Martin",
          "Emma Carter",
          "Emma Carter",
          "Emma Carter",
          "Emma Carter",
          "Emma Carter",
          "Ethan Flores",
          "Ethan Flores",
          "Ethan Flores",
          "Ethan Flores",
          "Ethan Jones",
          "Ethan Jones",
          "Ethan Jones",
          "Ethan Jones",
          "Eva Nelson",
          "Eva Nelson",
          "Eva Nelson",
          "Eva Nelson",
          "Eva Nelson",
          "Eva Scott",
          "Eva Scott",
          "Filipa Carvalho",
          "Filipa Carvalho",
          "Filipa Carvalho",
          "Filipa Carvalho",
          "Filipa Carvalho",
          "Filipa Carvalho",
          "Filipa Rodrigues",
          "Filipa Rodrigues",
          "Filipa Rodrigues",
          "Filipa Rodrigues",
          "Filipa Rodrigues",
          "Filipe Carvalho",
          "Filipe Carvalho",
          "Filipe Carvalho",
          "Filipe Carvalho",
          "Filipe Carvalho",
          "Filipe Ramos",
          "Filipe Ramos",
          "Francisca Castro",
          "Francisca Castro",
          "Francisca Castro",
          "Francisca Castro",
          "Francisca Ferreira",
          "Francisca Ferreira",
          "Francisca Ferreira",
          "Francisca Ferreira",
          "Francisca Ferreira",
          "Francisca Ferreira",
          "Francisca Ferreira",
          "Francisca Oliveira",
          "Francisca Oliveira",
          "Francisca Oliveira",
          "Francisca Oliveira",
          "Francisco Alves",
          "Francisco Alves",
          "Francisco Alves",
          "Francisco Alves",
          "Francisco Alves",
          "Francisco Alves",
          "Francisco Alves",
          "Francisco Fernandes",
          "Francisco Fernandes",
          "Francisco Fernandes",
          "Francisco Fernandes",
          "Francisco Fernandes",
          "Francisco Fernandes",
          "Francisco Fernandes",
          "Francisco Fernandes",
          "Francisco Ferreira",
          "Francisco Ferreira",
          "Francisco Ferreira",
          "Francisco Ferreira",
          "Francisco Ferreira",
          "Francisco Ferreira",
          "Francisco Ferreira",
          "Francisco Lopes",
          "Francisco Lopes",
          "Francisco Lopes",
          "Francisco Pinto",
          "Francisco Pinto",
          "Francisco Pinto",
          "Francisco Pinto",
          "Francisco Pinto",
          "Francisco Pinto",
          "Francisco Rodrigues",
          "Francisco Rodrigues",
          "Francisco Rodrigues",
          "Francisco Rodrigues",
          "Francisco Rodrigues",
          "Francisco Santos",
          "Francisco Santos",
          "Francisco Santos",
          "Francisco Santos",
          "Francisco Santos",
          "Francisco Santos",
          "Francisco Santos",
          "Francisco Sousa",
          "Francisco Sousa",
          "Francisco Sousa",
          "Francisco Sousa",
          "Francisco Sousa",
          "Francisco Sousa",
          "Gabriel Costa",
          "Gabriel Costa",
          "Gabriel Ferreira",
          "Gabriel Ferreira",
          "Gabriel Ferreira",
          "Gabriel Ferreira",
          "Gabriel Ferreira",
          "Gabriel Ferreira",
          "Gabriel Ferreira",
          "Gabriel Santos",
          "Gabriel Santos",
          "Gabriel Santos",
          "Gabriel Santos",
          "Gabriel Santos",
          "Gabriel Santos",
          "Gabriel Santos",
          "Gabriel Santos",
          "Gabriel Sousa",
          "Gabriel Sousa",
          "Gabriel Sousa",
          "Gabriel Sousa",
          "Gabriel Turner",
          "Gabriel Turner",
          "Gabriel Turner",
          "Gabriel Turner",
          "Gabriel Turner",
          "Gabriel Turner",
          "Gabriel Turner",
          "Gonçalo Castro",
          "Gonçalo Castro",
          "Gonçalo Castro",
          "Gonçalo Castro",
          "Gonçalo Castro",
          "Gonçalo Castro",
          "Gonçalo Castro",
          "Gonçalo Castro",
          "Gonçalo Ferreira",
          "Gonçalo Ferreira",
          "Gonçalo Ferreira",
          "Gonçalo Ferreira",
          "Gonçalo Ferreira",
          "Gonçalo Ferreira",
          "Gonçalo Ferreira",
          "Gonçalo Martins",
          "Gonçalo Martins",
          "Gonçalo Martins",
          "Gonçalo Martins",
          "Gonçalo Martins",
          "Gonçalo Martins",
          "Gonçalo Martins",
          "Gonçalo Oliveira",
          "Gonçalo Oliveira",
          "Gonçalo Oliveira",
          "Gonçalo Oliveira",
          "Gonçalo Oliveira",
          "Gonçalo Oliveira",
          "Gonçalo Oliveira",
          "Gonçalo Pereira",
          "Grace Turner",
          "Grace Turner",
          "Grace Turner",
          "Grace Turner",
          "Grace Turner",
          "Guilherme Silva",
          "Guilherme Silva",
          "Guilherme Silva",
          "Guilherme Silva",
          "Guilherme Silva",
          "Guilherme Sousa",
          "Guilherme Sousa",
          "Guilherme Sousa",
          "Guilherme Sousa",
          "Gustavo Ribeiro",
          "Gustavo Ribeiro",
          "Gustavo Ribeiro",
          "Gustavo Ribeiro",
          "Gustavo Silva",
          "Gustavo Silva",
          "Harper Johnson",
          "Harper Johnson",
          "Harper Johnson",
          "Harper Johnson",
          "Harper Johnson",
          "Harper Johnson",
          "Harper Scott",
          "Harper Scott",
          "Harper Scott",
          "Henrique Pereira",
          "Henrique Pereira",
          "Henrique Pereira",
          "Henrique Pereira",
          "Henrique Pereira",
          "Inês Almeida",
          "Inês Almeida",
          "Inês Almeida",
          "Inês Martins",
          "Inês Martins",
          "Inês Martins",
          "Inês Martins",
          "Inês Martins",
          "Inês Martins",
          "Inês Pinto",
          "Inês Pinto",
          "Inês Pinto",
          "Inês Pinto",
          "Inês Pinto",
          "Inês Pinto",
          "Inês Pinto",
          "Inês Pinto",
          "Inês Ribeiro",
          "Inês Ribeiro",
          "Inês Ribeiro",
          "Inês Ribeiro",
          "Inês Ribeiro",
          "Inês Ribeiro",
          "Inês Ribeiro",
          "Isaac Jackson",
          "Isaac Jackson",
          "Isaac Jackson",
          "Isaac Jackson",
          "Isaac Jackson",
          "Isaac Jackson",
          "Isaac Jackson",
          "Isabela Costa",
          "Isabela Costa",
          "Isabela Costa",
          "Isabela Costa",
          "Isabela Costa",
          "Isabela Costa",
          "Isabela Costa",
          "Isabella Jackson",
          "Isabella Jackson",
          "Isabella Jackson",
          "Isabella Jackson",
          "Isabella Jackson",
          "Isabella Jackson",
          "Isabella Mitchell",
          "Isabella Mitchell",
          "Isabella Mitchell",
          "Isabella Mitchell",
          "Isabella Mitchell",
          "Isabelle Adams",
          "Isaiah Hernandez",
          "Isaiah Hernandez",
          "Isaiah Hernandez",
          "Isaiah Hernandez",
          "Isaiah Hernandez",
          "Jack Edwards",
          "Jack Edwards",
          "Jack Edwards",
          "Jack Edwards",
          "Jack Edwards",
          "Jacob Campbell",
          "Jacob Campbell",
          "Jacob Campbell",
          "Jacob Campbell",
          "James Lee",
          "James Lee",
          "James Lee",
          "James Lee",
          "James Lee",
          "Joana Nunes",
          "Jonathan King",
          "Jonathan King",
          "Jonathan King",
          "Jonathan King",
          "Jonathan King",
          "Jonathan King",
          "Jonathan King",
          "Jonathan Scott",
          "Jonathan Scott",
          "Jonathan Scott",
          "Jonathan Scott",
          "Jonathan Scott",
          "Jonathan Scott",
          "Joseph Hall",
          "Joseph Hall",
          "Joseph Hall",
          "Joseph Hall",
          "Joseph Hall",
          "Joseph Wright",
          "Joseph Wright",
          "Joseph Wright",
          "Joseph Wright",
          "Joshua Hill",
          "Joshua Hill",
          "Joshua Hill",
          "Joshua Hill",
          "Joshua Hill",
          "Joshua Hill",
          "José Carlos Oliveira",
          "José Carlos Oliveira",
          "José Carlos Oliveira",
          "José Carlos Oliveira",
          "José Carlos Oliveira",
          "José Carlos Oliveira",
          "José Carlos Oliveira",
          "José Carvalho",
          "José Carvalho",
          "José Carvalho",
          "José Carvalho",
          "José Carvalho",
          "José Carvalho",
          "José Carvalho",
          "José Carvalho",
          "José Rodrigues",
          "José Rodrigues",
          "José Rodrigues",
          "José Rodrigues",
          "José Rodrigues",
          "José Rodrigues",
          "João Pedro Almeida",
          "João Pedro Almeida",
          "João Pedro Almeida",
          "João Pedro Almeida",
          "João Pedro Almeida",
          "João Silva",
          "João Silva",
          "João Silva",
          "João Silva",
          "João Silva",
          "João Silva",
          "João Silva",
          "Julia Martinez",
          "Julia Martinez",
          "Julia Martinez",
          "Julia Martinez",
          "Justin Taylor",
          "Justin Taylor",
          "Justin Taylor",
          "Justin Taylor",
          "Justin Taylor",
          "Justin Taylor",
          "Júlia Costa",
          "Júlia Costa",
          "Júlia Costa",
          "Júlia Costa",
          "Júlia Costa",
          "Lara Costa",
          "Lara Costa",
          "Lara Costa",
          "Lara Costa",
          "Lara Costa",
          "Lara Costa",
          "Lara Costa",
          "Lara Silva",
          "Lara Silva",
          "Lara Silva",
          "Lara Silva",
          "Lara Silva",
          "Lara Silva",
          "Laura Santos",
          "Laura Santos",
          "Laura Santos",
          "Laura Santos",
          "Laura Santos",
          "Laura Santos",
          "Laura Santos",
          "Laura Vieira",
          "Laura Vieira",
          "Laura Vieira",
          "Laura Vieira",
          "Laura Vieira",
          "Laura Vieira",
          "Leah Johnson",
          "Leah Johnson",
          "Leah Johnson",
          "Leah Johnson",
          "Leah Johnson",
          "Leah Johnson",
          "Leah Johnson",
          "Leah Johnson",
          "Leah Johnson",
          "Leonor Costa",
          "Leonor Costa",
          "Leonor Mendes",
          "Leonor Mendes",
          "Leonor Mendes",
          "Leonor Mendes",
          "Leonor Mendes",
          "Leonor Pereira",
          "Leonor Pereira",
          "Leonor Pereira",
          "Leonor Pereira",
          "Leonor Pereira",
          "Leonor Ribeiro",
          "Leonor Ribeiro",
          "Leonor Ribeiro",
          "Leonor Ribeiro",
          "Leonor Ribeiro",
          "Leonor Sousa",
          "Leonor Sousa",
          "Leonor Sousa",
          "Leonor Sousa",
          "Leonor Sousa",
          "Leonor Sousa",
          "Leonor Sousa",
          "Liam Davis",
          "Liam Davis",
          "Liam Davis",
          "Liam Davis",
          "Lily Taylor",
          "Lily Taylor",
          "Lily Taylor",
          "Lily Taylor",
          "Lily Taylor",
          "Logan Davis",
          "Logan Davis",
          "Logan Davis",
          "Logan Davis",
          "Logan Davis",
          "Logan Davis",
          "Lucas Alves",
          "Lucas Alves",
          "Lucas Alves",
          "Lucas Barbosa",
          "Lucas Barbosa",
          "Lucas Barbosa",
          "Lucas Barbosa",
          "Lucas Barbosa",
          "Lucas Carvalho",
          "Lucas Carvalho",
          "Lucas Carvalho",
          "Lucas Carvalho",
          "Lucas Carvalho",
          "Lucas Carvalho",
          "Lucas Green",
          "Lucas Green",
          "Lucas Green",
          "Lucas Green",
          "Lucas Green",
          "Lucas Green",
          "Lucas Green",
          "Luke Collins",
          "Luke Collins",
          "Luke Collins",
          "Luke Collins",
          "Luís Costa",
          "Luís Costa",
          "Luís Ferreira",
          "Luís Ferreira",
          "Luís Ferreira",
          "Luís Ferreira",
          "Luísa Fernandes",
          "Luísa Fernandes",
          "Luísa Fernandes",
          "Luísa Fernandes",
          "Luísa Fernandes",
          "Luísa Fernandes",
          "Lídia Sousa",
          "Lídia Sousa",
          "Lídia Sousa",
          "Lídia Sousa",
          "Lídia Sousa",
          "Lídia Sousa",
          "Madalena Ferreira",
          "Madalena Ferreira",
          "Madalena Ferreira",
          "Madalena Ferreira",
          "Madalena Lima",
          "Madalena Oliveira",
          "Madalena Oliveira",
          "Madalena Oliveira",
          "Madalena Oliveira",
          "Madalena Oliveira",
          "Madalena Oliveira",
          "Madalena Oliveira",
          "Madalena Ribeiro",
          "Madalena Ribeiro",
          "Madalena Ribeiro",
          "Madalena Ribeiro",
          "Madalena Ribeiro",
          "Madelyn Brown",
          "Madelyn Brown",
          "Madelyn Brown",
          "Madelyn Brown",
          "Madelyn Brown",
          "Madison Allen",
          "Madison Allen",
          "Madison Allen",
          "Madison Allen",
          "Madison Allen",
          "Madison Allen",
          "Madison Allen",
          "Mafalda Cruz",
          "Mafalda Cruz",
          "Mafalda Cruz",
          "Mafalda Cruz",
          "Mafalda Ferreira",
          "Mafalda Ferreira",
          "Mafalda Ferreira",
          "Mafalda Ferreira",
          "Mafalda Ferreira",
          "Mafalda Ribeiro",
          "Mafalda Ribeiro",
          "Mafalda Ribeiro",
          "Mafalda Ribeiro",
          "Mafalda Santos",
          "Mafalda Santos",
          "Mafalda Santos",
          "Mafalda Santos",
          "Mafalda Santos",
          "Margarida Oliveira",
          "Margarida Oliveira",
          "Margarida Oliveira",
          "Margarida Oliveira",
          "Margarida Oliveira",
          "Margarida Sousa",
          "Margarida Sousa",
          "Margarida Sousa",
          "Margarida Sousa",
          "Margarida Sousa",
          "Margarida Sousa",
          "Margarida Sousa",
          "Maria Almeida",
          "Maria Almeida",
          "Maria Almeida",
          "Maria Almeida",
          "Maria Almeida",
          "Maria Almeida",
          "Maria Ferreira",
          "Maria Ferreira",
          "Maria Ferreira",
          "Maria Ferreira",
          "Maria Ferreira",
          "Maria Ferreira",
          "Maria Gonçalves",
          "Maria Gonçalves",
          "Maria Gonçalves",
          "Maria Gonçalves",
          "Maria Gonçalves",
          "Maria Gonçalves",
          "Maria Ribeiro",
          "Maria Ribeiro",
          "Maria Ribeiro",
          "Maria Ribeiro",
          "Maria Ribeiro",
          "Maria Silva",
          "Maria Silva",
          "Maria Silva",
          "Maria Silva",
          "Maria Silva",
          "Maria Silva",
          "Maria Silva",
          "Maria Sousa",
          "Maria Sousa",
          "Maria Sousa",
          "Maria Sousa",
          "Maria Sousa",
          "Maria Sousa",
          "Mariana Andrade",
          "Mariana Andrade",
          "Mariana Andrade",
          "Mariana Andrade",
          "Mariana Andrade",
          "Mariana Costa",
          "Mariana Costa",
          "Mariana Dias",
          "Mariana Dias",
          "Mariana Dias",
          "Mariana Dias",
          "Mariana Dias",
          "Mariana Fernandes",
          "Mariana Fernandes",
          "Mariana Fernandes",
          "Mariana Lopes",
          "Mariana Lopes",
          "Mariana Lopes",
          "Mariana Lopes",
          "Mariana Pereira",
          "Mariana Pereira",
          "Mariana Pereira",
          "Mariana Pereira",
          "Mariana Pereira",
          "Mariana Pereira",
          "Mariana Rocha",
          "Mariana Rocha",
          "Mariana Rocha",
          "Mariana Rocha",
          "Mariana Rocha",
          "Mariana Rocha",
          "Mariana Rodrigues",
          "Mariana Rodrigues",
          "Mariana Rodrigues",
          "Mariana Rodrigues",
          "Mariana Rodrigues",
          "Mariana Santos",
          "Mariana Santos",
          "Mariana Santos",
          "Mariana Santos",
          "Mariana Santos",
          "Mariana Santos",
          "Mariana Santos",
          "Mariana Silva",
          "Mariana Silva",
          "Mariana Silva",
          "Mariana Silva",
          "Mariana Silva",
          "Mariana Silva",
          "Mariana Sousa",
          "Mariana Sousa",
          "Mariana Sousa",
          "Mariana Sousa",
          "Mariana Sousa",
          "Mariana Vaz",
          "Mariana Vaz",
          "Mariana Vaz",
          "Mariana Vaz",
          "Mariana Vaz",
          "Mariana Vaz",
          "Mariana Vaz",
          "Matilde Almeida",
          "Matilde Almeida",
          "Matilde Almeida",
          "Matilde Almeida",
          "Matilde Almeida",
          "Matilde Costa",
          "Matilde Costa",
          "Matilde Costa",
          "Matilde Costa",
          "Matilde Costa",
          "Matilde Costa",
          "Matilde Gomes",
          "Matilde Gomes",
          "Matilde Gomes",
          "Matilde Gomes",
          "Matilde Gomes",
          "Matilde Gomes",
          "Matilde Gomes",
          "Matilde Marques",
          "Matilde Marques",
          "Matilde Marques",
          "Matilde Marques",
          "Matilde Marques",
          "Matilde Marques",
          "Matilde Martins",
          "Matilde Martins",
          "Matilde Martins",
          "Matilde Martins",
          "Matilde Martins",
          "Matilde Martins",
          "Matilde Martins",
          "Matilde Pinto",
          "Matilde Pinto",
          "Matilde Pinto",
          "Matilde Pinto",
          "Matthew Edwards",
          "Matthew Edwards",
          "Matthew Edwards",
          "Matthew Edwards",
          "Matthew Edwards",
          "Matthew Edwards",
          "Maya Thompson",
          "Maya Thompson",
          "Maya Thompson",
          "Mia Brown",
          "Mia Brown",
          "Mia Brown",
          "Mia Brown",
          "Mia Brown",
          "Mia Brown",
          "Mia Cooper",
          "Mia Cooper",
          "Mia Cooper",
          "Mia Cooper",
          "Mia Cooper",
          "Michael Lewis",
          "Michael Lewis",
          "Michael Lewis",
          "Michael Lewis",
          "Michael Lewis",
          "Michael Lewis",
          "Michael Lewis",
          "Miguel Almeida",
          "Miguel Almeida",
          "Miguel Almeida",
          "Miguel Almeida",
          "Miguel Almeida",
          "Miguel Almeida",
          "Miguel Almeida",
          "Miguel Costa",
          "Miguel Costa",
          "Miguel Costa",
          "Miguel Costa",
          "Miguel Costa",
          "Miguel Costa",
          "Miguel Lopes",
          "Miguel Lopes",
          "Miguel Lopes",
          "Miguel Lopes",
          "Miguel Lopes",
          "Miguel Lopes",
          "Miguel Lopes",
          "Miguel Pereira",
          "Miguel Pereira",
          "Miguel Pereira",
          "Miguel Pereira",
          "Miguel Pereira",
          "Miguel Pereira",
          "Miguel Pereira",
          "Natalie Baker",
          "Natalie Baker",
          "Natalie Baker",
          "Natalie Baker",
          "Natalie Baker",
          "Natalie Baker",
          "Nathan Price",
          "Nathan Price",
          "Nathan Price",
          "Nathan Price",
          "Nathan Price",
          "Nathan Price",
          "Nathan Price",
          "Nicholas Walker",
          "Nicholas Walker",
          "Nicholas Walker",
          "Nicholas Walker",
          "Nicholas Walker",
          "Nicholas Walker",
          "Nicholas Walker",
          "Noah Rodriguez",
          "Noah Rodriguez",
          "Noah Rodriguez",
          "Noah Rodriguez",
          "Noah Rodriguez",
          "Nuno Almeida",
          "Nuno Almeida",
          "Nuno Almeida",
          "Nuno Almeida",
          "Nuno Almeida",
          "Nuno Almeida",
          "Nuno Santos",
          "Nuno Santos",
          "Nuno Santos",
          "Nuno Santos",
          "Nuno Santos",
          "Nuno Santos",
          "Nuno Santos",
          "Nuno Santos",
          "Olivia Smith",
          "Olivia Smith",
          "Olivia Smith",
          "Owen Lee",
          "Owen Lee",
          "Owen Lee",
          "Owen Lee",
          "Pedro Dias",
          "Pedro Dias",
          "Pedro Dias",
          "Pedro Dias",
          "Pedro Dias",
          "Pedro Dias",
          "Pedro Dias",
          "Pedro Matos",
          "Pedro Matos",
          "Pedro Matos",
          "Pedro Matos",
          "Pedro Matos",
          "Pedro Matos",
          "Pedro Oliveira",
          "Pedro Oliveira",
          "Pedro Oliveira",
          "Pedro Oliveira",
          "Pedro Oliveira",
          "Pedro Oliveira",
          "Pedro Ribeiro",
          "Pedro Ribeiro",
          "Pedro Ribeiro",
          "Pedro Ribeiro",
          "Pedro Ribeiro",
          "Pedro Ribeiro",
          "Pedro Sousa",
          "Pedro Sousa",
          "Pedro Sousa",
          "Pedro Sousa",
          "Penelope Flores",
          "Penelope Flores",
          "Peyton Turner",
          "Peyton Turner",
          "Peyton Turner",
          "Peyton Turner",
          "Rafael Fernandes",
          "Rafael Fernandes",
          "Rafael Fernandes",
          "Rafael Fernandes",
          "Rafael Fernandes",
          "Rafael Fernandes",
          "Rafael Teixeira",
          "Rafael Teixeira",
          "Rafael Teixeira",
          "Rafael Teixeira",
          "Rafael Teixeira",
          "Rafael Vieira",
          "Rafael Vieira",
          "Rafael Vieira",
          "Rafael Vieira",
          "Rafael Vieira",
          "Rafael Vieira",
          "Rafael Vieira",
          "Rafaela Alves",
          "Rafaela Alves",
          "Rafaela Alves",
          "Rafaela Alves",
          "Rafaela Alves",
          "Rafaela Alves",
          "Rafaela Alves",
          "Rafaela Ferreira",
          "Rafaela Ferreira",
          "Rafaela Ferreira",
          "Rafaela Ferreira",
          "Rafaela Ferreira",
          "Rafaela Silva",
          "Raquel Alves",
          "Rita Carvalho",
          "Rita Carvalho",
          "Rita Carvalho",
          "Rita Carvalho",
          "Rita Carvalho",
          "Rita Carvalho",
          "Rita Fernandes",
          "Rita Fernandes",
          "Rita Fernandes",
          "Rita Fernandes",
          "Rita Fernandes",
          "Rita Fernandes",
          "Rita Matos",
          "Rita Matos",
          "Rita Matos",
          "Rita Matos",
          "Rita Matos",
          "Rita Matos",
          "Rita Matos",
          "Rodrigo Castro",
          "Rodrigo Castro",
          "Rodrigo Castro",
          "Rodrigo Castro",
          "Rodrigo Castro",
          "Rodrigo Castro",
          "Rodrigo Castro",
          "Rodrigo Castro",
          "Rodrigo Ferreira",
          "Rodrigo Ferreira",
          "Rodrigo Ferreira",
          "Rodrigo Ferreira",
          "Rodrigo Ferreira",
          "Rodrigo Ferreira",
          "Rodrigo Ferreira",
          "Rodrigo Mendes",
          "Rodrigo Mendes",
          "Rodrigo Mendes",
          "Rodrigo Mendes",
          "Rodrigo Mendes",
          "Rodrigo Mendes",
          "Rodrigo Mendes",
          "Rodrigo Nunes",
          "Rodrigo Nunes",
          "Rodrigo Nunes",
          "Rodrigo Nunes",
          "Rodrigo Nunes",
          "Rodrigo Nunes",
          "Rodrigo Oliveira",
          "Rodrigo Oliveira",
          "Rodrigo Oliveira",
          "Rodrigo Oliveira",
          "Rodrigo Oliveira",
          "Rodrigo Pereira",
          "Rodrigo Pereira",
          "Rodrigo Pereira",
          "Rodrigo Pereira",
          "Rodrigo Pereira",
          "Rodrigo Pereira",
          "Rodrigo Sousa",
          "Rodrigo Sousa",
          "Rodrigo Sousa",
          "Rodrigo Sousa",
          "Rui Ferreira",
          "Rui Ferreira",
          "Rui Ferreira",
          "Rui Ferreira",
          "Rui Ferreira",
          "Rui Ferreira",
          "Rui Ferreira",
          "Ryan Parker",
          "Ryan Parker",
          "Ryan Parker",
          "Ryan Parker",
          "Ryan Parker",
          "Ryan Parker",
          "Ryan Parker",
          "Ryan Perez",
          "Ryan Perez",
          "Ryan Perez",
          "Ryan Perez",
          "Ryan Perez",
          "Samantha Rodriguez",
          "Samantha Rodriguez",
          "Samantha Rodriguez",
          "Samantha Rodriguez",
          "Samantha Rodriguez",
          "Samantha Rodriguez",
          "Samuel Davis",
          "Samuel Davis",
          "Samuel Davis",
          "Samuel Davis",
          "Samuel Davis",
          "Samuel Davis",
          "Samuel Davis",
          "Samuel Ferreira",
          "Samuel Ferreira",
          "Samuel Ferreira",
          "Samuel Wilson",
          "Samuel Wilson",
          "Samuel Wilson",
          "Samuel Wilson",
          "Samuel Wilson",
          "Samuel Wilson",
          "Samuel Wilson",
          "Sara Ribeiro",
          "Sara Ribeiro",
          "Sara Ribeiro",
          "Sara Ribeiro",
          "Sara Ribeiro",
          "Sara Ribeiro",
          "Sara Ribeiro",
          "Sara Silva",
          "Sara Silva",
          "Sara Silva",
          "Sara Silva",
          "Sara Silva",
          "Sara Silva",
          "Sarah Garcia",
          "Sarah Garcia",
          "Sarah Garcia",
          "Sarah Garcia",
          "Sarah Garcia",
          "Sarah Garcia",
          "Sarah Garcia",
          "Savannah Hall",
          "Savannah Hall",
          "Savannah Hall",
          "Savannah Hall",
          "Savannah Hall",
          "Savannah Hall",
          "Savannah Hall",
          "Scarlett Rodriguez",
          "Scarlett Rodriguez",
          "Scarlett Rodriguez",
          "Scarlett Rodriguez",
          "Scarlett Rodriguez",
          "Scarlett Rodriguez",
          "Scarlett Rodriguez",
          "Simão Costa",
          "Simão Costa",
          "Simão Fernandes",
          "Simão Fernandes",
          "Simão Fernandes",
          "Simão Fernandes",
          "Simão Fernandes",
          "Simão Fernandes",
          "Simão Fernandes",
          "Simão Rodrigues",
          "Simão Rodrigues",
          "Simão Rodrigues",
          "Simão Rodrigues",
          "Simão Rodrigues",
          "Simão Rodrigues",
          "Sofia Nunes",
          "Sofia Nunes",
          "Sofia Nunes",
          "Sofia Nunes",
          "Sofia Nunes",
          "Sofia Ribeiro",
          "Sofia Ribeiro",
          "Sofia Ribeiro",
          "Sofia Ribeiro",
          "Sofia Ribeiro",
          "Sofia Ribeiro",
          "Sofia Santos",
          "Sofia Santos",
          "Sofia Santos",
          "Sofia Santos",
          "Sofia Santos",
          "Sofia Santos",
          "Sofia Santos",
          "Sofia Silva",
          "Sofia Silva",
          "Sofia Silva",
          "Sofia Silva",
          "Sofia Silva",
          "Sofia Turner",
          "Sofia Turner",
          "Sofia Turner",
          "Sofia Turner",
          "Sofia Turner",
          "Sophia Anderson",
          "Sophia Anderson",
          "Sophia Anderson",
          "Sophia Anderson",
          "Sophia Anderson",
          "Sophia Anderson",
          "Sophia Anderson",
          "Tiago Costa",
          "Tiago Costa",
          "Tiago Costa",
          "Tiago Costa",
          "Tiago Costa",
          "Tiago Costa",
          "Tiago Cunha",
          "Tiago Cunha",
          "Tiago Cunha",
          "Tiago Cunha",
          "Tiago Fernandes",
          "Tiago Fernandes",
          "Tiago Fernandes",
          "Tiago Fernandes",
          "Tiago Fernandes",
          "Tiago Fernandes",
          "Tiago Fernandes",
          "Tiago Gonçalves",
          "Tiago Gonçalves",
          "Tiago Gonçalves",
          "Tiago Gonçalves",
          "Tiago Gonçalves",
          "Tiago Rodrigues",
          "Tiago Rodrigues",
          "Tiago Rodrigues",
          "Tiago Rodrigues",
          "Tiago Rodrigues",
          "Tiago Rodrigues",
          "Tiago Sousa Cruz",
          "Tiago Sousa Cruz",
          "Tiago Sousa Cruz",
          "Tiago Sousa Cruz",
          "Tiago Sousa Cruz",
          "Tiago Sousa Cruz",
          "Tiago Sousa Cruz",
          "Tomás Carvalho",
          "Tomás Carvalho",
          "Tomás Carvalho",
          "Tomás Carvalho",
          "Tomás Carvalho",
          "Tomás Carvalho",
          "Tomás Carvalho",
          "Tomás Costa",
          "Tomás Martins",
          "Tomás Martins",
          "Tomás Martins",
          "Tomás Martins",
          "Tomás Martins",
          "Tomás Martins",
          "Tomás Oliveira",
          "Tomás Oliveira",
          "Tomás Oliveira",
          "Tomás Oliveira",
          "Tomás Oliveira",
          "Tomás Oliveira",
          "Tomás Oliveira",
          "Tomás Rodrigues",
          "Tomás Rodrigues",
          "Tomás Rodrigues",
          "Tomás Rodrigues",
          "Tomás Rodrigues",
          "Tomás Rodrigues",
          "Tomás Rodrigues",
          "Tomás Santos",
          "Tomás Santos",
          "Tomás Santos",
          "Tomás Santos",
          "Tomé Martins",
          "Tomé Martins",
          "Tomé Martins",
          "Tomé Martins",
          "Tomé Martins",
          "Tomé Martins",
          "Tomé Martins",
          "Tyler Martin",
          "Tyler Martin",
          "Tyler Martin",
          "Tyler Martin",
          "Tyler Martin",
          "Tyler Martin",
          "Tyler Martin",
          "Vasco Santos",
          "Vasco Santos",
          "Vasco Santos",
          "Vasco Santos",
          "Vasco Santos",
          "Vasco Santos",
          "Vasco Santos",
          "Vasco Santos",
          "Victoria Clark",
          "William Hernandez",
          "William Hernandez",
          "William Hernandez",
          "William Hernandez",
          "William Hernandez",
          "William Hernandez",
          "Zachary Garcia",
          "Zachary Garcia",
          "Zachary Garcia",
          "Zoey Nelson",
          "Zoey Nelson",
          "Zoey Nelson",
          "Zoey Nelson",
          "Zoey Nelson",
          "Zoey Nelson",
          "Zoey Nelson"
         ],
         "categoryorder": "array",
         "domain": [
          0,
          1
         ],
         "title": {
          "text": "Candidate Name"
         }
        }
       }
      }
     },
     "metadata": {},
     "output_type": "display_data"
    }
   ],
   "source": [
    "gantt_df = df.copy()\n",
    "gantt_df[\"Start\"] = gantt_df['Day'].map(lambda x: f\"2023-06-{x}\")\n",
    "gantt_df[\"Finish\"] = gantt_df['Day'].map(lambda x: f\"2023-06-{x+1}\")\n",
    "gantt_df = gantt_df.sort_values(by=[\"Candidate Name\"])\n",
    "\n",
    "\n",
    "section_size = len(gantt_df[\"Candidate Name\"].unique()) / 4\n",
    "prev_name=\"AAAAAAAAAAAAAAAAAAAAA\"\n",
    "for section in range(4):\n",
    "    last_name = gantt_df[\"Candidate Name\"].unique()[int(section_size+section_size*section) - 1]\n",
    "    subset_gantt_df = gantt_df[gantt_df[\"Candidate Name\"] > prev_name][gantt_df[\"Candidate Name\"] <= last_name]\n",
    "    fig = px.timeline(subset_gantt_df, \n",
    "                      x_start=\"Start\", \n",
    "                      x_end=\"Finish\", y=\"Candidate Name\", \n",
    "                      color=\"Position Type\", \n",
    "                      height=1500, \n",
    "                      category_orders={\"Position Type\": gantt_df[\"Position Type\"]},\n",
    "                      hover_data=[\"Position\", \"Start\", \"Finish\", \"Candidate Name\", \"Experience\", \"Language Skills\", \"Presentation Skills\"]\n",
    "             )\n",
    "    fig.update_yaxes(autorange=\"reversed\", categoryorder='array', categoryarray=gantt_df[\"Candidate Name\"])\n",
    "    fig.write_image(f\"section_{section}.png\")\n",
    "    fig.show()\n",
    "    prev_name = last_name"
   ]
  },
  {
   "cell_type": "code",
   "execution_count": 10,
   "id": "da440fc7",
   "metadata": {
    "tags": []
   },
   "outputs": [
    {
     "data": {
      "text/html": [
       "<div>\n",
       "<style scoped>\n",
       "    .dataframe tbody tr th:only-of-type {\n",
       "        vertical-align: middle;\n",
       "    }\n",
       "\n",
       "    .dataframe tbody tr th {\n",
       "        vertical-align: top;\n",
       "    }\n",
       "\n",
       "    .dataframe thead th {\n",
       "        text-align: right;\n",
       "    }\n",
       "</style>\n",
       "<table border=\"1\" class=\"dataframe\">\n",
       "  <thead>\n",
       "    <tr style=\"text-align: right;\">\n",
       "      <th></th>\n",
       "      <th>Objective</th>\n",
       "      <th>Capability</th>\n",
       "      <th>Time</th>\n",
       "    </tr>\n",
       "  </thead>\n",
       "  <tbody>\n",
       "    <tr>\n",
       "      <th>0</th>\n",
       "      <td>2.555402</td>\n",
       "      <td>3.700</td>\n",
       "      <td>2.700</td>\n",
       "    </tr>\n",
       "    <tr>\n",
       "      <th>1</th>\n",
       "      <td>2.655847</td>\n",
       "      <td>3.320</td>\n",
       "      <td>2.400</td>\n",
       "    </tr>\n",
       "    <tr>\n",
       "      <th>2</th>\n",
       "      <td>2.716291</td>\n",
       "      <td>4.000</td>\n",
       "      <td>3.000</td>\n",
       "    </tr>\n",
       "    <tr>\n",
       "      <th>3</th>\n",
       "      <td>2.411847</td>\n",
       "      <td>3.675</td>\n",
       "      <td>3.500</td>\n",
       "    </tr>\n",
       "    <tr>\n",
       "      <th>4</th>\n",
       "      <td>2.636735</td>\n",
       "      <td>2.775</td>\n",
       "      <td>1.875</td>\n",
       "    </tr>\n",
       "  </tbody>\n",
       "</table>\n",
       "</div>"
      ],
      "text/plain": [
       "   Objective  Capability   Time\n",
       "0   2.555402       3.700  2.700\n",
       "1   2.655847       3.320  2.400\n",
       "2   2.716291       4.000  3.000\n",
       "3   2.411847       3.675  3.500\n",
       "4   2.636735       2.775  1.875"
      ]
     },
     "execution_count": 10,
     "metadata": {},
     "output_type": "execute_result"
    }
   ],
   "source": [
    "replacement_df = pd.read_csv(\"test_replace_metrics.csv\")\n",
    "replacement_df.head()"
   ]
  },
  {
   "cell_type": "code",
   "execution_count": 11,
   "id": "c5f680e3",
   "metadata": {
    "tags": []
   },
   "outputs": [
    {
     "data": {
      "text/html": [
       "<div>\n",
       "<style scoped>\n",
       "    .dataframe tbody tr th:only-of-type {\n",
       "        vertical-align: middle;\n",
       "    }\n",
       "\n",
       "    .dataframe tbody tr th {\n",
       "        vertical-align: top;\n",
       "    }\n",
       "\n",
       "    .dataframe thead th {\n",
       "        text-align: right;\n",
       "    }\n",
       "</style>\n",
       "<table border=\"1\" class=\"dataframe\">\n",
       "  <thead>\n",
       "    <tr style=\"text-align: right;\">\n",
       "      <th></th>\n",
       "      <th>Objective</th>\n",
       "      <th>Capability</th>\n",
       "      <th>Time</th>\n",
       "    </tr>\n",
       "  </thead>\n",
       "  <tbody>\n",
       "    <tr>\n",
       "      <th>count</th>\n",
       "      <td>270.000000</td>\n",
       "      <td>270.000000</td>\n",
       "      <td>270.000000</td>\n",
       "    </tr>\n",
       "    <tr>\n",
       "      <th>mean</th>\n",
       "      <td>2.636662</td>\n",
       "      <td>2.232330</td>\n",
       "      <td>1.664189</td>\n",
       "    </tr>\n",
       "    <tr>\n",
       "      <th>std</th>\n",
       "      <td>0.068541</td>\n",
       "      <td>1.002665</td>\n",
       "      <td>0.776144</td>\n",
       "    </tr>\n",
       "    <tr>\n",
       "      <th>min</th>\n",
       "      <td>2.391339</td>\n",
       "      <td>0.000000</td>\n",
       "      <td>0.000000</td>\n",
       "    </tr>\n",
       "    <tr>\n",
       "      <th>25%</th>\n",
       "      <td>2.595608</td>\n",
       "      <td>1.623333</td>\n",
       "      <td>1.181818</td>\n",
       "    </tr>\n",
       "    <tr>\n",
       "      <th>50%</th>\n",
       "      <td>2.655783</td>\n",
       "      <td>2.151471</td>\n",
       "      <td>1.600000</td>\n",
       "    </tr>\n",
       "    <tr>\n",
       "      <th>75%</th>\n",
       "      <td>2.695783</td>\n",
       "      <td>2.800000</td>\n",
       "      <td>2.098958</td>\n",
       "    </tr>\n",
       "    <tr>\n",
       "      <th>max</th>\n",
       "      <td>2.736164</td>\n",
       "      <td>5.000000</td>\n",
       "      <td>4.000000</td>\n",
       "    </tr>\n",
       "  </tbody>\n",
       "</table>\n",
       "</div>"
      ],
      "text/plain": [
       "        Objective  Capability        Time\n",
       "count  270.000000  270.000000  270.000000\n",
       "mean     2.636662    2.232330    1.664189\n",
       "std      0.068541    1.002665    0.776144\n",
       "min      2.391339    0.000000    0.000000\n",
       "25%      2.595608    1.623333    1.181818\n",
       "50%      2.655783    2.151471    1.600000\n",
       "75%      2.695783    2.800000    2.098958\n",
       "max      2.736164    5.000000    4.000000"
      ]
     },
     "execution_count": 11,
     "metadata": {},
     "output_type": "execute_result"
    }
   ],
   "source": [
    "replacement_df.describe()"
   ]
  },
  {
   "cell_type": "code",
   "execution_count": 12,
   "id": "6afb6ab0",
   "metadata": {
    "tags": []
   },
   "outputs": [],
   "source": [
    "# Convert index to day feature\n",
    "replacement_df[\"Day\"] = replacement_df.index // 30"
   ]
  },
  {
   "cell_type": "code",
   "execution_count": 13,
   "id": "88e5f098",
   "metadata": {
    "tags": []
   },
   "outputs": [
    {
     "data": {
      "text/html": [
       "<div>\n",
       "<style scoped>\n",
       "    .dataframe tbody tr th:only-of-type {\n",
       "        vertical-align: middle;\n",
       "    }\n",
       "\n",
       "    .dataframe tbody tr th {\n",
       "        vertical-align: top;\n",
       "    }\n",
       "\n",
       "    .dataframe thead th {\n",
       "        text-align: right;\n",
       "    }\n",
       "</style>\n",
       "<table border=\"1\" class=\"dataframe\">\n",
       "  <thead>\n",
       "    <tr style=\"text-align: right;\">\n",
       "      <th></th>\n",
       "      <th>Objective</th>\n",
       "      <th>Capability</th>\n",
       "      <th>Time</th>\n",
       "      <th>Day</th>\n",
       "    </tr>\n",
       "  </thead>\n",
       "  <tbody>\n",
       "    <tr>\n",
       "      <th>0</th>\n",
       "      <td>2.555402</td>\n",
       "      <td>3.700</td>\n",
       "      <td>2.700</td>\n",
       "      <td>0</td>\n",
       "    </tr>\n",
       "    <tr>\n",
       "      <th>1</th>\n",
       "      <td>2.655847</td>\n",
       "      <td>3.320</td>\n",
       "      <td>2.400</td>\n",
       "      <td>0</td>\n",
       "    </tr>\n",
       "    <tr>\n",
       "      <th>2</th>\n",
       "      <td>2.716291</td>\n",
       "      <td>4.000</td>\n",
       "      <td>3.000</td>\n",
       "      <td>0</td>\n",
       "    </tr>\n",
       "    <tr>\n",
       "      <th>3</th>\n",
       "      <td>2.411847</td>\n",
       "      <td>3.675</td>\n",
       "      <td>3.500</td>\n",
       "      <td>0</td>\n",
       "    </tr>\n",
       "    <tr>\n",
       "      <th>4</th>\n",
       "      <td>2.636735</td>\n",
       "      <td>2.775</td>\n",
       "      <td>1.875</td>\n",
       "      <td>0</td>\n",
       "    </tr>\n",
       "  </tbody>\n",
       "</table>\n",
       "</div>"
      ],
      "text/plain": [
       "   Objective  Capability   Time  Day\n",
       "0   2.555402       3.700  2.700    0\n",
       "1   2.655847       3.320  2.400    0\n",
       "2   2.716291       4.000  3.000    0\n",
       "3   2.411847       3.675  3.500    0\n",
       "4   2.636735       2.775  1.875    0"
      ]
     },
     "execution_count": 13,
     "metadata": {},
     "output_type": "execute_result"
    }
   ],
   "source": [
    "replacement_df.head()"
   ]
  },
  {
   "cell_type": "code",
   "execution_count": 14,
   "id": "baa2de53",
   "metadata": {
    "tags": []
   },
   "outputs": [
    {
     "data": {
      "image/png": "[encoded data removed]",
      "text/plain": [
       "<Figure size 640x480 with 1 Axes>"
      ]
     },
     "metadata": {},
     "output_type": "display_data"
    }
   ],
   "source": [
    "replacement_df_grouped_by_day = replacement_df.groupby(\"Day\").mean()\n",
    "sns.barplot(data=replacement_df_grouped_by_day, x=replacement_df_grouped_by_day.index, y=\"Capability\")\n",
    "plt.savefig(\"fig3.png\", bbox_inches=\"tight\")"
   ]
  },
  {
   "cell_type": "code",
   "execution_count": 15,
   "id": "6a27947a",
   "metadata": {
    "tags": []
   },
   "outputs": [
    {
     "data": {
      "image/png": "[encoded data removed]",
      "text/plain": [
       "<Figure size 640x480 with 1 Axes>"
      ]
     },
     "metadata": {},
     "output_type": "display_data"
    }
   ],
   "source": [
    "replacement_df_grouped_by_day = replacement_df.groupby(\"Day\").mean()\n",
    "sns.barplot(data=replacement_df_grouped_by_day, x=replacement_df_grouped_by_day.index, y=\"Time\")\n",
    "plt.savefig(\"fig4.png\", bbox_inches=\"tight\")"
   ]
  },
  {
   "cell_type": "code",
   "execution_count": null,
   "id": "a786895e-e5e7-4fee-a369-b496d5db1e28",
   "metadata": {},
   "outputs": [],
   "source": []
  }
 ],
 "metadata": {
  "kernelspec": {
   "display_name": "Python 3 (ipykernel)",
   "language": "python",
   "name": "python3"
  },
  "language_info": {
   "codemirror_mode": {
    "name": "ipython",
    "version": 3
   },
   "file_extension": ".py",
   "mimetype": "text/x-python",
   "name": "python",
   "nbconvert_exporter": "python",
   "pygments_lexer": "ipython3",
   "version": "3.10.10"
  },
  "vscode": {
   "interpreter": {
    "hash": "e7370f93d1d0cde622a1f8e1c04877d8463912d04d973331ad4851f04de6915a"
   }
  }
 },
 "nbformat": 4,
 "nbformat_minor": 5
}
